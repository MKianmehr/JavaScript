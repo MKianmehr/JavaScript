{
 "cells": [
  {
   "cell_type": "markdown",
   "id": "d3900fad",
   "metadata": {},
   "source": [
    "# Types, Values, and Variables\n",
    "\n",
    "------------------------------"
   ]
  },
  {
   "cell_type": "markdown",
   "id": "36ec8452",
   "metadata": {},
   "source": [
    "Computer programs work by manipulating values, such as the number 3.14 or the\n",
    "text “Hello World.” The kinds of values that can be represented and manipulated in a\n",
    "programming language are known as types, and one of the most fundamental characteristics\n",
    "of a programming language is the set of types it supports. When a program\n",
    "needs to retain a value for future use, it assigns the value to (or “stores” the value in) a\n",
    "variable. Variables have names, and they allow use of those names in our programs to\n",
    "refer to values. The way that variables work is another fundamental characteristic of\n",
    "any programming language. This chapter explains types, values, and variables in Java‐\n",
    "Script. It begins with an overview and some definitions."
   ]
  },
  {
   "cell_type": "markdown",
   "id": "6860055a",
   "metadata": {},
   "source": [
    "## 3.1 Overview and Definitions"
   ]
  },
  {
   "cell_type": "markdown",
   "id": "7f5ef9df",
   "metadata": {},
   "source": [
    "JavaScript types can be divided into two categories:<code>primitive types</code> and <code>object types</code>.\n",
    "JavaScript’s primitive types include <code>numbers</code>, <code>strings of text</code> (known as strings), and\n",
    "<code>Boolean truth values (known as booleans)</code>. A significant portion of this chapter is\n",
    "dedicated to a detailed explanation of the numeric (§3.2) and string (§3.3) types in\n",
    "JavaScript. Booleans are covered in §3.4."
   ]
  },
  {
   "cell_type": "markdown",
   "id": "70cdf9b3",
   "metadata": {},
   "source": [
    "The special JavaScript values <code>null</code> and <code>undefined</code> are primitive values, but they are\n",
    "not numbers, strings, or booleans. Each value is typically considered to be the sole\n",
    "member of its own special type. §3.5 has more about null and undefined. ES6 adds a\n",
    "new special-purpose type, known as <code>Symbol</code>, that enables the definition of language\n",
    "extensions without harming backward compatibility. Symbols are covered briefly in\n",
    "§3.6."
   ]
  },
  {
   "cell_type": "markdown",
   "id": "6c0ecba8",
   "metadata": {},
   "source": [
    "Any JavaScript value that is not a number, a string, a boolean, a symbol, null, or undefined is an object. An object (that is, a member of the type object) is a collection of\n",
    "properties where each property has a name and a value (either a primitive value or another object). One very special object, the global object, is covered in §3.7, but more\n",
    "general and more detailed coverage of objects is in Chapter 6."
   ]
  },
  {
   "cell_type": "markdown",
   "id": "b5b5c2f1",
   "metadata": {},
   "source": [
    "`Primitive types:`\n",
    "\n",
    "- number\n",
    "- string\n",
    "- boolean\n",
    "- symbol\n",
    "- null\n",
    "- undefined"
   ]
  },
  {
   "cell_type": "markdown",
   "id": "cfbebdca",
   "metadata": {},
   "source": [
    "An ordinary JavaScript <code>object</code> is an unordered collection of named values. The language\n",
    "also defines a special kind of object, known as an <code>array</code>, that represents an\n",
    "ordered collection of numbered values. The JavaScript language includes special syntax\n",
    "for working with arrays, and arrays have some special behavior that distinguishes\n",
    "them from ordinary objects. Arrays are the subject of Chapter 7."
   ]
  },
  {
   "cell_type": "markdown",
   "id": "e9417740",
   "metadata": {},
   "source": [
    "In addition to <code>basic objects</code> and <code>arrays</code>, JavaScript defines a number of other useful\n",
    "object types. A <code>Set</code> object represents a set of values. A <code>Map</code> object represents a mapping\n",
    "from keys to values. Various “typed array” types facilitate operations on arrays of\n",
    "bytes and other binary data. The <code>RegExp</code> type represents textual patterns and enables\n",
    "sophisticated matching, searching, and replacing operations on strings. The <code>Date type</code>\n",
    "represents dates and times and supports rudimentary date arithmetic. <code>Error</code> and its\n",
    "subtypes represent errors that can arise when executing JavaScript code. All of these\n",
    "types are covered in Chapter 11."
   ]
  },
  {
   "cell_type": "markdown",
   "id": "07de2832",
   "metadata": {},
   "source": [
    "JavaScript differs from more static languages in that functions and classes are not just\n",
    "part of the language syntax: they are themselves values that can be manipulated by\n",
    "JavaScript programs. Like any JavaScript value that is not a primitive value, <code>functions</code>\n",
    "and <code>classes</code> are a specialized kind of object. They are covered in detail in Chapters 8\n",
    "and 9."
   ]
  },
  {
   "cell_type": "markdown",
   "id": "36e51855",
   "metadata": {},
   "source": [
    "`Object types:`\n",
    "\n",
    "- basic objects\n",
    "- array\n",
    "- set\n",
    "- map\n",
    "- RegExp\n",
    "- Date type\n",
    "- Error\n",
    "- functions\n",
    "- classes"
   ]
  },
  {
   "cell_type": "code",
   "execution_count": 37,
   "id": "bbed6c83",
   "metadata": {},
   "outputs": [
    {
     "data": {
      "text/plain": [
       "'object'"
      ]
     },
     "execution_count": 37,
     "metadata": {},
     "output_type": "execute_result"
    }
   ],
   "source": [
    "typeof [1,2]"
   ]
  },
  {
   "cell_type": "code",
   "execution_count": 42,
   "id": "58b2d588",
   "metadata": {},
   "outputs": [
    {
     "data": {
      "text/plain": [
       "'number'"
      ]
     },
     "execution_count": 42,
     "metadata": {},
     "output_type": "execute_result"
    }
   ],
   "source": [
    "typeof (1,2,3)"
   ]
  },
  {
   "cell_type": "markdown",
   "id": "b61ae934",
   "metadata": {},
   "source": [
    "The JavaScript interpreter performs automatic garbage collection for memory management.\n",
    "This means that a JavaScript programmer generally does not need to worry\n",
    "about destruction or deallocation of objects or other values. When a value is no\n",
    "longer reachable—when a program no longer has any way to refer to it—the interpreter\n",
    "knows it can never be used again and automatically reclaims the memory it\n",
    "was occupying. (JavaScript programmers do sometimes need to take care to ensure\n",
    "that values do not inadvertently remain reachable—and therefore nonreclaimable—\n",
    "longer than necessary.)"
   ]
  },
  {
   "cell_type": "markdown",
   "id": "5b892caa",
   "metadata": {},
   "source": [
    "JavaScript supports an object-oriented programming style. Loosely, this means that\n",
    "rather than having globally defined functions to operate on values of various types,\n",
    "the types themselves define methods for working with values. To sort the elements of\n",
    "an array a, for example, we don’t pass a to a sort() function. Instead, we invoke the\n",
    "sort() method of a:"
   ]
  },
  {
   "cell_type": "markdown",
   "id": "4e974ff0",
   "metadata": {},
   "source": [
    "```javascript\n",
    "a.sort(); // The object-oriented version of sort(a).\n",
    "```"
   ]
  },
  {
   "cell_type": "markdown",
   "id": "c372c45a",
   "metadata": {},
   "source": [
    "Method definition is covered in Chapter 9. Technically, it is only JavaScript objects\n",
    "that have methods. <code>But</code> numbers, strings, boolean, and symbol values behave as if\n",
    "they have methods. In JavaScript, <code>null</code> and <code>undefined</code> are the only values that methods\n",
    "cannot be invoked on."
   ]
  },
  {
   "cell_type": "markdown",
   "id": "84ff1388",
   "metadata": {},
   "source": [
    "JavaScript’s object types are mutable and its primitive types are immutable. A value of\n",
    "a mutable type can change: a JavaScript program can change the values of object\n",
    "properties and array elements. Numbers, booleans, symbols, null, and undefined are\n",
    "immutable—it doesn’t even make sense to talk about changing the value of a number,\n",
    "for example. Strings can be thought of as arrays of characters, and you might expect\n",
    "them to be mutable. In JavaScript, however, strings are immutable: you can access the\n",
    "text at any index of a string, but JavaScript provides no way to alter the text of an\n",
    "existing string. The differences between mutable and immutable values are explored\n",
    "further in §3.8."
   ]
  },
  {
   "cell_type": "markdown",
   "id": "224a1a3b",
   "metadata": {},
   "source": [
    "JavaScript liberally converts values from one type to another. If a program expects a\n",
    "string, for example, and you give it a number, it will automatically convert the number\n",
    "to a string for you. And if you use a non-boolean value where a boolean is\n",
    "expected, JavaScript will convert accordingly. The rules for value conversion are\n",
    "explained in §3.9. JavaScript’s liberal value conversion rules affect its definition of\n",
    "equality, and the == equality operator performs type conversions as described in\n",
    "§3.9.1. (In practice, however, the == equality operator is deprecated in favor of the\n",
    "strict equality operator ===, which does no type conversions. See §4.9.1 for more\n",
    "about both operators.)"
   ]
  },
  {
   "cell_type": "markdown",
   "id": "e1dcf39a",
   "metadata": {},
   "source": [
    "Constants and variables allow you to use names to refer to values in your programs.\n",
    "Constants are declared with const and variables are declared with let (or with var in\n",
    "older JavaScript code). JavaScript `constants and variables are untyped`: declarations do\n",
    "not specify what kind of values will be assigned. Variable declaration and assignment\n",
    "are covered in §3.10."
   ]
  },
  {
   "cell_type": "markdown",
   "id": "a16514d6",
   "metadata": {},
   "source": [
    "As you can see from this long introduction, this is a wide-ranging chapter that\n",
    "explains many fundamental details about how data is represented and manipulated in\n",
    "JavaScript. We’ll begin by diving right in to the details of JavaScript numbers and text."
   ]
  },
  {
   "cell_type": "markdown",
   "id": "b591727b",
   "metadata": {},
   "source": [
    "## 3.2 Numbers"
   ]
  },
  {
   "cell_type": "markdown",
   "id": "70602a49",
   "metadata": {},
   "source": [
    "JavaScript’s primary numeric type, Number, is used to represent integers and to\n",
    "approximate real numbers. JavaScript represents numbers using the 64-bit floatingpoint\n",
    "format defined by the IEEE 754 standard, which means it can represent numbers\n",
    "as large as `±1.7976931348623157 × 10 ^308` and as small as `±5 × 10^−324.`"
   ]
  },
  {
   "cell_type": "markdown",
   "id": "dbc9570d",
   "metadata": {},
   "source": [
    "The JavaScript number format allows you to exactly represent all integers between\n",
    "`−9,007,199,254,740,992 (−2^53)` and `9,007,199,254,740,992 (2^53)`, inclusive. If you use\n",
    "integer values larger than this, you may lose precision in the trailing digits. Note,\n",
    "however, that certain operations in JavaScript (such as array indexing and the bitwise operators described in Chapter 4) are performed with 32-bit integers. If you need to\n",
    "exactly represent larger integers, see §3.2.5."
   ]
  },
  {
   "cell_type": "markdown",
   "id": "68452f6e",
   "metadata": {},
   "source": [
    "When a number appears directly in a JavaScript program, it’s called a numeric literal.\n",
    "JavaScript supports numeric literals in several formats, as described in the following\n",
    "sections. Note that any numeric literal can be preceded by a minus sign (-) to make\n",
    "the number negative."
   ]
  },
  {
   "cell_type": "markdown",
   "id": "70fa17c2",
   "metadata": {},
   "source": [
    "## 3.2.1 Integer Literals"
   ]
  },
  {
   "cell_type": "markdown",
   "id": "3f0a4f45",
   "metadata": {},
   "source": [
    "In a JavaScript program, a base-10 integer is written as a sequence of digits. For\n",
    "example:"
   ]
  },
  {
   "cell_type": "code",
   "execution_count": 2,
   "id": "bc52900f",
   "metadata": {},
   "outputs": [
    {
     "data": {
      "text/plain": [
       "10000000"
      ]
     },
     "execution_count": 2,
     "metadata": {},
     "output_type": "execute_result"
    }
   ],
   "source": [
    "0\n",
    "3\n",
    "10000000"
   ]
  },
  {
   "cell_type": "markdown",
   "id": "7ab14566",
   "metadata": {},
   "source": [
    "In addition to base-10 integer literals, JavaScript recognizes hexadecimal (base-16)\n",
    "values. A hexadecimal literal begins with 0x or 0X, followed by a string of hexadecimal\n",
    "digits. A hexadecimal digit is one of the digits 0 through 9 or the letters a (or A)\n",
    "through f (or F), which represent values 10 through 15. Here are examples of hexadecimal\n",
    "integer literals:"
   ]
  },
  {
   "cell_type": "code",
   "execution_count": 4,
   "id": "d4a1a4ee",
   "metadata": {},
   "outputs": [
    {
     "name": "stdout",
     "output_type": "stream",
     "text": [
      "255\n",
      "195939070\n"
     ]
    }
   ],
   "source": [
    "console.log(0xff)      // (15*16 + 15)\n",
    "console.log(0xBADCAFE)"
   ]
  },
  {
   "cell_type": "markdown",
   "id": "268f2117",
   "metadata": {},
   "source": [
    "In ES6 and later, you can also express integers in binary (base 2) or octal (base 8)\n",
    "using the prefixes 0b and 0o (or 0B and 0O) instead of 0x:"
   ]
  },
  {
   "cell_type": "code",
   "execution_count": 5,
   "id": "55188f2f",
   "metadata": {},
   "outputs": [
    {
     "name": "stdout",
     "output_type": "stream",
     "text": [
      "21\n",
      "255\n"
     ]
    }
   ],
   "source": [
    "console.log(0b10101) //(1*16 + 0*8 + 1*4 + 0*2 + 1*1)\n",
    "console.log(0o377)  //(3*64 + 7*8 + 7*1)"
   ]
  },
  {
   "cell_type": "markdown",
   "id": "e578fc34",
   "metadata": {},
   "source": [
    "## 3.2.2 Floating-Point Literals"
   ]
  },
  {
   "cell_type": "markdown",
   "id": "529ea4ff",
   "metadata": {},
   "source": [
    "Floating-point literals can have a decimal point; they use the traditional syntax for\n",
    "real numbers. A real value is represented as the integral part of the number, followed\n",
    "by a decimal point and the fractional part of the number."
   ]
  },
  {
   "cell_type": "markdown",
   "id": "fd2428a5",
   "metadata": {},
   "source": [
    "Floating-point literals may also be represented using exponential notation: a real\n",
    "number followed by the letter e (or E), followed by an optional plus or minus sign,\n",
    "followed by an integer exponent. This notation represents the real number multiplied\n",
    "by 10 to the power of the exponent.\n",
    "\n",
    "More succinctly, the syntax is:"
   ]
  },
  {
   "cell_type": "markdown",
   "id": "056e9660",
   "metadata": {},
   "source": [
    "<code>[digits][.digits][(E|e)[(+|-)]digits]</code>"
   ]
  },
  {
   "cell_type": "markdown",
   "id": "d489cd9d",
   "metadata": {},
   "source": [
    "For example:"
   ]
  },
  {
   "cell_type": "code",
   "execution_count": 6,
   "id": "51e601b9",
   "metadata": {},
   "outputs": [
    {
     "data": {
      "text/plain": [
       "1.4738223e-32"
      ]
     },
     "execution_count": 6,
     "metadata": {},
     "output_type": "execute_result"
    }
   ],
   "source": [
    "3.14\n",
    "2345.6789\n",
    ".333333333333333333\n",
    "6.02e23              // 6.02 × 10²³\n",
    "1.4738223E-32        // 1.4738223 × 10⁻³²"
   ]
  },
  {
   "cell_type": "markdown",
   "id": "1ba6bbd5",
   "metadata": {},
   "source": [
    "> ***Separators in Numeric Literals***\n",
    "\n",
    ">You can use underscores within numeric literals to break long literals up into chunks\n",
    ">that are easier to read:\n",
    ">\n",
    ">  let billion = 1_000_000_000;     // Underscore as a thousands separator.\n",
    "\n",
    ">let bytes = 0x89_AB_CD_EF;        // As a bytes separator.\n",
    "\n",
    ">let bits = 0b0001_1101_0111;      // As a nibble separator.\n",
    "\n",
    ">let fraction = 0.123_456_789;     // Works in the fractional part, too.\n",
    "\n",
    ">At the time of this writing in early 2020, underscores in numeric literals are not yet\n",
    "formally standardized as part of JavaScript. But they are in the advanced stages of the\n",
    "standardization process and are implemented by all major browsers and by Node."
   ]
  },
  {
   "cell_type": "code",
   "execution_count": 44,
   "id": "1ad7ec0e",
   "metadata": {},
   "outputs": [
    {
     "ename": "SyntaxError",
     "evalue": "Invalid or unexpected token",
     "output_type": "error",
     "traceback": [
      "evalmachine.<anonymous>:1",
      "let billion = 1_000_000   // it supports in browsers",
      "              ^",
      "",
      "SyntaxError: Invalid or unexpected token",
      "    at new Script (vm.js:83:7)",
      "    at createScript (vm.js:277:10)",
      "    at Object.runInThisContext (vm.js:329:10)",
      "    at run ([eval]:1054:15)",
      "    at onRunRequest ([eval]:888:18)",
      "    at onMessage ([eval]:848:13)",
      "    at process.emit (events.js:198:13)",
      "    at emit (internal/child_process.js:832:12)",
      "    at process._tickCallback (internal/process/next_tick.js:63:19)"
     ]
    }
   ],
   "source": [
    "let billion = 1_000_000   // it supports in browsers"
   ]
  },
  {
   "cell_type": "markdown",
   "id": "86ba7ce9",
   "metadata": {},
   "source": [
    "## 3.2.3 Arithmetic in JavaScript"
   ]
  },
  {
   "cell_type": "markdown",
   "id": "3e822961",
   "metadata": {},
   "source": [
    "JavaScript programs work with numbers using the arithmetic operators . that the language\n",
    "provides. These include + for addition, - for subtraction, * for multiplication, /\n",
    "for division, and % for modulo (remainder after division). ES2016 adds ** for exponentiation.\n",
    "Full details on these and other operators can be found in Chapter 4."
   ]
  },
  {
   "cell_type": "markdown",
   "id": "40478dfc",
   "metadata": {},
   "source": [
    "In addition to these basic arithmetic operators, JavaScript supports more complex\n",
    "mathematical operations through a set of functions and constants defined as properties\n",
    "of the Math object:"
   ]
  },
  {
   "cell_type": "markdown",
   "id": "b04b1f39",
   "metadata": {},
   "source": [
    "### Math Object Properties"
   ]
  },
  {
   "cell_type": "markdown",
   "id": "38552628",
   "metadata": {},
   "source": [
    "<table class=\"ws-table-all notranslate\">\n",
    "  <tbody><tr>\n",
    "    <th style=\"width:20%\">Property</th>\n",
    "    <th>Description</th>\n",
    "  </tr>\n",
    "  <tr>\n",
    "    <td><a href=\"jsref_e.asp\">E</a></td>\n",
    "    <td>Returns Euler's number (approx. 2.718)</td>\n",
    "  </tr>\n",
    "  <tr>\n",
    "    <td><a href=\"jsref_ln2.asp\">LN2</a></td>\n",
    "    <td>Returns the natural logarithm of 2 (approx. 0.693)</td>\n",
    "  </tr>\n",
    "  <tr>\n",
    "    <td><a href=\"jsref_ln10.asp\">LN10</a></td>\n",
    "    <td>Returns the natural logarithm of 10 (approx. 2.302)</td>\n",
    "  </tr>\n",
    "  <tr>\n",
    "    <td><a href=\"jsref_log2e.asp\">LOG2E</a></td>\n",
    "    <td>Returns the base-2 logarithm of E (approx. 1.442)</td>\n",
    "  </tr>\n",
    "  <tr>\n",
    "    <td><a href=\"jsref_log10e.asp\">LOG10E</a></td>\n",
    "    <td>Returns the base-10 logarithm of E (approx. 0.434)</td>\n",
    "  </tr>\n",
    "  <tr>\n",
    "    <td><a href=\"jsref_pi.asp\">PI</a></td>\n",
    "    <td>Returns PI (approx. 3.14)</td>\n",
    "  </tr>\n",
    "  <tr>\n",
    "    <td><a href=\"jsref_sqrt1_2.asp\">SQRT1_2</a></td>\n",
    "    <td>Returns the square root of 1/2 (approx. 0.707)</td>\n",
    "  </tr>\n",
    "  <tr>\n",
    "    <td><a href=\"jsref_sqrt2.asp\">SQRT2</a></td>\n",
    "    <td>Returns the square root of 2 (approx. 1.414)</td>\n",
    "  </tr>\n",
    "</tbody></table>"
   ]
  },
  {
   "cell_type": "markdown",
   "id": "2025f8c0",
   "metadata": {},
   "source": [
    "### Math Object Methods"
   ]
  },
  {
   "cell_type": "markdown",
   "id": "0628d5b3",
   "metadata": {},
   "source": [
    "<table class=\"ws-table-all notranslate\">\n",
    "  <tbody><tr>\n",
    "    <th style=\"width:20%\">Method</th>\n",
    "    <th>Description</th>\n",
    "  </tr>\n",
    "  <tr>\n",
    "    <td><a href=\"jsref_abs.asp\">abs(x)</a></td>\n",
    "    <td>Returns the absolute value of x</td>\n",
    "  </tr>\n",
    "  <tr>\n",
    "    <td><a href=\"jsref_acos.asp\">acos(x)</a></td>\n",
    "    <td>Returns the arccosine of x, in radians</td>\n",
    "  </tr>\n",
    "  <tr>\n",
    "    <td><a href=\"jsref_acosh.asp\">acosh(x)</a></td>\n",
    "    <td>Returns the hyperbolic arccosine of x</td>\n",
    "  </tr>\n",
    "  <tr>\n",
    "    <td><a href=\"jsref_asin.asp\">asin(x)</a></td>\n",
    "    <td>Returns the arcsine of x, in radians</td>\n",
    "  </tr>\n",
    "  <tr>\n",
    "    <td><a href=\"jsref_asinh.asp\">asinh(x)</a></td>\n",
    "    <td>Returns the hyperbolic arcsine of x</td>\n",
    "  </tr>\n",
    "  <tr>\n",
    "    <td><a href=\"jsref_atan.asp\">atan(x)</a></td>\n",
    "    <td>Returns the arctangent of x as a numeric value between -PI/2 and PI/2 radians</td>\n",
    "  </tr>\n",
    "  <tr>\n",
    "    <td><a href=\"jsref_atan2.asp\">atan2(y, x)</a></td>\n",
    "    <td>Returns the arctangent of the quotient of its arguments</td>\n",
    "  </tr>\n",
    "  <tr>\n",
    "    <td><a href=\"jsref_atanh.asp\">atanh(x)</a></td>\n",
    "    <td>Returns the hyperbolic arctangent of x</td>\n",
    "  </tr>\n",
    "  <tr>\n",
    "    <td><a href=\"jsref_cbrt.asp\">cbrt(x)</a></td>\n",
    "    <td>Returns the cubic root of x</td>\n",
    "  </tr>\n",
    "  <tr>\n",
    "    <td><a href=\"jsref_ceil.asp\">ceil(x)</a></td>\n",
    "    <td>Returns x, rounded upwards to the nearest integer</td>\n",
    "  </tr>\n",
    "  <tr>\n",
    "    <td><a href=\"jsref_clz32.asp\">clz32(x)</a></td>\n",
    "    <td>Returns the number of leading zeros in a 32-bit binary representation of x</td>\n",
    "  </tr>\n",
    "  <tr>\n",
    "    <td><a href=\"jsref_cos.asp\">cos(x)</a></td>\n",
    "    <td>Returns the cosine of x (x is in radians)</td>\n",
    "  </tr>\n",
    "  <tr>\n",
    "    <td><a href=\"jsref_cosh.asp\">cosh(x)</a></td>\n",
    "    <td>Returns the hyperbolic cosine of x</td>\n",
    "  </tr>\n",
    "  <tr>\n",
    "    <td><a href=\"jsref_exp.asp\">exp(x)</a></td>\n",
    "    <td>Returns the value of E<sup>x</sup></td>\n",
    "  </tr>\n",
    "  <tr>\n",
    "    <td><a href=\"jsref_expm1.asp\">expm1(x)</a></td>\n",
    "    <td>Returns the value of E<sup>x</sup> minus 1</td>\n",
    "  </tr>\n",
    "  <tr>\n",
    "    <td><a href=\"jsref_floor.asp\">floor(x)</a></td>\n",
    "    <td>Returns x, rounded downwards to the nearest integer</td>\n",
    "  </tr>\n",
    "  <tr>\n",
    "    <td><a href=\"jsref_fround.asp\">fround(x)</a></td>\n",
    "    <td>Returns the nearest (32-bit single precision) float representation of a number</td>\n",
    "  </tr>\n",
    "  <tr>\n",
    "    <td><a href=\"jsref_log.asp\">log(x)</a></td>\n",
    "    <td>Returns the natural logarithmof x</td>\n",
    "  </tr>\n",
    "  <tr>\n",
    "    <td><a href=\"jsref_log10.asp\">log10(x)</a></td>\n",
    "    <td>Returns the base-10 logarithm of x</td>\n",
    "  </tr>\n",
    "  <tr>\n",
    "    <td><a href=\"jsref_log1p.asp\">log1p(x)</a></td>\n",
    "    <td>Returns the natural logarithm of 1 + x</td>\n",
    "  </tr>\n",
    "  <tr>\n",
    "    <td><a href=\"jsref_log2.asp\">log2(x)</a></td>\n",
    "    <td>Returns the base-2 logarithm of x</td>\n",
    "  </tr>\n",
    "  <tr>\n",
    "    <td><a href=\"jsref_max.asp\">max(x, y, z, ..., n)</a></td>\n",
    "    <td>Returns the number with the highest value</td>\n",
    "  </tr>\n",
    "  <tr>\n",
    "    <td><a href=\"jsref_min.asp\">min(x, y, z, ..., n)</a></td>\n",
    "    <td>Returns the number with the lowest value</td>\n",
    "  </tr>\n",
    "  <tr>\n",
    "    <td><a href=\"jsref_pow.asp\">pow(x, y)</a></td>\n",
    "    <td>Returns the value of x to the power of y</td>\n",
    "  </tr>\n",
    "  <tr>\n",
    "    <td><a href=\"jsref_random.asp\">random()</a></td>\n",
    "    <td>Returns a random number between 0 and 1</td>\n",
    "  </tr>\n",
    "  <tr>\n",
    "    <td><a href=\"jsref_round.asp\">round(x)</a></td>\n",
    "    <td>Rounds x to the nearest integer</td>\n",
    "  </tr>\n",
    "  <tr>\n",
    "    <td><a href=\"jsref_sign.asp\">sign(x)</a></td>\n",
    "    <td>Returns the sign of a number (checks whether it is positive, negative or zero)</td>\n",
    "  </tr>\n",
    "  <tr>\n",
    "    <td><a href=\"jsref_sin.asp\">sin(x)</a></td>\n",
    "    <td>Returns the sine of x (x is in radians)</td>\n",
    "  </tr>\n",
    "  <tr>\n",
    "    <td><a href=\"jsref_sinh.asp\">sinh(x)</a></td>\n",
    "    <td>Returns the hyperbolic sine of x</td>\n",
    "  </tr>\n",
    "  <tr>\n",
    "    <td><a href=\"jsref_sqrt.asp\">sqrt(x)</a></td>\n",
    "    <td>Returns the square root of x</td>\n",
    "  </tr>\n",
    "  <tr>\n",
    "    <td><a href=\"jsref_tan.asp\">tan(x)</a></td>\n",
    "    <td>Returns the tangent of an angle</td>\n",
    "  </tr>\n",
    "  <tr>\n",
    "    <td><a href=\"jsref_tanh.asp\">tanh(x)</a></td>\n",
    "    <td>Returns the hyperbolic tangent of a number</td>\n",
    "  </tr>\n",
    "  <tr>\n",
    "    <td><a href=\"jsref_trunc.asp\">trunc(x)</a></td>\n",
    "    <td>Returns the integer part of a number (x)</td>\n",
    "  </tr>\n",
    "  </tbody></table>"
   ]
  },
  {
   "cell_type": "markdown",
   "id": "23acd31d",
   "metadata": {},
   "source": [
    "Example:"
   ]
  },
  {
   "cell_type": "code",
   "execution_count": 10,
   "id": "63d0b913",
   "metadata": {},
   "outputs": [
    {
     "data": {
      "text/plain": [
       "9007199254740992"
      ]
     },
     "execution_count": 10,
     "metadata": {},
     "output_type": "execute_result"
    }
   ],
   "source": [
    "Math.pow(2,53)"
   ]
  },
  {
   "cell_type": "markdown",
   "id": "d0bf016e",
   "metadata": {},
   "source": [
    "Arithmetic in JavaScript does not raise errors in cases of overflow, underflow, or division\n",
    "by zero. When the result of a numeric operation is larger than the largest representable\n",
    "number (overflow), the result is a special infinity value, `Infinity`. Similarly,\n",
    "when the absolute value of a negative value becomes larger than the absolute value of\n",
    "the largest representable negative number, the result is negative infinity, `-Infinity`.\n",
    "The infinite values behave as you would expect: adding, subtracting, multiplying, or\n",
    "dividing them by anything results in an infinite value (possibly with the sign\n",
    "reversed)."
   ]
  },
  {
   "cell_type": "markdown",
   "id": "16cc9fb9",
   "metadata": {},
   "source": [
    "Underflow occurs when the result of a numeric operation is closer to zero than the\n",
    "smallest representable number. In this case, JavaScript returns `0`. If underflow occurs\n",
    "from a negative number, JavaScript returns a special value known as “`negative zero`.”\n",
    "This value is almost completely indistinguishable from regular zero and JavaScript\n",
    "programmers rarely need to detect it."
   ]
  },
  {
   "cell_type": "markdown",
   "id": "185cb234",
   "metadata": {},
   "source": [
    "Division by zero is not an error in JavaScript: it simply returns infinity or negative\n",
    "infinity. There is one exception, however: zero divided by zero does not have a welldefined\n",
    "value, and the result of this operation is the special not-a-number value, `NaN`.\n",
    "`NaN` also arises if you attempt to divide `infinity by infinity`, take the `square root of a\n",
    "negative number`, or `use arithmetic operators with non-numeric operands that cannot\n",
    "be converted to numbers`."
   ]
  },
  {
   "cell_type": "markdown",
   "id": "47d13014",
   "metadata": {},
   "source": [
    "JavaScript predefines global constants Infinity and NaN to hold the positive infinity\n",
    "and not-a-number value, and these values are also available as properties of the\n",
    "Number object:"
   ]
  },
  {
   "cell_type": "code",
   "execution_count": 11,
   "id": "ab03ed06",
   "metadata": {},
   "outputs": [
    {
     "data": {
      "text/plain": [
       "0"
      ]
     },
     "execution_count": 11,
     "metadata": {},
     "output_type": "execute_result"
    }
   ],
   "source": [
    "Infinity                          // A positive number too big to represent\n",
    "Number.POSITIVE_INFINITY          // Same value\n",
    "1/0                               // => Infinity\n",
    "Number.MAX_VALUE * 2              // => Infinity; overflow\n",
    "\n",
    "-Infinity                         // A negative number too big to represent\n",
    "Number.NEGATIVE_INFINITY          // The same value\n",
    "-1/0                              // => -Infinity\n",
    "-Number.MAX_VALUE * 2             // => -Infinity\n",
    "\n",
    "NaN                               // The not-a-number value\n",
    "Number.NaN                        // The same value, written another way\n",
    "0/0                               // => NaN\n",
    "Infinity/Infinity                 // => NaN\n",
    "\n",
    "Number.MIN_VALUE/2                // => 0: underflow\n",
    "-Number.MIN_VALUE/2               // => -0: negative zero\n",
    "-1/Infinity                       // -> -0: also negative 0\n",
    "-0"
   ]
  },
  {
   "cell_type": "markdown",
   "id": "e2e4f17c",
   "metadata": {},
   "source": [
    "The `not-a-number` value has one unusual feature in JavaScript: it does not compare\n",
    "equal to any other value, including itself. This means that you can’t write x === NaN\n",
    "to determine whether the value of a variable x is NaN. Instead, you must write `x != x`\n",
    "or `Number.isNaN(x)`. Those expressions will be true if, and only if, x has the same\n",
    "value as the global constant NaN."
   ]
  },
  {
   "cell_type": "code",
   "execution_count": 45,
   "id": "285d21a8",
   "metadata": {},
   "outputs": [
    {
     "data": {
      "text/plain": [
       "NaN"
      ]
     },
     "execution_count": 45,
     "metadata": {},
     "output_type": "execute_result"
    }
   ],
   "source": [
    "0/0"
   ]
  },
  {
   "cell_type": "code",
   "execution_count": 46,
   "id": "cf7e80e3",
   "metadata": {},
   "outputs": [
    {
     "data": {
      "text/plain": [
       "NaN"
      ]
     },
     "execution_count": 46,
     "metadata": {},
     "output_type": "execute_result"
    }
   ],
   "source": [
    "Infinity/Infinity"
   ]
  },
  {
   "cell_type": "code",
   "execution_count": 47,
   "id": "37acf420",
   "metadata": {},
   "outputs": [
    {
     "data": {
      "text/plain": [
       "NaN"
      ]
     },
     "execution_count": 47,
     "metadata": {},
     "output_type": "execute_result"
    }
   ],
   "source": [
    "Math.sqrt(-2)"
   ]
  },
  {
   "cell_type": "code",
   "execution_count": 49,
   "id": "d561e53c",
   "metadata": {},
   "outputs": [
    {
     "data": {
      "text/plain": [
       "false"
      ]
     },
     "execution_count": 49,
     "metadata": {},
     "output_type": "execute_result"
    }
   ],
   "source": [
    "0 / 0 == NaN"
   ]
  },
  {
   "cell_type": "code",
   "execution_count": 50,
   "id": "eff95673",
   "metadata": {},
   "outputs": [
    {
     "data": {
      "text/plain": [
       "true"
      ]
     },
     "execution_count": 50,
     "metadata": {},
     "output_type": "execute_result"
    }
   ],
   "source": [
    "0 / 0 !== 0 / 0"
   ]
  },
  {
   "cell_type": "code",
   "execution_count": 51,
   "id": "0f855d76",
   "metadata": {},
   "outputs": [
    {
     "data": {
      "text/plain": [
       "true"
      ]
     },
     "execution_count": 51,
     "metadata": {},
     "output_type": "execute_result"
    }
   ],
   "source": [
    "Number.isNaN(0 / 0)"
   ]
  },
  {
   "cell_type": "code",
   "execution_count": 53,
   "id": "6988aff2",
   "metadata": {},
   "outputs": [
    {
     "data": {
      "text/plain": [
       "true"
      ]
     },
     "execution_count": 53,
     "metadata": {},
     "output_type": "execute_result"
    }
   ],
   "source": [
    "isNaN(0 / 0)"
   ]
  },
  {
   "cell_type": "markdown",
   "id": "c0a8cba0",
   "metadata": {},
   "source": [
    "The global function `isNaN()` is similar to `Number.isNaN()`. It returns true if its argument\n",
    "is NaN, or if that argument is a non-numeric value that cannot be converted to a\n",
    "number. The related function `Number.isFinite()` returns true if its argument is a\n",
    "number other than NaN, Infinity, or -Infinity. The global `isFinite()` function\n",
    "returns true if its argument is, or can be converted to, a finite number."
   ]
  },
  {
   "cell_type": "code",
   "execution_count": 12,
   "id": "2d57ee18",
   "metadata": {},
   "outputs": [
    {
     "name": "stdout",
     "output_type": "stream",
     "text": [
      "true\n",
      "true\n",
      "true\n",
      "false\n",
      "false\n"
     ]
    }
   ],
   "source": [
    "var x = 0/0\n",
    "console.log(x != x)\n",
    "console.log(Number.isNaN(x))\n",
    "console.log(isNaN(x))\n",
    "console.log(x == NaN)\n",
    "console.log(NaN == NaN)"
   ]
  },
  {
   "cell_type": "code",
   "execution_count": 13,
   "id": "44c4db0e",
   "metadata": {},
   "outputs": [
    {
     "name": "stdout",
     "output_type": "stream",
     "text": [
      "NaN\n",
      "false\n",
      "false\n",
      "Infinity\n",
      "false\n",
      "false\n"
     ]
    }
   ],
   "source": [
    "var x = NaN\n",
    "console.log(x)\n",
    "console.log(Number.isFinite(x))\n",
    "console.log(isFinite(x))\n",
    "\n",
    "var y = 1/0\n",
    "console.log(y)\n",
    "console.log(Number.isFinite(y))\n",
    "console.log(isFinite(y))"
   ]
  },
  {
   "cell_type": "code",
   "execution_count": 54,
   "id": "bce1e4c0",
   "metadata": {},
   "outputs": [
    {
     "data": {
      "text/plain": [
       "true"
      ]
     },
     "execution_count": 54,
     "metadata": {},
     "output_type": "execute_result"
    }
   ],
   "source": [
    "1 / 0 === Infinity"
   ]
  },
  {
   "cell_type": "code",
   "execution_count": 55,
   "id": "59aeca3a",
   "metadata": {},
   "outputs": [
    {
     "data": {
      "text/plain": [
       "false"
      ]
     },
     "execution_count": 55,
     "metadata": {},
     "output_type": "execute_result"
    }
   ],
   "source": [
    "Number.isFinite(1 / 0)"
   ]
  },
  {
   "cell_type": "code",
   "execution_count": 56,
   "id": "aae7d736",
   "metadata": {},
   "outputs": [
    {
     "data": {
      "text/plain": [
       "false"
      ]
     },
     "execution_count": 56,
     "metadata": {},
     "output_type": "execute_result"
    }
   ],
   "source": [
    "isFinite(1 / 0)"
   ]
  },
  {
   "cell_type": "markdown",
   "id": "c4b5a677",
   "metadata": {},
   "source": [
    "The negative zero value is also somewhat unusual. It compares equal (even using JavaScript’s\n",
    "strict equality test) to positive zero, which means that the two values are\n",
    "almost indistinguishable, except when used as a divisor:"
   ]
  },
  {
   "cell_type": "code",
   "execution_count": 14,
   "id": "08536ca4",
   "metadata": {},
   "outputs": [
    {
     "name": "stdout",
     "output_type": "stream",
     "text": [
      "true\n",
      "Infinity\n",
      "-Infinity\n"
     ]
    }
   ],
   "source": [
    "var x = 0;\n",
    "var y = -0;\n",
    "console.log(x === y)\n",
    "console.log(1 / x)\n",
    "console.log(1 / y)"
   ]
  },
  {
   "cell_type": "markdown",
   "id": "70c017bb",
   "metadata": {},
   "source": [
    "## 3.2.4 Binary Floating-Point and Rounding Errors"
   ]
  },
  {
   "cell_type": "markdown",
   "id": "1881da6d",
   "metadata": {},
   "source": [
    "There are infinitely many real numbers, but only a finite number of them\n",
    "(18,437,736,874,454,810,627, to be exact) can be represented exactly by the JavaScript\n",
    "floating-point format. This means that when you’re working with real numbers in\n",
    "JavaScript, the representation of the number will often be an approximation of the\n",
    "actual number."
   ]
  },
  {
   "cell_type": "markdown",
   "id": "bb155697",
   "metadata": {},
   "source": [
    "The IEEE-754 floating-point representation used by JavaScript (and just about every\n",
    "other modern programming language) is a binary representation, which can exactly\n",
    "represent fractions like 1/2, 1/8, and 1/1024. Unfortunately, the fractions we use\n",
    "most commonly (especially when performing financial calculations) are decimal fractions:\n",
    "1/10, 1/100, and so on. Binary floating-point representations cannot exactly\n",
    "represent numbers as simple as 0.1."
   ]
  },
  {
   "cell_type": "markdown",
   "id": "83d45698",
   "metadata": {},
   "source": [
    "JavaScript numbers have plenty of precision and can approximate 0.1 very closely.\n",
    "But the fact that this number cannot be represented exactly can lead to problems.\n",
    "Consider this code:"
   ]
  },
  {
   "cell_type": "code",
   "execution_count": 15,
   "id": "1e915973",
   "metadata": {},
   "outputs": [
    {
     "name": "stdout",
     "output_type": "stream",
     "text": [
      "false\n",
      "false\n",
      "true\n"
     ]
    }
   ],
   "source": [
    "var x = 0.3 - 0.2;"
   ]
  },
  {
   "cell_type": "code",
   "execution_count": 59,
   "id": "9d3c7f40",
   "metadata": {},
   "outputs": [],
   "source": [
    "var y10= 0.2 - 0.1;"
   ]
  },
  {
   "cell_type": "code",
   "execution_count": 60,
   "id": "1ceec9b7",
   "metadata": {},
   "outputs": [
    {
     "data": {
      "text/plain": [
       "false"
      ]
     },
     "execution_count": 60,
     "metadata": {},
     "output_type": "execute_result"
    }
   ],
   "source": [
    "x === y10"
   ]
  },
  {
   "cell_type": "code",
   "execution_count": 63,
   "id": "eb50dd93",
   "metadata": {},
   "outputs": [
    {
     "data": {
      "text/plain": [
       "false"
      ]
     },
     "execution_count": 63,
     "metadata": {},
     "output_type": "execute_result"
    }
   ],
   "source": [
    "x === 0.1"
   ]
  },
  {
   "cell_type": "code",
   "execution_count": 62,
   "id": "4df2b305",
   "metadata": {},
   "outputs": [
    {
     "data": {
      "text/plain": [
       "true"
      ]
     },
     "execution_count": 62,
     "metadata": {},
     "output_type": "execute_result"
    }
   ],
   "source": [
    "y10 === 0.1"
   ]
  },
  {
   "cell_type": "markdown",
   "id": "4918d5d5",
   "metadata": {},
   "source": [
    "Because of rounding error, the difference between the approximations of .3 and .2 is\n",
    "not exactly the same as the difference between the approximations of .2 and .1. It is\n",
    "important to understand that this problem is not specific to JavaScript: it affects any\n",
    "programming language that uses binary floating-point numbers. Also, note that the\n",
    "values x and y in the code shown here are very close to each other and to the correct\n",
    "value. The computed values are adequate for almost any purpose; the problem only\n",
    "arises when we attempt to compare values for equality."
   ]
  },
  {
   "cell_type": "markdown",
   "id": "f6ec0f0e",
   "metadata": {},
   "source": [
    "If these floating-point approximations are problematic for your programs, consider\n",
    "using scaled integers. For example, you might manipulate monetary values as integer\n",
    "cents rather than fractional dollars."
   ]
  },
  {
   "cell_type": "code",
   "execution_count": 16,
   "id": "b04356c9",
   "metadata": {},
   "outputs": [
    {
     "name": "stdout",
     "output_type": "stream",
     "text": [
      "true\n",
      "true\n",
      "true\n"
     ]
    }
   ],
   "source": [
    "var x = ((0.3 * 10) - (0.2 * 10)) / 10;\n",
    "var y = ((0.2 * 10) - (0.1 * 10 )) / 10;\n",
    "console.log(x === y)\n",
    "console.log(x === 0.1)\n",
    "console.log(y === 0.1)"
   ]
  },
  {
   "cell_type": "markdown",
   "id": "3b367c22",
   "metadata": {},
   "source": [
    "## 3.2.5 Arbitrary Precision Integers with BigInt"
   ]
  },
  {
   "cell_type": "markdown",
   "id": "4784c367",
   "metadata": {},
   "source": [
    "One of the newest features of JavaScript, defined in ES2020, is a new numeric type\n",
    "known as BigInt. As of early 2020, it has been implemented in Chrome, Firefox, Edge,\n",
    "and Node, and there is an implementation in progress in Safari. As the name implies,\n",
    "BigInt is a numeric type whose values are integers. The type was added to JavaScript\n",
    "mainly to allow the representation of 64-bit integers, which are required for compatibility\n",
    "with many other programming languages and APIs. But BigInt values can have\n",
    "thousands or even millions of digits, should you have need to work with numbers that large. (Note, however, that BigInt implementations are not suitable for cryptography\n",
    "because they do not attempt to prevent timing attacks.)"
   ]
  },
  {
   "cell_type": "markdown",
   "id": "59290324",
   "metadata": {},
   "source": [
    "BigInt literals are written as a string of digits followed by a lowercase letter n. By\n",
    "default, the are in base 10, but you can use the 0b, 0o, and 0x prefixes for binary, octal,\n",
    "and hexadecimal BigInts:"
   ]
  },
  {
   "cell_type": "code",
   "execution_count": 18,
   "id": "c41fd1cb",
   "metadata": {},
   "outputs": [
    {
     "name": "stdout",
     "output_type": "stream",
     "text": [
      "bigint\n",
      "1234n\n",
      "bigint\n",
      "9007199254740991n\n",
      "bigint\n",
      "10000000000000000000000000000000000000000000000000000000000000000000000000000000000000000000000000000n\n"
     ]
    }
   ],
   "source": [
    "var x = 1234n;\n",
    "var y = BigInt(Number.MAX_SAFE_INTEGER);    // => 9007199254740991n\n",
    "let string = \"1\" + \"0\".repeat(100);         // 1 followed by 100 zeros.\n",
    "var z = BigInt(string)\n",
    "\n",
    "console.log(typeof x)\n",
    "console.log(x)\n",
    "console.log(typeof y)\n",
    "console.log(y)\n",
    "console.log(typeof z)\n",
    "console.log(z)"
   ]
  },
  {
   "cell_type": "markdown",
   "id": "47d0c87f",
   "metadata": {},
   "source": [
    "Arithmetic with BigInt values works like arithmetic with regular JavaScript numbers,\n",
    "except that division drops any remainder and rounds down (toward zero):"
   ]
  },
  {
   "cell_type": "code",
   "execution_count": 61,
   "id": "1315ad10",
   "metadata": {},
   "outputs": [
    {
     "name": "stdout",
     "output_type": "stream",
     "text": [
      "3000n\n",
      "1000n\n",
      "6000000n\n",
      "3n\n",
      "9n\n",
      "2007066091018031519583030303019438367188575513520709497791276903233450684364629170580261012908062496894996847911185344152332475753594273561711611353514231322872252247549885618019886365739763054605545002155897202120169562392273711172608007045634948121028864394660154194037732267846867353969405180579411444564905349080440995680695807863949243961055962977178933115996007783056004118093785119749203963841963959887921144331976598633663807761381995273487151112904214047707434177094943738773565035046257176620815890077719912437783484544703445095226650609700972377817891005502328973752787042900390478620415494702771013735848799035354111944680163623324180125295211596742702870012409330483198044404773950621770556495528647282246588015098285484207813527059693147108868618352914816161317915051001331208239219010880137736683114774195009982713890730421508459849243002553490962428242067594563154755677876845826996164421822613267625636628553603827572260992639597343835309068566682530883840346302163401298243571212439712026168277247160932870922875002707063894519741330247334559861073929915604558847855108766650436760662594809953200306919112232901072819381687907367104969919681309921627180927100467584409549375081263665370631157840266520282102978840372236763293760593364776381992487085983521664872044362566458984242562005758686953109598253226418750504890237615968337479151842162712770117855792615893043107695348590213844666703095564839093535649380545119099766291637314334127769775643329785819731833139380837436890445856647679152186815190658321183955221069398517140239422518812360340942063522633485983066057491671421530112645900499143694260108445517706125417018766866021180031855431695858189815899940853868304762173033715606846567435605797132705126395212762267136028402541381584416392690027919962387256996656436157348421103525894462765663098963999588995710585564127866591148071259363787938050796601560786686734966410699033272194603481470570956488626286116433567718548371572204763174448046986294745082594107820380364755819666203841634615474921868317569447037845843511063152906988920262216609937105179257960100115877528362810111607665694110065738681165559710217583923097440592729327425791965039910904339199228494446135786190982240132519735824648839449562895827723817448062680160595815347740171623906103291471107832306919579331324203701774845504210638665966866648401363923875644870091616266913456067069437205793768536074217244599805412749556177074829708357621510173091302503118274732404913798092001986066820526484853309285780843505852495089023532986189106965236849371255186381926926413130315976959806227498397283033078442364357834340453013503430118145969559115838296453884890511181228384293107075620502079610963762009185439424342329082093613560132498039083351071871474636936361645594739420880261274594899185734409438153510771630095623906558449203314923868693606675050976193675385411190641645168402519954714546623181618194446277090003561575401966711070107079548751377220578209468741540082765294623867977787182248143469181411796567661241450877696006588094035816184615352799026762403616165166122425377885386543276051273239928432620796371491554475793775136421075668713750492895366628723487389257358711661082376870532101671936955752979929947421700673382099042287444285010791024948993687706267361601872106706772456960502841476145623014848322347574312788922770082724580747259432981786802583109898793851476339464773545736085427252988386046105915080561180846495758076352834361485094290225503883922216993119983682259210471036083073400741083974773845900080556480579453211630812731911931743996596780557340895421569352460248609941907830988329415884565879396559912484500918372749091199419170324463650939576382113055059335689339398116327408655925871478779273600844937965774995757517670486093552955932324272118418130252423766599186340836064771593041684975867817080922963337822057699887005312704495393174140455261513540822601892819839480656100596228119348260172019771065419928351015779825369534941919337125333958271503408604328069028668313172565174717055216932239531239275017514734912369513969458120263939906560104407761757889837988574363096828377814509508133690338947784557713380823115450144439799541185111044811880872558410833815454556648526572993669521463154365386804346925977328389908218735721694160469653332413894315935648476834448537843741965049613993419880024478689565818937672157053901013723080269633117146704302493477450491737241282613986476801683358113939847016734800843529230855435167234627094273995681193678222808922377615253775268481556019541267896419143594349772684549980012271067540047938673265588178608750946530897422798092847686193489005841566092791873641022178489320307343072152574419468983029889365626157831258658678226382271764684379249564248086512974734298415320564315063491284840113836575997341464691564179700400365323516504871097484698933866053427646152992953829805025125432348989818754319215374272263877119475177194702285986056517713566726238740461050249716814791148239515624099056577093501237007068138697647583525722970563959348218681980478670463466206976043203663213907954438023971182888701951954614613126064546142089581866551476523984724266344801781809659121562045209972856014600569594916005329734281927340749998822137383515162494483275071673090245084743702408890616118398177244146620001989892229509187311437259898644580125462006538595822372333539915953723008007337523693693924939817269266462379850157029482004155031535589596113722402854913547871101064693202924636130368935384728147992867126145636353974131682592193019167343999578361661865517937174365507159507336179843378514139080441109391407822912867815487081588754345659596423783387025776472766251552322020048595452832602305705141624406023102318663835923117912436556686517061767925859275700442999669468797399796981002982419851055738800790522836032208463063088370064349490625099447368921267227404752537930600852592124524951401382725888052761913868353363981174808540176431213572766934319337323810817951761188265502093137042432159897845289908018572355491268789287250700982303367258469085691991816094348061389760578118540301367273332620731439465156260380367657134063926756057103206592186023900180412818259514553107406829601385256529643912059482720760608143217375041255548409119318915743036408584553664060533159215212070775550724127678013525556214942904736280884751645239450984988655213339243471507596162419147534716513858233120025300849093939913732490267379376743177208023723104680967458164768969247760549732058408936949032307873212667153996790242675273397844230001132990886710886783673287120775684554501882408561831111808847406106079084930082604793615602408093082020454031213528716687177166756049293918875795463792510758810139648620184368361091758852501512291594954299268076081763053715721427087195779950731872843311385158769606755361585405070986433241961317215272725455712045827985309612133426712640654102513101147135762944989474424393225944675828535260525341720259811139022766476671929080476786911204145508634355281151675422807908975762174513283587947510889464808151270014825042188892427875789800134578981837960156938082266694146268051079103178857864829140020216566306070136011051973957887023840697468429906496613521427758417300464355076426199069297392214591157048570343707768442472999945059967240271166047707283511338555091562044288517103592017611634873106262354160166692423481832307213210499669490178941945225692693101911692220983553524922555721864660857377129192652859841052132311992447083113483302266557291957167443384157263889166173221630072382112600390411908175070165503639941248814018555631472966741720125443424233422142629900600523522082014394518336398760705442208557240556532445205254463387574003751596153472436183587258384619782866099567890391512596875095107843866617501264195098125873656554381033950920392569282855924650328657173398483893850959073716217684440223859400868803280682598080455638227210383597173999396880192669107212495171421431305429128205649048689962293099196797428576596824767710434800866627956801874367554477883562930206399467291395568295402917718503107309590416733769038062480603311372605187591391554472303030639776432241240336855609330122593538010590783897179333195018820277570804120166927036669021767214916091470055245328908857215703057656434775065680495131372066961843859258712945146355569944143560560584786239757284568753269266330032804688111453721120595197578401090491997200556647343934843266255912655826081222361677547681113297747925557689310864775309530087967397838929126163177261894140973857623212070601467335122690104876091672539609748911660348889898784094411948696219832953575970792455626227245696532820610006250153537567284585273328975314256616353219484499736416985833033426910834877756644680141952409449669585190691415011596842568509788277683672198698750172953601571299338084560807499711389686289732313095544509485539038449380900622051597747605229400791884883115995703465702500734002962691699600538595428622016471865949331454054163595930845454735175569491515939564818957256804316233891174365440806642291555872683149535721653631774646299952421922427587277317012550601103462319968159191595027554324367302264405321877292079548832390055536371276635906471724105009885366895925570454761999421537703982104657596184829710760290000198741545738246303470234024140817450739390007212733451591506097656702520130090968937067550195605712140284261416108671609224783106288919928714758886695662617485061991355328421066481036356835265792814320290238151370284723037028564625335068096042592637592889655824714279245919313918356524023660285125075322772106497404811867390012337497109564835704177263558067794516146130438915255504597902928796268899804602120950866155862735071223899943176742257909813179397239157376127551141859868822309187649841633408011977752093408701219729992633275732529734521899405690260912092931923497369379726534762512842064034621349092454864580540465840353227494148037457820425654074760248241770970028175281242672019243984100221486803087443268292821634720745768782760583639755178458012560667540628664455768120041718176204286665581524292445028346382433749368362483642968935531918682168810877724595964236124747154704198967571454266819787179716350304171052962650789456125688927992786679172336317432099376257806726455111683317952491357857730885052373752044708338943895037659276817554900919943500388206743343359663066638926506341314610340706042213969679058916637283493355831577855154331889593854024772915883493000158404813493705293018076672176759351474928192707006752332721610167637327534769958788019038466534336699615771330008392673140967337095143566660696932519506292650758144235626222813363591806895143687632431720170691475144768369170540535411733536320831319080460344539711707782707772046761500454521229827749779173651558394159384395010393098224553468724480248167500032812997154384959109058766198878056077029257219616357365773812714014650963379700596375943925259075492658368295384685137674648422640547716926662230410013048479928119221370974870256322374502729079213943307356493496877508577966309542944311834255022214662805612640233536053689187484916014130588061962201494328396456445219471212440703131968369597821282463877909173064981415282476431004157563923871852216112250793307095810567060707042383308425002376427868895224690760744153939059694817838576258850221799312556509691624447761328462437338039041682923370917848019821043568029946399005306472033662220616767052305694217047678800208792543451603100759362429335253365834220531677938999472925148504077874054758250669854154199338717618859428332051183097658736265431749707402101095951309100567567709669940757981211256428512562265459532595425646243336051528965993585577013869173951260506908966317748204055193986015874627734709386473519494816870269026842419931250497378386858440606681241686453018963985258014251946624969185499045177983171689797271696928809719984536938208287737515678671050448979821813123570545569556673215456109210666213198808715510795016823183824055933236607666780712382788008464671979332909757391196733618684653193939982696980753063172920544920298853642067845358786624029111216858048895487153020506593483676717050206936196668992290701768683273339190990557867626437326647524857968498153413681443759551623380776467369672603697754874775988501697514981379118671514210166928490216036057270855824994416680843155519362805300803726130400138302268794043314916196831075954366235765165695251799121930552644674877323316837582979311253605022338459809275572095605645974002515992587741374085479965057978074908029671809362982129572272817759185445552541759283325173163082166440335474797250610504432613391085701508518653192917383378878454248530349518318736201983841371031735728142026429650396659246945300417077736114075965239537824225381547896010343916647934505285705084707733947946961883117198529784187150705098016784192612334767247211022302264943223906151621684907803460044512189152318616550209841065583573841569118551918198073431534240748785537656609332140915947386550905986904518760628233021990358761563632732783521092633910545799418576141317781471619841850329414280488980736082852797471908499716712713383366859238236183946922607842160370306291472700785267926087455877359477018710025230626309610774832862515884569832370056158684999404954974101283174628225550785248333125622684914685023971090536630901319343153906072864679853539422499860981642422181340477970738611641352346301361275857310485963988795393233108202352835492508558913302305727979891112806783293008118077545567039810470711745022366867472198275285415727807885278098759928442689536308523447028721307585209740157382338794099122902757495555354139470244964907992337837625476239656300895338403774108435288685663443760759308164726941585582787760330181144199390399882140617138916934824908463054215218680481842659869227362438581264917076677747488273392512481309862033528832315885297124299321380864250364788108490237869545004284992421525037346588334983424713038396537673848677042203308694984182311877180222993008980424542329422080967587368329094242354072019335707482493269035848588641674052418215482510147054816007718998438795931307509396423469597381095727923832008484658640454822364781378644401735081641681418291400852341211275611762253168206095390616034015592545884934872465718326587452757073880830897807628545712313435460713076886403667309757538802013976367488482217872824991427122179786325102221742805761189505964883799018555931743720781035439419708597767159827600634978113045838000653540385757587978575256202678266411268151248583277496706035612071974980849983001589820220264169916430148358173595559638550312443325521701367297130225829864078969713699861933480112878674469508420589208862466396421355117822479642797905407089448798260866881274615396461048270998658218603563170995107571781671612998289540880672752708728271880278451119249207096343353175443720708515449482386553280412602468786953697292406560805315739610047943062788260632779557926782704330828324355332876871413177049654857905359293344193083369847680052576866365405428181557852598465225474082496489178444600082254598711527505791211232491573263205472541338891167986369510677269123617653814389118195009081881252907357440429505391945855322857754251321432909439442552755449538307425162684267453642090906830513522417386520095138075063027480947937095192155687327923573648362798310893405888109803727926098918538627480591129543638875107336844385519387740093637785626191186856799489372395664523716201991966002122241605826251305876470105559100529168617292017432287113905100365295063890854753069100296968389773007315380603008660358306069392847101529769032377979330098059694291444183230070127495502179006419054349902388102344292112787831487990021973182221030508189071682528573862621365739218958457472503814370366429325764291062353519518977829960600492294826983645178335911383250275752073548031279619356048735200733284164244063564472071166845895822026660604036058581307611561493639879076718988356989747282162419654727879103984070746547054494729654556030898956252557998799889867158317321393831430865418777286731169872595874217424359106282407199544445025279281643039814038836541914886147319740499382555123322310109596212800414498281161997763087078948929353573059244745908278179897878118425961918597143515452979680739985420200071660214183303442512533665845869020101027893506351528475891411944187753104494170578704114251971271539771885470221961988115546615159407165701237361876900467790134574734958684257287045048174289181660773787094885129233903738816926065535275500320027499107588431621444877379264828496609262375420637602392708223254330807323784489585154990127727399120713138457804620644999499720687375275881249994944888101461467779528432690242926760147761094372440460277125228507709697504501849190376044937601079369119159525438397299922706396983517683929265881960568585781458584052735201206779430088875356906310796641889660700700116685222391372126412948308077855145931907935165926792692879334253533788408671226567371669243332000866082179588480438099853000922487717429146582518581383622227335857237557904328821481776373920193983026273480668790539979811456322632671733839382095203285738626713149868038622130309118559825929042343518309347897037739394655793708529855671715613651675486899693939410250969782752732537297012718018483082663120505689398573132562663669231934672129533380533354379416508619992098504474368870333621536180564308703433929511610314062030496781977652940503671711403576472686645368329267936138987869110720971694125637223958699908129649764068004682781386452972059767932377957822818240694860666244701499390219318315635129237635603850752224979756913458783559441135332848662327192269614546636757685572828683736675850738588029143985762566061815115651096409404507826635723182360332338776774276295969946311156018074339566338111315220486811508086286398159031122884782008032751700427566486059810253355600382584058969893337550968234882845006930929505906870458248619281401574801249400371683419797232051111401638012632010426265434814162311101617980314776048601024933588922309330105270814389669416857616770408418807020082797060606873902275161553322902426659671851547640565389726144199237026603015151562037859349751384521677394493683151579229311108119279694426293143698622411793814452643739092527968869193276730258982485089202648909287000776349295201711283890125462786842356220025869140093338985102363586314815125403794240475309256602573192157335188004281481444632076422660489060592375578774810176935384807370197440367250879634603583206532589408171933006713095567295221401185211646074514028118304422054807627582271669411962302362005130049350442416118705575269663717061318813469301365367783918616332237913339245215786274454686915968981345514188728855481054611673868944275738489885067336789214098390153614262765359966059864259840510028207532789678881069031170970357752829175516093971663240732681721931901644055186028606966543287633489917057140735474366658716269016901876841661133675879897186928490251395038025244517807730100481241829857938320083602598546740071634424294443761786434724100338188093971873427688987243354527172292353094200440762120770695555575328690312903322246057476761462410138374344555066099646964832473144115406526589153177324463380718667977053497106643966569870317799374721276927151129511789827871101758023744083387344723784933968311410305602087302996475149384958038564491355255144098213689051684282582179018090002231244391348091653080674474116027880402580810646366059289849291863267961570762464748203181706932134621404820172351750746291226345103510408569993988879314847159003301350142927869100031510611959666586482588815697313643779198519732646312641419653748311529891840978481141854814762575042376414913206585911633980727155911339904181097733365978677971179619140598837420006777305158728503536723673777786623644897106803122376597694241667150561530033934561820533683700331342440200797219104234175012353854414535111329882183114147773826060307263329579257902075532693337753905549481515553582867545206133882135765167795809265367870223036687926291622190418958230997839250534964149237824887688312567578974073715422909854403635043561784223691273199802100821028354439788025267434507437165043127526269079919643201113772554358584986897724756784098073246306330508922216993346752200318396852814089803845260198151182679663029005872496726332293391836183496468697548109131594184489901506640612424818648221070802281230581245743958116492116285693081594799973855512616230772705053594643334948732124633744193407815210515593745537084562912585403691128822590410871540029484159358601654033654215153004359607999724774637593326427664757240144336118119068780607407233194652419846113410233587829194749860192860705552937723531397921271861641066595413965211453440975539758814093468021463237791249995922334572022963393276932486476711592774300866575608144788084375726221378037777417225913498729941944185001768826014994767178167322593956788032648396322262100412292066332349387565270786087528574770230660747049158104993205154686543773236290668784479313560909503885912513761254143629652926288938194153200713575100974288208700828238686083677756062175653848483662248597748096369639607984629271640969294983327165505433949250995347158582512246094738689083101557013643943432405960799050366056122236115235277191653685149709235865574511008877179845173201506563889459384115803015254999249821074023098467905119032206265563088078154201446999240393405568936372058223802778762215931496062227543097347173479499106709474531385548736173583675069834323490583631332493629703897865114420868694512872010030660771458816993008165025053513180788262930680671531662838661771355031144326811004050123182764443697817140176053316760134270179089954664038428180670278959363291851632804263107936623687219064476990096510890617928317221935265851867256201895386808602206586108023137054493911464693445373520925123436139660070508069605333516588926396051478208891671582592728531630507109509760117844723037752797764714553475640727045556621783454293247858277634465008061872829733700566764570237054002172616024106237224123884079744800506565487738347049916157459357701624305626008324961435192396846311114851305053493492946559501638704540339631164858582571515806164166307591855801393563918284504651953283919371937866192243851095328361275696342096092576450104329778164751611847184682968251051383305877896417795554643160327178989703115644468185671323772383099847063755362987421633560969424133104363768554670973213641883730129910374912449662550548382291737299902372313982259062936044327733073905116709462106281011837734450889022903970418161553649204434327652418210717575792732224569270075172732643763206672883693380996526636899797148399138690464624924678613803226790352264576574459357833018677823779866310396255873223192964525161174627162285205703870194384334723090056534921732717157610998052563945200799831003098607080527542480973677511172376768157048935755219580446101307335095987651190319383048921645476162474465276045272781470184060881108421637170801706713868777167204539547328405028030121866684792477455609364765042358197066602654562331123048377940779860746464590950106369125696458141549354096041403966907103462513293406086623054510443474040194161667266458426837146929369373287946068884728852690915115338553282283503075251772740229205755999014257704026714513404571390346382204110124127232468586821421563981223663677703507584190547401443827306192262280247986959854022059978733046452106924390382321247116866146612018065474659016997544464881690037215935761851796713118429691683542741784991314843480075409921807850942104608295368887259807172222789638001119637388148108901610339464543916233664739834728196968425269029010533132754894165060169721865342020891746716701684330057926983638776396124954010004927813524113680827772311341229565596666528760550487666079216511531466280684917958126362417765481531978225887656610308981424798087547735477868132945729281436951374097438359595980399639232536077471727770208945427232612738883846694802584224595239271098294750786913083012932803073322585669612004647286298907858742393382868576644239278327425741440701757516447347910186207530057651437596036823059882703070740046283706626174256484257791373450584103821887358794980303799202164718782197569997164817865055555316840850301842718668054817136105051516709027225112469041869939918076761861277520158091798551569325187460789324994357510921125389862607241838091581456637010303557203990418157594459826159309150892298942874490177009001382704424699982259297878690124152835788746277220908001610500096454142810392278646493108728728504468501543676571656427787020916210056158812759770811128836955160612732428274191177633115011512258554504407559809947167549712167185748940599025630943498731593746177285020410412072731026115215955072845182342823950485385067261731479057360843454978885642259293294307878648487620202598661730656083150418709205550475845681384634504799087486277272533300141111595854572329265556652597896039759599966759680598610267177834667786819311183659341207529041842872229544751752346847013069244454884951720329991176098584347303734305273263801846675127006961935611107453683006701159234910532609505671443507272139965969113201648404420569160634483007771595294408340432590276840155973154293160091683777108113902011118744781662692431743751349131607826457491242165975731666154369069099425014637180472298374455024711967414211178643898394047065347574600270111017560970425469438812149311266477398425948073580330718525110308282635961366276473223355338616258230364730888019329571112238128672923897225471186789039929749742563365065663288262258152445157165956588925495493512084055600615184544444407345199086441018295149555827770005013742867849857373013944498447245537318430140163573612911972124221130918328286952443229520389658655694150373076591841468299283248059405425558605077925748677709303725971208609171202651703733441170369712986433714147825559904360252124819566061431477519153945484746997097552056523262021874580397480718348628804842073963625842479852230305431648052415825766493020412659451150223720329312690050938751990197999113966199042861690588928764218283256429532445961962637671594129580390989373618004835423965114317400539206778072452304295187033289191081420367047352278441294383443323252613432369041153559612306666619066969798423185875669276442066934269152835750925338822350667147272761368362954701813950212714287757628140387613048724565732282670433054824563371816297061374699110666512215268191812789108089910018437629362181827007072346569039137541736610758134867310028114705159605596169689686852984935680858208188839553458194118608361143888329587150898930435054334667655443521286792482042274915426903052500778370813731892608774871480969500642750087316959570623473678778554278299522741551189043996093772551613964358839672308390565119384325741730596371978253792682115737685647107728369713727441507131894766030661017984396927966780993662846113880547702176165242413207205751859545265588686001649948508098813489963697728614997395633874763076651814436339019166400033291809966629002456591674539524302314707158178659595663597779115918538903126343387915173658313525442574925985788791531306434931793641533830265628955850034586785913177440473658818541642174936206272037956701354471594851909507442503834920119639002764806722797319416285766554953319051385654304889153959443986072286355024078363666229792486535018410666575806576909980780292839131856056015235134029938114258514712798113581404556855446648735426430047670781280251690409701369172287054185327360153117222897914796195471308680617027346719578988288675347473985988903902445611662787217002863332182932051322055658030074811547565591163568201208815647150794664597826732600213596348105599539263036324313716581427253256769614885386575117229078108113464259193933164247642714983327429232434676513478196470714629247174979135743083797956357628882414133591380230682126948363407555940505213372443823790228245252483672712728237008311486913173881967306669143605718091128593088294001850570086027586998752363922087853834444800103783653025815600451945065090735780065312599474560276279724279373406314570508842354855213502024371194599306088301838178002236448334464029840382779255047393871728962391242375815385041188333654117036665256953048428739089116841935497845179891777035551565312359974563185119455484770301624934201268430738738141547688056034579525031103910330652299725457154474682360217237721746482416632185390422723480473000898872886247952409438396741387226346707834739748833893737767386230061246746068905496904000075555845783103554886876085853140910253044141365017137480722424324685309988702771847191747186414086953975133129733626087387198970149084614283362023174434491528478256000716133427639016219099361425157480964001100866479097959009705856009046218342704464285531903831534953345341580527824041285345448767370515632346182848995750891265245610092616527407124272489303504225248654751027186181835500240763243283432002641746946682200484434038268054387932560763309717102544310378792765984069280945447108732109068788298314810739416689686699482400217925218788820484230188820667703324163858506540886897005397007476437770385015905440088694548958836605645060009363324431794683854750630694411757001261722637468906654170251658137778485917047978535155575842831548325367684420006995514730193023640819970493810166721087840627960706749454317824273989450322417546464774086238782532324655869311686620404313907351874797235462125126761980677975342852215316343986391341304402578786746043341494305146613080530497047893100818738115624138921606691360127451154199938075057477193492625200230854671488627744507661141889250888631826630805629088991684537392509162658639570931891320012118207858293227824690756171586985988596607589050614007326850206239869259668338311383253717703820263240102245221451346098323455263236235882301557196545277043276563878088391727080017831150609900304721944594819751864836787671853983987535209771735207658794472770158825671334587577750683433495568266126489228465849487678667770512407817528194667124735288070093327818794541721743070739733430421594361383176454855597866356398381197281652483854706718479467011554464995540257858002545311014344771918050118776531320962104156305222845361626976121936061414999318111507196384726151892127435993463328387146253191479704499257834927630302295708521412090876987484774799058894707159148721468586470715104577614874641230651539797222464906651369697383283262848549345701266640958421632166879699571108928828900291661780342390746950145348979064638480347366941167336081747028425475070789926677428367845044427480221480147013599008929975388819703950534444044356199619108962634904750155616352582793820660377499388365601976270385890426078619595282679951881207380724104239479256991040547339520497279197673936438010111191907147171795388399518654041577826828553999313856161621202374531634738058950711779623223123024521937619726678638004421304029073056970171763131655651013797793088972432040689966518521085543692859599762118773684177213384395622651255686770042031304090076373967940543612222059016761913277239190631025957261801242513800437244572900856816393856748792375736003163785124806715276576120608038115066005211160138204568668267385226955201890310835761196182995346092812309399063845363424952849032731095281274421933905619508839857589608935200667285984713511385388158728245815245961026493187280519447605761989763713708380316866407471490182532300435311242994171938035192400027685572502338117466102162890855842697581600080347872357984643052182899626845585141886472992107365170177797973849849049507221657508559740589309246007559065370496848245855954207447961445533627027170265928696980404076712639283114758718394185191276461147296367046351305790483649679385025157329524127854779962564744147338354015252630000036438803728769836969963660174594041494483529082708799920926362544949600441960396783853118677334765661535621151680993859250218887385418366537476439195019445540747336372712210080206369327147930891345062339594789528733554339474759305834221833542170766598763148076702133776408416030864193018241307398417871925839561560037265428543354995085353232145537381338862956183273243035010636746704212346185561198936817190043522460199784707388335981142182809187247202391504727453549075710482832617512430027292337229414997359920044289242463453674524897524330594495112733739750584439082278022373851089687880150874558215772398271711551427955288039480254952068736144841118064085114483120964515436809693942143249320525450718406512671445657221004154013447909260212705691162681998231601911484507480203485583808901745371623479898244588354761335119634506472298212370600829672120871294404720955029241526158395533847865453440805917365517806954980909150119479776837488596136662291131968222690676231320172158576342836187818053031769151433106391150297439131282753131253508292971175149850241297243268623807068703865572047455799351710482070326753953986500021197712561589122846580773269472408581737264980620107026873423962850193799105552270029977726666202103688101146092115753942795554767798397285500056908816590046745457309855136048894631420842051104149199777603872567250360196880389194233828823916326266887477606557517452515665585186453858621212945935893541532052548235235403608726567082450922595190651823312248977576743625300985236472298534670553950609313280876344411618254899217061754370833405580791614610761070567262295708793451228776326584572660410896852172209751486376067233997467434548203920961678246441004057148441032419676769943132621415571587497580381345440296616154662334896232367879680700033294114387815379045698710383211173526669834973204198949239874351087120862692879757904794166490595591616431563207012514427928812638013435870422664627242868325786773984471198000841630501691462291709918202789201511462520657749200096792661758022394066206082436441978382053801790380507804126605167019835042496668813480819329132073784410581930437396647050551759033804131072444475857769988799227940258749961544375342918327757858183995236391144876794144821626288492071526875847558755260186144083515120372085008313714215933040406604968249183600480500608786160766791455762621042428560948699566956419271862788001388602532568937677020934376306595187412254168812436368373037763959952027182504662723982886308934234893763450477331114469075850709625168068789039606959204557226641981642259352164847781292443009155131523788506594693016599317247840833293595864608182130157534283262716597730322810636270318568100875300900640175493827438751645189921498346152435989868680618502502225055508604931710717224071040461029365758642812243330917728584979125429800595880123902458793515125480059471258090766334321454189582773286123294118090726435029582029645917049325050446592525150374913905662406376390317986875585115896762324371302819759630532921174042390039098811522333454152473920161187619460823534245014851664462612315143855937192880953137926812431223997866740976289728680580861849329434300551077469915950841370451319929784107508271528849624521488766425806616737639599094223039151888882466896948799003182245047521555682009581426653574401722574357240626993091737617704750725599829359926081653801118606428758664162477247319372290706229512872107132302152704414774070525432971292101239443079798567417027781891894965882419300826214459382207821658974251111029855590526675914103809313956597961897911028651237202999439385308229833269323342786009996944653519571220367135067543228781054117027777956801076444158513117802902723701890157211546680070155369026110552079077724506493248169194766371247584993935843981065638599627012637988058529533583189452584886351557934363403642954960501495340076557088486786215360713227503311019199703596358694742798858715045350481535323067952700861758589280194581345897892916863413184118366330435627377218975452934013430020170200683182218317791293288160493674752452384378113144854612263748265536813939817096227441612879558878067216759831907833194371316802356329989994968873117572049332689230630052962172842159032683894258606952057043445717488017401065287097715541960995476887020453953143582497088954936700716770700703140527972488403183369099598150623314212519738850499792463706619826511003200910165834068417652160431225723210284420815302858902406401258569306694176663763612106725080122471320761914442448390003480872206245558753512331400003978032539679786253117992706725677969816161542438466705291890499433894552826718770795591121828255332196711587211756641447545987022302012856720978317632833040832170056791121416223135462660993218318261497960676305151382967073623840619865927902508811696243781918978168990370323821629429629812615484083025687273466409296981461063153475151056112044435240175445971718607870720927606182966063707762678548413643933971607685936991278827945252628138219399621587038882617535321094627042990360809399823672526825444362700968234903026112094027691378305606628921872470408340885132912892007106304288128678067279357505232226573936817328524765497950430125650184315548796411133449023345352879107106020130293933921997876486227527083193530169260611601767272028749006546722846728599861213881938371118150659701253534772999624692438552347958272513903886233828509309930010414258402313730708267128090940640171604303943088984862658236638497689844706002349597016318705381014748859528417606569325036040147619996627758073585807647011645405298918942600967228332474291629948218852117763419576588939113890938761346587085996668226726025294252884315686693546915875923454221809320787423868876599443365426225891307836392619279751849583092054994737706822379544479645932234646800842850494920436738895241856466758426770494439938345976541886421869005465950413107309087777726835896248421739592479579376827892754205089572165857825423821951910521240113448342391147907874720081573706667472297068230041423374072094204695736711103760308794254305353632050769333826983238960969857961061754415062198524665970296608216422929868465989521046263018910593296421845897817690153788332061859144781673805085524358726123634872661336512869091826528184568515408771755920441783808134589438857851342341095381369219920550683814524806552838552178512838909574255906871543971786153529847071520928508308045460314603568560146540475612399506951043715468482265712385693612302635856197328396475700684066687652331242966563906149925245433445003313960636512726785915591226803363161095599425757410915003089960118433359807472578770096536535529514621964358403033493330872965324506746860228713208379773500518239974991616093475034036272659462800067244820769540251232531598379843102931966674126113413974224393472797253113816912495719030803056005320852739294856682630916855419740911257018495590367640502865575120069347576597819689961098842622924861852290424736993395669786857422891610248711552533535893756428559761903417943419861717828122366090394049063137135487525175159814341202734500886799173928412686268275009464008123769317999556318792436835836905002093266910388719637587351539347291011007420478602928865893425047946961526192197115306425136291492265720518723480601223968334665550824190386553345660308588530930661759827112785131525965295932937168663771537827680080186811488652972867238759605394427634967736159056116389699550796259779126233574542057259310870306646858465064630525651582623405729270508689671651196115672270779201862915216497609601860286718839414556303783616456420638211923223458750538687806363727000413893140706060912629503271264638969948907615818250166423520240547616693198500333772035651506684942363221268346659967078712504272225286171534040602402180558791122150945707623447619571187488663871138259786825197399080210469348464463752211300449950289230460678651357980063335134306832203154627949334403097935289498183268354963403703699590162681272137782919487338130925332906159285467086847n\n"
     ]
    }
   ],
   "source": [
    "var x = 1000n + 2000n\n",
    "var y = 3000n - 2000n\n",
    "var z = 2000n * 3000n\n",
    "var z1 = 3000n / 997n\n",
    "var z2 = 3000n % 997n\n",
    "var z3 = (2n ** 131071n) - 1n\n",
    "\n",
    "console.log(x)\n",
    "console.log(y)\n",
    "console.log(z)\n",
    "console.log(z1)\n",
    "console.log(z2)\n",
    "console.log(z3)"
   ]
  },
  {
   "cell_type": "markdown",
   "id": "b1e40ee2",
   "metadata": {},
   "source": [
    "Although the standard +, -, *, /, %, and ** operators work with BigInt, it is important\n",
    "to understand that you may not mix operands of type BigInt with regular number\n",
    "operands. This may seem confusing at first, but there is a good reason for it. If one\n",
    "numeric type was more general than the other, it would be easy to define arithmetic\n",
    "on mixed operands to simply return a value of the more general type. But neither\n",
    "type is more general than the other: BigInt can represent extraordinarily large values,\n",
    "making it more general than regular numbers. But BigInt can only represent integers,\n",
    "making the regular JavaScript number type more general. There is no way around\n",
    "this problem, so JavaScript sidesteps it by simply not allowing mixed operands to the\n",
    "arithmetic operators."
   ]
  },
  {
   "cell_type": "code",
   "execution_count": 64,
   "id": "f0438aa0",
   "metadata": {},
   "outputs": [
    {
     "data": {
      "text/plain": [
       "3"
      ]
     },
     "execution_count": 64,
     "metadata": {},
     "output_type": "execute_result"
    }
   ],
   "source": [
    "1 + 2"
   ]
  },
  {
   "cell_type": "code",
   "execution_count": 65,
   "id": "3c02ab0b",
   "metadata": {},
   "outputs": [
    {
     "ename": "TypeError",
     "evalue": "Cannot mix BigInt and other types, use explicit conversions",
     "output_type": "error",
     "traceback": [
      "evalmachine.<anonymous>:1",
      "1 + 2n",
      "  ^",
      "",
      "TypeError: Cannot mix BigInt and other types, use explicit conversions",
      "    at evalmachine.<anonymous>:1:3",
      "    at Script.runInThisContext (vm.js:122:20)",
      "    at Object.runInThisContext (vm.js:329:38)",
      "    at run ([eval]:1054:15)",
      "    at onRunRequest ([eval]:888:18)",
      "    at onMessage ([eval]:848:13)",
      "    at process.emit (events.js:198:13)",
      "    at emit (internal/child_process.js:832:12)",
      "    at process._tickCallback (internal/process/next_tick.js:63:19)"
     ]
    }
   ],
   "source": [
    "1 + 2n"
   ]
  },
  {
   "cell_type": "markdown",
   "id": "29703f57",
   "metadata": {},
   "source": [
    "Comparison operators, by contrast, do work with mixed numeric types (but see\n",
    "§3.9.1 for more about the difference between == and ===):"
   ]
  },
  {
   "cell_type": "code",
   "execution_count": 60,
   "id": "92df4be4",
   "metadata": {},
   "outputs": [
    {
     "name": "stdout",
     "output_type": "stream",
     "text": [
      "true\n",
      "true\n",
      "true\n",
      "false\n"
     ]
    }
   ],
   "source": [
    "var x = 1 < 2n\n",
    "var y = 2 > 1n\n",
    "var z = 0 == 0n\n",
    "var z1 = 0 === 0n\n",
    "\n",
    "console.log(x)\n",
    "console.log(y)\n",
    "console.log(z)\n",
    "console.log(z1)"
   ]
  },
  {
   "cell_type": "markdown",
   "id": "c12eedae",
   "metadata": {},
   "source": [
    "The bitwise operators (described in §4.8.3) generally work with BigInt operands.\n",
    "None of the functions of the Math object accept BigInt operands, however."
   ]
  },
  {
   "cell_type": "code",
   "execution_count": 66,
   "id": "67d87708",
   "metadata": {},
   "outputs": [
    {
     "data": {
      "text/plain": [
       "256"
      ]
     },
     "execution_count": 66,
     "metadata": {},
     "output_type": "execute_result"
    }
   ],
   "source": [
    "Math.pow(2, 8)"
   ]
  },
  {
   "cell_type": "code",
   "execution_count": 67,
   "id": "ede93ad8",
   "metadata": {},
   "outputs": [
    {
     "ename": "TypeError",
     "evalue": "Cannot convert a BigInt value to a number",
     "output_type": "error",
     "traceback": [
      "evalmachine.<anonymous>:1",
      "Math.pow(2n, 8)",
      "     ^",
      "",
      "TypeError: Cannot convert a BigInt value to a number",
      "    at Math.pow (<anonymous>)",
      "    at evalmachine.<anonymous>:1:6",
      "    at Script.runInThisContext (vm.js:122:20)",
      "    at Object.runInThisContext (vm.js:329:38)",
      "    at run ([eval]:1054:15)",
      "    at onRunRequest ([eval]:888:18)",
      "    at onMessage ([eval]:848:13)",
      "    at process.emit (events.js:198:13)",
      "    at emit (internal/child_process.js:832:12)",
      "    at process._tickCallback (internal/process/next_tick.js:63:19)"
     ]
    }
   ],
   "source": [
    "Math.pow(2n, 8)"
   ]
  },
  {
   "cell_type": "code",
   "execution_count": 68,
   "id": "f2fa3304",
   "metadata": {},
   "outputs": [
    {
     "ename": "TypeError",
     "evalue": "Cannot convert a BigInt value to a number",
     "output_type": "error",
     "traceback": [
      "evalmachine.<anonymous>:1",
      "Math.pow(2, 8n)",
      "     ^",
      "",
      "TypeError: Cannot convert a BigInt value to a number",
      "    at Math.pow (<anonymous>)",
      "    at evalmachine.<anonymous>:1:6",
      "    at Script.runInThisContext (vm.js:122:20)",
      "    at Object.runInThisContext (vm.js:329:38)",
      "    at run ([eval]:1054:15)",
      "    at onRunRequest ([eval]:888:18)",
      "    at onMessage ([eval]:848:13)",
      "    at process.emit (events.js:198:13)",
      "    at emit (internal/child_process.js:832:12)",
      "    at process._tickCallback (internal/process/next_tick.js:63:19)"
     ]
    }
   ],
   "source": [
    "Math.pow(2, 8n)"
   ]
  },
  {
   "cell_type": "code",
   "execution_count": 69,
   "id": "e2dc093c",
   "metadata": {},
   "outputs": [
    {
     "ename": "TypeError",
     "evalue": "Cannot convert a BigInt value to a number",
     "output_type": "error",
     "traceback": [
      "evalmachine.<anonymous>:1",
      "Math.pow(2n, 8n)",
      "     ^",
      "",
      "TypeError: Cannot convert a BigInt value to a number",
      "    at Math.pow (<anonymous>)",
      "    at evalmachine.<anonymous>:1:6",
      "    at Script.runInThisContext (vm.js:122:20)",
      "    at Object.runInThisContext (vm.js:329:38)",
      "    at run ([eval]:1054:15)",
      "    at onRunRequest ([eval]:888:18)",
      "    at onMessage ([eval]:848:13)",
      "    at process.emit (events.js:198:13)",
      "    at emit (internal/child_process.js:832:12)",
      "    at process._tickCallback (internal/process/next_tick.js:63:19)"
     ]
    }
   ],
   "source": [
    "Math.pow(2n, 8n)"
   ]
  },
  {
   "cell_type": "markdown",
   "id": "73c7e263",
   "metadata": {},
   "source": [
    "## 3.2.6 Dates and Times"
   ]
  },
  {
   "cell_type": "markdown",
   "id": "3a5eef4d",
   "metadata": {},
   "source": [
    "JavaScript defines a simple Date class for representing and manipulating the numbers\n",
    "that represent dates and times. JavaScript Dates are objects, but they also have a\n",
    "numeric representation as a timestamp that specifies the number of elapsed milliseconds\n",
    "since January 1, 1970:"
   ]
  },
  {
   "cell_type": "code",
   "execution_count": 59,
   "id": "55289cdc",
   "metadata": {},
   "outputs": [
    {
     "name": "stdout",
     "output_type": "stream",
     "text": [
      "1633447581837\n",
      "2021-10-05T15:26:21.837Z\n",
      "1633447581837\n",
      "2021-10-05T15:26:21.837Z\n"
     ]
    }
   ],
   "source": [
    "var timestamp = Date.now(); // The current time as a timestamp (a number).\n",
    "var now = new Date(); // The current time as a Date object.\n",
    "var ms = now.getTime(); // Convert to a millisecond timestamp.\n",
    "var iso = now.toISOString(); // Convert to a string in standard format.\n",
    "\n",
    "console.log(timestamp)\n",
    "console.log(now)\n",
    "console.log(ms)\n",
    "console.log(iso)"
   ]
  },
  {
   "cell_type": "markdown",
   "id": "343d9bbb",
   "metadata": {},
   "source": [
    "The Date class and its methods are covered in detail in §11.4. But we will see Date\n",
    "objects again in §3.9.3 when we examine the details of JavaScript type conversions."
   ]
  },
  {
   "cell_type": "markdown",
   "id": "93e7d31f",
   "metadata": {},
   "source": [
    "## 3.3 Text"
   ]
  },
  {
   "cell_type": "markdown",
   "id": "da7d7450",
   "metadata": {},
   "source": [
    "The JavaScript type for representing text is the string. A string is an immutable\n",
    "ordered sequence of 16-bit values, each of which typically represents a Unicode character.\n",
    "The length of a string is the number of 16-bit values it contains. JavaScript’s\n",
    "strings (and its arrays) use zero-based indexing: the first 16-bit value is at position 0,\n",
    "the second at position 1, and so on. The empty string is the string of length 0. Java‐\n",
    "Script does not have a special type that represents a single element of a string. To represent\n",
    "a single 16-bit value, simply use a string that has a length of 1."
   ]
  },
  {
   "cell_type": "markdown",
   "id": "e3d53599",
   "metadata": {},
   "source": [
    ">               Characters, Codepoints, and JavaScript Strings\n",
    "JavaScript uses the UTF-16 encoding of the Unicode character set, and JavaScript\n",
    "strings are sequences of unsigned 16-bit values. The most commonly used Unicode\n",
    "characters (those from the “basic multilingual plane”) have codepoints that fit in 16\n",
    "bits and can be represented by one element of a string. Unicode characters whose\n",
    "codepoints do not fit in 16 bits are encoded using the rules of UTF-16 as a sequence\n",
    "(known as a “surrogate pair”) of two 16-bit values. This means that a JavaScript string\n",
    "of length 2 (two 16-bit values) might represent only a single Unicode character:\n",
    "\n",
    ">let euro = \"€\";\n",
    "\n",
    ">let love = \"❤\";\n",
    "\n",
    ">euro.length // => 1: this character has one 16-bit element\n",
    "\n",
    ">love.length // => 2: UTF-16 encoding of ❤ is \"\\ud83d\\udc99\"\n",
    "\n",
    ">Most string-manipulation methods defined by JavaScript operate on 16-bit values,\n",
    "not characters. They do not treat surrogate pairs specially, they perform no normalization\n",
    "of the string, and don’t even ensure that a string is well-formed UTF-16.\n",
    "\n",
    ">In ES6, however, strings are iterable, and if you use the for/of loop or ... operator\n",
    "with a string, it will iterate the actual characters of the string, not the 16-bit values."
   ]
  },
  {
   "cell_type": "markdown",
   "id": "9fbbc171",
   "metadata": {},
   "source": [
    "## 3.3.1 String Literals"
   ]
  },
  {
   "cell_type": "markdown",
   "id": "e1529fe7",
   "metadata": {},
   "source": [
    "To include a string in a JavaScript program, simply enclose the characters of the\n",
    "string within a matched pair of `single` or `double` quotes or `backticks` (' or \" or `).\n",
    "Double-quote characters and backticks may be contained within strings delimited by\n",
    "single-quote characters, and similarly for strings delimited by double quotes and\n",
    "backticks. Here are examples of string literals:"
   ]
  },
  {
   "cell_type": "code",
   "execution_count": 58,
   "id": "900f0261",
   "metadata": {},
   "outputs": [
    {
     "data": {
      "text/plain": [
       "'\"She said \\'hi\\'\", he said.'"
      ]
     },
     "execution_count": 58,
     "metadata": {},
     "output_type": "execute_result"
    }
   ],
   "source": [
    "\"\" // The empty string: it has zero characters\n",
    "'testing';\n",
    "\"3.14\";\n",
    "'name=\"myform\"';\n",
    "\"Wouldn't you prefer O'Reilly's book?\";\n",
    "\"τ is the ratio of a circle's circumference to its radius\";\n",
    "`\"She said 'hi'\", he said.`;"
   ]
  },
  {
   "cell_type": "markdown",
   "id": "6913409d",
   "metadata": {},
   "source": [
    "Strings delimited with backticks are a feature of ES6, and `allow JavaScript expressions to be embedded within (or interpolated into) the string literal`. This expression interpolation\n",
    "syntax is covered in §3.3.4."
   ]
  },
  {
   "cell_type": "markdown",
   "id": "60c86475",
   "metadata": {},
   "source": [
    "The original versions of JavaScript required string literals to be written on a single\n",
    "line, and it is common to see JavaScript code that creates long strings by concatenating\n",
    "single-line strings with the + operator. As of ES5, however, you can break a string\n",
    "literal across multiple lines by ending each line but the last with a backslash `(\\)`. Neither\n",
    "the backslash nor the line terminator that follow it are part of the string literal. If\n",
    "you need to include a newline character in a single-quoted or double-quoted string\n",
    "literal, use the character sequence `\\n` (documented in the next section). The ES6\n",
    "backtick syntax allows strings to be broken across multiple lines, and in this case, the\n",
    "line terminators are part of the string literal:"
   ]
  },
  {
   "cell_type": "code",
   "execution_count": 70,
   "id": "a3dcf250",
   "metadata": {},
   "outputs": [
    {
     "ename": "SyntaxError",
     "evalue": "Invalid or unexpected token",
     "output_type": "error",
     "traceback": [
      "evalmachine.<anonymous>:1",
      "\"hi",
      "^^^",
      "",
      "SyntaxError: Invalid or unexpected token",
      "    at new Script (vm.js:83:7)",
      "    at createScript (vm.js:277:10)",
      "    at Object.runInThisContext (vm.js:329:10)",
      "    at run ([eval]:1054:15)",
      "    at onRunRequest ([eval]:888:18)",
      "    at onMessage ([eval]:848:13)",
      "    at process.emit (events.js:198:13)",
      "    at emit (internal/child_process.js:832:12)",
      "    at process._tickCallback (internal/process/next_tick.js:63:19)"
     ]
    }
   ],
   "source": [
    "\"hi\n",
    "im\""
   ]
  },
  {
   "cell_type": "code",
   "execution_count": 71,
   "id": "d5b2fe5a",
   "metadata": {},
   "outputs": [
    {
     "data": {
      "text/plain": [
       "'hi im'"
      ]
     },
     "execution_count": 71,
     "metadata": {},
     "output_type": "execute_result"
    }
   ],
   "source": [
    "\"hi \\\n",
    "im\""
   ]
  },
  {
   "cell_type": "code",
   "execution_count": 72,
   "id": "f1dd9898",
   "metadata": {},
   "outputs": [
    {
     "data": {
      "text/plain": [
       "'hi \\n im'"
      ]
     },
     "execution_count": 72,
     "metadata": {},
     "output_type": "execute_result"
    }
   ],
   "source": [
    "\"hi \\n im\""
   ]
  },
  {
   "cell_type": "code",
   "execution_count": 73,
   "id": "72d22499",
   "metadata": {},
   "outputs": [
    {
     "name": "stdout",
     "output_type": "stream",
     "text": [
      "hi \n",
      " im\n"
     ]
    }
   ],
   "source": [
    "console.log(\"hi \\n im\")"
   ]
  },
  {
   "cell_type": "code",
   "execution_count": 76,
   "id": "3af3fd5c",
   "metadata": {},
   "outputs": [
    {
     "data": {
      "text/plain": [
       "'hi \\nim \\nmohammad'"
      ]
     },
     "execution_count": 76,
     "metadata": {},
     "output_type": "execute_result"
    }
   ],
   "source": [
    "`hi \n",
    "im \n",
    "mohammad`"
   ]
  },
  {
   "cell_type": "code",
   "execution_count": 77,
   "id": "25ca9f94",
   "metadata": {},
   "outputs": [
    {
     "name": "stdout",
     "output_type": "stream",
     "text": [
      "hi \n",
      "im\n",
      "mohammad\n"
     ]
    }
   ],
   "source": [
    "console.log(`hi \n",
    "im\n",
    "mohammad`)"
   ]
  },
  {
   "cell_type": "code",
   "execution_count": 57,
   "id": "95af8bff",
   "metadata": {},
   "outputs": [
    {
     "name": "stdout",
     "output_type": "stream",
     "text": [
      "two\n",
      "lines\n",
      "onelongline\n",
      "the newline character at the end of this line\n",
      "is included literally in this string\n"
     ]
    }
   ],
   "source": [
    "// A string representing 2 lines written on one line:\n",
    "var x = 'two\\nlines'\n",
    "// A one-line string written on 3 lines:\n",
    "var y = \"one\\\n",
    "long\\\n",
    "line\";\n",
    "// A two-line string written on two lines:\n",
    "var z = `the newline character at the end of this line\n",
    "is included literally in this string`\n",
    "console.log(x)\n",
    "console.log(y)\n",
    "console.log(z)"
   ]
  },
  {
   "cell_type": "markdown",
   "id": "48f8d705",
   "metadata": {},
   "source": [
    "Note that when you use single quotes to delimit your strings, you must be careful\n",
    "with English contractions and possessives, such as can’t and O’Reilly’s. Since the apostrophe\n",
    "is the same as the single-quote character, you must use the backslash character\n",
    "`( \\ )` to “escape” any apostrophes that appear in single-quoted strings (escapes are\n",
    "explained in the next section)."
   ]
  },
  {
   "cell_type": "code",
   "execution_count": 56,
   "id": "4b3353bd",
   "metadata": {},
   "outputs": [
    {
     "name": "stdout",
     "output_type": "stream",
     "text": [
      "I'm a student\n"
     ]
    }
   ],
   "source": [
    "console.log('I\\'m a student')"
   ]
  },
  {
   "cell_type": "markdown",
   "id": "90174234",
   "metadata": {},
   "source": [
    "In client-side JavaScript programming, JavaScript code may contain strings of HTML\n",
    "code, and HTML code may contain strings of JavaScript code. Like JavaScript, HTML\n",
    "uses either single or double quotes to delimit its strings. Thus, when combining Java‐\n",
    "Script and HTML, it is a good idea to use one style of quotes for JavaScript and the\n",
    "other style for HTML. In the following example, the string “Thank you” is singlequoted\n",
    "within a JavaScript expression, which is then double-quoted within an HTML\n",
    "event-handler attribute:"
   ]
  },
  {
   "cell_type": "code",
   "execution_count": 55,
   "id": "69048b00",
   "metadata": {},
   "outputs": [
    {
     "ename": "SyntaxError",
     "evalue": "Unexpected token %",
     "output_type": "error",
     "traceback": [
      "evalmachine.<anonymous>:1",
      "%%HTML",
      "^",
      "",
      "SyntaxError: Unexpected token %",
      "    at new Script (vm.js:83:7)",
      "    at createScript (vm.js:277:10)",
      "    at Object.runInThisContext (vm.js:329:10)",
      "    at run ([eval]:1054:15)",
      "    at onRunRequest ([eval]:888:18)",
      "    at onMessage ([eval]:848:13)",
      "    at process.emit (events.js:198:13)",
      "    at emit (internal/child_process.js:832:12)",
      "    at process._tickCallback (internal/process/next_tick.js:63:19)"
     ]
    }
   ],
   "source": [
    "%%HTML\n",
    "\n",
    "<button onclick=\"alert('Thank you')\">Click Me</button>"
   ]
  },
  {
   "cell_type": "markdown",
   "id": "c35bef5f",
   "metadata": {},
   "source": [
    "## 3.3.2 Escape Sequences in String Literals"
   ]
  },
  {
   "cell_type": "markdown",
   "id": "879d4f08",
   "metadata": {},
   "source": [
    "The backslash character `(\\)` has a special purpose in JavaScript strings. Combined\n",
    "with the character that follows it, it represents a character that is not otherwise representable\n",
    "within the string. For example, \\n is an escape sequence that represents a\n",
    "newline character."
   ]
  },
  {
   "cell_type": "markdown",
   "id": "d082e6a8",
   "metadata": {},
   "source": [
    "Another example, mentioned earlier, is the \\' escape, which represents the single\n",
    "quote (or apostrophe) character. This escape sequence is useful when you need to\n",
    "include an apostrophe in a string literal that is contained within single quotes. You\n",
    "can see why these are called escape sequences: the backslash allows you to escape\n",
    "from the usual interpretation of the single-quote character. Instead of using it to\n",
    "mark the end of the string, you use it as an apostrophe:"
   ]
  },
  {
   "cell_type": "code",
   "execution_count": 54,
   "id": "da4c7ac6",
   "metadata": {},
   "outputs": [
    {
     "data": {
      "text/plain": [
       "\"You're right, it can't be a quote\""
      ]
     },
     "execution_count": 54,
     "metadata": {},
     "output_type": "execute_result"
    }
   ],
   "source": [
    "'You\\'re right, it can\\'t be a quote'"
   ]
  },
  {
   "cell_type": "markdown",
   "id": "1e0318ca",
   "metadata": {},
   "source": [
    "Table 3-1 lists the JavaScript escape sequences and the characters they represent.\n",
    "Three escape sequences are generic and can be used to represent any character by\n",
    "specifying its Unicode character code as a hexadecimal number. For example, the\n",
    "sequence \\xA9 represents the copyright symbol, which has the Unicode encoding\n",
    "given by the hexadecimal number A9. Similarly, the \\u escape represents an arbitrary\n",
    "Unicode character specified by four hexadecimal digits or one to five digits when the\n",
    "digits are enclosed in curly braces: \\u03c0 represents the character π, for example,\n",
    "and \\u{1f600} represents the “grinning face” emoji."
   ]
  },
  {
   "cell_type": "markdown",
   "id": "d2b67f99",
   "metadata": {},
   "source": [
    "<table class=\"ws-table-all notranslate\">\n",
    "<tbody><tr>\n",
    "  <th width=\"25%\">Sequence</th>\n",
    "  <th>Character represented</th>\n",
    "</tr>\n",
    "<tr>\n",
    "  <td>\\0 </td>\n",
    "  <td>The NUL character (\\u0000)</td>\n",
    "</tr>\n",
    "<tr>\n",
    "  <td>\\b</td>\n",
    "  <td>Backspace (\\u0008)</td>\n",
    "</tr>\n",
    "<tr>\n",
    "  <td>\\t</td>\n",
    "  <td>Horizontal tab (\\u0009)</td>\n",
    "</tr>\n",
    "<tr>\n",
    "  <td>\\n</td>\n",
    "  <td>Newline (\\u000A)</td>\n",
    "</tr>\n",
    "<tr>\n",
    "  <td>\\v</td>\n",
    "  <td>Vertical tab (\\u000B)</td>\n",
    "</tr>\n",
    "<tr>\n",
    "  <td>\\f</td>\n",
    "  <td>Form feed (\\u000C)</td>\n",
    "</tr>\n",
    "<tr>\n",
    "  <td>\\r</td>\n",
    "  <td>Carriage return (\\u000D)</td>\n",
    "</tr>\n",
    "<tr>\n",
    "  <td>\\\"</td>\n",
    "  <td>Double quote (\\u0022)</td>\n",
    "</tr>\n",
    "<tr>\n",
    "  <td>\\'</td>\n",
    "  <td>Apostrophe or single quote (\\u0027)</td>\n",
    "</tr>\n",
    "<tr>\n",
    "  <td>\\\\</td>\n",
    "  <td>Backslash (\\u005C)</td>\n",
    "</tr>\n",
    "<tr>\n",
    "  <td>\\xnn</td>\n",
    "  <td>The Unicode character specified by the two hexadecimal digits nn</td>\n",
    "</tr>\n",
    "<tr>\n",
    "  <td>\\unnnn</td>\n",
    "  <td>The Unicode character specified by the four hexadecimal digits nnnn</td>\n",
    "</tr>\n",
    "<tr>\n",
    "  <td>\\u{n}</td>\n",
    "  <td>The Unicode character specified by the codepoint n, where n is one to six hexadecimal digits between 0 and\n",
    "10FFFF (ES6)</td>\n",
    "</tr>\n",
    "</tbody></table>"
   ]
  },
  {
   "cell_type": "markdown",
   "id": "8d5153cc",
   "metadata": {},
   "source": [
    "If the \\ character precedes any character other than those shown in Table 3-1, the\n",
    "backslash is simply ignored (although future versions of the language may, of course,\n",
    "define new escape sequences). For example, \\# is the same as #. Finally, as noted earlier,\n",
    "ES5 allows a backslash before a line break to break a string literal across multiple\n",
    "lines."
   ]
  },
  {
   "cell_type": "code",
   "execution_count": 54,
   "id": "831362a5",
   "metadata": {},
   "outputs": [
    {
     "name": "stdout",
     "output_type": "stream",
     "text": [
      "Hi my friend\n"
     ]
    }
   ],
   "source": [
    "console.log(\"Hi \\my friend\")"
   ]
  },
  {
   "cell_type": "markdown",
   "id": "f292bff1",
   "metadata": {},
   "source": [
    "## 3.3.3 Working with Strings"
   ]
  },
  {
   "cell_type": "markdown",
   "id": "65b31b7f",
   "metadata": {},
   "source": [
    "One of the built-in features of JavaScript is the ability to concatenate strings. If you\n",
    "use the + operator with numbers, it adds them. But if you use this operator on strings,\n",
    "it joins them by appending the second to the first. For example:"
   ]
  },
  {
   "cell_type": "code",
   "execution_count": 53,
   "id": "3c570de6",
   "metadata": {},
   "outputs": [
    {
     "name": "stdout",
     "output_type": "stream",
     "text": [
      "Hello world\n"
     ]
    }
   ],
   "source": [
    "console.log(\"Hello\" + \" world\")"
   ]
  },
  {
   "cell_type": "markdown",
   "id": "77821e90",
   "metadata": {},
   "source": [
    "Strings can be compared with the standard === equality and !== inequality operators:\n",
    "two strings are equal if and only if they consist of exactly the same sequence of 16-bit\n",
    "values. Strings can also be compared with the `<, <=, >, and >=` operators. String comparison\n",
    "is done simply by comparing the 16-bit values. (For more robust locale-aware\n",
    "string comparison and sorting, see §11.7.3.)"
   ]
  },
  {
   "cell_type": "code",
   "execution_count": 52,
   "id": "526f933c",
   "metadata": {},
   "outputs": [
    {
     "name": "stdout",
     "output_type": "stream",
     "text": [
      "false\n",
      "true\n"
     ]
    }
   ],
   "source": [
    "console.log(\"ali\" > \"benyamin\")\n",
    "console.log(\"ali\" < \"benyamin\")"
   ]
  },
  {
   "cell_type": "markdown",
   "id": "fdb03139",
   "metadata": {},
   "source": [
    "To determine the length of a string—the number of 16-bit values it contains—use the\n",
    "length property of the string:"
   ]
  },
  {
   "cell_type": "code",
   "execution_count": 82,
   "id": "8e2219a7",
   "metadata": {},
   "outputs": [],
   "source": [
    "let s = \"Hello, world\"; // Start with some text."
   ]
  },
  {
   "cell_type": "code",
   "execution_count": 113,
   "id": "623da3a4",
   "metadata": {},
   "outputs": [
    {
     "data": {
      "text/plain": [
       "12"
      ]
     },
     "execution_count": 113,
     "metadata": {},
     "output_type": "execute_result"
    }
   ],
   "source": [
    "s.length"
   ]
  },
  {
   "cell_type": "markdown",
   "id": "1f46f678",
   "metadata": {},
   "source": [
    "In addition to this length property, JavaScript provides a rich API for working with\n",
    "strings:"
   ]
  },
  {
   "cell_type": "code",
   "execution_count": 83,
   "id": "4cc6a643",
   "metadata": {},
   "outputs": [
    {
     "data": {
      "text/plain": [
       "'ell'"
      ]
     },
     "execution_count": 83,
     "metadata": {},
     "output_type": "execute_result"
    }
   ],
   "source": [
    "s.substring(1,4) // => \"ell\": the 2nd, 3rd, and 4th characters."
   ]
  },
  {
   "cell_type": "code",
   "execution_count": 85,
   "id": "80e5edcc",
   "metadata": {},
   "outputs": [
    {
     "data": {
      "text/plain": [
       "'ell'"
      ]
     },
     "execution_count": 85,
     "metadata": {},
     "output_type": "execute_result"
    }
   ],
   "source": [
    "s.slice(1,4) // => \"ell\": same thing"
   ]
  },
  {
   "cell_type": "code",
   "execution_count": 86,
   "id": "2931717e",
   "metadata": {},
   "outputs": [
    {
     "data": {
      "text/plain": [
       "'rld'"
      ]
     },
     "execution_count": 86,
     "metadata": {},
     "output_type": "execute_result"
    }
   ],
   "source": [
    "s.slice(-3) // => \"rld\": last 3 characters"
   ]
  },
  {
   "cell_type": "code",
   "execution_count": 87,
   "id": "758b0517",
   "metadata": {},
   "outputs": [
    {
     "data": {
      "text/plain": [
       "[ 'Hello', 'world' ]"
      ]
     },
     "execution_count": 87,
     "metadata": {},
     "output_type": "execute_result"
    }
   ],
   "source": [
    "s.split(\", \") // => [\"Hello\", \"world\"]: split at delimiter string"
   ]
  },
  {
   "cell_type": "code",
   "execution_count": 88,
   "id": "ede5962c",
   "metadata": {},
   "outputs": [
    {
     "data": {
      "text/plain": [
       "2"
      ]
     },
     "execution_count": 88,
     "metadata": {},
     "output_type": "execute_result"
    }
   ],
   "source": [
    "s.indexOf(\"l\") // => 2: position of first letter l"
   ]
  },
  {
   "cell_type": "code",
   "execution_count": 89,
   "id": "32358ffd",
   "metadata": {},
   "outputs": [
    {
     "data": {
      "text/plain": [
       "3"
      ]
     },
     "execution_count": 89,
     "metadata": {},
     "output_type": "execute_result"
    }
   ],
   "source": [
    "s.indexOf(\"l\", 3) // => 3: position of first \"l\" at or after 3"
   ]
  },
  {
   "cell_type": "code",
   "execution_count": 90,
   "id": "ff811dcb",
   "metadata": {},
   "outputs": [
    {
     "data": {
      "text/plain": [
       "-1"
      ]
     },
     "execution_count": 90,
     "metadata": {},
     "output_type": "execute_result"
    }
   ],
   "source": [
    "s.indexOf(\"zz\") // => -1: s does not include the substring \"zz\""
   ]
  },
  {
   "cell_type": "code",
   "execution_count": 91,
   "id": "6132e2dd",
   "metadata": {},
   "outputs": [
    {
     "data": {
      "text/plain": [
       "10"
      ]
     },
     "execution_count": 91,
     "metadata": {},
     "output_type": "execute_result"
    }
   ],
   "source": [
    "s.lastIndexOf(\"l\") // => 10: position of last letter l"
   ]
  },
  {
   "cell_type": "code",
   "execution_count": 92,
   "id": "fd1b358f",
   "metadata": {},
   "outputs": [
    {
     "data": {
      "text/plain": [
       "true"
      ]
     },
     "execution_count": 92,
     "metadata": {},
     "output_type": "execute_result"
    }
   ],
   "source": [
    "s.startsWith(\"Hell\") // => true: the string starts with these"
   ]
  },
  {
   "cell_type": "code",
   "execution_count": 93,
   "id": "361dcf94",
   "metadata": {},
   "outputs": [
    {
     "data": {
      "text/plain": [
       "false"
      ]
     },
     "execution_count": 93,
     "metadata": {},
     "output_type": "execute_result"
    }
   ],
   "source": [
    "s.endsWith(\"!\") // => false: s does not end with that"
   ]
  },
  {
   "cell_type": "code",
   "execution_count": 94,
   "id": "78e69cb4",
   "metadata": {},
   "outputs": [
    {
     "data": {
      "text/plain": [
       "true"
      ]
     },
     "execution_count": 94,
     "metadata": {},
     "output_type": "execute_result"
    }
   ],
   "source": [
    "s.includes(\"or\") // => true: s includes substring \"or\""
   ]
  },
  {
   "cell_type": "code",
   "execution_count": 95,
   "id": "0b94d4cb",
   "metadata": {},
   "outputs": [
    {
     "data": {
      "text/plain": [
       "'Heya, world'"
      ]
     },
     "execution_count": 95,
     "metadata": {},
     "output_type": "execute_result"
    }
   ],
   "source": [
    "s.replace(\"llo\", \"ya\") // => \"Heya, world\""
   ]
  },
  {
   "cell_type": "code",
   "execution_count": 96,
   "id": "d5342622",
   "metadata": {},
   "outputs": [
    {
     "data": {
      "text/plain": [
       "'hello, world'"
      ]
     },
     "execution_count": 96,
     "metadata": {},
     "output_type": "execute_result"
    }
   ],
   "source": [
    "s.toLowerCase() // => \"hello, world\""
   ]
  },
  {
   "cell_type": "code",
   "execution_count": 97,
   "id": "df37ed6d",
   "metadata": {},
   "outputs": [
    {
     "data": {
      "text/plain": [
       "'HELLO, WORLD'"
      ]
     },
     "execution_count": 97,
     "metadata": {},
     "output_type": "execute_result"
    }
   ],
   "source": [
    "s.toUpperCase() // => \"HELLO, WORLD\""
   ]
  },
  {
   "cell_type": "code",
   "execution_count": 98,
   "id": "71ac1c27",
   "metadata": {},
   "outputs": [
    {
     "data": {
      "text/plain": [
       "'Hello, world'"
      ]
     },
     "execution_count": 98,
     "metadata": {},
     "output_type": "execute_result"
    }
   ],
   "source": [
    "s.normalize() // Unicode NFC normalization: ES6"
   ]
  },
  {
   "cell_type": "code",
   "execution_count": 99,
   "id": "df373c5e",
   "metadata": {},
   "outputs": [
    {
     "data": {
      "text/plain": [
       "'Hello, world'"
      ]
     },
     "execution_count": 99,
     "metadata": {},
     "output_type": "execute_result"
    }
   ],
   "source": [
    "s.normalize(\"NFD\") // NFD normalization. Also \"NFKC\", \"NFKD\""
   ]
  },
  {
   "cell_type": "code",
   "execution_count": 100,
   "id": "2b07a39b",
   "metadata": {},
   "outputs": [
    {
     "data": {
      "text/plain": [
       "'H'"
      ]
     },
     "execution_count": 100,
     "metadata": {},
     "output_type": "execute_result"
    }
   ],
   "source": [
    "s.charAt(0) // => \"H\": the first character"
   ]
  },
  {
   "cell_type": "code",
   "execution_count": 101,
   "id": "0fba6be4",
   "metadata": {},
   "outputs": [
    {
     "data": {
      "text/plain": [
       "'d'"
      ]
     },
     "execution_count": 101,
     "metadata": {},
     "output_type": "execute_result"
    }
   ],
   "source": [
    "s.charAt(s.length-1) // => \"d\": the last character"
   ]
  },
  {
   "cell_type": "code",
   "execution_count": 102,
   "id": "696aedca",
   "metadata": {},
   "outputs": [
    {
     "data": {
      "text/plain": [
       "72"
      ]
     },
     "execution_count": 102,
     "metadata": {},
     "output_type": "execute_result"
    }
   ],
   "source": [
    "s.charCodeAt(0) // => 72: 16-bit number at the specified position"
   ]
  },
  {
   "cell_type": "code",
   "execution_count": 103,
   "id": "f3e1f922",
   "metadata": {},
   "outputs": [
    {
     "data": {
      "text/plain": [
       "72"
      ]
     },
     "execution_count": 103,
     "metadata": {},
     "output_type": "execute_result"
    }
   ],
   "source": [
    "s.codePointAt(0) // => 72: ES6, works for codepoints > 16 bits"
   ]
  },
  {
   "cell_type": "code",
   "execution_count": 104,
   "id": "3891d460",
   "metadata": {},
   "outputs": [
    {
     "data": {
      "text/plain": [
       "'  x'"
      ]
     },
     "execution_count": 104,
     "metadata": {},
     "output_type": "execute_result"
    }
   ],
   "source": [
    "\"x\".padStart(3) // => \" x\": add spaces on the left to a length of 3"
   ]
  },
  {
   "cell_type": "code",
   "execution_count": 105,
   "id": "e2479d35",
   "metadata": {},
   "outputs": [
    {
     "data": {
      "text/plain": [
       "'x  '"
      ]
     },
     "execution_count": 105,
     "metadata": {},
     "output_type": "execute_result"
    }
   ],
   "source": [
    "\"x\".padEnd(3) // => \"x \": add spaces on the right to a length of 3"
   ]
  },
  {
   "cell_type": "code",
   "execution_count": 106,
   "id": "5bf02d8a",
   "metadata": {},
   "outputs": [
    {
     "data": {
      "text/plain": [
       "'**x'"
      ]
     },
     "execution_count": 106,
     "metadata": {},
     "output_type": "execute_result"
    }
   ],
   "source": [
    "\"x\".padStart(3, \"*\") // => \"**x\": add stars on the left to a length of 3"
   ]
  },
  {
   "cell_type": "code",
   "execution_count": 107,
   "id": "6bdf0d57",
   "metadata": {},
   "outputs": [
    {
     "data": {
      "text/plain": [
       "'x--'"
      ]
     },
     "execution_count": 107,
     "metadata": {},
     "output_type": "execute_result"
    }
   ],
   "source": [
    "\"x\".padEnd(3, \"-\") // => \"x--\": add dashes on the right to a length of 3"
   ]
  },
  {
   "cell_type": "code",
   "execution_count": 108,
   "id": "35994a8a",
   "metadata": {},
   "outputs": [
    {
     "data": {
      "text/plain": [
       "'test'"
      ]
     },
     "execution_count": 108,
     "metadata": {},
     "output_type": "execute_result"
    }
   ],
   "source": [
    "\" test \".trim() // => \"test\": remove spaces at start and end"
   ]
  },
  {
   "cell_type": "code",
   "execution_count": 109,
   "id": "4cd59b46",
   "metadata": {},
   "outputs": [
    {
     "data": {
      "text/plain": [
       "'test '"
      ]
     },
     "execution_count": 109,
     "metadata": {},
     "output_type": "execute_result"
    }
   ],
   "source": [
    "\" test \".trimStart() // => \"test \": remove spaces on left. Also trimLeft"
   ]
  },
  {
   "cell_type": "code",
   "execution_count": 110,
   "id": "ce48dc3a",
   "metadata": {},
   "outputs": [
    {
     "data": {
      "text/plain": [
       "' test'"
      ]
     },
     "execution_count": 110,
     "metadata": {},
     "output_type": "execute_result"
    }
   ],
   "source": [
    "\" test \".trimEnd() // => \" test\": remove spaces at right. Also trimRight"
   ]
  },
  {
   "cell_type": "code",
   "execution_count": 111,
   "id": "e485afa8",
   "metadata": {},
   "outputs": [
    {
     "data": {
      "text/plain": [
       "'Hello, world!'"
      ]
     },
     "execution_count": 111,
     "metadata": {},
     "output_type": "execute_result"
    }
   ],
   "source": [
    "s.concat(\"!\") // => \"Hello, world!\": just use + operator instead"
   ]
  },
  {
   "cell_type": "code",
   "execution_count": 112,
   "id": "df755f0b",
   "metadata": {},
   "outputs": [
    {
     "data": {
      "text/plain": [
       "'<><><><><>'"
      ]
     },
     "execution_count": 112,
     "metadata": {},
     "output_type": "execute_result"
    }
   ],
   "source": [
    "\"<>\".repeat(5) // => \"<><><><><>\": concatenate n copies. ES6"
   ]
  },
  {
   "cell_type": "markdown",
   "id": "61b42854",
   "metadata": {},
   "source": [
    "Remember that strings are immutable in JavaScript. Methods like replace() and\n",
    "toUpperCase() return new strings: they do not modify the string on which they are\n",
    "invoked."
   ]
  },
  {
   "cell_type": "markdown",
   "id": "382cd5d7",
   "metadata": {},
   "source": [
    "Strings can also be treated like read-only arrays, and you can access individual characters\n",
    "(16-bit values) from a string using square brackets instead of the charAt()\n",
    "method:"
   ]
  },
  {
   "cell_type": "code",
   "execution_count": 116,
   "id": "57c66772",
   "metadata": {},
   "outputs": [
    {
     "data": {
      "text/plain": [
       "'d'"
      ]
     },
     "execution_count": 116,
     "metadata": {},
     "output_type": "execute_result"
    }
   ],
   "source": [
    "let s1 = \"hello, world\";\n",
    "s1[0] // => \"h\"\n",
    "s1[s1.length-1] // => \"d\""
   ]
  },
  {
   "cell_type": "markdown",
   "id": "f3dc1468",
   "metadata": {},
   "source": [
    "## 3.3.4 Template Literals"
   ]
  },
  {
   "cell_type": "markdown",
   "id": "44a282eb",
   "metadata": {},
   "source": [
    "In ES6 and later, string literals can be delimited with backticks:"
   ]
  },
  {
   "cell_type": "code",
   "execution_count": 48,
   "id": "edc2fc6a",
   "metadata": {},
   "outputs": [],
   "source": [
    "let s = `hello world`;"
   ]
  },
  {
   "cell_type": "markdown",
   "id": "b18dd258",
   "metadata": {},
   "source": [
    "This is more than just another string literal syntax, however, because these template\n",
    "literals can include arbitrary JavaScript expressions. The final value of a string literal\n",
    "in backticks is computed by evaluating any included expressions, converting the values\n",
    "of those expressions to strings and combining those computed strings with the\n",
    "literal characters within the backticks:"
   ]
  },
  {
   "cell_type": "code",
   "execution_count": 47,
   "id": "05755dbe",
   "metadata": {},
   "outputs": [
    {
     "name": "stdout",
     "output_type": "stream",
     "text": [
      "Hello Bill.\n"
     ]
    }
   ],
   "source": [
    "var name = \"Bill\";\n",
    "var greeting = `Hello ${ name }.`; // greeting == \"Hello Bill.\"\n",
    "\n",
    "console.log(greeting)"
   ]
  },
  {
   "cell_type": "markdown",
   "id": "7339d4c6",
   "metadata": {},
   "source": [
    "Everything between the ${ and the matching } is interpreted as a JavaScript expression.\n",
    "Everything outside the curly braces is normal string literal text. The expression\n",
    "inside the braces is evaluated and then converted to a string and inserted into the\n",
    "template, replacing the dollar sign, the curly braces, and everything in between them."
   ]
  },
  {
   "cell_type": "markdown",
   "id": "0b24b54b",
   "metadata": {},
   "source": [
    "A template literal may include any number of expressions. It can use any of the escape\n",
    "characters that normal strings can, and it can span any number of lines, with no special\n",
    "escaping required. The following template literal includes four JavaScript expressions,\n",
    "a Unicode escape sequence, and at least four newlines (the expression values\n",
    "may include newlines as well):"
   ]
  },
  {
   "cell_type": "markdown",
   "id": "c71b6116",
   "metadata": {},
   "source": [
    "```javascript\n",
    "let errorMessage = `\\\n",
    "\\u2718 Test failure at ${filename}:${linenumber}:\n",
    "${exception.message}\n",
    "Stack trace:\n",
    "${exception.stack}\n",
    "`;\n",
    "```"
   ]
  },
  {
   "cell_type": "code",
   "execution_count": 119,
   "id": "9fb26390",
   "metadata": {},
   "outputs": [
    {
     "name": "stdout",
     "output_type": "stream",
     "text": [
      "Hi \n",
      " world I'm david\n",
      "\n"
     ]
    }
   ],
   "source": [
    "var me = \"david\"\n",
    "\n",
    "var t =`\\\n",
    "Hi \\n world I'm ${me}\n",
    "`\n",
    "console.log(t)"
   ]
  },
  {
   "cell_type": "markdown",
   "id": "22dfa3ca",
   "metadata": {},
   "source": [
    "The backslash at the end of the first line here escapes the initial newline so that the\n",
    "resulting string begins with hi."
   ]
  },
  {
   "cell_type": "markdown",
   "id": "2455f9a5",
   "metadata": {},
   "source": [
    "## Tagged template literals"
   ]
  },
  {
   "cell_type": "markdown",
   "id": "5b6e2eef",
   "metadata": {},
   "source": [
    "A powerful but less commonly used feature of template literals is that, if a function\n",
    "name (or “tag”) comes right before the opening backtick, then the text and the values\n",
    "of the expressions within the template literal are passed to the function. The value of\n",
    "this “tagged template literal” is the return value of the function. This could be used,\n",
    "for example, to apply HTML or SQL escaping to the values before substituting them\n",
    "into the text."
   ]
  },
  {
   "cell_type": "markdown",
   "id": "a40ad4d5",
   "metadata": {},
   "source": [
    "ES6 has one built-in tag function: String.raw(). It returns the text within backticks\n",
    "without any processing of backslash escapes:"
   ]
  },
  {
   "cell_type": "code",
   "execution_count": 44,
   "id": "50a9be8c",
   "metadata": {},
   "outputs": [
    {
     "name": "stdout",
     "output_type": "stream",
     "text": [
      "1\n",
      "2\n"
     ]
    }
   ],
   "source": [
    "console.log(`\\n`.length)     // => 1: the string has a single newline character\n",
    "console.log(String.raw`\\n`.length)   // => 2: a backslash character and the letter n"
   ]
  },
  {
   "cell_type": "markdown",
   "id": "d7d7b8dd",
   "metadata": {},
   "source": [
    "Note that even though the tag portion of a tagged template literal is a function, there\n",
    "are no parentheses used in its invocation. In this very specific case, the backtick characters\n",
    "replace the open and close parentheses."
   ]
  },
  {
   "cell_type": "markdown",
   "id": "eb0330ef",
   "metadata": {},
   "source": [
    "The ability to define your own template tag functions is a powerful feature of Java‐\n",
    "Script. These functions do not need to return strings, and they can be used like constructors,\n",
    "as if defining a new literal syntax for the language. We’ll see an example in\n",
    "§14.5."
   ]
  },
  {
   "cell_type": "markdown",
   "id": "6729d9c0",
   "metadata": {},
   "source": [
    "## 3.3.5 Pattern Matching"
   ]
  },
  {
   "cell_type": "markdown",
   "id": "ca52d1d5",
   "metadata": {},
   "source": [
    "JavaScript defines a datatype known as a regular expression (or RegExp) for describing\n",
    "and matching patterns in strings of text. RegExps are not one of the fundamental\n",
    "datatypes in JavaScript, but they have a literal syntax like numbers and strings do, so\n",
    "they sometimes seem like they are fundamental. The grammar of regular expression\n",
    "literals is complex and the API they define is nontrivial. They are documented in\n",
    "detail in §11.3. Because RegExps are powerful and commonly used for text processing,\n",
    "however, this section provides a brief overview."
   ]
  },
  {
   "cell_type": "markdown",
   "id": "05716781",
   "metadata": {},
   "source": [
    "Text between a pair of slashes constitutes a regular expression literal. The second\n",
    "slash in the pair can also be followed by one or more letters, which modify the meaning\n",
    "of the pattern. For example:"
   ]
  },
  {
   "cell_type": "code",
   "execution_count": 43,
   "id": "4c4d46dd",
   "metadata": {},
   "outputs": [
    {
     "data": {
      "text/plain": [
       "/\\bjavascript\\b/i"
      ]
     },
     "execution_count": 43,
     "metadata": {},
     "output_type": "execute_result"
    }
   ],
   "source": [
    "/*\n",
    "/^HTML/;              // Match the letters H T M L at the start of a string\n",
    "/[1-9][0-9]*/;        // Match a nonzero digit, followed by any # of digits\n",
    "/\\bjavascript\\b/i;    // Match \"javascript\" as a word, case-insensitive\n",
    "//"
   ]
  },
  {
   "cell_type": "markdown",
   "id": "ec9c35b7",
   "metadata": {},
   "source": [
    "RegExp objects define a number of useful methods, and strings also have methods\n",
    "that accept RegExp arguments. For example:"
   ]
  },
  {
   "cell_type": "code",
   "execution_count": 39,
   "id": "11afc964",
   "metadata": {},
   "outputs": [
    {
     "data": {
      "text/plain": [
       "[ '', '1', '2', '3' ]"
      ]
     },
     "execution_count": 39,
     "metadata": {},
     "output_type": "execute_result"
    }
   ],
   "source": [
    "let text = \"testing: 1, 2, 3\"; // Sample text\n",
    "let pattern = /\\d+/g; // Matches all instances of one or more digits\n",
    "pattern.test(text) // => true: a match exists\n",
    "text.search(pattern) // => 9: position of first match\n",
    "text.match(pattern) // => [\"1\", \"2\", \"3\"]: array of all matches\n",
    "text.replace(pattern, \"#\") // => \"testing: #, #, #\"\n",
    "text.split(/\\D+/) // => [\"\",\"1\",\"2\",\"3\"]: split on nondigits"
   ]
  },
  {
   "cell_type": "markdown",
   "id": "572b99ee",
   "metadata": {},
   "source": [
    "## 3.4 Boolean Values"
   ]
  },
  {
   "cell_type": "markdown",
   "id": "a9159a7a",
   "metadata": {},
   "source": [
    "A boolean value represents truth or falsehood, on or off, yes or no. There are only two\n",
    "possible values of this type. The reserved words true and false evaluate to these two\n",
    "values."
   ]
  },
  {
   "cell_type": "markdown",
   "id": "24b89b53",
   "metadata": {},
   "source": [
    "Boolean values are generally the result of comparisons you make in your JavaScript\n",
    "programs. For example:"
   ]
  },
  {
   "cell_type": "code",
   "execution_count": 38,
   "id": "4385413a",
   "metadata": {},
   "outputs": [
    {
     "data": {
      "text/plain": [
       "false"
      ]
     },
     "execution_count": 38,
     "metadata": {},
     "output_type": "execute_result"
    }
   ],
   "source": [
    "a === 4"
   ]
  },
  {
   "cell_type": "markdown",
   "id": "1f4c462b",
   "metadata": {},
   "source": [
    "This code tests to see whether the value of the variable a is equal to the number 4. If it\n",
    "is, the result of this comparison is the boolean value true. If a is not equal to 4, the\n",
    "result of the comparison is false."
   ]
  },
  {
   "cell_type": "markdown",
   "id": "3e9b5ef7",
   "metadata": {},
   "source": [
    "Boolean values are commonly used in JavaScript control structures. For example, the\n",
    "if/else statement in JavaScript performs one action if a boolean value is true and\n",
    "another action if the value is false. You usually combine a comparison that creates a\n",
    "boolean value directly with a statement that uses it. The result looks like this:"
   ]
  },
  {
   "cell_type": "code",
   "execution_count": 37,
   "id": "66b08f12",
   "metadata": {},
   "outputs": [],
   "source": [
    "/*\n",
    "if (a === 4) {\n",
    "b = b + 1;\n",
    "} else {\n",
    "a = a + 1;\n",
    "}\n",
    "*/"
   ]
  },
  {
   "cell_type": "markdown",
   "id": "44138417",
   "metadata": {},
   "source": [
    "This code checks whether a equals 4. If so, it adds 1 to b; otherwise, it adds 1 to a.\n",
    "\n",
    "As we’ll discuss in §3.9, any JavaScript value can be converted to a boolean value. The\n",
    "following values convert to, and therefore work like, false:"
   ]
  },
  {
   "cell_type": "code",
   "execution_count": 36,
   "id": "e93d4129",
   "metadata": {},
   "outputs": [],
   "source": [
    "/*\n",
    "undefined\n",
    "null\n",
    "0\n",
    "-0\n",
    "NaN\n",
    "\"\" // the empty string\n",
    "*/"
   ]
  },
  {
   "cell_type": "markdown",
   "id": "9f047997",
   "metadata": {},
   "source": [
    "All other values, including all objects (and arrays) convert to, and work like, true.\n",
    "false, and the `six values` that convert to it, are sometimes called falsy values, and all\n",
    "other values are called truthy. Any time JavaScript expects a boolean value, a falsy\n",
    "value works like false and a truthy value works like true."
   ]
  },
  {
   "cell_type": "markdown",
   "id": "6991cd04",
   "metadata": {},
   "source": [
    "As an example, suppose that the variable o either holds an object or the value null.\n",
    "You can test explicitly to see if o is non-null with an if statement like this:"
   ]
  },
  {
   "cell_type": "code",
   "execution_count": 35,
   "id": "e21c8f7d",
   "metadata": {},
   "outputs": [
    {
     "ename": "SyntaxError",
     "evalue": "Unexpected end of input",
     "output_type": "error",
     "traceback": [
      "evalmachine.<anonymous>:1",
      "if (o !== null) ...",
      "                ^^^",
      "",
      "SyntaxError: Unexpected end of input",
      "    at new Script (vm.js:83:7)",
      "    at createScript (vm.js:277:10)",
      "    at Object.runInThisContext (vm.js:329:10)",
      "    at run ([eval]:1054:15)",
      "    at onRunRequest ([eval]:888:18)",
      "    at onMessage ([eval]:848:13)",
      "    at process.emit (events.js:198:13)",
      "    at emit (internal/child_process.js:832:12)",
      "    at process._tickCallback (internal/process/next_tick.js:63:19)"
     ]
    }
   ],
   "source": [
    "if (o !== null) ..."
   ]
  },
  {
   "cell_type": "markdown",
   "id": "6ad7c427",
   "metadata": {},
   "source": [
    "The not-equal operator !== compares o to null and evaluates to either true or false.\n",
    "But you can omit the comparison and instead rely on the fact that null is falsy and\n",
    "objects are truthy:"
   ]
  },
  {
   "cell_type": "code",
   "execution_count": 34,
   "id": "fc80dd15",
   "metadata": {},
   "outputs": [
    {
     "ename": "SyntaxError",
     "evalue": "Unexpected end of input",
     "output_type": "error",
     "traceback": [
      "evalmachine.<anonymous>:1",
      "if (o) ...",
      "       ^^^",
      "",
      "SyntaxError: Unexpected end of input",
      "    at new Script (vm.js:83:7)",
      "    at createScript (vm.js:277:10)",
      "    at Object.runInThisContext (vm.js:329:10)",
      "    at run ([eval]:1054:15)",
      "    at onRunRequest ([eval]:888:18)",
      "    at onMessage ([eval]:848:13)",
      "    at process.emit (events.js:198:13)",
      "    at emit (internal/child_process.js:832:12)",
      "    at process._tickCallback (internal/process/next_tick.js:63:19)"
     ]
    }
   ],
   "source": [
    "if (o) ..."
   ]
  },
  {
   "cell_type": "markdown",
   "id": "375ceee7",
   "metadata": {},
   "source": [
    "In the first case, the body of the if will be executed only if o is not null. The second\n",
    "case is less strict: it will execute the body of the if only if o is not false or any falsy\n",
    "value (such as null or undefined). Which if statement is appropriate for your program\n",
    "really depends on what values you expect to be assigned to o. If you need to\n",
    "distinguish null from 0 and \"\", then you should use an explicit comparison."
   ]
  },
  {
   "cell_type": "markdown",
   "id": "c9ed7829",
   "metadata": {},
   "source": [
    "Boolean values have a toString() method that you can use to convert them to the\n",
    "strings “true” or “false”, but they do not have any other useful methods. Despite the\n",
    "trivial API, there are three important boolean operators."
   ]
  },
  {
   "cell_type": "markdown",
   "id": "f7951113",
   "metadata": {},
   "source": [
    "The && operator performs the Boolean AND operation. It evaluates to a truthy value\n",
    "if and only if both of its operands are truthy; it evaluates to a falsy value otherwise.\n",
    "The || operator is the Boolean OR operation: it evaluates to a truthy value if either\n",
    "one (or both) of its operands is truthy and evaluates to a falsy value if both operands\n",
    "are falsy. Finally, the unary ! operator performs the Boolean NOT operation: it evaluates\n",
    "to true if its operand is falsy and evaluates to false if its operand is truthy. For\n",
    "example:"
   ]
  },
  {
   "cell_type": "code",
   "execution_count": 33,
   "id": "a020cc8d",
   "metadata": {},
   "outputs": [],
   "source": [
    "if ((x === 0 && y === 0) || !(z === 0)) {\n",
    "// x and y are both zero or z is non-zero\n",
    "}"
   ]
  },
  {
   "cell_type": "markdown",
   "id": "bc299312",
   "metadata": {},
   "source": [
    "Full details on these operators are in §4.10."
   ]
  },
  {
   "cell_type": "markdown",
   "id": "38e2b737",
   "metadata": {},
   "source": [
    "## 3.5 null and undefined"
   ]
  },
  {
   "cell_type": "markdown",
   "id": "aa7c37c8",
   "metadata": {},
   "source": [
    "null is a language keyword that evaluates to a special value that is usually used to\n",
    "indicate the absence of a value. Using the typeof operator on null returns the string\n",
    "“object”, indicating that null can be thought of as a special object value that indicates\n",
    "`“no object”`. In practice, however, null is typically regarded as the sole member of its\n",
    "own type, and it can be used to indicate “no value” for numbers and strings as well as\n",
    "objects. Most programming languages have an equivalent to JavaScript’s null: you\n",
    "may be familiar with it as NULL, nil, or None."
   ]
  },
  {
   "cell_type": "markdown",
   "id": "26b1a964",
   "metadata": {},
   "source": [
    "JavaScript also has a second value that indicates absence of value. The undefined\n",
    "value represents a deeper kind of absence. It is the value of variables that `have not been initialized` and the value you get when you query `the value of an object property or array element that does not exist`. The undefined value is also `the return value of functions that do not explicitly return a value` and `the value of function parameters for which no argument is passed`. `undefined is a predefined global constant (not a language keyword like null, though this is not an important distinction in practice) that is initialized to the undefined value`. If you apply the typeof operator to the undefined value, it returns “undefined”, indicating that this value is the sole member of a special type."
   ]
  },
  {
   "cell_type": "markdown",
   "id": "94a43e80",
   "metadata": {},
   "source": [
    "Despite these differences, null and undefined both indicate an absence of value and can often be used interchangeably. The equality operator == considers them to be equal. (Use the strict equality operator === to distinguish them.) Both are falsy values: they behave like false when a boolean value is required. Neither null nor undefined have any properties or methods. In fact, using . or [ ] to access a property or method of these values causes a TypeError."
   ]
  },
  {
   "cell_type": "markdown",
   "id": "1c962201",
   "metadata": {},
   "source": [
    "I consider `undefined` to represent a `system-level, unexpected, or error-like absence of value` and `null` to represent a `program-level, normal, or expected absence of value.` I avoid using null and undefined when I can, but if I need to assign one of these values to a variable or property or pass or return one of these values to or from a function, I usually use null. Some programmers strive to avoid null entirely and use undefined in its place wherever they can."
   ]
  },
  {
   "cell_type": "markdown",
   "id": "229f63e7",
   "metadata": {},
   "source": [
    "## 3.6 Symbols"
   ]
  },
  {
   "cell_type": "markdown",
   "id": "9e0d0651",
   "metadata": {},
   "source": [
    "Symbols were introduced in ES6 to serve as non-string property names. To understand\n",
    "Symbols, you need to know that JavaScript’s fundamental Object type is an\n",
    "unordered collection of properties, where each property has a name and a value.\n",
    "Property names are typically (and until ES6, were exclusively) strings. But in ES6 and\n",
    "later, Symbols can also serve this purpose:"
   ]
  },
  {
   "cell_type": "code",
   "execution_count": 32,
   "id": "da8b7340",
   "metadata": {},
   "outputs": [
    {
     "ename": "SyntaxError",
     "evalue": "Identifier 'o' has already been declared",
     "output_type": "error",
     "traceback": [
      "evalmachine.<anonymous>:1",
      "var strname = \"string name\"; // A string to use as a property name",
      "^",
      "",
      "SyntaxError: Identifier 'o' has already been declared",
      "    at evalmachine.<anonymous>:1:1",
      "    at Script.runInThisContext (vm.js:122:20)",
      "    at Object.runInThisContext (vm.js:329:38)",
      "    at run ([eval]:1054:15)",
      "    at onRunRequest ([eval]:888:18)",
      "    at onMessage ([eval]:848:13)",
      "    at process.emit (events.js:198:13)",
      "    at emit (internal/child_process.js:832:12)",
      "    at process._tickCallback (internal/process/next_tick.js:63:19)"
     ]
    }
   ],
   "source": [
    "var strname = \"string name\"; // A string to use as a property name\n",
    "var symname = Symbol(\"propname\"); // A Symbol to use as a property name\n",
    "console.log(typeof strname)   // => \"string\": strname is a string\n",
    "console.log(strname)\n",
    "console.log(typeof symname)   // => \"symbol\": symname is a symbol\n",
    "console.log(symname)\n",
    "let o = {}; // Create a new object\n",
    "o[strname] = 1; // Define a property with a string name\n",
    "o[symname] = 2; // Define a property with a Symbol name\n",
    "o[symname] = 3// => 2: access the symbol-named property\n",
    "console.log(o)"
   ]
  },
  {
   "cell_type": "markdown",
   "id": "1957b1a5",
   "metadata": {},
   "source": [
    "The Symbol type does not have a literal syntax. To obtain a Symbol value, you call the\n",
    "Symbol() function. `This function never returns the same value twice, even when\n",
    "called with the same argument`. This means that if you call Symbol() to obtain a Symbol\n",
    "value, you can safely use that value as a property name to add a new property to\n",
    "an object and do not need to worry that you might be overwriting an existing property\n",
    "with the same name. Similarly, if you use symbolic property names and do not\n",
    "share those symbols, you can be confident that other modules of code in your program\n",
    "will not accidentally overwrite your properties."
   ]
  },
  {
   "cell_type": "markdown",
   "id": "e78f5247",
   "metadata": {},
   "source": [
    "In practice, Symbols serve as a language extension mechanism. When ES6 introduced\n",
    "the for/of loop (§5.4.4) and iterable objects (Chapter 12), it needed to define standard\n",
    "method that classes could implement to make themselves iterable. But standardizing\n",
    "any particular string name for this iterator method would have broken existing\n",
    "code, so a symbolic name was used instead. As we’ll see in Chapter 12, Symbol.iterator is a Symbol value that can be used as a method name to make an object iterable."
   ]
  },
  {
   "cell_type": "markdown",
   "id": "674c8aac",
   "metadata": {},
   "source": [
    "The Symbol() function takes an optional string argument and returns a unique Symbol\n",
    "value. If you supply a string argument, that string will be included in the output of the Symbol’s toString() method. Note, however, that calling Symbol() twice with\n",
    "the same string produces two completely different Symbol values."
   ]
  },
  {
   "cell_type": "code",
   "execution_count": 31,
   "id": "743da8e5",
   "metadata": {},
   "outputs": [],
   "source": [
    "// let s = Symbol(\"sym_x\");\n",
    "//s.toString() // => \"Symbol(sym_x)\""
   ]
  },
  {
   "cell_type": "markdown",
   "id": "6e4bf14d",
   "metadata": {},
   "source": [
    "toString() is the only interesting method of Symbol instances. There are two other\n",
    "Symbol-related functions you should know about, however. Sometimes when using\n",
    "Symbols, you want to keep them private to your own code so you have a guarantee\n",
    "that your properties will never conflict with properties used by other code. Other\n",
    "times, however, you might want to define a Symbol value and share it widely with\n",
    "other code. This would be the case, for example, if you were defining some kind of\n",
    "extension that you wanted other code to be able to participate in, as with the\n",
    "Symbol.iterator mechanism described earlier."
   ]
  },
  {
   "cell_type": "markdown",
   "id": "dc47f295",
   "metadata": {},
   "source": [
    "To serve this latter use case, JavaScript defines a global Symbol registry. The\n",
    "Symbol.for() function takes a string argument and returns a Symbol value that is\n",
    "associated with the string you pass. If no Symbol is already associated with that string,\n",
    "then a new one is created and returned; otherwise, the already existing Symbol is\n",
    "returned. That is, the Symbol.for() function is completely different than the Sym\n",
    "bol() function: Symbol() never returns the same value twice, but Symbol.for()\n",
    "always returns the same value when called with the same string. The string passed to\n",
    "Symbol.for() appears in the output of toString() for the returned Symbol, and it\n",
    "can also be retrieved by calling Symbol.keyFor() on the returned Symbol."
   ]
  },
  {
   "cell_type": "code",
   "execution_count": 29,
   "id": "eb3e8cf5",
   "metadata": {},
   "outputs": [],
   "source": [
    "/* \n",
    "let s = Symbol.for(\"shared\");\n",
    "let t = Symbol.for(\"shared\");\n",
    "s === t // => true\n",
    "s.toString() // => \"Symbol(shared)\"\n",
    "Symbol.keyFor(t) // => \"shared\"\n",
    "*/"
   ]
  },
  {
   "cell_type": "markdown",
   "id": "0147c1ac",
   "metadata": {},
   "source": [
    "## 3.7 The Global Object"
   ]
  },
  {
   "cell_type": "markdown",
   "id": "49454e0f",
   "metadata": {},
   "source": [
    "The preceding sections have explained JavaScript’s primitive types and values. Object\n",
    "types—objects, arrays, and functions—are covered in chapters of their own later in\n",
    "this book. But there is one very important object value that we must cover now. The\n",
    "global object is a regular JavaScript object that serves a very important purpose: the\n",
    "properties of this object are the globally defined identifiers that are available to a Java‐\n",
    "Script program. When the JavaScript interpreter starts (or whenever a web browser\n",
    "loads a new page), it creates a new global object and gives it an initial set of properties\n",
    "that define:"
   ]
  },
  {
   "cell_type": "markdown",
   "id": "57595a2a",
   "metadata": {},
   "source": [
    "- Global constants like undefined, Infinity, and NaN\n",
    "- Global functions like isNaN(), parseInt() (§3.9.2), and eval() (§4.12)\n",
    "- Constructor functions like Date(), RegExp(), String(), Object(), and Array()\n",
    "(§3.9.2)\n",
    "- Global objects like Math and JSON (§6.8)"
   ]
  },
  {
   "cell_type": "markdown",
   "id": "4c35a41f",
   "metadata": {},
   "source": [
    "The initial properties of the global object are not reserved words, but they deserve to\n",
    "be treated as if they are. This chapter has already described some of these global properties.\n",
    "Most of the others will be covered elsewhere in this book."
   ]
  },
  {
   "cell_type": "markdown",
   "id": "f8b777d4",
   "metadata": {},
   "source": [
    "In Node, the global object has a property named global whose value is the global\n",
    "object itself, so you can always refer to the global object by the name global in Node\n",
    "programs."
   ]
  },
  {
   "cell_type": "markdown",
   "id": "d5226a7a",
   "metadata": {},
   "source": [
    "In web browsers, the Window object serves as the global object for all JavaScript code\n",
    "contained in the browser window it represents. This global Window object has a selfreferential\n",
    "window property that can be used to refer to the global object. The Window\n",
    "object defines the core global properties, but it also defines quite a few other\n",
    "globals that are specific to web browsers and client-side JavaScript. Web worker\n",
    "threads (§15.13) have a different global object than the Window with which they are\n",
    "associated. Code in a worker can refer to its global object as self."
   ]
  },
  {
   "cell_type": "markdown",
   "id": "030b2672",
   "metadata": {},
   "source": [
    "ES2020 finally defines globalThis as the standard way to refer to the global object in\n",
    "any context. As of early 2020, this feature has been implemented by all modern\n",
    "browsers and by Node."
   ]
  },
  {
   "cell_type": "markdown",
   "id": "459335e7",
   "metadata": {},
   "source": [
    "## 3.8 Immutable Primitive Values and Mutable Object References"
   ]
  },
  {
   "cell_type": "markdown",
   "id": "11efa050",
   "metadata": {},
   "source": [
    "There is a fundamental difference in JavaScript between primitive values (undefined,\n",
    "null, booleans, numbers, and strings) and objects (including arrays and functions).\n",
    "Primitives are immutable: there is no way to change (or “mutate”) a primitive value.\n",
    "This is obvious for numbers and booleans—it doesn’t even make sense to change the\n",
    "value of a number. It is not so obvious for strings, however. Since strings are like\n",
    "arrays of characters, you might expect to be able to alter the character at any specified\n",
    "index. In fact, JavaScript does not allow this, and all string methods that appear to\n",
    "return a modified string are, in fact, returning a new string value. For example:"
   ]
  },
  {
   "cell_type": "code",
   "execution_count": 28,
   "id": "d067a315",
   "metadata": {},
   "outputs": [],
   "source": [
    "/*\n",
    "let s = \"hello\"; // Start with some lowercase text\n",
    "s.toUpperCase(); // Returns \"HELLO\", but doesn't alter s\n",
    "s // => \"hello\": the original string has not changed\n",
    "    \n",
    "*/"
   ]
  },
  {
   "cell_type": "markdown",
   "id": "5b3e98ca",
   "metadata": {},
   "source": [
    "Primitives are also compared by value: two values are the same only if they have the\n",
    "same value. This sounds circular for numbers, booleans, null, and undefined: there\n",
    "is no other way that they could be compared. Again, however, it is not so obvious for\n",
    "strings. If two distinct string values are compared, JavaScript treats them as equal if,\n",
    "and only if, they have the same length and if the character at each index is the same."
   ]
  },
  {
   "cell_type": "markdown",
   "id": "c3e47b62",
   "metadata": {},
   "source": [
    "Objects are different than primitives. First, they are mutable—their values can\n",
    "change:"
   ]
  },
  {
   "cell_type": "code",
   "execution_count": 27,
   "id": "b819b7c9",
   "metadata": {},
   "outputs": [],
   "source": [
    "/*\n",
    "let o = { x: 1 }; // Start with an object\n",
    "o.x = 2; // Mutate it by changing the value of a property\n",
    "o.y = 3; // Mutate it again by adding a new property\n",
    "\n",
    "\n",
    "let a = [1,2,3]; // Arrays are also mutable\n",
    "a[0] = 0; // Change the value of an array element\n",
    "a[3] = 4; // Add a new array element\n",
    "*/"
   ]
  },
  {
   "cell_type": "markdown",
   "id": "95fa9d19",
   "metadata": {},
   "source": [
    "Objects are not compared by value: two distinct objects are not equal even if they\n",
    "have the same properties and values. And two distinct arrays are not equal even if\n",
    "they have the same elements in the same order:"
   ]
  },
  {
   "cell_type": "code",
   "execution_count": 26,
   "id": "f8442ea9",
   "metadata": {},
   "outputs": [
    {
     "name": "stdout",
     "output_type": "stream",
     "text": [
      "false\n",
      "false\n",
      "false\n",
      "false\n"
     ]
    }
   ],
   "source": [
    "var o = {x: 1}, p = {x: 1}\n",
    "console.log(o == p)\n",
    "console.log(o === p)\n",
    "\n",
    "var a = [], b = [];\n",
    "console.log(a == b)\n",
    "console.log(a === b)"
   ]
  },
  {
   "cell_type": "markdown",
   "id": "a7f7f36a",
   "metadata": {},
   "source": [
    "Objects are sometimes called `reference types` to distinguish them from JavaScript’s\n",
    "primitive types. Using this terminology, object values are `references`, and we say that\n",
    "objects are `compared by reference`: `two object values are the same if and only if they\n",
    "refer to the same underlying object`."
   ]
  },
  {
   "cell_type": "code",
   "execution_count": 25,
   "id": "c9d6a3d2",
   "metadata": {},
   "outputs": [
    {
     "name": "stdout",
     "output_type": "stream",
     "text": [
      "1\n",
      "true\n",
      "true\n"
     ]
    }
   ],
   "source": [
    "var a =[]\n",
    "var b = a;\n",
    "b[0] = 1;\n",
    "console.log(a[0])\n",
    "console.log(a === b)\n",
    "console.log(a == b)"
   ]
  },
  {
   "cell_type": "markdown",
   "id": "2fde84e1",
   "metadata": {},
   "source": [
    "As you can see from this code, assigning an object (or array) to a variable simply\n",
    "assigns the reference: it does not create a new copy of the object. If you want to make\n",
    "a new copy of an object or array, you must explicitly copy the properties of the object\n",
    "or the elements of the array. This example demonstrates using a for loop (§5.4.3):"
   ]
  },
  {
   "cell_type": "code",
   "execution_count": 24,
   "id": "3ecdb11c",
   "metadata": {},
   "outputs": [
    {
     "data": {
      "text/plain": [
       "'c'"
      ]
     },
     "execution_count": 24,
     "metadata": {},
     "output_type": "execute_result"
    }
   ],
   "source": [
    "var a = [\"a\", \"b\", \"c\"];\n",
    "var b = [];\n",
    "for(let i = 0; i < a.length; i++){\n",
    "    b[i] = a[i];\n",
    "}\n",
    "var c = Array.from(b);"
   ]
  },
  {
   "cell_type": "markdown",
   "id": "b212b6f9",
   "metadata": {},
   "source": [
    "Similarly, if we want to compare two distinct objects or arrays, we must compare their\n",
    "properties or elements. This code defines a function to compare two arrays:"
   ]
  },
  {
   "cell_type": "code",
   "execution_count": 23,
   "id": "d1599245",
   "metadata": {},
   "outputs": [],
   "source": [
    "function equalArrays(a, b) {\n",
    "    if (a === b) return true; // Identical arrays are equal\n",
    "    if (a.length !== b.length) return false; // Different-size arrays not equal\n",
    "    for(let i = 0; i < a.length; i++) { // Loop through all elements\n",
    "        if (a[i] !== b[i]) return false; // If any differ, arrays not equal\n",
    "    }\n",
    "    return true; // Otherwise they are equal\n",
    "    }"
   ]
  },
  {
   "cell_type": "markdown",
   "id": "0dbdbdba",
   "metadata": {},
   "source": [
    "## 3.9 Type Conversions"
   ]
  },
  {
   "cell_type": "markdown",
   "id": "df6a5a2b",
   "metadata": {},
   "source": [
    "JavaScript is very flexible about the types of values it requires. We’ve seen this for\n",
    "booleans: when JavaScript expects a boolean value, you may supply a value of any\n",
    "type, and JavaScript will convert it as needed. Some values (“truthy” values) convert\n",
    "to true and others (“falsy” values) convert to false. The same is true for other types:\n",
    "if JavaScript wants a string, it will convert whatever value you give it to a string. If\n",
    "JavaScript wants a number, it will try to convert the value you give it to a number (or\n",
    "to NaN if it cannot perform a meaningful conversion)."
   ]
  },
  {
   "cell_type": "markdown",
   "id": "ce351b46",
   "metadata": {},
   "source": [
    "Some examples:"
   ]
  },
  {
   "cell_type": "code",
   "execution_count": 119,
   "id": "ff31b99f",
   "metadata": {},
   "outputs": [
    {
     "data": {
      "application/javascript": [
       "/*\n",
       "10 + \" objects\" // => \"10 objects\": Number 10 converts to a string\n",
       "\"7\" * \"4\" // => 28: both strings convert to numbers\n",
       "let n = 1 - \"x\"; // n == NaN; string \"x\" can't convert to a number\n",
       "n + \" objects\" // => \"NaN objects\": NaN converts to string \"NaN\"\n",
       "*/\n"
      ],
      "text/plain": [
       "<IPython.core.display.Javascript object>"
      ]
     },
     "metadata": {},
     "output_type": "display_data"
    }
   ],
   "source": [
    "/*\n",
    "10 + \" objects\" // => \"10 objects\": Number 10 converts to a string\n",
    "\"7\" * \"4\" // => 28: both strings convert to numbers\n",
    "let n = 1 - \"x\"; // n == NaN; string \"x\" can't convert to a number\n",
    "n + \" objects\" // => \"NaN objects\": NaN converts to string \"NaN\"\n",
    "*/"
   ]
  },
  {
   "cell_type": "markdown",
   "id": "c61c011e",
   "metadata": {},
   "source": [
    "Table 3-2 summarizes how values convert from one type to another in JavaScript.\n",
    "Bold entries in the table highlight conversions that you may find surprising. Empty\n",
    "cells indicate that no conversion is necessary and none is performed."
   ]
  },
  {
   "cell_type": "markdown",
   "id": "67a3a44f",
   "metadata": {},
   "source": [
    "<table>\n",
    "    <tr>\n",
    "        <th>value</th>\n",
    "        <th>to String</th>\n",
    "        <th>to Number</th>\n",
    "        <th>to Boolean</th>\n",
    "    </tr>\n",
    "    <tr>\n",
    "        <td>undefined</td>\n",
    "        <td>\"undefined\"</td>\n",
    "        <td>NaN</td>\n",
    "        <td>false</td>\n",
    "    </tr>\n",
    "    <tr>\n",
    "        <td>null</td>\n",
    "        <td>\"null\"</td>\n",
    "        <td>0</td>\n",
    "        <td>false</td>\n",
    "    </tr>\n",
    "        <tr>\n",
    "        <td>true</td>\n",
    "        <td>\"true\"</td>\n",
    "        <td>1</td>\n",
    "        <td></td>\n",
    "    </tr>\n",
    "    <tr>\n",
    "        <td>false</td>\n",
    "        <td>\"false\"</td>\n",
    "        <td>0</td>\n",
    "        <td></td>\n",
    "    </tr>\n",
    "    <tr>\n",
    "        <td>\"\" (empty string)</td>\n",
    "        <td></td>\n",
    "        <td>0</td>\n",
    "        <td>false</td>\n",
    "    </tr>\n",
    "    <tr>\n",
    "        <td>\"1.2\" (nonempty, numeric)</td>\n",
    "        <td></td>\n",
    "        <td>1.2</td>\n",
    "        <td>true</td>\n",
    "    </tr>\n",
    "    <tr>\n",
    "        <td>\"one\" (nonempty, non-numeric)</td>\n",
    "        <td></td>\n",
    "        <td>NaN</td>\n",
    "        <td>true</td>\n",
    "    </tr>\n",
    "    <tr>\n",
    "        <td>0</td>\n",
    "        <td>\"0\"</td>\n",
    "        <td></td>\n",
    "        <td>false</td>\n",
    "    </tr>\n",
    "</table>"
   ]
  },
  {
   "cell_type": "markdown",
   "id": "801545b1",
   "metadata": {},
   "source": [
    "The primitive-to-primitive conversions shown in the table are relatively straightforward.\n",
    "Conversion to boolean was already discussed in §3.4. Conversion to strings is\n",
    "well defined for all primitive values. Conversion to numbers is just a little trickier.\n",
    "Strings that can be parsed as numbers convert to those numbers. Leading and trailing\n",
    "spaces are allowed, but any leading or trailing nonspace characters that are not part of\n",
    "a numeric literal cause the string-to-number conversion to produce NaN. Some\n",
    "numeric conversions may seem surprising: true converts to 1, and false and the\n",
    "empty string convert to 0."
   ]
  },
  {
   "cell_type": "markdown",
   "id": "2558c71c",
   "metadata": {},
   "source": [
    "Object-to-primitive conversion is somewhat more complicated, and it is the subject\n",
    "of §3.9.3."
   ]
  },
  {
   "cell_type": "markdown",
   "id": "dab4d455",
   "metadata": {},
   "source": [
    "## 3.9.1 Conversions and Equality"
   ]
  },
  {
   "cell_type": "markdown",
   "id": "1ac2345b",
   "metadata": {},
   "source": [
    "JavaScript has two operators that test whether two values are equal. The “strict equality\n",
    "operator,” ===, does not consider its operands to be equal if they are not of the\n",
    "same type, and this is almost always the right operator to use when coding. But\n",
    "because JavaScript is so flexible with type conversions, it also defines the == operator\n",
    "with a flexible definition of equality. All of the following comparisons are true, for\n",
    "example:"
   ]
  },
  {
   "cell_type": "code",
   "execution_count": 22,
   "id": "009b3167",
   "metadata": {},
   "outputs": [
    {
     "data": {
      "text/plain": [
       "true"
      ]
     },
     "execution_count": 22,
     "metadata": {},
     "output_type": "execute_result"
    }
   ],
   "source": [
    "null == undefined // => true: These two values are treated as equal.\n",
    "\"0\" == 0 // => true: String converts to a number before comparing.\n",
    "0 == false // => true: Boolean converts to number before comparing.\n",
    "\"0\" == false // => true: Both operands convert to 0 before comparing!"
   ]
  },
  {
   "cell_type": "markdown",
   "id": "6e165b15",
   "metadata": {},
   "source": [
    "§4.9.1 explains exactly what conversions are performed by the == operator in order to\n",
    "determine whether two values should be considered equal."
   ]
  },
  {
   "cell_type": "markdown",
   "id": "8abc77ad",
   "metadata": {},
   "source": [
    "Keep in mind that convertibility of one value to another does not imply equality of\n",
    "those two values. If undefined is used where a boolean value is expected, for example,\n",
    "it will convert to false. But this does not mean that undefined == false. JavaScript\n",
    "operators and statements expect values of various types and perform conversions to\n",
    "those types. The if statement converts undefined to false, but the == operator never\n",
    "attempts to convert its operands to booleans."
   ]
  },
  {
   "cell_type": "markdown",
   "id": "866c411d",
   "metadata": {},
   "source": [
    "## 3.9.2 Explicit Conversions"
   ]
  },
  {
   "cell_type": "markdown",
   "id": "81650442",
   "metadata": {},
   "source": [
    "Although JavaScript performs many type conversions automatically, you may sometimes\n",
    "need to perform an explicit conversion, or you may prefer to make the conversions\n",
    "explicit to keep your code clearer."
   ]
  },
  {
   "cell_type": "markdown",
   "id": "6ed902b3",
   "metadata": {},
   "source": [
    "The simplest way to perform an explicit type conversion is to use the Boolean(), Num\n",
    "ber(), and String() functions:"
   ]
  },
  {
   "cell_type": "code",
   "execution_count": 21,
   "id": "65f47d13",
   "metadata": {},
   "outputs": [
    {
     "data": {
      "text/plain": [
       "true"
      ]
     },
     "execution_count": 21,
     "metadata": {},
     "output_type": "execute_result"
    }
   ],
   "source": [
    "Number(\"3\") // => 3\n",
    "String(false) // => \"false\": Or use false.toString()\n",
    "Boolean([]) // => true"
   ]
  },
  {
   "cell_type": "markdown",
   "id": "f15dff25",
   "metadata": {},
   "source": [
    "Any value other than null or undefined has a toString() method, and the result of\n",
    "this method is usually the same as that returned by the String() function."
   ]
  },
  {
   "cell_type": "markdown",
   "id": "9efd438f",
   "metadata": {},
   "source": [
    "As an aside, note that the Boolean(), Number(), and String() functions can also be\n",
    "invoked—with new—as constructor. If you use them this way, you’ll get a “wrapper”\n",
    "object that behaves just like a primitive boolean, number, or string value. These wrapper\n",
    "objects are a historical leftover from the earliest days of JavaScript, and there is\n",
    "never really any good reason to use them."
   ]
  },
  {
   "cell_type": "markdown",
   "id": "e1b4e457",
   "metadata": {},
   "source": [
    "Certain JavaScript operators perform implicit type conversions and are sometimes\n",
    "used explicitly for the purpose of type conversion. If one operand of the + operator is\n",
    "a string, it converts the other one to a string. The unary + operator converts its\n",
    "operand to a number. And the unary ! operator converts its operand to a boolean\n",
    "and negates it. These facts lead to the following type conversion idioms that you may\n",
    "see in some code:"
   ]
  },
  {
   "cell_type": "code",
   "execution_count": 20,
   "id": "c9b49cf6",
   "metadata": {},
   "outputs": [
    {
     "ename": "TypeError",
     "evalue": "Cannot mix BigInt and other types, use explicit conversions",
     "output_type": "error",
     "traceback": [
      "evalmachine.<anonymous>:3",
      "x-0 // => Number(x)",
      " ^",
      "",
      "TypeError: Cannot mix BigInt and other types, use explicit conversions",
      "    at evalmachine.<anonymous>:3:2",
      "    at Script.runInThisContext (vm.js:122:20)",
      "    at Object.runInThisContext (vm.js:329:38)",
      "    at run ([eval]:1054:15)",
      "    at onRunRequest ([eval]:888:18)",
      "    at onMessage ([eval]:848:13)",
      "    at process.emit (events.js:198:13)",
      "    at emit (internal/child_process.js:832:12)",
      "    at process._tickCallback (internal/process/next_tick.js:63:19)"
     ]
    }
   ],
   "source": [
    "x + \"\" // => String(x)\n",
    "+x // => Number(x)\n",
    "x-0 // => Number(x)\n",
    "!!x // => Boolean(x): Note double !"
   ]
  },
  {
   "cell_type": "markdown",
   "id": "9a57c83f",
   "metadata": {},
   "source": [
    "Formatting and parsing numbers are common tasks in computer programs, and Java‐\n",
    "Script has specialized functions and methods that provide more precise control over\n",
    "number-to-string and string-to-number conversions."
   ]
  },
  {
   "cell_type": "markdown",
   "id": "530051ca",
   "metadata": {},
   "source": [
    "The toString() method defined by the Number class accepts an optional argument\n",
    "that specifies a radix, or base, for the conversion. If you do not specify the argument,\n",
    "the conversion is done in base 10. However, you can also convert numbers in other\n",
    "bases (between 2 and 36). For example:"
   ]
  },
  {
   "cell_type": "code",
   "execution_count": 19,
   "id": "7a066143",
   "metadata": {},
   "outputs": [],
   "source": [
    "let n = 17;\n",
    "let binary = \"0b\" + n.toString(2); // binary == \"0b10001\"\n",
    "let octal = \"0o\" + n.toString(8); // octal == \"0o21\"\n",
    "let hex = \"0x\" + n.toString(16); // hex == \"0x11\""
   ]
  },
  {
   "cell_type": "markdown",
   "id": "9c6d19e4",
   "metadata": {},
   "source": [
    "When working with financial or scientific data, you may want to convert numbers to\n",
    "strings in ways that give you control over the number of decimal places or the number\n",
    "of significant digits in the output, or you may want to control whether exponential\n",
    "notation is used. The Number class defines three methods for these kinds of\n",
    "number-to-string conversions. toFixed() converts a number to a string with a specified\n",
    "number of digits after the decimal point. It never uses exponential notation.\n",
    "toExponential() converts a number to a string using exponential notation, with one digit before the decimal point and a specified number of digits after the decimal point\n",
    "(which means that the number of significant digits is one larger than the value you\n",
    "specify). toPrecision() converts a number to a string with the number of significant\n",
    "digits you specify. It uses exponential notation if the number of significant digits is\n",
    "not large enough to display the entire integer portion of the number. Note that all\n",
    "three methods round the trailing digits or pad with zeros as appropriate. Consider the\n",
    "following examples:"
   ]
  },
  {
   "cell_type": "code",
   "execution_count": 1,
   "id": "c966cff1",
   "metadata": {},
   "outputs": [
    {
     "data": {
      "text/plain": [
       "'123456.7890'"
      ]
     },
     "execution_count": 1,
     "metadata": {},
     "output_type": "execute_result"
    }
   ],
   "source": [
    "let n = 123456.789;\n",
    "n.toFixed(0) // => \"123457\"\n",
    "n.toFixed(2) // => \"123456.79\"\n",
    "n.toFixed(5) // => \"123456.78900\"\n",
    "n.toExponential(1) // => \"1.2e+5\"\n",
    "n.toExponential(3) // => \"1.235e+5\"\n",
    "n.toPrecision(4) // => \"1.235e+5\"\n",
    "n.toPrecision(7) // => \"123456.8\"\n",
    "n.toPrecision(10) // => \"123456.7890\""
   ]
  },
  {
   "cell_type": "markdown",
   "id": "d432fdf9",
   "metadata": {},
   "source": [
    "In addition to the number-formatting methods shown here, the Intl.NumberFormat\n",
    "class defines a more general, internationalized number-formatting method. See\n",
    "§11.7.1 for details."
   ]
  },
  {
   "cell_type": "markdown",
   "id": "a0ba3c9f",
   "metadata": {},
   "source": [
    "If you pass a string to the `Number()` conversion function, it attempts to parse that\n",
    "`string` as an integer or floating-point literal. That function only works for base-10\n",
    "integers and does not allow trailing characters that are not part of the literal. The\n",
    "`parseInt() and parseFloat()` functions (these are global functions, not methods of\n",
    "any class) are more flexible. parseInt() parses only integers, while parseFloat()\n",
    "parses both integers and floating-point numbers. If a string begins with “0x” or “0X”,\n",
    "parseInt() interprets it as a hexadecimal number. Both parseInt() and parse\n",
    "Float() skip leading whitespace, parse as many numeric characters as they can, and\n",
    "ignore anything that follows. `If the first nonspace character is not part of a valid\n",
    "numeric literal, they return NaN:`"
   ]
  },
  {
   "cell_type": "code",
   "execution_count": 2,
   "id": "52705c7b",
   "metadata": {},
   "outputs": [
    {
     "data": {
      "text/plain": [
       "NaN"
      ]
     },
     "execution_count": 2,
     "metadata": {},
     "output_type": "execute_result"
    }
   ],
   "source": [
    "parseInt(\"3 blind mice\") // => 3\n",
    "parseFloat(\" 3.14 meters\") // => 3.14\n",
    "parseInt(\"-12.34\") // => -12\n",
    "parseInt(\"0xFF\") // => 255\n",
    "parseInt(\"0xff\") // => 255\n",
    "parseInt(\"-0XFF\") // => -255\n",
    "parseFloat(\".1\") // => 0.1\n",
    "parseInt(\"0.1\") // => 0\n",
    "parseInt(\".1\") // => NaN: integers can't start with \".\"\n",
    "parseFloat(\"$72.47\") // => NaN: numbers can't start with \"$\""
   ]
  },
  {
   "cell_type": "markdown",
   "id": "3906236b",
   "metadata": {},
   "source": [
    "`parseInt()` accepts an optional second argument specifying the radix (base) of the\n",
    "number to be parsed. Legal values are between 2 and 36. For example:"
   ]
  },
  {
   "cell_type": "code",
   "execution_count": 3,
   "id": "9af3d30d",
   "metadata": {},
   "outputs": [
    {
     "data": {
      "text/plain": [
       "77"
      ]
     },
     "execution_count": 3,
     "metadata": {},
     "output_type": "execute_result"
    }
   ],
   "source": [
    "parseInt(\"11\", 2) // => 3: (1*2 + 1)\n",
    "parseInt(\"ff\", 16) // => 255: (15*16 + 15)\n",
    "parseInt(\"zz\", 36) // => 1295: (35*36 + 35)\n",
    "parseInt(\"077\", 8) // => 63: (7*8 + 7)\n",
    "parseInt(\"077\", 10) // => 77: (7*10 + 7)"
   ]
  },
  {
   "cell_type": "markdown",
   "id": "4bf9b6a7",
   "metadata": {},
   "source": [
    "## 3.9.3 Object to Primitive Conversions\n",
    "The previous sections have explained how you can explicitly convert values of one\n",
    "type to another type and have explained JavaScript’s implicit conversions of values\n",
    "from one primitive type to another primitive type. This section covers the complicated\n",
    "rules that JavaScript uses to convert objects to primitive values. It is long and\n",
    "obscure, and if this is your first reading of this chapter, you should feel free to skip\n",
    "ahead to §3.10."
   ]
  },
  {
   "cell_type": "markdown",
   "id": "4f3472e7",
   "metadata": {},
   "source": [
    "One reason for the complexity of JavaScript’s object-to-primitive conversions is that\n",
    "some types of objects have more than one primitive representation. Date objects, for\n",
    "example, can be represented as strings or as numeric timestamps. The JavaScript\n",
    "specification defines three fundamental algorithms for converting objects to primitive\n",
    "values:"
   ]
  },
  {
   "cell_type": "markdown",
   "id": "2f2f15ec",
   "metadata": {},
   "source": [
    "#### prefer-string\n",
    "\n",
    "This algorithm returns a primitive value, preferring a string value, if a conversion\n",
    "to string is possible."
   ]
  },
  {
   "cell_type": "markdown",
   "id": "6565f7a2",
   "metadata": {},
   "source": [
    "#### prefer-number\n",
    "This algorithm returns a primitive value, preferring a number, if such a conversion\n",
    "is possible."
   ]
  },
  {
   "cell_type": "markdown",
   "id": "a1c749e5",
   "metadata": {},
   "source": [
    "#### no-preference\n",
    "This algorithm expresses no preference about what type of primitive value is\n",
    "desired, and classes can define their own conversions. Of the built-in JavaScript\n",
    "types, all except Date implement this algorithm as prefer-number. The Date class\n",
    "implements this algorithm as prefer-string."
   ]
  },
  {
   "cell_type": "markdown",
   "id": "3953ef8e",
   "metadata": {},
   "source": [
    "The implementation of these object-to-primitive conversion algorithms is explained\n",
    "at the end of this section. First, however, we explain how the algorithms are used in\n",
    "JavaScript."
   ]
  },
  {
   "cell_type": "markdown",
   "id": "5d794138",
   "metadata": {},
   "source": [
    "## Object-to-boolean conversions\n",
    "Object-to-boolean conversions are trivial: all objects convert to true. Notice that this\n",
    "conversion does not require the use of the object-to-primitive algorithms described,\n",
    "and that it literally applies to all objects, including empty arrays and even the wrapper\n",
    "object new Boolean(false)."
   ]
  },
  {
   "cell_type": "markdown",
   "id": "42fbee5a",
   "metadata": {},
   "source": [
    "## Object-to-string conversions\n",
    "When an object needs to be converted to a string, JavaScript first converts it to a\n",
    "primitive using the prefer-string algorithm, then converts the resulting primitive value\n",
    "to a string, if necessary, following the rules in Table 3-2.\n",
    "This kind of conversion happens, for example, if you pass an object to a built-in function\n",
    "that expects a string argument, if you call String() as a conversion function, and\n",
    "when you interpolate objects into template literals (§3.3.4)."
   ]
  },
  {
   "cell_type": "markdown",
   "id": "ab2523f4",
   "metadata": {},
   "source": [
    "## Object-to-number conversions\n",
    "When an object needs to be converted to a number, JavaScript first converts it to a\n",
    "primitive value using the prefer-number algorithm, then converts the resulting primitive\n",
    "value to a number, if necessary, following the rules in Table 3-2.\n",
    "Built-in JavaScript functions and methods that expect numeric arguments convert\n",
    "object arguments to numbers in this way, and most (see the exceptions that follow)\n",
    "JavaScript operators that expect numeric operands convert objects to numbers in this\n",
    "way as well."
   ]
  },
  {
   "cell_type": "code",
   "execution_count": 7,
   "id": "3d266e00",
   "metadata": {},
   "outputs": [],
   "source": [
    "//   ناقصصصصصصصصصصصصصصصصصصصصصصصصصصصصصصصصصصصصصصصصصصصصصصصص"
   ]
  },
  {
   "cell_type": "markdown",
   "id": "945ceb10",
   "metadata": {},
   "source": [
    "## 3.10 Variable Declaration and Assignment\n",
    "One of the most fundamental techniques of computer programming is the use of\n",
    "names—or identifiers—to represent values. Binding a name to a value gives us a way\n",
    "to refer to that value and use it in the programs we write. When we do this, we typically\n",
    "say that we are assigning a value to a variable. The term “variable” implies that\n",
    "new values can be assigned: that the value associated with the variable may vary as\n",
    "our program runs. If we permanently assign a value to a name, then we call that name\n",
    "a constant instead of a variable."
   ]
  },
  {
   "cell_type": "markdown",
   "id": "13dcb0c6",
   "metadata": {},
   "source": [
    "Before you can use a variable or constant in a JavaScript program, you must declare it.\n",
    "In ES6 and later, this is done with the let and const keywords, which we explain\n",
    "next. Prior to ES6, variables were declared with var, which is more idiosyncratic and\n",
    "is explained later on in this section."
   ]
  },
  {
   "cell_type": "markdown",
   "id": "b64aca81",
   "metadata": {},
   "source": [
    "## 3.10.1 Declarations with let and const\n",
    "In modern JavaScript (ES6 and later), variables are declared with the `let` keyword,\n",
    "like this:"
   ]
  },
  {
   "cell_type": "code",
   "execution_count": 8,
   "id": "67094360",
   "metadata": {},
   "outputs": [],
   "source": [
    "let i;\n",
    "let sum;"
   ]
  },
  {
   "cell_type": "markdown",
   "id": "eafa12e2",
   "metadata": {},
   "source": [
    "You can also declare multiple variables in a single let statement:"
   ]
  },
  {
   "cell_type": "code",
   "execution_count": 15,
   "id": "b7c33a5a",
   "metadata": {},
   "outputs": [],
   "source": [
    "let i1, sum1"
   ]
  },
  {
   "cell_type": "markdown",
   "id": "068b8a5d",
   "metadata": {},
   "source": [
    "It is a good programming practice to assign an initial value to your variables when\n",
    "you declare them, when this is possible:"
   ]
  },
  {
   "cell_type": "code",
   "execution_count": 17,
   "id": "4b119391",
   "metadata": {},
   "outputs": [],
   "source": [
    "let message = \"hello\";\n",
    "let i2 = 0, j = 0, k = 0;\n",
    "let x = 2, y = x*x; // Initializers can use previously declared variables"
   ]
  },
  {
   "cell_type": "markdown",
   "id": "0deca8e2",
   "metadata": {},
   "source": [
    "If you don’t specify an initial value for a variable with the let statement, the variable\n",
    "is declared, but its value is undefined until your code assigns a value to it."
   ]
  },
  {
   "cell_type": "markdown",
   "id": "6db13a32",
   "metadata": {},
   "source": [
    "To declare a constant instead of a variable, use const instead of let. const works just\n",
    "like let except that you must initialize the constant when you declare it:"
   ]
  },
  {
   "cell_type": "code",
   "execution_count": 18,
   "id": "266358fc",
   "metadata": {},
   "outputs": [],
   "source": [
    "const H0 = 74; // Hubble constant (km/s/Mpc)\n",
    "const C = 299792.458; // Speed of light in a vacuum (km/s)\n",
    "const AU = 1.496E8; // Astronomical Unit: distance to the sun (km)"
   ]
  },
  {
   "cell_type": "markdown",
   "id": "581f9c32",
   "metadata": {},
   "source": [
    "As the name implies, constants cannot have their values changed, and any attempt to\n",
    "do so causes a TypeError to be thrown."
   ]
  },
  {
   "cell_type": "code",
   "execution_count": 19,
   "id": "089b7b5f",
   "metadata": {},
   "outputs": [
    {
     "ename": "SyntaxError",
     "evalue": "Identifier 'H0' has already been declared",
     "output_type": "error",
     "traceback": [
      "evalmachine.<anonymous>:1",
      "const H0 = 2;",
      "^",
      "",
      "SyntaxError: Identifier 'H0' has already been declared",
      "    at evalmachine.<anonymous>:1:1",
      "    at Script.runInThisContext (vm.js:122:20)",
      "    at Object.runInThisContext (vm.js:329:38)",
      "    at run ([eval]:1054:15)",
      "    at onRunRequest ([eval]:888:18)",
      "    at onMessage ([eval]:848:13)",
      "    at process.emit (events.js:198:13)",
      "    at emit (internal/child_process.js:832:12)",
      "    at process._tickCallback (internal/process/next_tick.js:63:19)"
     ]
    }
   ],
   "source": [
    "const H0 = 2;"
   ]
  },
  {
   "cell_type": "markdown",
   "id": "6fd27c02",
   "metadata": {},
   "source": [
    "It is a common (but not universal) convention to declare constants using names with\n",
    "all capital letters such as H0 or HTTP_NOT_FOUND as a way to distinguish them from\n",
    "variables."
   ]
  },
  {
   "cell_type": "markdown",
   "id": "a2ef3d80",
   "metadata": {},
   "source": [
    ">  **When to Use const**\n",
    "\n",
    ">There are two schools of thought about the use of the const keyword.\n",
    "One approach is to use const only for values that are fundamentally\n",
    "unchanging, like the physical constants shown, or\n",
    "program version numbers, or byte sequences used to identify file\n",
    "types, for example. Another approach recognizes that many of the\n",
    "so-called variables in our program don’t actually ever change as our\n",
    "program runs. In this approach, we declare everything with const,\n",
    "and then if we find that we do actually want to allow the value to\n",
    "vary, we switch the declaration to let. This may help prevent bugs\n",
    "by ruling out accidental changes to variables that we did not\n",
    "intend.\n",
    "In one approach, we use const only for values that must not\n",
    "change. In the other, we use const for any value that does not happen\n",
    "to change. I prefer the former approach in my own code."
   ]
  },
  {
   "cell_type": "markdown",
   "id": "49402027",
   "metadata": {},
   "source": [
    "In Chapter 5, we’ll learn about the for, for/in, and for/of loop statements in Java‐\n",
    "Script. Each of these loops includes a loop variable that gets a new value assigned to it\n",
    "on each iteration of the loop. JavaScript allows us to declare the loop variable as part\n",
    "of the loop syntax itself, and this is another common way to use let:"
   ]
  },
  {
   "cell_type": "markdown",
   "id": "df3a0269",
   "metadata": {},
   "source": [
    "```python\n",
    "for(let i = 0, len = data.length; i < len; i++) console.log(data[i]);\n",
    "for(let datum of data) console.log(datum);\n",
    "for(let property in object) console.log(property);\n",
    "```"
   ]
  },
  {
   "cell_type": "markdown",
   "id": "be325b9d",
   "metadata": {},
   "source": [
    "It may seem surprising, but you can also use const to declare the loop “variables” for\n",
    "for/in and for/of loops, as long as the body of the loop does not reassign a new\n",
    "value. In this case, the const declaration is just saying that the value is constant for\n",
    "the duration of one loop iteration:"
   ]
  },
  {
   "cell_type": "markdown",
   "id": "1c71e011",
   "metadata": {},
   "source": [
    "```python\n",
    "for(const datum of data) console.log(datum);\n",
    "for(const property in object) console.log(property);\n",
    "```"
   ]
  },
  {
   "cell_type": "markdown",
   "id": "79dc0a69",
   "metadata": {},
   "source": [
    "## Variable and constant scope\n",
    "The scope of a variable is the region of your program source code in which it is\n",
    "defined. Variables and constants declared with let and const are block scoped. This\n",
    "means that they are only defined within the block of code in which the let or const\n",
    "statement appears. JavaScript class and function definitions are blocks, and so are the\n",
    "bodies of if/else statements, while loops, for loops, and so on. Roughly speaking, if\n",
    "a variable or constant is declared within a set of curly braces, then those curly braces\n",
    "delimit the region of code in which the variable or constant is defined (though of\n",
    "course it is not legal to reference a variable or constant from lines of code that execute\n",
    "before the let or const statement that declares the variable). Variables and constants declared as part of a for, for/in, or for/of loop have the loop body as their scope,\n",
    "even though they technically appear outside of the curly braces."
   ]
  },
  {
   "cell_type": "markdown",
   "id": "31ce5e1c",
   "metadata": {},
   "source": [
    "When a declaration appears at the top level, outside of any code blocks, we say it is a\n",
    "global variable or constant and has global scope. In Node and in client-side JavaScript\n",
    "modules (see Chapter 10), the scope of a global variable is the file that it is defined in.\n",
    "In traditional client-side JavaScript, however, the scope of a global variable is the\n",
    "HTML document in which it is defined. That is: if one `<script>` declares a global\n",
    "variable or constant, that variable or constant is defined in all of the `<script>` elements\n",
    "in that document (or at least all of the scripts that execute after the let or\n",
    "const statement executes)."
   ]
  },
  {
   "cell_type": "markdown",
   "id": "606a164b",
   "metadata": {},
   "source": [
    "## Repeated declarations\n",
    "It is a syntax error to use the same name with more than one let or const declaration\n",
    "in the same scope. It is legal (though a practice best avoided) to declare a new variable\n",
    "with the same name in a nested scope:"
   ]
  },
  {
   "cell_type": "code",
   "execution_count": 21,
   "id": "d7e4b6a7",
   "metadata": {},
   "outputs": [
    {
     "ename": "SyntaxError",
     "evalue": "Identifier 'x' has already been declared",
     "output_type": "error",
     "traceback": [
      "evalmachine.<anonymous>:7",
      "let x = 3; // ERROR! Syntax error trying to re-declare x",
      "    ^",
      "",
      "SyntaxError: Identifier 'x' has already been declared",
      "    at new Script (vm.js:83:7)",
      "    at createScript (vm.js:277:10)",
      "    at Object.runInThisContext (vm.js:329:10)",
      "    at run ([eval]:1054:15)",
      "    at onRunRequest ([eval]:888:18)",
      "    at onMessage ([eval]:848:13)",
      "    at process.emit (events.js:198:13)",
      "    at emit (internal/child_process.js:832:12)",
      "    at process._tickCallback (internal/process/next_tick.js:63:19)"
     ]
    }
   ],
   "source": [
    "const x = 1; // Declare x as a global constant\n",
    "if (x === 1) {\n",
    "let x = 2; // Inside a block x can refer to a different value\n",
    "console.log(x); // Prints 2\n",
    "}\n",
    "console.log(x); // Prints 1: we're back in the global scope now\n",
    "let x = 3; // ERROR! Syntax error trying to re-declare x"
   ]
  },
  {
   "cell_type": "markdown",
   "id": "d788a3b1",
   "metadata": {},
   "source": [
    "## Declarations and types\n",
    "If you’re used to statically typed languages such as C or Java, you may think that the\n",
    "primary purpose of variable declarations is to specify the type of values that may be\n",
    "assigned to a variable. But, as you have seen, there is no type associated with\n",
    "JavaScript’s variable declarations.2 A JavaScript variable can hold a value of any type.\n",
    "For example, it is perfectly legal (but generally poor programming style) in JavaScript\n",
    "to assign a number to a variable and then later assign a string to that variable:"
   ]
  },
  {
   "cell_type": "code",
   "execution_count": 23,
   "id": "7b63f994",
   "metadata": {},
   "outputs": [
    {
     "data": {
      "text/plain": [
       "'ten'"
      ]
     },
     "execution_count": 23,
     "metadata": {},
     "output_type": "execute_result"
    }
   ],
   "source": [
    "let i3 = 10;\n",
    "i3 = \"ten\";"
   ]
  },
  {
   "cell_type": "markdown",
   "id": "2da9aa92",
   "metadata": {},
   "source": [
    "## 3.10.2 Variable Declarations with var\n",
    "In versions of JavaScript before ES6, the only way to declare a variable is with the var\n",
    "keyword, and there is no way to declare constants. The syntax of var is just like the\n",
    "syntax of let:"
   ]
  },
  {
   "cell_type": "code",
   "execution_count": 25,
   "id": "b99cc019",
   "metadata": {},
   "outputs": [
    {
     "ename": "SyntaxError",
     "evalue": "Identifier 'i' has already been declared",
     "output_type": "error",
     "traceback": [
      "evalmachine.<anonymous>:1",
      "var x3;",
      "^",
      "",
      "SyntaxError: Identifier 'i' has already been declared",
      "    at evalmachine.<anonymous>:1:1",
      "    at Script.runInThisContext (vm.js:122:20)",
      "    at Object.runInThisContext (vm.js:329:38)",
      "    at run ([eval]:1054:15)",
      "    at onRunRequest ([eval]:888:18)",
      "    at onMessage ([eval]:848:13)",
      "    at process.emit (events.js:198:13)",
      "    at emit (internal/child_process.js:832:12)",
      "    at process._tickCallback (internal/process/next_tick.js:63:19)"
     ]
    }
   ],
   "source": [
    "var x3;\n",
    "var data = [], count = data.length;\n",
    "for(var i = 0; i < count; i++) console.log(data[i]);"
   ]
  },
  {
   "cell_type": "markdown",
   "id": "b3ad2f13",
   "metadata": {},
   "source": [
    "### Although var and let have the same syntax, there are important differences in the\n",
    "way they work:"
   ]
  },
  {
   "cell_type": "markdown",
   "id": "0210b562",
   "metadata": {},
   "source": [
    "- Variables declared with var do not have block scope. Instead, they are scoped to\n",
    "the body of the containing function no matter how deeply nested they are inside\n",
    "that function.\n",
    "\n",
    "\n",
    "\n",
    "- If you use var outside of a function body, it declares a global variable. But global\n",
    "variables declared with var differ from globals declared with let in an important\n",
    "way. Globals declared with var are implemented as properties of the global object\n",
    "(§3.7). The global object can be referenced as globalThis. So if you write var x\n",
    "= 2; outside of a function, it is like you wrote globalThis.x = 2;. Note however,\n",
    "that the analogy is not perfect: the properties created with global var declarations\n",
    "cannot be deleted with the delete operator (§4.13.4). Global variables\n",
    "and constants declared with let and const are not properties of the global\n",
    "object.\n",
    "\n",
    "\n",
    "\n",
    "- Unlike variables declared with let, it is legal to declare the same variable multiple\n",
    "times with var. And because var variables have function scope instead of block\n",
    "scope, it is actually common to do this kind of redeclaration. The variable i is\n",
    "frequently used for integer values, and especially as the index variable of for\n",
    "loops. In a function with multiple for loops, it is typical for each one to begin\n",
    "for(var i = 0; .... Because var does not scope these variables to the loop\n",
    "body, each of these loops is (harmlessly) re-declaring and re-initializing the same\n",
    "variable.\n",
    "\n",
    "\n",
    "\n",
    "- One of the most unusual features of var declarations is known as hoisting. When\n",
    "a variable is declared with var, the declaration is lifted up (or “hoisted”) to the\n",
    "top of the enclosing function. The initialization of the variable remains where\n",
    "you wrote it, but the definition of the variable moves to the top of the function.\n",
    "So variables declared with var can be used, without error, anywhere in the\n",
    "enclosing function. If the initialization code has not run yet, then the value of the\n",
    "variable may be undefined, but you won’t get an error if you use the variable\n",
    "before it is initialized. (This can be a source of bugs and is one of the important\n",
    "misfeatures that let corrects: if you declare a variable with let but attempt to use\n",
    "it before the let statement runs, you will get an actual error instead of just seeing\n",
    "an undefined value.)"
   ]
  },
  {
   "cell_type": "markdown",
   "id": "9ffe98f9",
   "metadata": {},
   "source": [
    "> ## Using Undeclared Variables\n",
    "\n",
    ">In strict mode (§5.6.3), if you attempt to use an undeclared variable,\n",
    "you’ll get a reference error when you run your code. Outside\n",
    "of strict mode, however, if you assign a value to a name that has not\n",
    "been declared with let, const, or var, you’ll end up creating a new\n",
    "global variable. It will be a global no matter now deeply nested\n",
    "within functions and blocks your code is, which is almost certainly\n",
    "not what you want, is bug-prone, and is one of the best reasons for\n",
    "using strict mode!\n",
    "\n",
    ">Global variables created in this accidental way are like global variables\n",
    "declared with var: they define properties of the global object.\n",
    "`But unlike the properties defined by proper var declarations, these\n",
    "properties can be deleted with the delete operator` (§4.13.4)."
   ]
  },
  {
   "cell_type": "markdown",
   "id": "0d95fbad",
   "metadata": {},
   "source": [
    "## 3.10.3 Destructuring Assignment\n",
    "ES6 implements a kind of compound declaration and assignment syntax known as\n",
    "destructuring assignment. In a destructuring assignment, the value on the righthand\n",
    "side of the equals sign is an array or object (a “structured” value), and the lefthand\n",
    "side specifies one or more variable names using a syntax that mimics array and object\n",
    "literal syntax. When a destructuring assignment occurs, one or more values are\n",
    "extracted (“destructured”) from the value on the right and stored into the variables\n",
    "named on the left. Destructuring assignment is perhaps most commonly used to initialize\n",
    "variables as part of a const, let, or var declaration statement, but it can also be\n",
    "done in regular assignment expressions (with variables that have already been\n",
    "declared). And, as we’ll see in §8.3.5, destructuring can also be used when defining\n",
    "the parameters to a function."
   ]
  },
  {
   "cell_type": "markdown",
   "id": "cae3ee65",
   "metadata": {},
   "source": [
    "Here are simple destructuring assignments using arrays of values:"
   ]
  },
  {
   "cell_type": "code",
   "execution_count": 27,
   "id": "4b35177e",
   "metadata": {},
   "outputs": [
    {
     "data": {
      "text/plain": [
       "[ 3, 2 ]"
      ]
     },
     "execution_count": 27,
     "metadata": {},
     "output_type": "execute_result"
    }
   ],
   "source": [
    "let [x55,y55] = [1,2]; // Same as let x=1, y=2\n",
    "[x55,y55] = [x55+1,y55+1]; // Same as x = x + 1, y = y + 1\n",
    "[x55,y55] = [y55,x55]; // Swap the value of the two variables\n",
    "[x55,y55] // => [3,2]: the incremented and swapped values"
   ]
  },
  {
   "cell_type": "markdown",
   "id": "dc6c7597",
   "metadata": {},
   "source": [
    "Notice how destructuring assignment makes it easy to work with functions that\n",
    "return arrays of values:"
   ]
  },
  {
   "cell_type": "markdown",
   "id": "9641b530",
   "metadata": {},
   "source": [
    "```javascript\n",
    "// Convert [x,y] coordinates to [r,theta] polar coordinates\n",
    "function toPolar(x, y) {\n",
    "return [Math.sqrt(x*x+y*y), Math.atan2(y,x)];\n",
    "}\n",
    "// Convert polar to Cartesian coordinates\n",
    "function toCartesian(r, theta) {\n",
    "return [r*Math.cos(theta), r*Math.sin(theta)];\n",
    "}\n",
    "let [r,theta] = toPolar(1.0, 1.0); // r == Math.sqrt(2); theta == Math.PI/4\n",
    "let [x,y] = toCartesian(r,theta); // [x, y] == [1.0, 1,0]\n",
    "```"
   ]
  },
  {
   "cell_type": "markdown",
   "id": "961567f0",
   "metadata": {},
   "source": [
    "We saw that variables and constants can be declared as part of JavaScript’s various for\n",
    "loops. It is possible to use variable destructuring in this context as well. Here is a code\n",
    "that loops over the name/value pairs of all properties of an object and uses destructuring\n",
    "assignment to convert those pairs from two-element arrays into individual\n",
    "variables:"
   ]
  },
  {
   "cell_type": "markdown",
   "id": "2dd9c831",
   "metadata": {},
   "source": [
    "```javascript\n",
    "let o = { x: 1, y: 2 }; // The object we'll loop over\n",
    "for(const [name, value] of Object.entries(o)) {\n",
    "console.log(name, value); // Prints \"x 1\" and \"y 2\"\n",
    "}\n",
    "```"
   ]
  },
  {
   "cell_type": "markdown",
   "id": "14d86889",
   "metadata": {},
   "source": [
    "The number of variables on the left of a destructuring assignment does not have to\n",
    "match the number of array elements on the right. Extra variables on the left are set to\n",
    "undefined, and extra values on the right are ignored. The list of variables on the left\n",
    "can include extra commas to skip certain values on the right:"
   ]
  },
  {
   "cell_type": "markdown",
   "id": "b18d7ca0",
   "metadata": {},
   "source": [
    "```javascript\n",
    "let [x,y] = [1]; // x == 1; y == undefined\n",
    "[x,y] = [1,2,3]; // x == 1; y == 2\n",
    "[,x,,y] = [1,2,3,4]; // x == 2; y == 4\n",
    "```"
   ]
  },
  {
   "cell_type": "markdown",
   "id": "9ac14134",
   "metadata": {},
   "source": [
    "If you want to collect all unused or remaining values into a single variable when\n",
    "destructuring an array, use three dots (...) before the last variable name on the lefthand\n",
    "side:"
   ]
  },
  {
   "cell_type": "markdown",
   "id": "2fc6c071",
   "metadata": {},
   "source": [
    "```javascript\n",
    "let [x, ...y] = [1,2,3,4]; // y == [2,3,4]\n",
    "```"
   ]
  },
  {
   "cell_type": "markdown",
   "id": "184b3bf2",
   "metadata": {},
   "source": [
    "We’ll see three dots used this way again in §8.3.2, where they are used to indicate that\n",
    "all remaining function arguments should be collected into a single array."
   ]
  },
  {
   "cell_type": "markdown",
   "id": "9ac72193",
   "metadata": {},
   "source": [
    "Destructuring assignment can be used with nested arrays. In this case, the lefthand\n",
    "side of the assignment should look like a nested array literal:"
   ]
  },
  {
   "cell_type": "code",
   "execution_count": 28,
   "id": "f958a23c",
   "metadata": {},
   "outputs": [],
   "source": [
    "let [a, [b, c]] = [1, [2,2.5], 3]; // a == 1; b == 2; c == 2.5"
   ]
  },
  {
   "cell_type": "markdown",
   "id": "ef519107",
   "metadata": {},
   "source": [
    "A powerful feature of array destructuring is that it does not actually require an array!\n",
    "You can use any iterable object (Chapter 12) on the righthand side of the assignment;\n",
    "any object that can be used with a for/of loop (§5.4.4) can also be destructured:"
   ]
  },
  {
   "cell_type": "code",
   "execution_count": 29,
   "id": "77106d5a",
   "metadata": {},
   "outputs": [],
   "source": [
    "let [first, ...rest] = \"Hello\"; // first == \"H\"; rest == [\"e\",\"l\",\"l\",\"o\"]"
   ]
  },
  {
   "cell_type": "markdown",
   "id": "5c28d8e9",
   "metadata": {},
   "source": [
    "Destructuring assignment can also be performed when the righthand side is an object\n",
    "value. In this case, the lefthand side of the assignment looks something like an object\n",
    "literal: a comma-separated list of variable names within curly braces:"
   ]
  },
  {
   "cell_type": "markdown",
   "id": "fee03b5a",
   "metadata": {},
   "source": [
    "```javascript\n",
    "let transparent = {r: 0.0, g: 0.0, b: 0.0, a: 1.0}; // A RGBA color\n",
    "let {r, g, b} = transparent; // r == 0.0; g == 0.0; b == 0.0\n",
    "```"
   ]
  },
  {
   "cell_type": "markdown",
   "id": "30b9105f",
   "metadata": {},
   "source": [
    "The next example copies global functions of the Math object into variables, which\n",
    "might simplify code that does a lot of trigonometry:"
   ]
  },
  {
   "cell_type": "code",
   "execution_count": 31,
   "id": "e7d2ad85",
   "metadata": {},
   "outputs": [],
   "source": [
    "// Same as const sin=Math.sin, cos=Math.cos, tan=Math.tan\n",
    "const {sin, cos, tan} = Math;"
   ]
  },
  {
   "cell_type": "markdown",
   "id": "9c3603f6",
   "metadata": {},
   "source": [
    "Notice in the code here that the Math object has many properties other than the three\n",
    "that are destructured into individual variables. Those that are not named are simply\n",
    "ignored. If the lefthand side of this assignment had included a variable whose name\n",
    "was not a property of Math, that variable would simply be assigned undefined."
   ]
  },
  {
   "cell_type": "markdown",
   "id": "a23cb9f5",
   "metadata": {},
   "source": [
    "In each of these object destructuring examples, we have chosen variable names that\n",
    "match the property names of the object we’re destructuring. This keeps the syntax\n",
    "simple and easy to understand, but it is not required. Each of the identifiers on the\n",
    "lefthand side of an object destructuring assignment can also be a colon-separated pair\n",
    "of identifiers, where the first is the name of the property whose value is to be assigned\n",
    "and the second is the name of the variable to assign it to:"
   ]
  },
  {
   "cell_type": "code",
   "execution_count": 33,
   "id": "2ba48ed2",
   "metadata": {},
   "outputs": [],
   "source": [
    "// Same as const cosine = Math.cos, tangent = Math.tan;\n",
    "const { cos: cosine, tan: tangent } = Math;"
   ]
  },
  {
   "cell_type": "markdown",
   "id": "197eb694",
   "metadata": {},
   "source": [
    "I find that object destructuring syntax becomes too complicated to be useful when the\n",
    "variable names and property names are not the same, and I tend to avoid the shorthand\n",
    "in this case. If you choose to use it, remember that property names are always\n",
    "on the left of the colon, in both object literals and on the left of an object destructuring\n",
    "assignment."
   ]
  },
  {
   "cell_type": "markdown",
   "id": "4cb47d47",
   "metadata": {},
   "source": [
    "Destructuring assignment becomes even more complicated when it is used with nested\n",
    "objects, or arrays of objects, or objects of arrays, but it is legal:"
   ]
  },
  {
   "cell_type": "code",
   "execution_count": 36,
   "id": "499b65e3",
   "metadata": {},
   "outputs": [
    {
     "data": {
      "text/plain": [
       "true"
      ]
     },
     "execution_count": 36,
     "metadata": {},
     "output_type": "execute_result"
    }
   ],
   "source": [
    "let points = [{x: 1, y: 2}, {x: 3, y: 4}]; // An array of two point objects\n",
    "let [{x: x1, y: y1}, {x: x2, y: y2}] = points; // destructured into 4 variables.\n",
    "(x1 === 1 && y1 === 2 && x2 === 3 && y2 === 4) // => true"
   ]
  },
  {
   "cell_type": "markdown",
   "id": "d678da65",
   "metadata": {},
   "source": [
    "Or, instead of destructuring an array of objects, we could destructure an object of\n",
    "arrays:"
   ]
  },
  {
   "cell_type": "markdown",
   "id": "bd12f818",
   "metadata": {},
   "source": [
    "```javascript\n",
    "let points = { p1: [1,2], p2: [3,4] }; // An object with 2 array props\n",
    "let { p1: [x1, y1], p2: [x2, y2] } = points; // destructured into 4 vars\n",
    "(x1 === 1 && y1 === 2 && x2 === 3 && y2 === 4) // => true\n",
    "```"
   ]
  },
  {
   "cell_type": "markdown",
   "id": "2354b208",
   "metadata": {},
   "source": [
    "Complex destructuring syntax like this can be hard to write and hard to read, and you\n",
    "may be better off just writing out your assignments explicitly with traditional code\n",
    "like let x1 = points.p1[0];."
   ]
  },
  {
   "cell_type": "markdown",
   "id": "0f414599",
   "metadata": {},
   "source": [
    "> **Understanding Complex Destructuring**\n",
    "\n",
    ">If you find yourself working with code that uses complex destructuring assignments,\n",
    "there is a useful regularity that can help you make sense of the complex cases. Think\n",
    "first about a regular (single-value) assignment. After the assignment is done, you can\n",
    "take the variable name from the lefthand side of the assignment and use it as an\n",
    "expression in your code, where it will evaluate to whatever value you assigned it. The\n",
    "same thing is true for destructuring assignment. The lefthand side of a destructuring\n",
    "assignment looks like an array literal or an object literal (§6.2.1 and §6.10). After the\n",
    "assignment has been done, the lefthand side will actually work as a valid array literal\n",
    "or object literal elsewhere in your code. You can check that you’ve written a destructuring\n",
    "assignment correctly by trying to use the lefthand side on the righthand side of\n",
    "another assignment expression:\n",
    "```javascript\n",
    "// Start with a data structure and a complex destructuring\n",
    "let points = [{x: 1, y: 2}, {x: 3, y: 4}];\n",
    "let [{x: x1, y: y1}, {x: x2, y: y2}] = points;\n",
    "// Check your destructuring syntax by flipping the assignment around\n",
    "let points2 = [{x: x1, y: y1}, {x: x2, y: y2}]; // points2 == points\n",
    "```"
   ]
  }
 ],
 "metadata": {
  "kernelspec": {
   "display_name": "Javascript (Node.js)",
   "language": "javascript",
   "name": "javascript"
  },
  "language_info": {
   "file_extension": ".js",
   "mimetype": "application/javascript",
   "name": "javascript",
   "version": "10.19.0"
  }
 },
 "nbformat": 4,
 "nbformat_minor": 5
}
