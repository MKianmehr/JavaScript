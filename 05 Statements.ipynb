{
 "cells": [
  {
   "cell_type": "markdown",
   "id": "0e8415f3",
   "metadata": {},
   "source": [
    "# Statements"
   ]
  },
  {
   "cell_type": "markdown",
   "id": "96216961",
   "metadata": {},
   "source": [
    "Chapter 4 described expressions as JavaScript phrases. By that analogy, statements are\n",
    "JavaScript sentences or commands. Just as English sentences are terminated and separated\n",
    "from one another with periods, JavaScript statements are terminated with semicolons\n",
    "(§2.6). Expressions are evaluated to produce a value, but statements are\n",
    "executed to make something happen."
   ]
  },
  {
   "cell_type": "markdown",
   "id": "9d68c5f2",
   "metadata": {},
   "source": [
    "One way to “make something happen” is to evaluate an expression that has side\n",
    "effects. Expressions with side effects, such as assignments and function invocations,\n",
    "can stand alone as statements, and when used this way are known as expression statements.\n",
    "A similar category of statements are the declaration statements that declare\n",
    "new variables and define new functions."
   ]
  },
  {
   "cell_type": "markdown",
   "id": "ce72d42a",
   "metadata": {},
   "source": [
    "JavaScript programs are nothing more than a sequence of statements to execute. By\n",
    "default, the JavaScript interpreter executes these statements one after another in the\n",
    "order they are written. Another way to “make something happen” is to alter this\n",
    "default order of execution, and JavaScript has a number of statements or control structures\n",
    "that do just this:"
   ]
  },
  {
   "cell_type": "markdown",
   "id": "f67b276c",
   "metadata": {},
   "source": [
    "- Conditionals\n",
    "\n",
    "Statements like if and switch that make the JavaScript interpreter execute or\n",
    "skip other statements depending on the value of an expression"
   ]
  },
  {
   "cell_type": "markdown",
   "id": "450e409b",
   "metadata": {},
   "source": [
    "- Loops\n",
    "\n",
    "Statements like while and for that execute other statements repetitively"
   ]
  },
  {
   "cell_type": "markdown",
   "id": "58f71c81",
   "metadata": {},
   "source": [
    "- Jumps\n",
    "\n",
    "Statements like break, return, and throw that cause the interpreter to jump to\n",
    "another part of the program"
   ]
  },
  {
   "cell_type": "markdown",
   "id": "8831c66f",
   "metadata": {},
   "source": [
    "The sections that follow describe the various statements in JavaScript and explain\n",
    "their syntax. Table 5-1, at the end of the chapter, summarizes the syntax. A JavaScript\n",
    "program is simply a sequence of statements, separated from one another with\n",
    "semicolons, so once you are familiar with the statements of JavaScript, you can begin\n",
    "writing JavaScript programs."
   ]
  },
  {
   "cell_type": "markdown",
   "id": "3f61ef5d",
   "metadata": {},
   "source": [
    "## 5.1 Expression Statements"
   ]
  },
  {
   "cell_type": "markdown",
   "id": "d41bd70b",
   "metadata": {},
   "source": [
    "The simplest kinds of statements in JavaScript are expressions that have side effects.\n",
    "This sort of statement was shown in Chapter 4. Assignment statements are one major\n",
    "category of expression statements. For example:"
   ]
  },
  {
   "cell_type": "markdown",
   "id": "84df5ce2",
   "metadata": {},
   "source": [
    "````js\n",
    "greeting = \"Hello \" + name;\n",
    "i *= 3;\n",
    "````"
   ]
  },
  {
   "cell_type": "markdown",
   "id": "74fc42b5",
   "metadata": {},
   "source": [
    "The increment and decrement operators, ++ and --, are related to assignment statements.\n",
    "These have the side effect of changing a variable value, just as if an assignment\n",
    "had been performed:"
   ]
  },
  {
   "cell_type": "markdown",
   "id": "f5bc891f",
   "metadata": {},
   "source": [
    "````js\n",
    "counter++;\n",
    "````"
   ]
  },
  {
   "cell_type": "markdown",
   "id": "5eb4f9d4",
   "metadata": {},
   "source": [
    "The delete operator has the important side effect of deleting an object property.\n",
    "Thus, it is almost always used as a statement, rather than as part of a larger\n",
    "expression:"
   ]
  },
  {
   "cell_type": "markdown",
   "id": "183edded",
   "metadata": {},
   "source": [
    "````js\n",
    "delete o.x;\n",
    "````"
   ]
  },
  {
   "cell_type": "markdown",
   "id": "1bf29124",
   "metadata": {},
   "source": [
    "Function calls are another major category of expression statements. For example:"
   ]
  },
  {
   "cell_type": "markdown",
   "id": "b0157c73",
   "metadata": {},
   "source": [
    "````js\n",
    "console.log(debugMessage);\n",
    "displaySpinner(); // A hypothetical function to display a spinner in a web app.\n",
    "````"
   ]
  },
  {
   "cell_type": "markdown",
   "id": "18f86de0",
   "metadata": {},
   "source": [
    "These function calls are expressions, but they have side effects that affect the host\n",
    "environment or program state, and they are used here as statements. If a function\n",
    "does not have any side effects, there is no sense in calling it, unless it is part of a larger\n",
    "expression or an assignment statement. For example, you wouldn’t just compute a\n",
    "cosine and discard the result:"
   ]
  },
  {
   "cell_type": "markdown",
   "id": "03d9e7ad",
   "metadata": {},
   "source": [
    "````js\n",
    "Math.cos(x);\n",
    "````"
   ]
  },
  {
   "cell_type": "markdown",
   "id": "5eb64682",
   "metadata": {},
   "source": [
    "But you might well compute the value and assign it to a variable for future use:"
   ]
  },
  {
   "cell_type": "markdown",
   "id": "ae310d98",
   "metadata": {},
   "source": [
    "````js\n",
    "cx = Math.cos(x);\n",
    "````"
   ]
  },
  {
   "cell_type": "markdown",
   "id": "f1356467",
   "metadata": {},
   "source": [
    "Note that each line of code in each of these examples is terminated with a semicolon."
   ]
  },
  {
   "cell_type": "markdown",
   "id": "e7612bd0",
   "metadata": {},
   "source": [
    "## 5.2 Compound and Empty Statements"
   ]
  },
  {
   "cell_type": "markdown",
   "id": "9efca729",
   "metadata": {},
   "source": [
    "Just as the comma operator (§4.13.7) combines multiple expressions into a single\n",
    "expression, a statement block combines multiple statements into a single compound\n",
    "statement. A statement block is simply a sequence of statements enclosed within curly\n",
    "braces. Thus, the following lines act as a single statement and can be used anywhere\n",
    "that JavaScript expects a single statement:"
   ]
  },
  {
   "cell_type": "markdown",
   "id": "bcd2c9dc",
   "metadata": {},
   "source": [
    "````js\n",
    "{\n",
    "    x = Math.PI;\n",
    "    cx = Math.cos(x);\n",
    "    console.log(\"cos(π) = \" + cx);\n",
    "}\n",
    "````"
   ]
  },
  {
   "cell_type": "markdown",
   "id": "47710b78",
   "metadata": {},
   "source": [
    "There are a few things to note about this statement block. First, it does not end with a\n",
    "semicolon. The primitive statements within the block end in semicolons, but the\n",
    "block itself does not. Second, the lines inside the block are indented relative to the\n",
    "curly braces that enclose them. This is optional, but it makes the code easier to read\n",
    "and understand."
   ]
  },
  {
   "cell_type": "markdown",
   "id": "a525b263",
   "metadata": {},
   "source": [
    "Just as expressions often contain subexpressions, many JavaScript statements contain\n",
    "substatements. Formally, JavaScript syntax usually allows a single substatement. For\n",
    "example, the while loop syntax includes a single statement that serves as the body of\n",
    "the loop. Using a statement block, you can place any number of statements within this\n",
    "single allowed substatement."
   ]
  },
  {
   "cell_type": "markdown",
   "id": "bf9e97cb",
   "metadata": {},
   "source": [
    "A compound statement allows you to use multiple statements where JavaScript syntax\n",
    "expects a single statement. The empty statement is the opposite: it allows you to\n",
    "include no statements where one is expected. The empty statement looks like this:"
   ]
  },
  {
   "cell_type": "markdown",
   "id": "ff767644",
   "metadata": {},
   "source": [
    "````js\n",
    "    ;\n",
    "````"
   ]
  },
  {
   "cell_type": "markdown",
   "id": "96906f44",
   "metadata": {},
   "source": [
    "The JavaScript interpreter takes no action when it executes an empty statement. The\n",
    "empty statement is occasionally useful when you want to create a loop that has an\n",
    "empty body. Consider the following for loop (for loops will be covered in §5.4.3):"
   ]
  },
  {
   "cell_type": "markdown",
   "id": "9db24751",
   "metadata": {},
   "source": [
    "````js\n",
    "// Initialize an array a\n",
    "for(let i = 0; i < a.length; a[i++] = 0) ;\n",
    "````"
   ]
  },
  {
   "cell_type": "markdown",
   "id": "75b058ed",
   "metadata": {},
   "source": [
    "In this loop, all the work is done by the expression a[i++] = 0, and no loop body is\n",
    "necessary. JavaScript syntax requires a statement as a loop body, however, so an empty\n",
    "statement—just a bare semicolon—is used."
   ]
  },
  {
   "cell_type": "markdown",
   "id": "33fb491a",
   "metadata": {},
   "source": [
    "Note that the accidental inclusion of a semicolon after the right parenthesis of a for\n",
    "loop, while loop, or if statement can cause frustrating bugs that are difficult to\n",
    "detect. For example, the following code probably does not do what the author\n",
    "intended:"
   ]
  },
  {
   "cell_type": "markdown",
   "id": "d35921f5",
   "metadata": {},
   "source": [
    "````js\n",
    "if ((a === 0) || (b === 0)); // Oops! This line does nothing...\n",
    "    o = null; // and this line is always executed.\n",
    "````"
   ]
  },
  {
   "cell_type": "markdown",
   "id": "e6256d05",
   "metadata": {},
   "source": [
    "When you intentionally use the empty statement, it is a good idea to comment your\n",
    "code in a way that makes it clear that you are doing it on purpose. For example:"
   ]
  },
  {
   "cell_type": "markdown",
   "id": "cb702785",
   "metadata": {},
   "source": [
    "````js\n",
    "for(let i = 0; i < a.length; a[i++] = 0) /* empty */ ;\n",
    "````"
   ]
  },
  {
   "cell_type": "markdown",
   "id": "59a4a74c",
   "metadata": {},
   "source": [
    "## 5.3 Conditionals"
   ]
  },
  {
   "cell_type": "markdown",
   "id": "89212ad3",
   "metadata": {},
   "source": [
    "Conditional statements execute or skip other statements depending on the value of a\n",
    "specified expression. These statements are the decision points of your code, and they\n",
    "are also sometimes known as “branches.” If you imagine a JavaScript interpreter following\n",
    "a path through your code, the conditional statements are the places where the\n",
    "code branches into two or more paths and the interpreter must choose which path to\n",
    "follow."
   ]
  },
  {
   "cell_type": "markdown",
   "id": "1f62a8a8",
   "metadata": {},
   "source": [
    "The following subsections explain JavaScript’s basic conditional, the if/else statement,\n",
    "and also cover switch, a more complicated, multiway branch statement."
   ]
  },
  {
   "cell_type": "markdown",
   "id": "92e96664",
   "metadata": {},
   "source": [
    "## 5.3.1 if"
   ]
  },
  {
   "cell_type": "markdown",
   "id": "3f07863e",
   "metadata": {},
   "source": [
    "The if statement is the fundamental control statement that allows JavaScript to make\n",
    "decisions, or, more precisely, to execute statements conditionally. This statement has\n",
    "two forms. ``The first is:``"
   ]
  },
  {
   "cell_type": "markdown",
   "id": "306232a0",
   "metadata": {},
   "source": [
    "````js\n",
    "if (expression)\n",
    "    statement\n",
    "````"
   ]
  },
  {
   "cell_type": "markdown",
   "id": "7378221c",
   "metadata": {},
   "source": [
    "In this form, expression is evaluated. If the resulting value is truthy, statement is executed.\n",
    "If expression is falsy, statement is not executed. (See §3.4 for a definition of truthy\n",
    "and falsy values.) For example:"
   ]
  },
  {
   "cell_type": "markdown",
   "id": "9402415b",
   "metadata": {},
   "source": [
    "````js\n",
    "if (username == null) // If username is null or undefined,\n",
    "    username = \"John Doe\"; // define it\n",
    "````"
   ]
  },
  {
   "cell_type": "markdown",
   "id": "c9828ac5",
   "metadata": {},
   "source": [
    "Or similarly:"
   ]
  },
  {
   "cell_type": "markdown",
   "id": "3c47cd18",
   "metadata": {},
   "source": [
    "````js\n",
    "// If username is null, undefined, false, 0, \"\", or NaN, give it a new value\n",
    "if (!username) username = \"John Doe\";\n",
    "````"
   ]
  },
  {
   "cell_type": "markdown",
   "id": "724a7cb1",
   "metadata": {},
   "source": [
    "Note that the parentheses around the expression are a required part of the syntax for\n",
    "the if statement."
   ]
  },
  {
   "cell_type": "markdown",
   "id": "d0727786",
   "metadata": {},
   "source": [
    "JavaScript syntax requires a single statement after the if keyword and parenthesized\n",
    "expression, but you can use a statement block to combine multiple statements into\n",
    "one. So the if statement might also look like this:"
   ]
  },
  {
   "cell_type": "markdown",
   "id": "f1d00ed2",
   "metadata": {},
   "source": [
    "````js\n",
    "if (!address) {\n",
    "    address = \"\";\n",
    "    message = \"Please specify a mailing address.\";\n",
    "}\n",
    "````"
   ]
  },
  {
   "cell_type": "markdown",
   "id": "9ff1ec9b",
   "metadata": {},
   "source": [
    "The ``second form`` of the if statement introduces an else clause that is executed when\n",
    "expression is false. Its syntax is:"
   ]
  },
  {
   "cell_type": "markdown",
   "id": "15096999",
   "metadata": {},
   "source": [
    "````js\n",
    "if (expression)\n",
    "    statement1\n",
    "else\n",
    "    statement2\n",
    "````"
   ]
  },
  {
   "cell_type": "markdown",
   "id": "f1ee4350",
   "metadata": {},
   "source": [
    "This form of the statement executes statement1 if expression is truthy and executes\n",
    "statement2 if expression is falsy. For example:"
   ]
  },
  {
   "cell_type": "markdown",
   "id": "d53e51b1",
   "metadata": {},
   "source": [
    "````js\n",
    "if (n === 1)\n",
    "    console.log(\"You have 1 new message.\");\n",
    "else\n",
    "    console.log(`You have ${n} new messages.`);\n",
    "````"
   ]
  },
  {
   "cell_type": "markdown",
   "id": "5b44a00a",
   "metadata": {},
   "source": [
    "When you have nested if statements with else clauses, some caution is required to\n",
    "ensure that the else clause goes with the appropriate if statement. Consider the following\n",
    "lines:"
   ]
  },
  {
   "cell_type": "markdown",
   "id": "9d6a6922",
   "metadata": {},
   "source": [
    "````js\n",
    "i = j = 1;\n",
    "k = 2;\n",
    "if (i === j)\n",
    "    if (j === k)\n",
    "        console.log(\"i equals k\");\n",
    "else\n",
    "    console.log(\"i doesn't equal j\"); // WRONG!!\n",
    "````"
   ]
  },
  {
   "cell_type": "markdown",
   "id": "7a3cb636",
   "metadata": {},
   "source": [
    "In this example, the inner if statement forms the single statement allowed by the syntax\n",
    "of the outer if statement. Unfortunately, it is not clear (except from the hint given\n",
    "by the indentation) which if the else goes with. And in this example, the indentation\n",
    "is wrong, because a JavaScript interpreter actually interprets the previous example\n",
    "as:"
   ]
  },
  {
   "cell_type": "markdown",
   "id": "04fba6b5",
   "metadata": {},
   "source": [
    "````js\n",
    "if (i === j) {\n",
    "    if (j === k)\n",
    "        console.log(\"i equals k\");\n",
    "    else\n",
    "        console.log(\"i doesn't equal j\"); // OOPS!\n",
    "}\n",
    "````"
   ]
  },
  {
   "cell_type": "markdown",
   "id": "c19e12af",
   "metadata": {},
   "source": [
    "The rule in JavaScript (as in most programming languages) is that by default an else\n",
    "clause is part of the nearest if statement. To make this example less ambiguous and\n",
    "easier to read, understand, maintain, and debug, you should use curly braces:"
   ]
  },
  {
   "cell_type": "markdown",
   "id": "8dab0e73",
   "metadata": {},
   "source": [
    "````js\n",
    "if (i === j) {\n",
    "    if (j === k) {\n",
    "        console.log(\"i equals k\");\n",
    "    }\n",
    "} else { // What a difference the location of a curly brace makes!\n",
    "    console.log(\"i doesn't equal j\");\n",
    "}\n",
    "````"
   ]
  },
  {
   "cell_type": "markdown",
   "id": "e1563a0d",
   "metadata": {},
   "source": [
    "Many programmers make a habit of enclosing the bodies of if and else statements\n",
    "(as well as other compound statements, such as while loops) within curly braces,\n",
    "even when the body consists of only a single statement. Doing so consistently can\n",
    "prevent the sort of problem just shown, and I advise you to adopt this practice. In this\n",
    "printed book, I place a premium on keeping example code vertically compact, and I\n",
    "do not always follow my own advice on this matter."
   ]
  },
  {
   "cell_type": "markdown",
   "id": "e1b3e8d8",
   "metadata": {},
   "source": [
    "## 5.3.2 else if"
   ]
  },
  {
   "cell_type": "markdown",
   "id": "6d9ee5d7",
   "metadata": {},
   "source": [
    "The if/else statement evaluates an expression and executes one of two pieces of\n",
    "code, depending on the outcome. But what about when you need to execute one of\n",
    "many pieces of code? One way to do this is with an else if statement. else if is not\n",
    "really a JavaScript statement, but simply a frequently used programming idiom that\n",
    "results when repeated if/else statements are used:"
   ]
  },
  {
   "cell_type": "markdown",
   "id": "bfb173ca",
   "metadata": {},
   "source": [
    "````js\n",
    "if (n === 1) {\n",
    "    // Execute code block #1\n",
    "} else if (n === 2) {\n",
    "    // Execute code block #2\n",
    "} else if (n === 3) {\n",
    "    // Execute code block #3\n",
    "} else {\n",
    "    // If all else fails, execute block #4\n",
    "}\n",
    "````"
   ]
  },
  {
   "cell_type": "markdown",
   "id": "7b33103c",
   "metadata": {},
   "source": [
    "There is nothing special about this code. It is just a series of if statements, where each\n",
    "following if is part of the else clause of the previous statement. Using the else if\n",
    "idiom is preferable to, and more legible than, writing these statements out in their\n",
    "syntactically equivalent, fully nested form:"
   ]
  },
  {
   "cell_type": "markdown",
   "id": "c88d3a62",
   "metadata": {},
   "source": [
    "````js\n",
    "if (n === 1) {\n",
    "    // Execute code block #1\n",
    "}\n",
    "else {\n",
    "    if (n === 2) {\n",
    "        // Execute code block #2\n",
    "    }\n",
    "    else {\n",
    "        if (n === 3) {\n",
    "            // Execute code block #3\n",
    "        }\n",
    "        else {\n",
    "            // If all else fails, execute block #4\n",
    "        }\n",
    "    }\n",
    "}\n",
    "````"
   ]
  },
  {
   "cell_type": "markdown",
   "id": "59fceeac",
   "metadata": {},
   "source": [
    "## 5.3.3 switch"
   ]
  },
  {
   "cell_type": "markdown",
   "id": "8b2400c6",
   "metadata": {},
   "source": [
    "An if statement causes a branch in the flow of a program’s execution, and you can\n",
    "use the else if idiom to perform a multiway branch. This is not the best solution,\n",
    "however, when all of the branches depend on the value of the same expression. In this\n",
    "case, it is wasteful to repeatedly evaluate that expression in multiple if statements."
   ]
  },
  {
   "cell_type": "markdown",
   "id": "3c58c9c3",
   "metadata": {},
   "source": [
    "The switch statement handles exactly this situation. The switch keyword is followed\n",
    "by an expression in parentheses and a block of code in curly braces:"
   ]
  },
  {
   "cell_type": "markdown",
   "id": "5dcc2175",
   "metadata": {},
   "source": [
    "````js\n",
    "switch(expression) {\n",
    "    statements\n",
    "}\n",
    "````"
   ]
  },
  {
   "cell_type": "markdown",
   "id": "5df1f6af",
   "metadata": {},
   "source": [
    "However, the full syntax of a switch statement is more complex than this. Various\n",
    "locations in the block of code are ``labeled`` with the case keyword followed by an\n",
    "expression and a colon. When a switch executes, it computes the value of expression\n",
    "and then looks for a ``case label`` whose expression evaluates to the same value (where\n",
    "sameness is determined by the ``=== operator``). If it finds one, it starts executing the\n",
    "block of code at the statement labeled by the case. If it does not find a case with a\n",
    "matching value, it looks for a statement labeled ``default``:. If there is no default:\n",
    "label, the switch statement skips the block of code altogether."
   ]
  },
  {
   "cell_type": "markdown",
   "id": "f1d4cf61",
   "metadata": {},
   "source": [
    "switch is a confusing statement to explain; its operation becomes much clearer with\n",
    "an example. The following switch statement is equivalent to the repeated if/else\n",
    "statements shown in the previous section:"
   ]
  },
  {
   "cell_type": "markdown",
   "id": "85b4d028",
   "metadata": {},
   "source": [
    "````js\n",
    "switch(n) {\n",
    "case 1:                       // Start here if n === 1\n",
    "    // Execute code block #1.\n",
    "    break;                    // Stop here\n",
    "case 2:                       // Start here if n === 2\n",
    "    // Execute code block #2.\n",
    "    break;                    // Stop here\n",
    "case 3:                       // Start here if n === 3\n",
    "    // Execute code block #3.\n",
    "    break;                    // Stop here\n",
    "default:                      // If all else fails...\n",
    "    // Execute code block #4.\n",
    "    break;                   // Stop here\n",
    "}\n",
    "````"
   ]
  },
  {
   "cell_type": "markdown",
   "id": "53767ce6",
   "metadata": {},
   "source": [
    "Note the break keyword used at the end of each case in this code. The break statement,\n",
    "described later in this chapter, causes the interpreter to jump to the end (or\n",
    "“break out”) of the switch statement and continue with the statement that follows it.\n",
    "``The case clauses in a switch statement specify only the starting point of the desired code; they do not specify any ending point``. In the absence of break statements, a switch statement begins executing its block of code at the case label that matches the value of its expression and continues executing statements until it reaches the end of\n",
    "the block. On rare occasions, it is useful to write code like this that “falls through”\n",
    "from one case label to the next, but 99% of the time you should be careful to end\n",
    "every case with a break statement. (When using switch inside a function, however,\n",
    "you may use a return statement instead of a break statement. Both serve to terminate\n",
    "the switch statement and prevent execution from falling through to the next case.)"
   ]
  },
  {
   "cell_type": "markdown",
   "id": "ff5abc71",
   "metadata": {},
   "source": [
    "Here is a more realistic example of the switch statement; it converts a value to a\n",
    "string in a way that depends on the type of the value:"
   ]
  },
  {
   "cell_type": "code",
   "execution_count": 4,
   "id": "1c682f6b",
   "metadata": {},
   "outputs": [],
   "source": [
    "\n",
    "function convert(x) {\n",
    "    switch(typeof x) {\n",
    "    case \"number\":            // Convert the number to a hexadecimal integer\n",
    "        return x.toString(16);\n",
    "    case \"string\":            // Return the string enclosed in quotes\n",
    "        return '\"' + x + '\"';\n",
    "    default:                  // Convert any other type in the usual way\n",
    "        return String(x);\n",
    "    }\n",
    "}\n"
   ]
  },
  {
   "cell_type": "code",
   "execution_count": 6,
   "id": "ad0b59b2",
   "metadata": {},
   "outputs": [
    {
     "data": {
      "text/plain": [
       "'14'"
      ]
     },
     "execution_count": 6,
     "metadata": {},
     "output_type": "execute_result"
    }
   ],
   "source": [
    "convert(20)"
   ]
  },
  {
   "cell_type": "code",
   "execution_count": 9,
   "id": "aa348465",
   "metadata": {},
   "outputs": [
    {
     "data": {
      "text/plain": [
       "'\"Hi\"'"
      ]
     },
     "execution_count": 9,
     "metadata": {},
     "output_type": "execute_result"
    }
   ],
   "source": [
    "convert(\"Hi\")"
   ]
  },
  {
   "cell_type": "code",
   "execution_count": 17,
   "id": "07f9e6e1",
   "metadata": {},
   "outputs": [
    {
     "name": "stdout",
     "output_type": "stream",
     "text": [
      "2\n",
      "three\n",
      "four\n",
      "two\n"
     ]
    }
   ],
   "source": [
    "switch (2){\n",
    "    case 2:\n",
    "        console.log(2)\n",
    "    case 3: \n",
    "        console.log(\"three\")\n",
    "    case 4:\n",
    "        console.log(\"four\")\n",
    "    case 2:\n",
    "        console.log(\"two\")\n",
    "}"
   ]
  },
  {
   "cell_type": "markdown",
   "id": "81f8c124",
   "metadata": {},
   "source": [
    "Note that in the two previous examples, the case keywords are followed by number\n",
    "and string literals, respectively. This is how the switch statement is most often used\n",
    "in practice, but note that the ECMAScript standard allows each case to be followed\n",
    "by an arbitrary expression."
   ]
  },
  {
   "cell_type": "markdown",
   "id": "7860f044",
   "metadata": {},
   "source": [
    "The switch statement first evaluates the expression that follows the switch keyword\n",
    "and then evaluates the case expressions, in the order in which they appear, until it\n",
    "finds a value that matches.1 The matching case is determined using the === identity\n",
    "operator, not the == equality operator, so the expressions must match without any\n",
    "type conversion."
   ]
  },
  {
   "cell_type": "markdown",
   "id": "1d8bb7b2",
   "metadata": {},
   "source": [
    "Because not all of the case expressions are evaluated each time the switch statement\n",
    "is executed, you should avoid using case expressions that contain side effects such as\n",
    "function calls or assignments. The safest course is simply to limit your case expressions\n",
    "to constant expressions."
   ]
  },
  {
   "cell_type": "markdown",
   "id": "92947ed9",
   "metadata": {},
   "source": [
    "As explained earlier, if none of the case expressions match the switch expression, the\n",
    "switch statement begins executing its body at the statement labeled default:. If\n",
    "there is no default: label, the switch statement skips its body altogether. Note that\n",
    "in the examples shown, the default: label appears at the end of the switch body, following all the case labels. This is a logical and common place for it, but it can\n",
    "actually appear anywhere within the body of the statement."
   ]
  },
  {
   "cell_type": "code",
   "execution_count": 19,
   "id": "1d7ec252",
   "metadata": {},
   "outputs": [
    {
     "name": "stdout",
     "output_type": "stream",
     "text": [
      "2\n"
     ]
    }
   ],
   "source": [
    "switch (2){\n",
    "    case 2:\n",
    "        console.log(2)\n",
    "        break\n",
    "    case 3: \n",
    "        console.log(\"three\")\n",
    "        break\n",
    "    case 4:\n",
    "        console.log(\"four\")\n",
    "        break\n",
    "    case 2:\n",
    "        console.log(\"two\")\n",
    "        break\n",
    "    default:\n",
    "        console.log(\"no match\")\n",
    "}"
   ]
  },
  {
   "cell_type": "code",
   "execution_count": 20,
   "id": "b21338fb",
   "metadata": {},
   "outputs": [
    {
     "name": "stdout",
     "output_type": "stream",
     "text": [
      "2\n"
     ]
    }
   ],
   "source": [
    "switch (2){\n",
    "    default:\n",
    "        console.log(\"no match\")\n",
    "    case 2:\n",
    "        console.log(2)\n",
    "        break\n",
    "    case 3: \n",
    "        console.log(\"three\")\n",
    "        break\n",
    "    case 4:\n",
    "        console.log(\"four\")\n",
    "        break\n",
    "    case 2:\n",
    "        console.log(\"two\")\n",
    "        break\n",
    "}"
   ]
  },
  {
   "cell_type": "code",
   "execution_count": 22,
   "id": "7334d32b",
   "metadata": {},
   "outputs": [
    {
     "name": "stdout",
     "output_type": "stream",
     "text": [
      "no match\n",
      "2\n"
     ]
    }
   ],
   "source": [
    "switch (2){\n",
    "    default:\n",
    "        console.log(\"no match\")\n",
    "    case 5:\n",
    "        console.log(2)\n",
    "        break\n",
    "    case 3: \n",
    "        console.log(\"three\")\n",
    "        break\n",
    "    case 4:\n",
    "        console.log(\"four\")\n",
    "        break\n",
    "    case 8:\n",
    "        console.log(\"two\")\n",
    "        break\n",
    "}"
   ]
  },
  {
   "cell_type": "markdown",
   "id": "870a4eaa",
   "metadata": {},
   "source": [
    "## 5.4 Loops"
   ]
  },
  {
   "cell_type": "markdown",
   "id": "b0446cf5",
   "metadata": {},
   "source": [
    "To understand conditional statements, we imagined the JavaScript interpreter following\n",
    "a branching path through your source code. The looping statements are those that\n",
    "bend that path back upon itself to repeat portions of your code. JavaScript has five looping statements: ``while, do/while, for, for/of (and its for/await variant), and for/in.`` The following subsections explain each in turn. One common use for loops is to iterate over the elements of an array. §7.6 discusses this kind of loop in detail and\n",
    "covers special looping methods defined by the Array class."
   ]
  },
  {
   "cell_type": "markdown",
   "id": "16d8487a",
   "metadata": {},
   "source": [
    "## 5.4.1 while"
   ]
  },
  {
   "cell_type": "markdown",
   "id": "56671dd7",
   "metadata": {},
   "source": [
    "Just as the if statement is JavaScript’s basic conditional, the while statement is JavaScript’s\n",
    "basic loop. It has the following syntax:"
   ]
  },
  {
   "cell_type": "markdown",
   "id": "fe22ac79",
   "metadata": {},
   "source": [
    "````js\n",
    "while (expression)\n",
    "    statement\n",
    "````"
   ]
  },
  {
   "cell_type": "markdown",
   "id": "2d4ea5af",
   "metadata": {},
   "source": [
    "To execute a while statement, the interpreter first evaluates expression. If the value of\n",
    "the expression is falsy, then the interpreter skips over the statement that serves as the\n",
    "loop body and moves on to the next statement in the program. If, on the other hand,\n",
    "the expression is truthy, the interpreter executes the statement and repeats, jumping\n",
    "back to the top of the loop and evaluating expression again. Another way to say this is\n",
    "that the interpreter executes statement repeatedly while the expression is truthy. Note\n",
    "that you can create an infinite loop with the syntax while(true)."
   ]
  },
  {
   "cell_type": "markdown",
   "id": "05c2318b",
   "metadata": {},
   "source": [
    "Usually, you do not want JavaScript to perform exactly the same operation over and\n",
    "over again. In almost every loop, one or more variables change with each iteration of\n",
    "the loop. Since the variables change, the actions performed by executing statement\n",
    "may differ each time through the loop. Furthermore, if the changing variable or variables\n",
    "are involved in expression, the value of the expression may be different each\n",
    "time through the loop. This is important; otherwise, an expression that starts off truthy\n",
    "would never change, and the loop would never end! Here is an example of a\n",
    "while loop that prints the numbers from 0 to 9:"
   ]
  },
  {
   "cell_type": "code",
   "execution_count": 1,
   "id": "7934e122",
   "metadata": {},
   "outputs": [
    {
     "name": "stdout",
     "output_type": "stream",
     "text": [
      "0\n",
      "1\n",
      "2\n",
      "3\n",
      "4\n",
      "5\n",
      "6\n",
      "7\n",
      "8\n",
      "9\n",
      "count is equal to:  10\n"
     ]
    }
   ],
   "source": [
    "let count = 0;\n",
    "while(count < 10) {\n",
    "    console.log(count);\n",
    "    count++;\n",
    "}\n",
    "console.log(\"count is equal to: \", count)"
   ]
  },
  {
   "cell_type": "markdown",
   "id": "17e10e33",
   "metadata": {},
   "source": [
    "As you can see, the variable count starts off at 0 and is incremented each time the\n",
    "body of the loop runs. Once the loop has executed 10 times, the expression becomes false (i.e., the variable count is no longer less than 10), the while statement finishes,\n",
    "and the interpreter can move on to the next statement in the program. Many loops\n",
    "have a counter variable like count. The variable names i, j, and k are commonly used\n",
    "as loop counters, though you should use more descriptive names if it makes your\n",
    "code easier to understand."
   ]
  },
  {
   "cell_type": "markdown",
   "id": "cc97be99",
   "metadata": {},
   "source": [
    "## 5.4.2 do/while"
   ]
  },
  {
   "cell_type": "markdown",
   "id": "7729da3b",
   "metadata": {},
   "source": [
    "The do/while loop is like a while loop, except that the loop expression is tested at the\n",
    "bottom of the loop rather than at the top. This means that the body of the loop is\n",
    "always executed at least once. The syntax is:"
   ]
  },
  {
   "cell_type": "markdown",
   "id": "fe910ad8",
   "metadata": {},
   "source": [
    "````js\n",
    "do\n",
    "    statement\n",
    "while (expression);\n",
    "````"
   ]
  },
  {
   "cell_type": "markdown",
   "id": "d0abeaa8",
   "metadata": {},
   "source": [
    "The do/while loop is less commonly used than its while cousin—in practice, it is\n",
    "somewhat uncommon to be certain that you want a loop to execute at least once.\n",
    "Here’s an example of a do/while loop:"
   ]
  },
  {
   "cell_type": "code",
   "execution_count": 4,
   "id": "11f68e04",
   "metadata": {},
   "outputs": [],
   "source": [
    "function printArray(a) {\n",
    "    let len = a.length, i = 0;\n",
    "    if (len === 0) {\n",
    "        console.log(\"Empty Array\");\n",
    "    } else {\n",
    "        do {\n",
    "            console.log(a[i]);\n",
    "        } while(++i < len);\n",
    "    }\n",
    "}"
   ]
  },
  {
   "cell_type": "code",
   "execution_count": 5,
   "id": "a3db228d",
   "metadata": {},
   "outputs": [
    {
     "name": "stdout",
     "output_type": "stream",
     "text": [
      "1\n",
      "2\n",
      "3\n",
      "4\n",
      "5\n",
      "6\n"
     ]
    }
   ],
   "source": [
    "printArray([1,2,3,4,5,6])"
   ]
  },
  {
   "cell_type": "markdown",
   "id": "ac377c08",
   "metadata": {},
   "source": [
    "There are a couple of syntactic differences between the do/while loop and the ordinary\n",
    "while loop. First, the do loop requires both the do keyword (to mark the beginning\n",
    "of the loop) and the while keyword (to mark the end and introduce the loop\n",
    "condition). Also, the do loop must always be terminated with a semicolon. The while\n",
    "loop doesn’t need a semicolon if the loop body is enclosed in curly braces."
   ]
  },
  {
   "cell_type": "markdown",
   "id": "7c6eae20",
   "metadata": {},
   "source": [
    "## 5.4.3 for"
   ]
  },
  {
   "cell_type": "markdown",
   "id": "fbf31df3",
   "metadata": {},
   "source": [
    "The for statement provides a looping construct that is often more convenient than\n",
    "the while statement. The for statement simplifies loops that follow a common pattern.\n",
    "Most loops have a counter variable of some kind. This variable is initialized\n",
    "before the loop starts and is tested before each iteration of the loop. Finally, the\n",
    "counter variable is incremented or otherwise updated at the end of the loop body, just\n",
    "before the variable is tested again. In this kind of loop, the initialization, the test, and\n",
    "the update are the three crucial manipulations of a loop variable. The for statement encodes each of these three manipulations as an expression and makes those expressions\n",
    "an explicit part of the loop syntax:"
   ]
  },
  {
   "cell_type": "markdown",
   "id": "02e0d0b4",
   "metadata": {},
   "source": [
    "````js\n",
    "for(initialize ; test ; increment)\n",
    "    statement\n",
    "````"
   ]
  },
  {
   "cell_type": "markdown",
   "id": "7b159693",
   "metadata": {},
   "source": [
    "initialize, test, and increment are three expressions (separated by semicolons) that are\n",
    "responsible for initializing, testing, and incrementing the loop variable. Putting them\n",
    "all in the first line of the loop makes it easy to understand what a for loop is doing\n",
    "and prevents mistakes such as forgetting to initialize or increment the loop variable."
   ]
  },
  {
   "cell_type": "markdown",
   "id": "13d83680",
   "metadata": {},
   "source": [
    "The simplest way to explain how a for loop works is to show the equivalent while\n",
    "loop:"
   ]
  },
  {
   "cell_type": "markdown",
   "id": "645c9bd9",
   "metadata": {},
   "source": [
    "````js\n",
    "initialize;\n",
    "while(test) {\n",
    "    statement\n",
    "    increment;\n",
    "}\n",
    "````"
   ]
  },
  {
   "cell_type": "markdown",
   "id": "82e12b04",
   "metadata": {},
   "source": [
    "In other words, the initialize expression is evaluated once, before the loop begins. To\n",
    "be useful, this expression must have side effects (usually an assignment). JavaScript\n",
    "also allows initialize to be a variable declaration statement so that you can declare and\n",
    "initialize a loop counter at the same time. The test expression is evaluated before each\n",
    "iteration and controls whether the body of the loop is executed. If test evaluates to a\n",
    "truthy value, the statement that is the body of the loop is executed. Finally, the increment\n",
    "expression is evaluated. Again, this must be an expression with side effects in\n",
    "order to be useful. Generally, it is either an assignment expression, or it uses the ++\n",
    "or -- operators."
   ]
  },
  {
   "cell_type": "markdown",
   "id": "ebd03862",
   "metadata": {},
   "source": [
    "We can print the numbers from 0 to 9 with a for loop like the following. Contrast it\n",
    "with the equivalent while loop shown in the previous section:"
   ]
  },
  {
   "cell_type": "code",
   "execution_count": 1,
   "id": "a925b53b",
   "metadata": {},
   "outputs": [
    {
     "name": "stdout",
     "output_type": "stream",
     "text": [
      "0\n",
      "1\n",
      "2\n",
      "3\n",
      "4\n",
      "5\n",
      "6\n",
      "7\n",
      "8\n",
      "9\n"
     ]
    }
   ],
   "source": [
    "for(let count = 0; count < 10; count++) {\n",
    "console.log(count);\n",
    "}"
   ]
  },
  {
   "cell_type": "code",
   "execution_count": 2,
   "id": "720dc4a8",
   "metadata": {},
   "outputs": [
    {
     "name": "stdout",
     "output_type": "stream",
     "text": [
      "0\n",
      "1\n",
      "2\n",
      "3\n",
      "4\n",
      "5\n",
      "6\n",
      "7\n",
      "8\n",
      "9\n"
     ]
    },
    {
     "data": {
      "text/plain": [
       "9"
      ]
     },
     "execution_count": 2,
     "metadata": {},
     "output_type": "execute_result"
    }
   ],
   "source": [
    "let count = 0 \n",
    "while(count < 10){\n",
    "    console.log(count);\n",
    "    count++\n",
    "}"
   ]
  },
  {
   "cell_type": "markdown",
   "id": "2ef5ac79",
   "metadata": {},
   "source": [
    "Loops can become a lot more complex than this simple example, of course, and\n",
    "sometimes multiple variables change with each iteration of the loop. This situation is\n",
    "the only place that the comma operator is commonly used in JavaScript; it provides a\n",
    "way to combine multiple initialization and increment expressions into a single\n",
    "expression suitable for use in a for loop:"
   ]
  },
  {
   "cell_type": "code",
   "execution_count": 1,
   "id": "3d06aa26",
   "metadata": {},
   "outputs": [
    {
     "data": {
      "text/plain": [
       "165"
      ]
     },
     "execution_count": 1,
     "metadata": {},
     "output_type": "execute_result"
    }
   ],
   "source": [
    "let i, j, sum = 0;\n",
    "for(i = 0, j = 10 ; i < 10 ; i++, j--) {\n",
    "    sum += i * j;\n",
    "}"
   ]
  },
  {
   "cell_type": "code",
   "execution_count": 2,
   "id": "c0af3ba5",
   "metadata": {},
   "outputs": [
    {
     "data": {
      "text/plain": [
       "165"
      ]
     },
     "execution_count": 2,
     "metadata": {},
     "output_type": "execute_result"
    }
   ],
   "source": [
    "for(let i = 0, j = 10, sum = 0 ; i < 10 ; i++, j--) {\n",
    "    sum += i * j;\n",
    "}"
   ]
  },
  {
   "cell_type": "markdown",
   "id": "1d19c8ff",
   "metadata": {},
   "source": [
    "In all our loop examples so far, the loop variable has been numeric. This is quite common\n",
    "but is not necessary. The following code uses a for loop to traverse a linked list\n",
    "data structure and return the last object in the list (i.e., the first object that does not\n",
    "have a next property):"
   ]
  },
  {
   "cell_type": "code",
   "execution_count": 4,
   "id": "56070cbb",
   "metadata": {},
   "outputs": [],
   "source": [
    "function tail(o) {                          // Return the tail of linked list o\n",
    "    for(; o.next; o = o.next) /* empty */ ; // Traverse while o.next is truthy\n",
    "    return o;\n",
    "}"
   ]
  },
  {
   "cell_type": "markdown",
   "id": "f76ed73a",
   "metadata": {},
   "source": [
    "Note that this code has no initialize expression. Any of the three expressions may be\n",
    "omitted from a for loop, but the two semicolons are required. If you omit the test\n",
    "expression, the loop repeats forever, and for(;;) is another way of writing an infinite\n",
    "loop, like while(true)."
   ]
  },
  {
   "cell_type": "markdown",
   "id": "84d07949",
   "metadata": {},
   "source": [
    "## 5.4.4 for/of"
   ]
  },
  {
   "cell_type": "markdown",
   "id": "0afd78e1",
   "metadata": {},
   "source": [
    "ES6 defines a new loop statement: for/of. This new kind of loop uses the for keyword\n",
    "but is a completely different kind of loop than the regular for loop. (It is also\n",
    "completely different than the older for/in loop that we’ll describe in §5.4.5.)"
   ]
  },
  {
   "cell_type": "markdown",
   "id": "39341d29",
   "metadata": {},
   "source": [
    "The for/of loop works with ``iterable objects``. We’ll explain exactly what it means for\n",
    "an object to be iterable in Chapter 12, but for this chapter, it is enough to know that\n",
    "arrays, strings, sets, and maps are iterable: they represent a sequence or set of elements\n",
    "that you can loop or iterate through using a for/of loop."
   ]
  },
  {
   "cell_type": "markdown",
   "id": "a7ca11b7",
   "metadata": {},
   "source": [
    "Here, for example, is how we can use for/of to loop through the elements of an array\n",
    "of numbers and compute their sum:"
   ]
  },
  {
   "cell_type": "code",
   "execution_count": 1,
   "id": "35b52e9d",
   "metadata": {},
   "outputs": [
    {
     "data": {
      "text/plain": [
       "45"
      ]
     },
     "execution_count": 1,
     "metadata": {},
     "output_type": "execute_result"
    }
   ],
   "source": [
    "let data = [1, 2, 3, 4, 5, 6, 7, 8, 9], sum = 0;\n",
    "for(let element of data) {\n",
    "    sum += element;\n",
    "}\n",
    "sum // => 45"
   ]
  },
  {
   "cell_type": "markdown",
   "id": "39c43ef2",
   "metadata": {},
   "source": [
    "Superficially, the syntax looks like a regular for loop: the for keyword is followed by\n",
    "parentheses that contain details about what the loop should do. In this case, the\n",
    "parentheses contain a variable declaration (or, for variables that have already been\n",
    "declared, simply the name of the variable) followed by the of keyword and an expression\n",
    "that evaluates to an iterable object, like the data array in this case. As with all\n",
    "loops, the body of a for/of loop follows the parentheses, typically within curly\n",
    "braces."
   ]
  },
  {
   "cell_type": "markdown",
   "id": "6cedafb0",
   "metadata": {},
   "source": [
    "In the code just shown, the loop body runs once for each element of the data array.\n",
    "Before each execution of the loop body, the next element of the array is assigned to\n",
    "the element variable. Array elements are iterated in order from first to last."
   ]
  },
  {
   "cell_type": "markdown",
   "id": "ba4807a0",
   "metadata": {},
   "source": [
    "Arrays are iterated ``“live”—changes ``made during the iteration may affect the outcome\n",
    "of the iteration. If we modify the preceding code by adding the line data.push(sum);\n",
    "inside the loop body, then we create an infinite loop because the iteration can never\n",
    "reach the last element of the array."
   ]
  },
  {
   "cell_type": "markdown",
   "id": "a7ff116a",
   "metadata": {},
   "source": [
    "## for/of with objects"
   ]
  },
  {
   "cell_type": "markdown",
   "id": "3366fd39",
   "metadata": {},
   "source": [
    "Objects are not (by default) iterable. Attempting to use for/of on a regular object\n",
    "throws a TypeError at runtime:"
   ]
  },
  {
   "cell_type": "code",
   "execution_count": 1,
   "id": "58f29287",
   "metadata": {},
   "outputs": [
    {
     "ename": "TypeError",
     "evalue": "o is not iterable",
     "output_type": "error",
     "traceback": [
      "evalmachine.<anonymous>:2",
      "for(let element of o) { // Throws TypeError because o is not iterable",
      "                   ^",
      "",
      "TypeError: o is not iterable",
      "    at evalmachine.<anonymous>:2:20",
      "    at Script.runInThisContext (vm.js:122:20)",
      "    at Object.runInThisContext (vm.js:329:38)",
      "    at run ([eval]:1054:15)",
      "    at onRunRequest ([eval]:888:18)",
      "    at onMessage ([eval]:848:13)",
      "    at process.emit (events.js:198:13)",
      "    at emit (internal/child_process.js:832:12)",
      "    at process._tickCallback (internal/process/next_tick.js:63:19)"
     ]
    }
   ],
   "source": [
    "let o = { x: 1, y: 2, z: 3 };\n",
    "for(let element of o) { // Throws TypeError because o is not iterable\n",
    "    console.log(element);\n",
    "}"
   ]
  },
  {
   "cell_type": "markdown",
   "id": "1293037b",
   "metadata": {},
   "source": [
    "If you want to iterate through the properties of an object, you can use the for/in loop\n",
    "(introduced in §5.4.5), or use for/of with the Object.keys() method:"
   ]
  },
  {
   "cell_type": "code",
   "execution_count": 3,
   "id": "9290f31e",
   "metadata": {},
   "outputs": [
    {
     "data": {
      "text/plain": [
       "'xyz'"
      ]
     },
     "execution_count": 3,
     "metadata": {},
     "output_type": "execute_result"
    }
   ],
   "source": [
    "let o1 = { x: 1, y: 2, z: 3 };\n",
    "let keys = \"\";\n",
    "for(let k of Object.keys(o1)) {\n",
    "    keys += k;\n",
    "}\n",
    "keys // => \"xyz\""
   ]
  },
  {
   "cell_type": "code",
   "execution_count": 4,
   "id": "8ea6d4f1",
   "metadata": {},
   "outputs": [
    {
     "ename": "SyntaxError",
     "evalue": "Unexpected token {",
     "output_type": "error",
     "traceback": [
      "evalmachine.<anonymous>:3",
      "for(let k of o1.keys() {",
      "                       ^",
      "",
      "SyntaxError: Unexpected token {",
      "    at new Script (vm.js:83:7)",
      "    at createScript (vm.js:277:10)",
      "    at Object.runInThisContext (vm.js:329:10)",
      "    at run ([eval]:1054:15)",
      "    at onRunRequest ([eval]:888:18)",
      "    at onMessage ([eval]:848:13)",
      "    at process.emit (events.js:198:13)",
      "    at emit (internal/child_process.js:832:12)",
      "    at process._tickCallback (internal/process/next_tick.js:63:19)"
     ]
    }
   ],
   "source": [
    "let o1 = { x: 1, y: 2, z: 3 };\n",
    "let keys = \"\";\n",
    "for(let k of o1.keys() {\n",
    "    keys += k;\n",
    "}\n",
    "keys // => \"xyz\""
   ]
  },
  {
   "cell_type": "markdown",
   "id": "5d24248d",
   "metadata": {},
   "source": [
    "This works because Object.keys() returns an array of property names for an object,\n",
    "and arrays are iterable with for/of. Note also that this iteration of the keys of an\n",
    "object ``is not live`` as the array example above was—changes to the object o made in the\n",
    "loop body will have no effect on the iteration. If you don’t care about the keys of an\n",
    "object, you can also iterate through their corresponding values like this:"
   ]
  },
  {
   "cell_type": "code",
   "execution_count": 6,
   "id": "4911d10a",
   "metadata": {},
   "outputs": [
    {
     "data": {
      "text/plain": [
       "6"
      ]
     },
     "execution_count": 6,
     "metadata": {},
     "output_type": "execute_result"
    }
   ],
   "source": [
    "let sum = 0;\n",
    "for(let v of Object.values(o)) {\n",
    "    sum += v;\n",
    "}\n",
    "sum // => 6"
   ]
  },
  {
   "cell_type": "markdown",
   "id": "a97e9e73",
   "metadata": {},
   "source": [
    "And if you are interested in both the keys and the values of an object’s properties, you\n",
    "can use for/of with ``Object.entries()`` and destructuring assignment:"
   ]
  },
  {
   "cell_type": "code",
   "execution_count": 7,
   "id": "16f58f48",
   "metadata": {},
   "outputs": [
    {
     "data": {
      "text/plain": [
       "'x1y2z3'"
      ]
     },
     "execution_count": 7,
     "metadata": {},
     "output_type": "execute_result"
    }
   ],
   "source": [
    "let pairs = \"\";\n",
    "for(let [k, v] of Object.entries(o)) {\n",
    "    pairs += k + v;\n",
    "}\n",
    "pairs // => \"x1y2z3\""
   ]
  },
  {
   "cell_type": "markdown",
   "id": "b9286067",
   "metadata": {},
   "source": [
    "Object.entries() returns an array of arrays, where each inner array represents a\n",
    "key/value pair for one property of the object. We use destructuring assignment in this\n",
    "code example to unpack those inner arrays into two individual variables."
   ]
  },
  {
   "cell_type": "markdown",
   "id": "e5df4b5d",
   "metadata": {},
   "source": [
    "## for/of with strings"
   ]
  },
  {
   "cell_type": "markdown",
   "id": "2064c23b",
   "metadata": {},
   "source": [
    "Strings are iterable character-by-character in ES6:"
   ]
  },
  {
   "cell_type": "code",
   "execution_count": 8,
   "id": "381f1e82",
   "metadata": {},
   "outputs": [
    {
     "data": {
      "text/plain": [
       "{ m: 1, i: 4, s: 4, p: 2 }"
      ]
     },
     "execution_count": 8,
     "metadata": {},
     "output_type": "execute_result"
    }
   ],
   "source": [
    "let frequency = {};\n",
    "for(let letter of \"mississippi\") {\n",
    "    if (frequency[letter]) {\n",
    "        frequency[letter]++;\n",
    "    } else {\n",
    "        frequency[letter] = 1;\n",
    "    }\n",
    "}\n",
    "frequency // => {m: 1, i: 4, s: 4, p: 2}"
   ]
  },
  {
   "cell_type": "markdown",
   "id": "3dc099f7",
   "metadata": {},
   "source": [
    "Note that strings are iterated by Unicode codepoint, not by UTF-16 character. The\n",
    "string “I ❤ ” has a .length of 5 (because the two emoji characters each require two\n",
    "UTF-16 characters to represent). But if you iterate that string with for/of, the loop\n",
    "body will run three times, once for each of the three code points “I”, “❤”, and “ .”"
   ]
  },
  {
   "cell_type": "markdown",
   "id": "538293fe",
   "metadata": {},
   "source": [
    "## for/of with Set and Map"
   ]
  },
  {
   "cell_type": "markdown",
   "id": "0477957f",
   "metadata": {},
   "source": [
    "The built-in ES6 Set and Map classes are iterable. When you iterate a Set with for/of,\n",
    "the loop body runs once for each element of the set. You could use code like this to\n",
    "print the unique words in a string of text:"
   ]
  },
  {
   "cell_type": "code",
   "execution_count": 1,
   "id": "e2493040",
   "metadata": {},
   "outputs": [
    {
     "data": {
      "text/plain": [
       "[ 'Na', 'na', 'Batman!' ]"
      ]
     },
     "execution_count": 1,
     "metadata": {},
     "output_type": "execute_result"
    }
   ],
   "source": [
    "let text = \"Na na na na na na na na Batman!\";\n",
    "let wordSet = new Set(text.split(\" \"));\n",
    "let unique = [];\n",
    "for(let word of wordSet) {\n",
    "    unique.push(word);\n",
    "}\n",
    "unique // => [\"Na\", \"na\", \"Batman!\"]"
   ]
  },
  {
   "cell_type": "markdown",
   "id": "ae0d392e",
   "metadata": {},
   "source": [
    "# Don't run"
   ]
  },
  {
   "cell_type": "code",
   "execution_count": null,
   "id": "78c4d279",
   "metadata": {},
   "outputs": [],
   "source": [
    "let text = \"Na na na na na na na na Batman!\";\n",
    "let wordSet = new Set(text.split(\" \"));\n",
    "let unique = [];\n",
    "i = 0\n",
    "for(let word of wordSet) {\n",
    "wordSet.add(i);\n",
    "    i += 1\n",
    "}\n",
    "wordSet // => [\"Na\", \"na\", \"Batman!\"]"
   ]
  },
  {
   "cell_type": "markdown",
   "id": "7385e658",
   "metadata": {},
   "source": [
    "Maps are an interesting case because the iterator for a Map object does not iterate the\n",
    "Map keys, or the Map values, but key/value pairs. Each time through the iteration, the\n",
    "iterator returns an array whose first element is a key and whose second element is the\n",
    "corresponding value. Given a Map m, you could iterate and destructure its key/value\n",
    "pairs like this:"
   ]
  },
  {
   "cell_type": "code",
   "execution_count": 2,
   "id": "0836fcc6",
   "metadata": {},
   "outputs": [
    {
     "data": {
      "text/plain": [
       "'one'"
      ]
     },
     "execution_count": 2,
     "metadata": {},
     "output_type": "execute_result"
    }
   ],
   "source": [
    "let m = new Map([[1, \"one\"]]);\n",
    "for(let [key, value] of m) {\n",
    "key // => 1\n",
    "value // => \"one\"\n",
    "}\n"
   ]
  },
  {
   "cell_type": "markdown",
   "id": "ead2bde6",
   "metadata": {},
   "source": [
    "## Asynchronous iteration with for/await"
   ]
  },
  {
   "cell_type": "markdown",
   "id": "d96f4955",
   "metadata": {},
   "source": [
    "ES2018 introduces a new kind of iterator, known as an asynchronous iterator, and a\n",
    "variant on the for/of loop, known as the for/await loop that works with asynchronous\n",
    "iterators."
   ]
  },
  {
   "cell_type": "markdown",
   "id": "96da55b2",
   "metadata": {},
   "source": [
    "You’ll need to read Chapters 12 and 13 in order to understand the for/await loop,\n",
    "but here is how it looks in code:"
   ]
  },
  {
   "cell_type": "markdown",
   "id": "85622503",
   "metadata": {},
   "source": [
    "````js\n",
    "// Read chunks from an asynchronously iterable stream and print them out\n",
    "async function printStream(stream) {\n",
    "    for await (let chunk of stream) {\n",
    "        console.log(chunk);\n",
    "    }\n",
    "}\n",
    "````"
   ]
  },
  {
   "cell_type": "markdown",
   "id": "fa22cb18",
   "metadata": {},
   "source": [
    "## 5.4.5 for/in"
   ]
  },
  {
   "cell_type": "markdown",
   "id": "a3122699",
   "metadata": {},
   "source": [
    "A for/in loop looks a lot like a for/of loop, with the of keyword changed to in.\n",
    "While a for/of loop requires an iterable object after the of, a for/in loop works with\n",
    "any object after the in. The for/of loop is new in ES6, but for/in has been part of\n",
    "JavaScript since the very beginning (which is why it has the more natural sounding\n",
    "syntax)."
   ]
  },
  {
   "cell_type": "markdown",
   "id": "ec75e7b9",
   "metadata": {},
   "source": [
    "The for/in statement loops through the property names of a specified object. The\n",
    "syntax looks like this:"
   ]
  },
  {
   "cell_type": "markdown",
   "id": "06fecd08",
   "metadata": {},
   "source": [
    "````js\n",
    "for (variable in object)\n",
    "    statement\n",
    "````"
   ]
  },
  {
   "cell_type": "markdown",
   "id": "541034a6",
   "metadata": {},
   "source": [
    "variable typically names a variable, but it may be a variable declaration or anything\n",
    "suitable as the left-hand side of an assignment expression. object is an expression that\n",
    "evaluates to an object. As usual, statement is the statement or statement block that\n",
    "serves as the body of the loop."
   ]
  },
  {
   "cell_type": "markdown",
   "id": "3c0cc365",
   "metadata": {},
   "source": [
    "And you might use a for/in loop like this:"
   ]
  },
  {
   "cell_type": "markdown",
   "id": "46acd31b",
   "metadata": {},
   "source": [
    "````js\n",
    "for(let p in o) {           // Assign property names of o to variable p\n",
    "    console.log(o[p]);      // Print the value of each property\n",
    "}\n",
    "````"
   ]
  },
  {
   "cell_type": "markdown",
   "id": "1f6ab711",
   "metadata": {},
   "source": [
    "To execute a for/in statement, the JavaScript interpreter first evaluates the object\n",
    "expression. If it evaluates to null or undefined, the interpreter skips the loop and\n",
    "moves on to the next statement. The interpreter now executes the body of the loop\n",
    "once for each enumerable property of the object. Before each iteration, however, the\n",
    "interpreter evaluates the variable expression and assigns the name of the property (a\n",
    "string value) to it."
   ]
  },
  {
   "cell_type": "markdown",
   "id": "dabab597",
   "metadata": {},
   "source": [
    "Note that the variable in the for/in loop may be an arbitrary expression, as long as it\n",
    "evaluates to something suitable for the left side of an assignment. This expression is evaluated each time through the loop, which means that it may evaluate differently\n",
    "each time. For example, you can use code like the following to copy the names of all\n",
    "object properties into an array:"
   ]
  },
  {
   "cell_type": "code",
   "execution_count": 5,
   "id": "36660570",
   "metadata": {},
   "outputs": [],
   "source": [
    "let o = { x: 1, y: 2, z: 3 };\n",
    "let a = [], i = 0;\n",
    "for(a[i++] in o) /* empty */;"
   ]
  },
  {
   "cell_type": "code",
   "execution_count": 6,
   "id": "2520d34b",
   "metadata": {},
   "outputs": [
    {
     "data": {
      "text/plain": [
       "[ 'x', 'y', 'z' ]"
      ]
     },
     "execution_count": 6,
     "metadata": {},
     "output_type": "execute_result"
    }
   ],
   "source": [
    "a"
   ]
  },
  {
   "cell_type": "markdown",
   "id": "70640875",
   "metadata": {},
   "source": [
    "JavaScript arrays are simply a specialized kind of object, and array indexes are object\n",
    "properties that can be enumerated with a for/in loop. For example, following the\n",
    "previous code with this line enumerates the array indexes 0, 1, and 2:"
   ]
  },
  {
   "cell_type": "code",
   "execution_count": 7,
   "id": "d220e5aa",
   "metadata": {},
   "outputs": [
    {
     "name": "stdout",
     "output_type": "stream",
     "text": [
      "0\n",
      "1\n",
      "2\n"
     ]
    }
   ],
   "source": [
    "for(let i in a) console.log(i);"
   ]
  },
  {
   "cell_type": "markdown",
   "id": "322b880b",
   "metadata": {},
   "source": [
    "I find that a common source of bugs in my own code is the accidental use of for/in\n",
    "with arrays when I meant to use for/of. When working with arrays, you almost\n",
    "always want to use for/of instead of for/in."
   ]
  },
  {
   "cell_type": "markdown",
   "id": "18be7894",
   "metadata": {},
   "source": [
    "The for/in loop does not actually enumerate all properties of an object. It does not\n",
    "enumerate properties whose names are symbols. And of the properties whose names\n",
    "are strings, it only loops over the enumerable properties (see §14.1). The various\n",
    "built-in methods defined by core JavaScript are not enumerable. All objects have a\n",
    "toString() method, for example, but the for/in loop does not enumerate this\n",
    "toString property. In addition to built-in methods, many other properties of the\n",
    "built-in objects are non-enumerable. All properties and methods defined by your\n",
    "code are enumerable, by default. (You can make them non-enumerable using techniques\n",
    "explained in §14.1.)"
   ]
  },
  {
   "cell_type": "markdown",
   "id": "dfec3ab8",
   "metadata": {},
   "source": [
    "Enumerable inherited properties (see §6.3.2) are also enumerated by the for/in loop.\n",
    "This means that if you use for/in loops and also use code that defines properties that\n",
    "are inherited by all objects, then your loop may not behave in the way you expect. For\n",
    "this reason, many programmers prefer to use a for/of loop with Object.keys()\n",
    "instead of a for/in loop."
   ]
  },
  {
   "cell_type": "markdown",
   "id": "b9bab2c0",
   "metadata": {},
   "source": [
    "If the body of a for/in loop deletes a property that has not yet been enumerated, that\n",
    "property will not be enumerated. If the body of the loop defines new properties on\n",
    "the object, those properties may or may not be enumerated. See §6.6.1 for more information\n",
    "on the order in which for/in enumerates the properties of an object."
   ]
  },
  {
   "cell_type": "markdown",
   "id": "debc7041",
   "metadata": {},
   "source": [
    "## 5.5 Jumps"
   ]
  },
  {
   "cell_type": "markdown",
   "id": "d96be358",
   "metadata": {},
   "source": [
    "Another category of JavaScript statements are jump statements. As the name implies,\n",
    "these cause the JavaScript interpreter to jump to a new location in the source code.\n",
    "The break statement makes the interpreter jump to the end of a loop or other statement.\n",
    "continue makes the interpreter skip the rest of the body of a loop and jump\n",
    "back to the top of a loop to begin a new iteration. JavaScript allows statements to be named, or labeled, and break and continue can identify the target loop or other statement\n",
    "label."
   ]
  },
  {
   "cell_type": "markdown",
   "id": "4c4e8ed4",
   "metadata": {},
   "source": [
    "The return statement makes the interpreter jump from a function invocation back to\n",
    "the code that invoked it and also supplies the value for the invocation. The throw\n",
    "statement is a kind of interim return from a generator function. The throw statement\n",
    "raises, or throws, an exception and is designed to work with the try/catch/finally\n",
    "statement, which establishes a block of exception-handling code. This is a complicated\n",
    "kind of jump statement: when an exception is thrown, the interpreter jumps to\n",
    "the nearest enclosing exception handler, which may be in the same function or up the\n",
    "call stack in an invoking function."
   ]
  },
  {
   "cell_type": "markdown",
   "id": "7f08c257",
   "metadata": {},
   "source": [
    "Details about each of these jump statements are in the sections that follow."
   ]
  },
  {
   "cell_type": "markdown",
   "id": "d5009382",
   "metadata": {},
   "source": [
    "## 5.5.1 Labeled Statements"
   ]
  },
  {
   "cell_type": "markdown",
   "id": "3bd6c113",
   "metadata": {},
   "source": [
    "Any statement may be labeled by preceding it with an identifier and a colon:"
   ]
  },
  {
   "cell_type": "markdown",
   "id": "ba85cfec",
   "metadata": {},
   "source": [
    "       identifier: statement"
   ]
  },
  {
   "cell_type": "markdown",
   "id": "ea1ccf10",
   "metadata": {},
   "source": [
    "By labeling a statement, you give it a name that you can use to refer to it elsewhere in\n",
    "your program. You can label any statement, although it is only useful to label statements\n",
    "that have bodies, such as loops and conditionals. By giving a loop a name, you\n",
    "can use break and continue statements inside the body of the loop to exit the loop or\n",
    "to jump directly to the top of the loop to begin the next iteration. break and continue\n",
    "are the only JavaScript statements that use statement labels; they are covered in the\n",
    "following subsections. Here is an example of a labeled while loop and a continue\n",
    "statement that uses the label."
   ]
  },
  {
   "cell_type": "markdown",
   "id": "c4a7ee20",
   "metadata": {},
   "source": [
    "````js\n",
    "mainloop: while(token !== null) {\n",
    "    // Code omitted...\n",
    "    continue mainloop; // Jump to the next iteration of the named loop\n",
    "    // More code omitted...\n",
    "}\n",
    "````"
   ]
  },
  {
   "cell_type": "markdown",
   "id": "f1e90a06",
   "metadata": {},
   "source": [
    "The identifier you use to label a statement can be any legal JavaScript identifier that is\n",
    "not a reserved word. The namespace for labels is different than the namespace for\n",
    "variables and functions, so you can use the same identifier as a statement label and as\n",
    "a variable or function name. Statement labels are defined only within the statement to\n",
    "which they apply (and within its substatements, of course). A statement may not have\n",
    "the same label as a statement that contains it, but two statements may have the same\n",
    "label as long as neither one is nested within the other. Labeled statements may themselves\n",
    "be labeled. Effectively, this means that any statement may have multiple labels."
   ]
  },
  {
   "cell_type": "markdown",
   "id": "69d0bfe9",
   "metadata": {},
   "source": [
    "## 5.5.2 break"
   ]
  },
  {
   "cell_type": "markdown",
   "id": "0e1928ec",
   "metadata": {},
   "source": [
    "The break statement, used alone, causes the innermost enclosing loop or switch\n",
    "statement to exit immediately. Its syntax is simple:"
   ]
  },
  {
   "cell_type": "markdown",
   "id": "39f95e11",
   "metadata": {},
   "source": [
    "````js\n",
    "break;\n",
    "````"
   ]
  },
  {
   "cell_type": "markdown",
   "id": "3fc55c1e",
   "metadata": {},
   "source": [
    "Because it causes a loop or switch to exit, this form of the break statement is legal\n",
    "only if it appears inside one of these statements."
   ]
  },
  {
   "cell_type": "markdown",
   "id": "d5b4aa82",
   "metadata": {},
   "source": [
    "You’ve already seen examples of the break statement within a switch statement. In\n",
    "loops, it is typically used to exit prematurely when, for whatever reason, there is no\n",
    "longer any need to complete the loop. When a loop has complex termination conditions,\n",
    "it is often easier to implement some of these conditions with break statements\n",
    "rather than trying to express them all in a single loop expression. The following code\n",
    "searches the elements of an array for a particular value. The loop terminates in the\n",
    "normal way when it reaches the end of the array; it terminates with a break statement\n",
    "if it finds what it is looking for in the array:"
   ]
  },
  {
   "cell_type": "markdown",
   "id": "b431a338",
   "metadata": {},
   "source": [
    "````js\n",
    "for(let i = 0; i < a.length; i++) {\n",
    "    if (a[i] === target) break;\n",
    "}\n",
    "````"
   ]
  },
  {
   "cell_type": "markdown",
   "id": "08c722a0",
   "metadata": {},
   "source": [
    "JavaScript also allows the break keyword to be followed by a statement label (just the\n",
    "identifier, with no colon):"
   ]
  },
  {
   "cell_type": "markdown",
   "id": "6026c659",
   "metadata": {},
   "source": [
    "````js\n",
    "break labelname;\n",
    "````"
   ]
  },
  {
   "cell_type": "markdown",
   "id": "22e4fa8d",
   "metadata": {},
   "source": [
    "When break is used with a label, it jumps to the end of, or terminates, the enclosing\n",
    "statement that has the specified label. It is a syntax error to use break in this form if\n",
    "there is no enclosing statement with the specified label. With this form of the break\n",
    "statement, the named statement need not be a loop or switch: break can “break out\n",
    "of ” any enclosing statement. This statement can even be a statement block grouped\n",
    "within curly braces for the sole purpose of naming the block with a label."
   ]
  },
  {
   "cell_type": "markdown",
   "id": "868f2baf",
   "metadata": {},
   "source": [
    "A newline is not allowed between the break keyword and the labelname. This is a\n",
    "result of JavaScript’s automatic insertion of omitted semicolons: if you put a line terminator\n",
    "between the break keyword and the label that follows, JavaScript assumes\n",
    "you meant to use the simple, unlabeled form of the statement and treats the line terminator\n",
    "as a semicolon. (See §2.6.)"
   ]
  },
  {
   "cell_type": "markdown",
   "id": "f18414ad",
   "metadata": {},
   "source": [
    "You need the labeled form of the break statement when you want to break out of a\n",
    "statement that is not the nearest enclosing loop or a switch. The following code\n",
    "demonstrates:"
   ]
  },
  {
   "cell_type": "markdown",
   "id": "14ff99e4",
   "metadata": {},
   "source": [
    "````js\n",
    "let matrix = getData(); // Get a 2D array of numbers from somewhere\n",
    "// Now sum all the numbers in the matrix.\n",
    "let sum = 0, success = false;\n",
    "// Start with a labeled statement that we can break out of if errors occur\n",
    "computeSum: if (matrix) {\n",
    "    for(let x = 0; x < matrix.length; x++) {\n",
    "        let row = matrix[x];\n",
    "        if (!row) break computeSum;\n",
    "        for(let y = 0; y < row.length; y++) {\n",
    "            let cell = row[y];\n",
    "            if (isNaN(cell)) break computeSum;\n",
    "            sum += cell;\n",
    "        }\n",
    "    }\n",
    "    success = true;\n",
    "}\n",
    "// The break statements jump here. If we arrive here with success == false\n",
    "// then there was something wrong with the matrix we were given.\n",
    "// Otherwise, sum contains the sum of all cells of the matrix.\n",
    "````"
   ]
  },
  {
   "cell_type": "markdown",
   "id": "daa8242f",
   "metadata": {},
   "source": [
    "Finally, note that a break statement, with or without a label, can not transfer control\n",
    "across function boundaries. You cannot label a function definition statement, for\n",
    "example, and then use that label inside the function."
   ]
  },
  {
   "cell_type": "markdown",
   "id": "89b6c159",
   "metadata": {},
   "source": [
    "## 5.5.3 continue"
   ]
  },
  {
   "cell_type": "markdown",
   "id": "88be1a42",
   "metadata": {},
   "source": [
    "The continue statement is similar to the break statement. Instead of exiting a loop,\n",
    "however, continue restarts a loop at the next iteration. The continue statement’s syntax\n",
    "is just as simple as the break statement’s:"
   ]
  },
  {
   "cell_type": "markdown",
   "id": "0359ecab",
   "metadata": {},
   "source": [
    "````js\n",
    "continue;\n",
    "````"
   ]
  },
  {
   "cell_type": "markdown",
   "id": "2d88890a",
   "metadata": {},
   "source": [
    "The continue statement can also be used with a label:"
   ]
  },
  {
   "cell_type": "markdown",
   "id": "c1a0be48",
   "metadata": {},
   "source": [
    "````js\n",
    "continue labelname;\n",
    "````"
   ]
  },
  {
   "cell_type": "markdown",
   "id": "949dd60d",
   "metadata": {},
   "source": [
    "The continue statement, in both its labeled and unlabeled forms, can be used only\n",
    "within the body of a loop. Using it anywhere else causes a syntax error."
   ]
  },
  {
   "cell_type": "markdown",
   "id": "78f32cad",
   "metadata": {},
   "source": [
    "When the continue statement is executed, the current iteration of the enclosing loop\n",
    "is terminated, and the next iteration begins. This means different things for different\n",
    "types of loops:"
   ]
  },
  {
   "cell_type": "markdown",
   "id": "e629cb02",
   "metadata": {},
   "source": [
    "- In a while loop, the specified expression at the beginning of the loop is tested again, and if it’s true, the loop body is executed starting from the top.\n",
    "-  In a do/while loop, execution skips to the bottom of the loop, where the loop condition is tested again before restarting the loop at the top.\n",
    "-  In a for loop, the increment expression is evaluated, and the test expression is tested again to determine if another iteration should be done.\n",
    "-  In a for/of or for/in loop, the loop starts over with the next iterated value or next property name being assigned to the specified variable."
   ]
  },
  {
   "cell_type": "markdown",
   "id": "9e62663f",
   "metadata": {},
   "source": [
    "Note the difference in behavior of the continue statement in the while and for loops:\n",
    "a while loop returns directly to its condition, but a for loop first evaluates its increment\n",
    "expression and then returns to its condition. Earlier, we considered the behavior\n",
    "of the for loop in terms of an “equivalent” while loop. Because the continue statement\n",
    "behaves differently for these two loops, however, it is not actually possible to\n",
    "perfectly simulate a for loop with a while loop alone."
   ]
  },
  {
   "cell_type": "markdown",
   "id": "95673956",
   "metadata": {},
   "source": [
    "The following example shows an unlabeled continue statement being used to skip\n",
    "the rest of the current iteration of a loop when an error occurs:"
   ]
  },
  {
   "cell_type": "markdown",
   "id": "7e567f9b",
   "metadata": {},
   "source": [
    "````js\n",
    "for(let i = 0; i < data.length; i++) {\n",
    "    if (!data[i]) continue; // Can't proceed with undefined data\n",
    "    total += data[i];\n",
    "}\n",
    "````"
   ]
  },
  {
   "cell_type": "markdown",
   "id": "fec77b46",
   "metadata": {},
   "source": [
    "Like the break statement, the continue statement can be used in its labeled form\n",
    "within nested loops when the loop to be restarted is not the immediately enclosing\n",
    "loop. Also, as with the break statement, line breaks are not allowed between the continue statement and its labelname."
   ]
  },
  {
   "cell_type": "markdown",
   "id": "d5cd7a57",
   "metadata": {},
   "source": [
    "## 5.5.4 return"
   ]
  },
  {
   "cell_type": "markdown",
   "id": "bb03d76f",
   "metadata": {},
   "source": [
    "Recall that function invocations are expressions and that all expressions have values.\n",
    "A return statement within a function specifies the value of invocations of that function.\n",
    "Here’s the syntax of the return statement:"
   ]
  },
  {
   "cell_type": "markdown",
   "id": "ea3ef0b7",
   "metadata": {},
   "source": [
    "````js\n",
    "return expression;\n",
    "````"
   ]
  },
  {
   "cell_type": "markdown",
   "id": "2fb045fc",
   "metadata": {},
   "source": [
    "A return statement may appear only within the body of a function. It is a syntax\n",
    "error for it to appear anywhere else. When the return statement is executed, the\n",
    "function that contains it returns the value of expression to its caller. For example:"
   ]
  },
  {
   "cell_type": "code",
   "execution_count": 9,
   "id": "f456b69d",
   "metadata": {},
   "outputs": [
    {
     "data": {
      "text/plain": [
       "4"
      ]
     },
     "execution_count": 9,
     "metadata": {},
     "output_type": "execute_result"
    }
   ],
   "source": [
    "function square(x) { return x*x; } // A function that has a return statement\n",
    "square(2) // => 4"
   ]
  },
  {
   "cell_type": "markdown",
   "id": "18ad0013",
   "metadata": {},
   "source": [
    "With no return statement, a function invocation simply executes each of the statements\n",
    "in the function body in turn until it reaches the end of the function and then\n",
    "returns to its caller. In this case, the invocation expression evaluates to undefined.\n",
    "The return statement often appears as the last statement in a function, but it need\n",
    "not be last: a function returns to its caller when a return statement is executed, even\n",
    "if there are other statements remaining in the function body."
   ]
  },
  {
   "cell_type": "markdown",
   "id": "723b273e",
   "metadata": {},
   "source": [
    "The return statement can also be used without an expression to make the function\n",
    "return undefined to its caller. For example:"
   ]
  },
  {
   "cell_type": "markdown",
   "id": "ac476a5a",
   "metadata": {},
   "source": [
    "````js\n",
    "function displayObject(o) {\n",
    "// Return immediately if the argument is null or undefined.\n",
    "    if (!o) return;\n",
    "    // Rest of function goes here...\n",
    "}\n",
    "````"
   ]
  },
  {
   "cell_type": "markdown",
   "id": "c7dc0c4a",
   "metadata": {},
   "source": [
    "Because of JavaScript’s automatic semicolon insertion (§2.6), you cannot include a\n",
    "line break between the return keyword and the expression that follows it."
   ]
  },
  {
   "cell_type": "markdown",
   "id": "a18e15d2",
   "metadata": {},
   "source": [
    "## 5.5.5 yield"
   ]
  },
  {
   "cell_type": "markdown",
   "id": "c6a0b2e6",
   "metadata": {},
   "source": [
    "The yield statement is much like the return statement but is used only in ES6 generator\n",
    "functions (see §12.3) to produce the next value in the generated sequence of values\n",
    "without actually returning:"
   ]
  },
  {
   "cell_type": "markdown",
   "id": "f1e07d44",
   "metadata": {},
   "source": [
    "````js\n",
    "// A generator function that yields a range of integers\n",
    "function* range(from, to) {\n",
    "for(let i = from; i <= to; i++) {\n",
    "yield i;\n",
    "}\n",
    "}\n",
    "````"
   ]
  },
  {
   "cell_type": "markdown",
   "id": "4d44f0df",
   "metadata": {},
   "source": [
    "In order to understand yield, you must understand iterators and generators, which\n",
    "will not be covered until Chapter 12. yield is included here for completeness, however.\n",
    "(Technically, though, yield is an operator rather than a statement, as explained\n",
    "in §12.4.2.)"
   ]
  },
  {
   "cell_type": "markdown",
   "id": "34cee5c9",
   "metadata": {},
   "source": [
    "## 5.5.6 throw"
   ]
  },
  {
   "cell_type": "markdown",
   "id": "fc8e6cae",
   "metadata": {},
   "source": [
    "An exception is a signal that indicates that some sort of exceptional condition or error\n",
    "has occurred. To throw an exception is to signal such an error or exceptional condition.\n",
    "To catch an exception is to handle it—to take whatever actions are necessary or\n",
    "appropriate to recover from the exception. In JavaScript, exceptions are thrown\n",
    "whenever a runtime error occurs and whenever the program explicitly throws one\n",
    "using the throw statement. Exceptions are caught with the try/catch/finally statement,\n",
    "which is described in the next section."
   ]
  },
  {
   "cell_type": "markdown",
   "id": "8da69661",
   "metadata": {},
   "source": [
    "The throw statement has the following syntax:"
   ]
  },
  {
   "cell_type": "markdown",
   "id": "989cdab9",
   "metadata": {},
   "source": [
    "````js\n",
    "throw expression;\n",
    "````"
   ]
  },
  {
   "cell_type": "markdown",
   "id": "398029bf",
   "metadata": {},
   "source": [
    "expression may evaluate to a value of any type. You might throw a number that represents\n",
    "an error code or a string that contains a human-readable error message. The\n",
    "Error class and its subclasses are used when the JavaScript interpreter itself throws an\n",
    "error, and you can use them as well. An Error object has a name property that specifies\n",
    "the type of error and a message property that holds the string passed to the constructor\n",
    "function. Here is an example function that throws an Error object when invoked\n",
    "with an invalid argument:"
   ]
  },
  {
   "cell_type": "code",
   "execution_count": 12,
   "id": "e79da5d0",
   "metadata": {},
   "outputs": [],
   "source": [
    "function factorial(x) {\n",
    "    // If the input argument is invalid, throw an exception!\n",
    "    if (x < 0) throw new Error(\"x must not be negative\");\n",
    "    // Otherwise, compute a value and return normally\n",
    "    let f;\n",
    "    for(f = 1; x > 1; f *= x, x--) /* empty */ ;\n",
    "    return f;\n",
    "}"
   ]
  },
  {
   "cell_type": "code",
   "execution_count": 14,
   "id": "3f5e5ae7",
   "metadata": {},
   "outputs": [
    {
     "ename": "Error",
     "evalue": "x must not be negative",
     "output_type": "error",
     "traceback": [
      "evalmachine.<anonymous>:3",
      "    if (x < 0) throw new Error(\"x must not be negative\");",
      "               ^",
      "",
      "Error: x must not be negative",
      "    at factorial (evalmachine.<anonymous>:3:22)",
      "    at evalmachine.<anonymous>:1:1",
      "    at Script.runInThisContext (vm.js:122:20)",
      "    at Object.runInThisContext (vm.js:329:38)",
      "    at run ([eval]:1054:15)",
      "    at onRunRequest ([eval]:888:18)",
      "    at onMessage ([eval]:848:13)",
      "    at process.emit (events.js:198:13)",
      "    at emit (internal/child_process.js:832:12)",
      "    at process._tickCallback (internal/process/next_tick.js:63:19)"
     ]
    }
   ],
   "source": [
    "factorial(-1)"
   ]
  },
  {
   "cell_type": "code",
   "execution_count": 15,
   "id": "42bcbe50",
   "metadata": {},
   "outputs": [
    {
     "data": {
      "text/plain": [
       "24"
      ]
     },
     "execution_count": 15,
     "metadata": {},
     "output_type": "execute_result"
    }
   ],
   "source": [
    "factorial(4) // => 24"
   ]
  },
  {
   "cell_type": "markdown",
   "id": "610242d9",
   "metadata": {},
   "source": [
    "When an exception is thrown, the JavaScript interpreter immediately stops normal\n",
    "program execution and jumps to the nearest exception handler. Exception handlers\n",
    "are written using the catch clause of the try/catch/finally statement, which is\n",
    "described in the next section. If the block of code in which the exception was thrown\n",
    "does not have an associated catch clause, the interpreter checks the next-highest\n",
    "enclosing block of code to see if it has an exception handler associated with it. This\n",
    "continues until a handler is found. If an exception is thrown in a function that does\n",
    "not contain a try/catch/finally statement to handle it, the exception propagates up\n",
    "to the code that invoked the function. In this way, exceptions propagate up through\n",
    "the lexical structure of JavaScript methods and up the call stack. If no exception handler\n",
    "is ever found, the exception is treated as an error and is reported to the user."
   ]
  },
  {
   "cell_type": "markdown",
   "id": "4452a2a9",
   "metadata": {},
   "source": [
    "## 5.5.7 try/catch/finally"
   ]
  },
  {
   "cell_type": "markdown",
   "id": "0c4c02f4",
   "metadata": {},
   "source": [
    "The try/catch/finally statement is JavaScript’s exception handling mechanism.\n",
    "The try clause of this statement simply defines the block of code whose exceptions\n",
    "are to be handled. The try block is followed by a catch clause, which is a block of\n",
    "statements that are invoked when an exception occurs anywhere within the try block.\n",
    "The catch clause is followed by a finally block containing cleanup code that is guaranteed\n",
    "to be executed, regardless of what happens in the try block. Both the catch\n",
    "and finally blocks are optional, but a try block must be accompanied by at least one\n",
    "of these blocks. The try, catch, and finally blocks all begin and end with curly\n",
    "braces. These braces are a required part of the syntax and cannot be omitted, even if a\n",
    "clause contains only a single statement."
   ]
  },
  {
   "cell_type": "markdown",
   "id": "0044919b",
   "metadata": {},
   "source": [
    "The following code illustrates the syntax and purpose of the try/catch/finally\n",
    "statement:"
   ]
  },
  {
   "cell_type": "markdown",
   "id": "08b8bcac",
   "metadata": {},
   "source": [
    "````js\n",
    "try {\n",
    "// Normally, this code runs from the top of the block to the bottom\n",
    "// without problems. But it can sometimes throw an exception,\n",
    "// either directly, with a throw statement, or indirectly, by calling\n",
    "// a method that throws an exception.\n",
    "}\n",
    "catch(e) {\n",
    "// The statements in this block are executed if, and only if, the try\n",
    "// block throws an exception. These statements can use the local variable\n",
    "// e to refer to the Error object or other value that was thrown.\n",
    "// This block may handle the exception somehow, may ignore the\n",
    "// exception by doing nothing, or may rethrow the exception with throw.\n",
    "}\n",
    "finally {\n",
    "// This block contains statements that are always executed, regardless of\n",
    "// what happens in the try block. They are executed whether the try\n",
    "// block terminates:\n",
    "// 1) normally, after reaching the bottom of the block\n",
    "// 2) because of a break, continue, or return statement\n",
    "// 3) with an exception that is handled by a catch clause above\n",
    "// 4) with an uncaught exception that is still propagating\n",
    "}\n",
    "````"
   ]
  },
  {
   "cell_type": "markdown",
   "id": "59f79974",
   "metadata": {},
   "source": [
    "Note that the catch keyword is generally followed by an identifier in parentheses.\n",
    "This identifier is like a function parameter. When an exception is caught, the value\n",
    "associated with the exception (an Error object, for example) is assigned to this parameter.\n",
    "The identifier associated with a catch clause has block scope—it is only defined\n",
    "within the catch block."
   ]
  },
  {
   "cell_type": "markdown",
   "id": "e9cd3e2d",
   "metadata": {},
   "source": [
    "Here is a realistic example of the try/catch statement. It uses the factorial()\n",
    "method defined in the previous section and the client-side JavaScript methods\n",
    "prompt() and alert() for input and output:"
   ]
  },
  {
   "cell_type": "markdown",
   "id": "e3e51bd9",
   "metadata": {},
   "source": [
    "### Try this code in browser:"
   ]
  },
  {
   "cell_type": "markdown",
   "id": "f268f65b",
   "metadata": {},
   "source": [
    "````js\n",
    "try {\n",
    "    // Ask the user to enter a number\n",
    "    let n = Number(prompt(\"Please enter a positive integer\", \"\"));\n",
    "    // Compute the factorial of the number, assuming the input is valid\n",
    "    let f = factorial(n);\n",
    "    // Display the result\n",
    "    alert(n + \"! = \" + f);\n",
    "}\n",
    "catch(ex) {     // If the user's input was not valid, we end up here\n",
    "    alert(ex);  // Tell the user what the error is\n",
    "}\n",
    "````"
   ]
  },
  {
   "cell_type": "markdown",
   "id": "68704f65",
   "metadata": {},
   "source": [
    "This example is a try/catch statement with no finally clause. Although finally is\n",
    "not used as often as catch, it can be useful. However, its behavior requires additional\n",
    "explanation. The finally clause is guaranteed to be executed if any portion of the\n",
    "try block is executed, regardless of how the code in the try block completes. It is\n",
    "generally used to clean up after the code in the try clause."
   ]
  },
  {
   "cell_type": "markdown",
   "id": "727aa2fc",
   "metadata": {},
   "source": [
    "In the normal case, the JavaScript interpreter reaches the end of the try block and\n",
    "then proceeds to the finally block, which performs any necessary cleanup. If the\n",
    "interpreter left the try block because of a return, continue, or break statement, the\n",
    "finally block is executed before the interpreter jumps to its new destination."
   ]
  },
  {
   "cell_type": "markdown",
   "id": "3b140751",
   "metadata": {},
   "source": [
    "If an exception occurs in the try block and there is an associated catch block to handle\n",
    "the exception, the interpreter first executes the catch block and then the finally\n",
    "block. If there is no local catch block to handle the exception, the interpreter first\n",
    "executes the finally block and then jumps to the nearest containing catch clause."
   ]
  },
  {
   "cell_type": "markdown",
   "id": "d5fdca95",
   "metadata": {},
   "source": [
    "If a finally block itself causes a jump with a return, continue, break, or throw\n",
    "statement, or by calling a method that throws an exception, the interpreter abandons\n",
    "whatever jump was pending and performs the new jump. For example, if a finally\n",
    "clause throws an exception, that exception replaces any exception that was in the process\n",
    "of being thrown. If a finally clause issues a return statement, the method\n",
    "returns normally, even if an exception has been thrown and has not yet been handled."
   ]
  },
  {
   "cell_type": "markdown",
   "id": "d6464142",
   "metadata": {},
   "source": [
    "try and finally can be used together without a catch clause. In this case, the\n",
    "finally block is simply cleanup code that is guaranteed to be executed, regardless of\n",
    "what happens in the try block. Recall that we can’t completely simulate a for loop\n",
    "with a while loop because the continue statement behaves differently for the two\n",
    "loops. If we add a try/finally statement, we can write a while loop that works like a\n",
    "for loop and that handles continue statements correctly:"
   ]
  },
  {
   "cell_type": "markdown",
   "id": "c44da984",
   "metadata": {},
   "source": [
    "````js\n",
    "// Simulate for(initialize ; test ;increment ) body;\n",
    "initialize ;\n",
    "while( test ) {\n",
    "    try { body ; }\n",
    "    finally { increment ; }\n",
    "}\n",
    "````"
   ]
  },
  {
   "cell_type": "markdown",
   "id": "60dae76d",
   "metadata": {},
   "source": [
    "Note, however, that a body that contains a break statement behaves slightly differently\n",
    "(causing an extra increment before exiting) in the while loop than it does in the for\n",
    "loop, so even with the finally clause, it is not possible to completely simulate the for\n",
    "loop with while."
   ]
  },
  {
   "cell_type": "markdown",
   "id": "f9e773fe",
   "metadata": {},
   "source": [
    ">                         Bare Catch Clauses\n",
    "Occasionally you may find yourself using a catch clause solely to detect and stop the\n",
    "propagation of an exception, even though you do not care about the type or the value\n",
    "of the exception. In ES2019 and later, you can omit the parentheses and the identifier\n",
    "and use the catch keyword bare in this case. Here is an example:\n",
    "\n",
    ">\n",
    "````js\n",
    "   // Like JSON.parse(), but return undefined instead of throwing an error\n",
    "   function parseJSON(s) {\n",
    "       try {\n",
    "           return JSON.parse(s);\n",
    "       } catch {\n",
    "           // Something went wrong but we don't care what it was\n",
    "           return undefined;\n",
    "       }\n",
    "   }\n",
    "````"
   ]
  },
  {
   "cell_type": "markdown",
   "id": "bab43917",
   "metadata": {},
   "source": [
    "## 5.6 Miscellaneous Statements"
   ]
  },
  {
   "cell_type": "markdown",
   "id": "059c3b12",
   "metadata": {},
   "source": [
    "This section describes the remaining three JavaScript statements—with, debugger,\n",
    "and \"use strict\"."
   ]
  },
  {
   "cell_type": "markdown",
   "id": "28e09778",
   "metadata": {},
   "source": [
    "### 5.6.1 with"
   ]
  },
  {
   "cell_type": "markdown",
   "id": "1be99c27",
   "metadata": {},
   "source": [
    "The with statement runs a block of code as if the properties of a specified object were\n",
    "variables in scope for that code. It has the following syntax:"
   ]
  },
  {
   "cell_type": "markdown",
   "id": "c584f7d4",
   "metadata": {},
   "source": [
    "````js\n",
    "with (object)\n",
    "    statement\n",
    "````"
   ]
  },
  {
   "cell_type": "markdown",
   "id": "c3366a80",
   "metadata": {},
   "source": [
    "This statement creates a temporary scope with the properties of object as variables\n",
    "and then executes statement within that scope."
   ]
  },
  {
   "cell_type": "markdown",
   "id": "15de1959",
   "metadata": {},
   "source": [
    "The with statement is forbidden in strict mode (see §5.6.3) and should be considered\n",
    "deprecated in non-strict mode: avoid using it whenever possible. JavaScript code that\n",
    "uses with is difficult to optimize and is likely to run significantly more slowly than\n",
    "the equivalent code written without the with statement."
   ]
  },
  {
   "cell_type": "markdown",
   "id": "4fc1f590",
   "metadata": {},
   "source": [
    "The common use of the with statement is to make it easier to work with deeply nested\n",
    "object hierarchies. In client-side JavaScript, for example, you may have to type\n",
    "expressions like this one to access elements of an HTML form:"
   ]
  },
  {
   "cell_type": "markdown",
   "id": "739b6d37",
   "metadata": {},
   "source": [
    "````js\n",
    "document.forms[0].address.value\n",
    "````"
   ]
  },
  {
   "cell_type": "markdown",
   "id": "db1ce644",
   "metadata": {},
   "source": [
    "If you need to write expressions like this a number of times, you can use the with\n",
    "statement to treat the properties of the form object like variables:"
   ]
  },
  {
   "cell_type": "markdown",
   "id": "f4cadd1b",
   "metadata": {},
   "source": [
    "````js\n",
    "with(document.forms[0]) {\n",
    "    // Access form elements directly here. For example:\n",
    "    name.value = \"\";\n",
    "    address.value = \"\";\n",
    "    email.value = \"\";\n",
    "}\n",
    "````"
   ]
  },
  {
   "cell_type": "markdown",
   "id": "30450e0e",
   "metadata": {},
   "source": [
    "This reduces the amount of typing you have to do: you no longer need to prefix each\n",
    "form property name with document.forms[0]. It is just as simple, of course, to avoid\n",
    "the with statement and write the preceding code like this:"
   ]
  },
  {
   "cell_type": "markdown",
   "id": "8c49218b",
   "metadata": {},
   "source": [
    "````js\n",
    "let f = document.forms[0];\n",
    "f.name.value = \"\";\n",
    "f.address.value = \"\";\n",
    "f.email.value = \"\";\n",
    "````"
   ]
  },
  {
   "cell_type": "markdown",
   "id": "b2684376",
   "metadata": {},
   "source": [
    "Note that if you use const or let or var to declare a variable or constant within the\n",
    "body of a with statement, it creates an ordinary variable and does not define a new\n",
    "property within the specified object."
   ]
  },
  {
   "cell_type": "markdown",
   "id": "e51a9d13",
   "metadata": {},
   "source": [
    "### 5.6.2 debugger"
   ]
  },
  {
   "cell_type": "markdown",
   "id": "79dbecb4",
   "metadata": {},
   "source": [
    "The debugger statement normally does nothing. If, however, a debugger program is\n",
    "available and is running, then an implementation may (but is not required to) perform\n",
    "some kind of debugging action. In practice, this statement acts like a breakpoint:\n",
    "execution of JavaScript code stops, and you can use the debugger to print\n",
    "variables’ values, examine the call stack, and so on. Suppose, for example, that you are\n",
    "getting an exception in your function f() because it is being called with an undefined\n",
    "argument, and you can’t figure out where this call is coming from. To help you in\n",
    "debugging this problem, you might alter f() so that it begins like this:"
   ]
  },
  {
   "cell_type": "markdown",
   "id": "eb24d580",
   "metadata": {},
   "source": [
    "````js\n",
    "function f(o) {\n",
    "    if (o === undefined) debugger; // Temporary line for debugging purposes\n",
    "    ... // The rest of the function goes here.\n",
    "}\n",
    "````"
   ]
  },
  {
   "cell_type": "markdown",
   "id": "16cd65c7",
   "metadata": {},
   "source": [
    "Now, when f() is called with no argument, execution will stop, and you can use the\n",
    "debugger to inspect the call stack and find out where this incorrect call is coming\n",
    "from."
   ]
  },
  {
   "cell_type": "markdown",
   "id": "d8a1bd0f",
   "metadata": {},
   "source": [
    "Note that it is not enough to have a debugger available: the debugger statement won’t\n",
    "start the debugger for you. If you’re using a web browser and have the developer tools\n",
    "console open, however, this statement will cause a breakpoint."
   ]
  },
  {
   "cell_type": "markdown",
   "id": "e3eb273a",
   "metadata": {},
   "source": [
    "## 5.6.3 “use strict”"
   ]
  },
  {
   "cell_type": "markdown",
   "id": "041c36b7",
   "metadata": {},
   "source": [
    "\"use strict\" is a directive introduced in ES5. Directives are not statements (but are\n",
    "close enough that \"use strict\" is documented here). There are two important differences\n",
    "between the \"use strict\" directive and regular statements:"
   ]
  },
  {
   "cell_type": "markdown",
   "id": "f10c81d6",
   "metadata": {},
   "source": [
    "- It does not include any language keywords: the directive is just an expression statement that consists of a special string literal (in single or double quotes).\n",
    "- It can appear only at the start of a script or at the start of a function body, before any real statements have appeared."
   ]
  },
  {
   "cell_type": "markdown",
   "id": "9bfb7aa8",
   "metadata": {},
   "source": [
    "The purpose of a \"use strict\" directive is to indicate that the code that follows (in\n",
    "the script or function) is strict code. The top-level (nonfunction) code of a script is\n",
    "strict code if the script has a \"use strict\" directive. A function body is strict code if\n",
    "it is defined within strict code or if it has a \"use strict\" directive. Code passed to\n",
    "the eval() method is strict code if eval() is called from strict code or if the string of\n",
    "code includes a \"use strict\" directive. In addition to code explicitly declared to be\n",
    "strict, any code in a class body (Chapter 9) or in an ES6 module (§10.3) is automatically\n",
    "strict code. This means that if all of your JavaScript code is written as modules,\n",
    "then it is all automatically strict, and you will never need to use an explicit \"use\n",
    "strict\" directive."
   ]
  },
  {
   "cell_type": "markdown",
   "id": "b7b5e0fa",
   "metadata": {},
   "source": [
    "Strict code is executed in strict mode. Strict mode is a restricted subset of the language\n",
    "that fixes important language deficiencies and provides stronger error checking and\n",
    "increased security. Because strict mode is not the default, old JavaScript code that still\n",
    "uses the deficient legacy features of the language will continue to run correctly. The\n",
    "differences between strict mode and non-strict mode are the following (the first three\n",
    "are particularly important):"
   ]
  },
  {
   "cell_type": "markdown",
   "id": "6b737c1c",
   "metadata": {},
   "source": [
    "- The with statement is not allowed in strict mode.\n",
    "\n",
    "\n",
    "- In strict mode, all variables must be declared: a ReferenceError is thrown if you assign a value to an identifier that is not a declared variable, function, function parameter, catch clause parameter, or property of the global object. (In nonstrict mode, this implicitly declares a global variable by adding a new property to the global object.)\n",
    "\n",
    "\n",
    "- In strict mode, functions invoked as functions (rather than as methods) have a this value of undefined. (In non-strict mode, functions invoked as functions are always passed the global object as their this value.) Also, in strict mode, when a function is invoked with call() or apply() (§8.7.4), the this value is exactly the value passed as the first argument to call() or apply(). (In non-strict mode, null and undefined values are replaced with the global object and nonobject values are converted to objects.)\n",
    "\n",
    "\n",
    "- In strict mode, assignments to nonwritable properties and attempts to create new properties on non-extensible objects throw a TypeError. (In non-strict mode, these attempts fail silently.)\n",
    "\n",
    "\n",
    "- In strict mode, code passed to eval() cannot declare variables or define functions in the caller’s scope as it can in non-strict mode. Instead, variable and function definitions live in a new scope created for the eval(). This scope is discarded when the eval() returns.\n",
    "\n",
    "\n",
    "- In strict mode, the Arguments object (§8.3.3) in a function holds a static copy of the values passed to the function. In non-strict mode, the Arguments object has “magical” behavior in which elements of the array and named function parameters both refer to the same value.\n",
    "\n",
    "\n",
    "- In strict mode, a SyntaxError is thrown if the delete operator is followed by an unqualified identifier such as a variable, function, or function parameter. (In nonstrict mode, such a delete expression does nothing and evaluates to false.)\n",
    "\n",
    "\n",
    "- In strict mode, an attempt to delete a nonconfigurable property throws a TypeError. (In non-strict mode, the attempt fails and the delete expression evaluates to false.)\n",
    "\n",
    "\n",
    "- In strict mode, it is a syntax error for an object literal to define two or more properties by the same name. (In non-strict mode, no error occurs.)\n",
    "\n",
    "\n",
    "- In strict mode, it is a syntax error for a function declaration to have two or more parameters with the same name. (In non-strict mode, no error occurs.)\n",
    "\n",
    "\n",
    "- In strict mode, octal integer literals (beginning with a 0 that is not followed by an x) are not allowed. (In non-strict mode, some implementations allow octal literals.)\n",
    "\n",
    "\n",
    "- In strict mode, the identifiers eval and arguments are treated like keywords, and you are not allowed to change their value. You cannot assign a value to these identifiers, declare them as variables, use them as function names, use them as function parameter names, or use them as the identifier of a catch block.\n",
    "\n",
    "\n",
    "- In strict mode, the ability to examine the call stack is restricted. arguments.caller and arguments.callee both throw a TypeError within a strict mode function. Strict mode functions also have caller and arguments properties that throw TypeError when read. (Some implementations define these nonstandard properties on non-strict functions.)"
   ]
  },
  {
   "cell_type": "markdown",
   "id": "02fca0d0",
   "metadata": {},
   "source": [
    "### 5.7 Declarations"
   ]
  },
  {
   "cell_type": "markdown",
   "id": "99e56834",
   "metadata": {},
   "source": [
    "The keywords const, let, var, function, class, import, and export are not technically\n",
    "statements, but they look a lot like statements, and this book refers informally to\n",
    "them as statements, so they deserve a mention in this chapter."
   ]
  },
  {
   "cell_type": "markdown",
   "id": "df563331",
   "metadata": {},
   "source": [
    "These keywords are more accurately described as declarations rather than statements.\n",
    "We said at the start of this chapter that statements “make something happen.” Declarations\n",
    "serve to define new values and give them names that we can use to refer to\n",
    "those values. They don’t make much happen themselves, but by providing names for\n",
    "values they, in an important sense, define the meaning of the other statements in your\n",
    "program."
   ]
  },
  {
   "cell_type": "markdown",
   "id": "2f5105fd",
   "metadata": {},
   "source": [
    "When a program runs, it is the program’s expressions that are being evaluated and the\n",
    "program’s statements that are being executed. The declarations in a program don’t\n",
    "“run” in the same way: instead, they define the structure of the program itself.\n",
    "Loosely, you can think of declarations as the parts of the program that are processed\n",
    "before the code starts running."
   ]
  },
  {
   "cell_type": "markdown",
   "id": "131990ca",
   "metadata": {},
   "source": [
    "JavaScript declarations are used to define constants, variables, functions, and classes\n",
    "and for importing and exporting values between modules. The next subsections give\n",
    "examples of all of these declarations. They are all covered in much more detail elsewhere\n",
    "in this book."
   ]
  },
  {
   "cell_type": "markdown",
   "id": "f1546172",
   "metadata": {},
   "source": [
    "### 5.7.1 const, let, and var"
   ]
  },
  {
   "cell_type": "markdown",
   "id": "752ac9b1",
   "metadata": {},
   "source": [
    "The const, let, and var declarations are covered in §3.10. In ES6 and later, const\n",
    "declares constants, and let declares variables. Prior to ES6, the var keyword was the\n",
    "only way to declare variables and there was no way to declare constants. Variables\n",
    "declared with var are scoped to the containing function rather than the containing\n",
    "block. This can be a source of bugs, and in modern JavaScript there is really no reason\n",
    "to use var instead of let."
   ]
  },
  {
   "cell_type": "markdown",
   "id": "a0a4a25f",
   "metadata": {},
   "source": [
    "````js\n",
    "const TAU = 2*Math.PI;\n",
    "let radius = 3;\n",
    "var circumference = TAU * radius;\n",
    "````"
   ]
  },
  {
   "cell_type": "markdown",
   "id": "bb840bf4",
   "metadata": {},
   "source": [
    "### 5.7.2 function"
   ]
  },
  {
   "cell_type": "markdown",
   "id": "5028d30a",
   "metadata": {},
   "source": [
    "The function declaration is used to define functions, which are covered in detail in\n",
    "Chapter 8. (We also saw function in §4.3, where it was used as part of a function\n",
    "expression rather than a function declaration.) A function declaration looks like this:"
   ]
  },
  {
   "cell_type": "markdown",
   "id": "077b3418",
   "metadata": {},
   "source": [
    "````js\n",
    "function area(radius) {\n",
    "    return Math.PI * radius * radius;\n",
    "}\n",
    "````"
   ]
  },
  {
   "cell_type": "markdown",
   "id": "714ed63e",
   "metadata": {},
   "source": [
    "A function declaration creates a function object and assigns it to the specified name—\n",
    "area in this example. Elsewhere in our program, we can refer to the function—and\n",
    "run the code inside it—by using this name. The function declarations in any block of\n",
    "JavaScript code are processed before that code runs, and the function names are\n",
    "bound to the function objects throughout the block. We say that function declarations\n",
    "are “hoisted” because it is as if they had all been moved up to the top of whatever\n",
    "scope they are defined within. The upshot is that code that invokes a function\n",
    "can exist in your program before the code that declares the function."
   ]
  },
  {
   "cell_type": "markdown",
   "id": "903bb410",
   "metadata": {},
   "source": [
    "§12.3 describes a special kind of function known as a generator. Generator declarations\n",
    "use the function keyword but follow it with an asterisk. §13.3 describes asynchronous\n",
    "functions, which are also declared using the function keyword but are\n",
    "prefixed with the async keyword."
   ]
  },
  {
   "cell_type": "markdown",
   "id": "596ea6bf",
   "metadata": {},
   "source": [
    "### 5.7.3 class"
   ]
  },
  {
   "cell_type": "markdown",
   "id": "78fc4bb8",
   "metadata": {},
   "source": [
    "In ES6 and later, the class declaration creates a new class and gives it a name that we\n",
    "can use to refer to it. Classes are described in detail in Chapter 9. A simple class declaration\n",
    "might look like this:"
   ]
  },
  {
   "cell_type": "markdown",
   "id": "cd7c6ee7",
   "metadata": {},
   "source": [
    "````js\n",
    "class Circle {\n",
    "    constructor(radius) { this.r = radius; }\n",
    "    area() { return Math.PI * this.r * this.r; }\n",
    "    circumference() { return 2 * Math.PI * this.r; }\n",
    "}\n",
    "````"
   ]
  },
  {
   "cell_type": "markdown",
   "id": "f58bcd20",
   "metadata": {},
   "source": [
    "Unlike functions, class declarations are not hoisted, and you cannot use a class\n",
    "declared this way in code that appears before the declaration."
   ]
  },
  {
   "cell_type": "markdown",
   "id": "d93384dd",
   "metadata": {},
   "source": [
    "### 5.7.4 import and export"
   ]
  },
  {
   "cell_type": "markdown",
   "id": "e3e8a1f2",
   "metadata": {},
   "source": [
    "The import and export declarations are used together to make values defined in one\n",
    "module of JavaScript code available in another module. A module is a file of Java‐\n",
    "Script code with its own global namespace, completely independent of all other modules.\n",
    "The only way that a value (such as function or class) defined in one module can\n",
    "be used in another module is if the defining module exports it with export and the\n",
    "using module imports it with import. Modules are the subject of Chapter 10, and\n",
    "import and export are covered in detail in §10.3."
   ]
  },
  {
   "cell_type": "markdown",
   "id": "3837c851",
   "metadata": {},
   "source": [
    "import directives are used to import one or more values from another file of Java‐\n",
    "Script code and give them names within the current module. import directives come\n",
    "in a few different forms. Here are some examples:"
   ]
  },
  {
   "cell_type": "markdown",
   "id": "7586e5e6",
   "metadata": {},
   "source": [
    "````js\n",
    "import Circle from './geometry/circle.js';\n",
    "import { PI, TAU } from './geometry/constants.js';\n",
    "import { magnitude as hypotenuse } from './vectors/utils.js';\n",
    "````"
   ]
  },
  {
   "cell_type": "markdown",
   "id": "6b823338",
   "metadata": {},
   "source": [
    "Values within a JavaScript module are private and cannot be imported into other\n",
    "modules unless they have been explicitly exported. The export directive does this: it\n",
    "declares that one or more values defined in the current module are exported and\n",
    "therefore available for import by other modules. The export directive has more variants\n",
    "than the import directive does. Here is one of them:"
   ]
  },
  {
   "cell_type": "markdown",
   "id": "5be2211f",
   "metadata": {},
   "source": [
    "````js\n",
    "// geometry/constants.js\n",
    "const PI = Math.PI;\n",
    "const TAU = 2 * PI;\n",
    "export { PI, TAU };\n",
    "````"
   ]
  },
  {
   "cell_type": "markdown",
   "id": "425f2ad4",
   "metadata": {},
   "source": [
    "The export keyword is sometimes used as a modifier on other declarations, resulting\n",
    "in a kind of compound declaration that defines a constant, variable, function, or class\n",
    "and exports it at the same time. And when a module exports only a single value, this\n",
    "is typically done with the special form export default:"
   ]
  },
  {
   "cell_type": "markdown",
   "id": "5785802f",
   "metadata": {},
   "source": [
    "````js\n",
    "export const TAU = 2 * Math.PI;\n",
    "export function magnitude(x,y) { return Math.sqrt(x*x + y*y); }\n",
    "export default class Circle { /* class definition omitted here */ }\n",
    "````"
   ]
  },
  {
   "cell_type": "markdown",
   "id": "33e9b4ac",
   "metadata": {},
   "source": [
    "## 5.8 Summary of JavaScript Statements"
   ]
  },
  {
   "cell_type": "markdown",
   "id": "245eb8c7",
   "metadata": {},
   "source": [
    "This chapter introduced each of the JavaScript language’s statements, which are summarized\n",
    "in Table 5-1."
   ]
  },
  {
   "cell_type": "markdown",
   "id": "0d7eb955",
   "metadata": {},
   "source": [
    "Table 5-1. JavaScript statement syntax\n",
    "\n",
    "\n",
    "\n",
    "|Statement| Purpose|\n",
    "|---------|--------|\n",
    "|break| Exit from the innermost loop or switch or from named enclosing statement|\n",
    "|case| Label a statement within a switch|\n",
    "|class| Declare a class|\n",
    "|const| Declare and initialize one or more constants|\n",
    "|continue |Begin next iteration of the innermost loop or the named loop|\n",
    "|debugger| Debugger breakpoint|\n",
    "|default| Label the default statement within a switch|\n",
    "|do/while| An alternative to the while loop|\n",
    "|export| Declare values that can be imported into other modules|\n",
    "|for| An easy-to-use loop|\n",
    "|for/await| Asynchronously iterate the values of an async iterator|\n",
    "|for/in| Enumerate the property names of an object|\n",
    "|for/of| Enumerate the values of an iterable object such as an array|\n",
    "|function| Declare a function|\n",
    "|if/else| Execute one statement or another depending on a condition|\n",
    "|import| Declare names for values defined in other modules|\n",
    "|label |Give statement a name for use with break and continue|\n",
    "|let| Declare and initialize one or more block-scoped variables (new syntax)|\n",
    "|return| Return a value from a function|\n",
    "|switch| Multiway branch to case or default: labels\n",
    "|throw| Throw an exception|\n",
    "|try/catch/finally |Handle exceptions and code cleanup|\n",
    "|“use strict”| Apply strict mode restrictions to script or function|\n",
    "|var| Declare and initialize one or more variables (old syntax)|\n",
    "|while| A basic loop construct|\n",
    "|with| Extend the scope chain (deprecated and forbidden in strict mode)|\n",
    "|yield| Provide a value to be iterated; only used in generator functions|"
   ]
  }
 ],
 "metadata": {
  "kernelspec": {
   "display_name": "Javascript (Node.js)",
   "language": "javascript",
   "name": "javascript"
  },
  "language_info": {
   "file_extension": ".js",
   "mimetype": "application/javascript",
   "name": "javascript",
   "version": "10.19.0"
  }
 },
 "nbformat": 4,
 "nbformat_minor": 5
}
