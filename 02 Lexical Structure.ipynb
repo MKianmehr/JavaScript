{
 "cells": [
  {
   "cell_type": "markdown",
   "id": "4438d381",
   "metadata": {},
   "source": [
    "# Lexical Structure"
   ]
  },
  {
   "cell_type": "markdown",
   "id": "11115822",
   "metadata": {},
   "source": [
    "The lexical structure of a programming language is the set of elementary rules that\n",
    "specifies how you write programs in that language. It is the lowest-level syntax of a\n",
    "language: it specifies what variable names look like, the delimiter characters for comments,\n",
    "and how one program statement is separated from the next, for example. This\n",
    "short chapter documents the lexical structure of JavaScript. It covers:"
   ]
  },
  {
   "cell_type": "markdown",
   "id": "d319c86d",
   "metadata": {},
   "source": [
    "- Case sensitivity, spaces, and line breaks\n",
    "- Comments\n",
    "- Literals\n",
    "- Identifiers and reserved words\n",
    "- Unicode\n",
    "- Optional semicolons"
   ]
  },
  {
   "cell_type": "markdown",
   "id": "ab11e447",
   "metadata": {},
   "source": [
    "## 2.1 The Text of a JavaScript Program"
   ]
  },
  {
   "cell_type": "markdown",
   "id": "9fdabd7b",
   "metadata": {},
   "source": [
    "JavaScript is a case-sensitive language. This means that language keywords, variables,\n",
    "function names, and other identifiers must always be typed with a consistent capitalization\n",
    "of letters. The while keyword, for example, must be typed “while,” not “While”\n",
    "or “WHILE.” Similarly, online, Online, OnLine, and ONLINE are four distinct variable\n",
    "names."
   ]
  },
  {
   "cell_type": "markdown",
   "id": "244d586d",
   "metadata": {},
   "source": [
    "JavaScript ignores spaces that appear between tokens in programs. For the most part,\n",
    "JavaScript also ignores line breaks (but see §2.6 for an exception). Because you can\n",
    "use spaces and newlines freely in your programs, you can format and indent your\n",
    "programs in a neat and consistent way that makes the code easy to read and\n",
    "understand."
   ]
  },
  {
   "cell_type": "markdown",
   "id": "5680fa7c",
   "metadata": {},
   "source": [
    "In addition to the regular space character (\\u0020), JavaScript also recognizes tabs,\n",
    "assorted ASCII control characters, and various Unicode space characters as whitespace.\n",
    "JavaScript recognizes newlines, carriage returns, and a carriage return/line feed\n",
    "sequence as line terminators."
   ]
  },
  {
   "cell_type": "markdown",
   "id": "5cf3cdba",
   "metadata": {},
   "source": [
    "## 2.2 Comments"
   ]
  },
  {
   "cell_type": "markdown",
   "id": "c9abe7b8",
   "metadata": {},
   "source": [
    "JavaScript supports two styles of comments. Any text between a // and the end of a\n",
    "line is treated as a comment and is ignored by JavaScript. Any text between the characters\n",
    "/* and */ is also treated as a comment; these comments may span multiple\n",
    "lines but may not be nested. The following lines of code are all legal JavaScript\n",
    "comments:"
   ]
  },
  {
   "cell_type": "code",
   "execution_count": 14,
   "id": "60dcbdcc",
   "metadata": {},
   "outputs": [],
   "source": [
    "// This is a single-line comment.\n",
    "/* This is also a comment */ // and here is another comment.\n",
    "/*\n",
    "* This is a multi-line comment. The extra * characters at the start of\n",
    "* each line are not a required part of the syntax; they just look cool!\n",
    "*/"
   ]
  },
  {
   "cell_type": "markdown",
   "id": "4ea20b09",
   "metadata": {},
   "source": [
    "## 2.3 Literals"
   ]
  },
  {
   "cell_type": "markdown",
   "id": "dedb6441",
   "metadata": {},
   "source": [
    "A literal is a data value that appears directly in a program. The following are all\n",
    "literals:"
   ]
  },
  {
   "cell_type": "code",
   "execution_count": 13,
   "id": "02c8b164",
   "metadata": {},
   "outputs": [
    {
     "data": {
      "text/plain": [
       "null"
      ]
     },
     "execution_count": 13,
     "metadata": {},
     "output_type": "execute_result"
    }
   ],
   "source": [
    "12             // The number twelve\n",
    "1.2            // The number one point two\n",
    "\"hello world\"  // A string of text\n",
    "'Hi'           // Another string\n",
    "true           // A Boolean value\n",
    "false          // The other Boolean value\n",
    "null           // Absence of an object"
   ]
  },
  {
   "cell_type": "code",
   "execution_count": 4,
   "id": "dd3ca974",
   "metadata": {},
   "outputs": [
    {
     "data": {
      "text/plain": [
       "'object'"
      ]
     },
     "execution_count": 4,
     "metadata": {},
     "output_type": "execute_result"
    }
   ],
   "source": [
    "typeof null"
   ]
  },
  {
   "cell_type": "code",
   "execution_count": 5,
   "id": "038304f5",
   "metadata": {},
   "outputs": [
    {
     "data": {
      "text/plain": [
       "'boolean'"
      ]
     },
     "execution_count": 5,
     "metadata": {},
     "output_type": "execute_result"
    }
   ],
   "source": [
    "typeof true"
   ]
  },
  {
   "cell_type": "code",
   "execution_count": 6,
   "id": "e229767a",
   "metadata": {},
   "outputs": [
    {
     "data": {
      "text/plain": [
       "'number'"
      ]
     },
     "execution_count": 6,
     "metadata": {},
     "output_type": "execute_result"
    }
   ],
   "source": [
    "typeof 12"
   ]
  },
  {
   "cell_type": "code",
   "execution_count": 1,
   "id": "ef103400",
   "metadata": {},
   "outputs": [
    {
     "data": {
      "text/plain": [
       "'string'"
      ]
     },
     "execution_count": 1,
     "metadata": {},
     "output_type": "execute_result"
    }
   ],
   "source": [
    "typeof \"hello world\""
   ]
  },
  {
   "cell_type": "markdown",
   "id": "f347c395",
   "metadata": {},
   "source": [
    "Complete details on numeric and string literals appear in Chapter 3."
   ]
  },
  {
   "cell_type": "markdown",
   "id": "948c66aa",
   "metadata": {},
   "source": [
    "## 2.4 Identifiers and Reserved Words"
   ]
  },
  {
   "cell_type": "markdown",
   "id": "3efac367",
   "metadata": {},
   "source": [
    "An identifier is simply a name. In JavaScript, identifiers are used to name constants,\n",
    "variables, properties, functions, and classes and to provide labels for certain loops in\n",
    "JavaScript code. A JavaScript identifier must begin with a letter, an underscore (_), or\n",
    "a dollar sign ($). Subsequent characters can be letters, digits, underscores, or dollar\n",
    "signs. (Digits are not allowed as the first character so that JavaScript can easily distinguish\n",
    "identifiers from numbers.) These are all legal identifiers:"
   ]
  },
  {
   "cell_type": "markdown",
   "id": "4b0e6904",
   "metadata": {},
   "source": [
    "```javascript\n",
    "i\n",
    "\n",
    "my_variable_name\n",
    "\n",
    "v13\n",
    "\n",
    "_dummy\n",
    "\n",
    "$str\n",
    "\n",
    "```"
   ]
  },
  {
   "cell_type": "markdown",
   "id": "71ca50fb",
   "metadata": {},
   "source": [
    "Like any language, JavaScript reserves certain identifiers for use by the language itself.\n",
    "These “reserved words” cannot be used as regular identifiers. They are listed in the\n",
    "next section."
   ]
  },
  {
   "cell_type": "markdown",
   "id": "dc781b71",
   "metadata": {},
   "source": [
    "## 2.4.1 Reserved Words"
   ]
  },
  {
   "cell_type": "markdown",
   "id": "3fec3c70",
   "metadata": {},
   "source": [
    "The following words are part of the JavaScript language. Many of these (such as if,\n",
    "while, and for) are reserved keywords that must not be used as the names of constants,\n",
    "variables, functions, or classes (**though they can all be used as the names of\n",
    "properties within an object**). Others (such as from, of, get, and set) are used in limited\n",
    "contexts with no syntactic ambiguity and are perfectly legal as identifiers. Still\n",
    "other keywords (such as let) can’t be fully reserved in order to retain backward compatibility\n",
    "with older programs, and so there are complex rules that govern when they\n",
    "can be used as identifiers and when they cannot. (let can be used as a variable name\n",
    "if declared with var outside of a class, for example, but not if declared inside a class or\n",
    "with const.) The simplest course is to avoid using any of these words as identifiers,\n",
    "except for from, set, and target, which are safe to use and are already in common\n",
    "use."
   ]
  },
  {
   "cell_type": "markdown",
   "id": "08ce71d0",
   "metadata": {},
   "source": [
    "|as| const| export| get| null |target| void|\n",
    "|--|------|--------|---|------|------|------|\n",
    "|async| continue |extends |if| of |this |while|\n",
    "|await| debugger| false |import| return| throw| with|\n",
    "|break| default| finally |in |set |true| yield|\n",
    "|case| delete| for| instanceof| static| try|\n",
    "|catch| do| from| let| super |typeof|\n",
    "|class| else |function| new |switch| var|"
   ]
  },
  {
   "cell_type": "markdown",
   "id": "f49ea0cc",
   "metadata": {},
   "source": [
    "JavaScript also reserves or restricts the use of certain keywords that are not currently\n",
    "used by the language but that might be used in future versions:"
   ]
  },
  {
   "cell_type": "markdown",
   "id": "a84505e7",
   "metadata": {},
   "source": [
    "- enum \n",
    "\n",
    "- implements\n",
    "\n",
    "- interface\n",
    "\n",
    "- package\n",
    "\n",
    "- private\n",
    "\n",
    "- protected\n",
    "\n",
    "- public"
   ]
  },
  {
   "cell_type": "markdown",
   "id": "41908103",
   "metadata": {},
   "source": [
    "For historical reasons, arguments and eval are not allowed as identifiers in certain\n",
    "circumstances and are best avoided entirely."
   ]
  },
  {
   "cell_type": "markdown",
   "id": "8bcd97dd",
   "metadata": {},
   "source": [
    "## 2.5 Unicode\n"
   ]
  },
  {
   "cell_type": "markdown",
   "id": "6b34a4da",
   "metadata": {},
   "source": [
    "JavaScript programs are written using the Unicode character set, and you can use any\n",
    "Unicode characters in strings and comments. For portability and ease of editing, it is\n",
    "common to use only ASCII letters and digits in identifiers. But this is a programming\n",
    "convention only, and the language allows Unicode letters, digits, and ideographs (but not emojis) in identifiers. This means that programmers can use mathematical symbols\n",
    "and words from non-English languages as constants and variables:"
   ]
  },
  {
   "cell_type": "code",
   "execution_count": 8,
   "id": "4111735a",
   "metadata": {},
   "outputs": [],
   "source": [
    "const π = 3.14;\n",
    "const sí = true;"
   ]
  },
  {
   "cell_type": "markdown",
   "id": "a572aa57",
   "metadata": {},
   "source": [
    "## 2.5.1 Unicode Escape Sequences"
   ]
  },
  {
   "cell_type": "markdown",
   "id": "3dc90ee5",
   "metadata": {},
   "source": [
    "Some computer hardware and software cannot display, input, or correctly process the\n",
    "full set of Unicode characters. To support programmers and systems using older technology,\n",
    "JavaScript defines escape sequences that allow us to write Unicode characters\n",
    "using only ASCII characters. These Unicode escapes begin with the characters \\u and\n",
    "are either followed by exactly four hexadecimal digits (using uppercase or lowercase\n",
    "letters A–F) or by one to six hexadecimal digits enclosed within curly braces. These\n",
    "Unicode escapes may appear in JavaScript string literals, regular expression literals,\n",
    "and identifiers (but not in language keywords). The Unicode escape for the character\n",
    "“é,” for example, is \\u00E9; here are three different ways to write a variable name that\n",
    "includes this character:"
   ]
  },
  {
   "cell_type": "code",
   "execution_count": 11,
   "id": "b8598291",
   "metadata": {},
   "outputs": [
    {
     "name": "stdout",
     "output_type": "stream",
     "text": [
      "1\n",
      "1\n"
     ]
    }
   ],
   "source": [
    "var café = 1;       // Define a variable using a Unicode character\n",
    "console.log(caf\\u00e9);  // => 1; access the variable using an escape sequence\n",
    "console.log(caf\\u{E9});   // => 1; another form of the same escape sequence"
   ]
  },
  {
   "cell_type": "markdown",
   "id": "f6ffacc3",
   "metadata": {},
   "source": [
    "Early versions of JavaScript only supported the four-digit escape sequence. The version\n",
    "with curly braces was introduced in ES6 to better support Unicode codepoints\n",
    "that require more than 16 bits, such as emoji:"
   ]
  },
  {
   "cell_type": "code",
   "execution_count": 10,
   "id": "28f7e9d8",
   "metadata": {},
   "outputs": [
    {
     "name": "stdout",
     "output_type": "stream",
     "text": [
      "😀\n"
     ]
    }
   ],
   "source": [
    "console.log(\"\\u{1F600}\")"
   ]
  },
  {
   "cell_type": "markdown",
   "id": "95f1f221",
   "metadata": {},
   "source": [
    "Unicode escapes may also appear in comments, but since comments are ignored, they\n",
    "are simply treated as ASCII characters in that context and not interpreted as Unicode."
   ]
  },
  {
   "cell_type": "markdown",
   "id": "f22dc31d",
   "metadata": {},
   "source": [
    "## 2.5.2 Unicode Normalization"
   ]
  },
  {
   "cell_type": "markdown",
   "id": "239cfb5a",
   "metadata": {},
   "source": [
    "If you use non-ASCII characters in your JavaScript programs, you must be aware that\n",
    "Unicode allows more than one way of encoding the same character. The string “é,” for\n",
    "example, can be encoded as the single Unicode character \\u00E9 or as a regular\n",
    "ASCII “e” followed by the acute accent combining mark \\u0301. These two encodings\n",
    "typically look exactly the same when displayed by a text editor, but they have different\n",
    "binary encodings, meaning that they are considered different by JavaScript, which\n",
    "can lead to very confusing programs:"
   ]
  },
  {
   "cell_type": "code",
   "execution_count": 9,
   "id": "1d908804",
   "metadata": {},
   "outputs": [
    {
     "data": {
      "text/plain": [
       "2"
      ]
     },
     "execution_count": 9,
     "metadata": {},
     "output_type": "execute_result"
    }
   ],
   "source": [
    "var café = 1; // This constant is named \"caf\\u{e9}\"\n",
    "var café = 2; // This constant is different: \"cafe\\u{301}\"\n",
    "café // => 1: this constant has one value\n",
    "café // => 2: this indistinguishable constant has a different value"
   ]
  },
  {
   "cell_type": "markdown",
   "id": "c496dd9e",
   "metadata": {},
   "source": [
    "The Unicode standard defines the preferred encoding for all characters and specifies\n",
    "a normalization procedure to convert text to a canonical form suitable for comparisons.\n",
    "JavaScript assumes that the source code it is interpreting has already been normalized\n",
    "and does not do any normalization on its own. If you plan to use Unicode\n",
    "characters in your JavaScript programs, you should ensure that your editor or some\n",
    "other tool performs Unicode normalization of your source code to prevent you from\n",
    "ending up with different but visually indistinguishable identifiers."
   ]
  },
  {
   "cell_type": "markdown",
   "id": "6bb028b2",
   "metadata": {},
   "source": [
    "## 2.6 Optional Semicolons"
   ]
  },
  {
   "cell_type": "markdown",
   "id": "2595929f",
   "metadata": {},
   "source": [
    "Like many programming languages, JavaScript uses the semicolon (;) to separate\n",
    "statements (see Chapter 5) from one another. This is important for making the meaning\n",
    "of your code clear: without a separator, the end of one statement might appear to\n",
    "be the beginning of the next, or vice versa. In JavaScript, you can usually omit the\n",
    "semicolon between two statements if those statements are written on separate lines.\n",
    "(You can also omit a semicolon at the end of a program or if the next token in the\n",
    "program is a closing curly brace: }.) Many JavaScript programmers (and the code in\n",
    "this book) use semicolons to explicitly mark the ends of statements, even where they\n",
    "are not required. Another style is to omit semicolons whenever possible, using them\n",
    "only in the few situations that require them. Whichever style you choose, there are a\n",
    "few details you should understand about optional semicolons in JavaScript.\n",
    "\n",
    "Consider the following code. Since the two statements appear on separate lines, the\n",
    "first semicolon could be omitted:"
   ]
  },
  {
   "cell_type": "code",
   "execution_count": 15,
   "id": "9b01efba",
   "metadata": {},
   "outputs": [],
   "source": [
    "a = 3;\n",
    "b = 4;"
   ]
  },
  {
   "cell_type": "markdown",
   "id": "1428a776",
   "metadata": {},
   "source": [
    "Written as follows, however, the first semicolon is required:"
   ]
  },
  {
   "cell_type": "code",
   "execution_count": 17,
   "id": "7ffacf17",
   "metadata": {},
   "outputs": [],
   "source": [
    "a = 3; b = 4;"
   ]
  },
  {
   "cell_type": "markdown",
   "id": "f2fbeb2c",
   "metadata": {},
   "source": [
    "Note that JavaScript does not treat every line break as a semicolon: it usually treats\n",
    "line breaks as semicolons only if it can’t parse the code without adding an implicit\n",
    "semicolon. More formally (and with three exceptions described a bit later), JavaScript\n",
    "treats a line break as a semicolon if the next nonspace character cannot be interpreted\n",
    "as a continuation of the current statement. Consider the following code:"
   ]
  },
  {
   "cell_type": "code",
   "execution_count": 8,
   "id": "0c254a87",
   "metadata": {},
   "outputs": [
    {
     "name": "stdout",
     "output_type": "stream",
     "text": [
      "3\n"
     ]
    }
   ],
   "source": [
    "var a\n",
    "a\n",
    "=\n",
    "3\n",
    "console.log(a)"
   ]
  },
  {
   "cell_type": "markdown",
   "id": "d58bf6db",
   "metadata": {},
   "source": [
    "JavaScript interprets this code like this:"
   ]
  },
  {
   "cell_type": "code",
   "execution_count": 7,
   "id": "1683a6b8",
   "metadata": {},
   "outputs": [
    {
     "name": "stdout",
     "output_type": "stream",
     "text": [
      "3\n"
     ]
    }
   ],
   "source": [
    "var a; a = 3; console.log(a);"
   ]
  },
  {
   "cell_type": "markdown",
   "id": "8ce433f2",
   "metadata": {},
   "source": [
    "JavaScript does treat the first line break as a semicolon because it cannot parse the\n",
    "code `var a` a without a semicolon. The second a could stand alone as the statement\n",
    "a;, but JavaScript does not treat the second line break as a semicolon because it can\n",
    "continue parsing the longer statement a = 3;.\n",
    "\n",
    "These statement termination rules lead to some surprising cases. This code looks like\n",
    "two separate statements separated with a newline:"
   ]
  },
  {
   "cell_type": "markdown",
   "id": "3f5b56e8",
   "metadata": {},
   "source": [
    "```javascript\n",
    "var y = x + f\n",
    "(a+b).toString()\n",
    "```"
   ]
  },
  {
   "cell_type": "markdown",
   "id": "1569711d",
   "metadata": {},
   "source": [
    "But the parentheses on the second line of code can be interpreted as a function invocation\n",
    "of f from the first line, and JavaScript interprets the code like this:"
   ]
  },
  {
   "cell_type": "markdown",
   "id": "d6cfca7f",
   "metadata": {},
   "source": [
    "```javascript\n",
    "let y = x + f(a+b).toString();\n",
    "```"
   ]
  },
  {
   "cell_type": "markdown",
   "id": "994e6201",
   "metadata": {},
   "source": [
    "More likely than not, this is not the interpretation intended by the author of the code.\n",
    "In order to work as two separate statements, an explicit semicolon is required in this\n",
    "case."
   ]
  },
  {
   "cell_type": "markdown",
   "id": "ca074fb0",
   "metadata": {},
   "source": [
    "In general, if a statement begins with (, [, /, +, or -, there is a chance that it could be\n",
    "interpreted as a continuation of the statement before. Statements beginning with /, +,\n",
    "and - are quite rare in practice, but statements beginning with ( and [ are not\n",
    "uncommon at all, at least in some styles of JavaScript programming. Some programmers\n",
    "like to put a defensive semicolon at the beginning of any such statement so that\n",
    "it will continue to work correctly even if the statement before it is modified and a previously\n",
    "terminating semicolon removed:"
   ]
  },
  {
   "cell_type": "code",
   "execution_count": 11,
   "id": "8fc19019",
   "metadata": {},
   "outputs": [
    {
     "name": "stdout",
     "output_type": "stream",
     "text": [
      "0 0 [ 0, 1, 2 ]\n",
      "1 1 [ 0, 1, 2 ]\n",
      "2 2 [ 0, 1, 2 ]\n"
     ]
    }
   ],
   "source": [
    "let x = 0 // Semicolon omitted here\n",
    ";[x,x+1,x+2].forEach(console.log) // Defensive ; keeps this statement separate"
   ]
  },
  {
   "cell_type": "markdown",
   "id": "db778739",
   "metadata": {},
   "source": [
    "There are three exceptions to the general rule that JavaScript interprets line breaks as\n",
    "semicolons when it cannot parse the second line as a continuation of the statement\n",
    "on the first line. `The first exception involves the return, throw, yield, break, and continue statements` (see Chapter 5). These statements often stand alone, but they are\n",
    "sometimes followed by an identifier or expression. If a line break appears after any of\n",
    "these words (before any other tokens), JavaScript will always interpret that line break\n",
    "as a semicolon. For example, if you write:"
   ]
  },
  {
   "cell_type": "markdown",
   "id": "dd114617",
   "metadata": {},
   "source": [
    "```javascript\n",
    "return\n",
    "true;\n",
    "```"
   ]
  },
  {
   "cell_type": "markdown",
   "id": "9e5e9f45",
   "metadata": {},
   "source": [
    "JavaScript assumes you meant:"
   ]
  },
  {
   "cell_type": "markdown",
   "id": "7d27f8b7",
   "metadata": {},
   "source": [
    "```javascript\n",
    "return; true;\n",
    "```"
   ]
  },
  {
   "cell_type": "markdown",
   "id": "b4851f33",
   "metadata": {},
   "source": [
    "However, you probably meant:"
   ]
  },
  {
   "cell_type": "markdown",
   "id": "78052147",
   "metadata": {},
   "source": [
    "```javascript\n",
    "return true;\n",
    "```"
   ]
  },
  {
   "cell_type": "markdown",
   "id": "b2819dd1",
   "metadata": {},
   "source": [
    "This means that you must not insert a line break between return, break, or continue\n",
    "and the expression that follows the keyword. If you do insert a line break, your code\n",
    "is likely to fail in a nonobvious way that is difficult to debug.\n",
    "\n",
    "\n",
    "The second exception involves the ++ and −− operators (§4.8). These operators can be\n",
    "prefix operators that appear before an expression or postfix operators that appear\n",
    "after an expression. If you want to use either of these operators as postfix operators,\n",
    "they must appear on the same line as the expression they apply to. The third exception\n",
    "involves functions defined using concise “arrow” syntax: the => arrow itself must\n",
    "appear on the same line as the parameter list."
   ]
  },
  {
   "cell_type": "markdown",
   "id": "600448db",
   "metadata": {},
   "source": [
    "## Summary\n",
    "This chapter has shown how JavaScript programs are written at the lowest level. The\n",
    "next chapter takes us one step higher and introduces the primitive types and values\n",
    "(numbers, strings, and so on) that serve as the basic units of computation for Java‐\n",
    "Script programs."
   ]
  }
 ],
 "metadata": {
  "kernelspec": {
   "display_name": "Javascript (Node.js)",
   "language": "javascript",
   "name": "javascript"
  },
  "language_info": {
   "file_extension": ".js",
   "mimetype": "application/javascript",
   "name": "javascript",
   "version": "10.19.0"
  }
 },
 "nbformat": 4,
 "nbformat_minor": 5
}
