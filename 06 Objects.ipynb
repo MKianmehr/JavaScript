{
 "cells": [
  {
   "cell_type": "markdown",
   "id": "c04b41da",
   "metadata": {},
   "source": [
    "# Objects"
   ]
  },
  {
   "cell_type": "markdown",
   "id": "6238a2c6",
   "metadata": {},
   "source": [
    "----------------------------------"
   ]
  },
  {
   "cell_type": "markdown",
   "id": "8af6cd52",
   "metadata": {},
   "source": [
    "Objects are JavaScript’s most fundamental datatype, and you have already seen them\n",
    "many times in the chapters that precede this one. Because objects are so important to\n",
    "the JavaScript language, it is important that you understand how they work in detail,\n",
    "and this chapter provides that detail. It begins with a formal overview of objects, then\n",
    "dives into practical sections about creating objects and querying, setting, deleting,\n",
    "testing, and enumerating the properties of objects. These property-focused sections\n",
    "are followed by sections that explain how to extend, serialize, and define important\n",
    "methods on objects. Finally, the chapter concludes with a long section about new\n",
    "object literal syntax in ES6 and more recent versions of the language."
   ]
  },
  {
   "cell_type": "markdown",
   "id": "609bbcd0",
   "metadata": {},
   "source": [
    "## 6.1 Introduction to Objects"
   ]
  },
  {
   "cell_type": "markdown",
   "id": "1a6bc96a",
   "metadata": {},
   "source": [
    "An object is a composite value: it aggregates multiple values (primitive values or\n",
    "other objects) and allows you to store and retrieve those values by name. An object is\n",
    "an unordered collection of properties, each of which has a name and a value. Property\n",
    "names are usually strings (although, as we’ll see in §6.10.3, property names can also\n",
    "be Symbols), so we can say that objects map strings to values. This string-to-value\n",
    "mapping goes by various names—you are probably already familiar with the fundamental\n",
    "data structure under the name “hash,” “hashtable,” “dictionary,” or “associative\n",
    "array.” An object is more than a simple string-to-value map, however. In addition to\n",
    "maintaining its own set of properties, a JavaScript object also inherits the properties\n",
    "of another object, known as its ``“prototype.”`` The methods of an object are typically\n",
    "inherited properties, and this “prototypal inheritance” is a key feature of JavaScript."
   ]
  },
  {
   "cell_type": "markdown",
   "id": "739aa3d3",
   "metadata": {},
   "source": [
    "JavaScript objects are dynamic—properties can usually be added and deleted—but\n",
    "they can be used to simulate the static objects and “structs” of statically typed languages.\n",
    "They can also be used (by ignoring the value part of the string-to-value mapping)\n",
    "to represent sets of strings."
   ]
  },
  {
   "cell_type": "code",
   "execution_count": 1,
   "id": "e2807b49",
   "metadata": {},
   "outputs": [],
   "source": [
    "let ex = {\"x\" : 1, \"y\" : 2}"
   ]
  },
  {
   "cell_type": "code",
   "execution_count": 2,
   "id": "4cdcf0fc",
   "metadata": {},
   "outputs": [
    {
     "data": {
      "text/plain": [
       "true"
      ]
     },
     "execution_count": 2,
     "metadata": {},
     "output_type": "execute_result"
    }
   ],
   "source": [
    "delete ex.x"
   ]
  },
  {
   "cell_type": "code",
   "execution_count": 3,
   "id": "5c9501f7",
   "metadata": {},
   "outputs": [
    {
     "data": {
      "text/plain": [
       "{ y: 2 }"
      ]
     },
     "execution_count": 3,
     "metadata": {},
     "output_type": "execute_result"
    }
   ],
   "source": [
    "ex"
   ]
  },
  {
   "cell_type": "markdown",
   "id": "0bdc3309",
   "metadata": {},
   "source": [
    "Any value in JavaScript that is not a string, a number, a Symbol, or true, false, null,\n",
    "or undefined is an object. And even though strings, numbers, and booleans are not\n",
    "objects, they can behave like immutable objects."
   ]
  },
  {
   "cell_type": "markdown",
   "id": "83d212c3",
   "metadata": {},
   "source": [
    "Recall from §3.8 that objects are mutable and manipulated by reference rather than by\n",
    "value. If the variable x refers to an object and the code let y = x; is executed, the\n",
    "variable y holds a reference to the same object, not a copy of that object. Any\n",
    "modifications made to the object through the variable y are also visible through the\n",
    "variable x."
   ]
  },
  {
   "cell_type": "code",
   "execution_count": 4,
   "id": "baf23b2b",
   "metadata": {},
   "outputs": [],
   "source": [
    "let ex2 = {\"x\" : 1, \"y\" : 2}"
   ]
  },
  {
   "cell_type": "code",
   "execution_count": 5,
   "id": "a823a1cb",
   "metadata": {},
   "outputs": [],
   "source": [
    "let ex3 = ex2"
   ]
  },
  {
   "cell_type": "code",
   "execution_count": 6,
   "id": "0168e1f5",
   "metadata": {},
   "outputs": [
    {
     "data": {
      "text/plain": [
       "{ x: 1, y: 2 }"
      ]
     },
     "execution_count": 6,
     "metadata": {},
     "output_type": "execute_result"
    }
   ],
   "source": [
    "ex3"
   ]
  },
  {
   "cell_type": "code",
   "execution_count": 7,
   "id": "04bbf741",
   "metadata": {},
   "outputs": [
    {
     "data": {
      "text/plain": [
       "50"
      ]
     },
     "execution_count": 7,
     "metadata": {},
     "output_type": "execute_result"
    }
   ],
   "source": [
    "ex3.x = 50"
   ]
  },
  {
   "cell_type": "code",
   "execution_count": 8,
   "id": "43bc80e0",
   "metadata": {},
   "outputs": [
    {
     "data": {
      "text/plain": [
       "{ x: 50, y: 2 }"
      ]
     },
     "execution_count": 8,
     "metadata": {},
     "output_type": "execute_result"
    }
   ],
   "source": [
    "ex3"
   ]
  },
  {
   "cell_type": "code",
   "execution_count": 9,
   "id": "09caf450",
   "metadata": {},
   "outputs": [
    {
     "data": {
      "text/plain": [
       "{ x: 50, y: 2 }"
      ]
     },
     "execution_count": 9,
     "metadata": {},
     "output_type": "execute_result"
    }
   ],
   "source": [
    "ex2"
   ]
  },
  {
   "cell_type": "markdown",
   "id": "6fd07511",
   "metadata": {},
   "source": [
    "The most common things to do with objects are to create them and set, query, delete,\n",
    "test, and enumerate their properties. These fundamental operations are described in\n",
    "the opening sections of this chapter. The sections after that cover more advanced\n",
    "topics."
   ]
  },
  {
   "cell_type": "markdown",
   "id": "58c5f8f9",
   "metadata": {},
   "source": [
    "A property has a name and a value. A property name may be any string, including the\n",
    "empty string (or any Symbol), but no object may have two properties with the same\n",
    "name. The value may be any JavaScript value, or it may be a getter or setter function\n",
    "(or both). We’ll learn about getter and setter functions in §6.10.6."
   ]
  },
  {
   "cell_type": "markdown",
   "id": "3788d2b0",
   "metadata": {},
   "source": [
    "It is sometimes important to be able to distinguish between properties defined\n",
    "directly on an object and those that are inherited from a prototype object. JavaScript\n",
    "uses the term own property to refer to non-inherited properties."
   ]
  },
  {
   "cell_type": "markdown",
   "id": "c6b7f30d",
   "metadata": {},
   "source": [
    "In addition to its name and value, each property has three property attributes:"
   ]
  },
  {
   "cell_type": "markdown",
   "id": "4b5f658a",
   "metadata": {},
   "source": [
    "- The writable attribute specifies whether the value of the property can be set.\n",
    "\n",
    "\n",
    "- The enumerable attribute specifies whether the property name is returned by a for/in loop.\n",
    "\n",
    "\n",
    "- The configurable attribute specifies whether the property can be deleted and whether its attributes can be altered."
   ]
  },
  {
   "cell_type": "markdown",
   "id": "c72dc927",
   "metadata": {},
   "source": [
    "Many of JavaScript’s built-in objects have properties that are read-only, nonenumerable,\n",
    "or non-configurable. By default, however, all properties of the objects\n",
    "you create are writable, enumerable, and configurable. §14.1 explains techniques for\n",
    "specifying non-default property attribute values for your objects."
   ]
  },
  {
   "cell_type": "markdown",
   "id": "21278422",
   "metadata": {},
   "source": [
    "## 6.2 Creating Objects"
   ]
  },
  {
   "cell_type": "markdown",
   "id": "c9b5ccd4",
   "metadata": {},
   "source": [
    "Objects can be created with ``object literals``, with the ``new keyword``, and with the\n",
    "``Object.create()`` function. The subsections below describe each technique."
   ]
  },
  {
   "cell_type": "markdown",
   "id": "0a5e508b",
   "metadata": {},
   "source": [
    "## 6.2.1 Object Literals"
   ]
  },
  {
   "cell_type": "markdown",
   "id": "e2f4f482",
   "metadata": {},
   "source": [
    "The easiest way to create an object is to include an object literal in your JavaScript\n",
    "code. In its simplest form, an object literal is a comma-separated list of colonseparated\n",
    "name:value pairs, enclosed within curly braces. A property name is a JavaScript identifier or a string literal (the empty string is allowed). A property value is any JavaScript expression; the value of the expression (it may be a primitive value or an object value) becomes the value of the property. Here are some examples:"
   ]
  },
  {
   "cell_type": "code",
   "execution_count": 1,
   "id": "250c6beb",
   "metadata": {},
   "outputs": [],
   "source": [
    "let empty = {}; // An object with no properties\n",
    "let point = { x: 0, y: 0 }; // Two numeric properties\n",
    "let p2 = { x: point.x, y: point.y+1 }; // More complex values\n",
    "let book = {\n",
    "    \"main title\": \"JavaScript\", // These property names include spaces,\n",
    "    \"sub-title\": \"The Definitive Guide\", // and hyphens, so use string literals.\n",
    "    for: \"all audiences\", // for is reserved, but no quotes.\n",
    "    author: { // The value of this property is\n",
    "        firstname: \"David\", // itself an object.\n",
    "        surname: \"Flanagan\"\n",
    "    }\n",
    "};"
   ]
  },
  {
   "cell_type": "markdown",
   "id": "2d879666",
   "metadata": {},
   "source": [
    "A trailing comma following the last property in an object literal is legal, and some\n",
    "programming styles encourage the use of these trailing commas so you’re less likely\n",
    "to cause a syntax error if you add a new property at the end of the object literal at\n",
    "some later time."
   ]
  },
  {
   "cell_type": "markdown",
   "id": "4bd6ff55",
   "metadata": {},
   "source": [
    "An object literal is an expression that creates and initializes a new and distinct object\n",
    "each time it is evaluated. The value of each property is evaluated each time the literal\n",
    "is evaluated. This means that a single object literal can create many new objects if it\n",
    "appears within the body of a loop or in a function that is called repeatedly, and that\n",
    "the property values of these objects may differ from each other."
   ]
  },
  {
   "cell_type": "markdown",
   "id": "48bbb4c5",
   "metadata": {},
   "source": [
    "The object literals shown here use simple syntax that has been legal since the earliest\n",
    "versions of JavaScript. Recent versions of the language have introduced a number of\n",
    "new object literal features, which are covered in §6.10."
   ]
  },
  {
   "cell_type": "markdown",
   "id": "3d832a82",
   "metadata": {},
   "source": [
    "## 6.2.2 Creating Objects with new"
   ]
  },
  {
   "cell_type": "markdown",
   "id": "9908865f",
   "metadata": {},
   "source": [
    "The ``new operator`` creates and initializes a new object. The new keyword must be followed\n",
    "by a function invocation. A function used in this way is called a constructor and\n",
    "serves to initialize a newly created object. JavaScript includes constructors for its\n",
    "built-in types. For example:"
   ]
  },
  {
   "cell_type": "markdown",
   "id": "daca1ab7",
   "metadata": {},
   "source": [
    "````js\n",
    "let o = new Object(); // Create an empty object: same as {}.\n",
    "let a = new Array(); // Create an empty array: same as [].\n",
    "let d = new Date(); // Create a Date object representing the current time\n",
    "let r = new Map(); // Create a Map object for key/value mapping\n",
    "````"
   ]
  },
  {
   "cell_type": "markdown",
   "id": "612ad9ea",
   "metadata": {},
   "source": [
    "In addition to these built-in constructors, it is common to define your own constructor\n",
    "functions to initialize newly created objects. Doing so is covered in Chapter 9."
   ]
  },
  {
   "cell_type": "markdown",
   "id": "dde60365",
   "metadata": {},
   "source": [
    "## 6.2.3 Prototypes"
   ]
  },
  {
   "cell_type": "markdown",
   "id": "c50533ae",
   "metadata": {},
   "source": [
    "Before we can cover the third object creation technique, we must pause for a moment\n",
    "to explain prototypes. Almost every JavaScript object has a second JavaScript object\n",
    "associated with it. This second object is known as a prototype, and the first object\n",
    "inherits properties from the prototype."
   ]
  },
  {
   "cell_type": "markdown",
   "id": "5e4996be",
   "metadata": {},
   "source": [
    "All objects created by object literals have the same prototype object, and we can refer\n",
    "to this prototype object in JavaScript code as Object.prototype. Objects created\n",
    "using the new keyword and a constructor invocation use the value of the prototype\n",
    "property of the constructor function as their prototype. So the object created by new\n",
    "Object( ) inherits from Object.prototype, just as the object created by { } does. Similarly,\n",
    "the object created by new Array( ) uses Array.prototype as its prototype, and\n",
    "the object created by new Date( ) uses Date.prototype as its prototype. This can be\n",
    "confusing when first learning JavaScript. Remember: almost all objects have a prototype,\n",
    "but only a relatively small number of objects have a prototype property. It is\n",
    "these objects with prototype properties that define the prototypes for all the other\n",
    "objects."
   ]
  },
  {
   "cell_type": "markdown",
   "id": "42171d36",
   "metadata": {},
   "source": [
    "Object.prototype is one of the rare objects that has no prototype: it does not inherit\n",
    "any properties. Other prototype objects are normal objects that do have a prototype.\n",
    "Most built-in constructors (and most user-defined constructors) have a prototype\n",
    "that inherits from Object.prototype. For example, Date.prototype inherits properties\n",
    "from Object.prototype, so a Date object created by new Date() inherits properties\n",
    "from both Date.prototype and Object.prototype. This linked series of\n",
    "prototype objects is known as a prototype chain."
   ]
  },
  {
   "cell_type": "markdown",
   "id": "482e3dc4",
   "metadata": {},
   "source": [
    "An explanation of how property inheritance works is in §6.3.2. Chapter 9 explains the\n",
    "connection between prototypes and constructors in more detail: it shows how to\n",
    "define new “classes” of objects by writing a constructor function and setting its proto\n",
    "type property to the prototype object to be used by the “instances” created with that\n",
    "constructor. And we’ll learn how to query (and even change) the prototype of an\n",
    "object in §14.3."
   ]
  },
  {
   "cell_type": "markdown",
   "id": "9607ca8a",
   "metadata": {},
   "source": [
    "## 6.2.4 Object.create( )"
   ]
  },
  {
   "cell_type": "markdown",
   "id": "0992d041",
   "metadata": {},
   "source": [
    "Object.create( ) creates a new object, using its first argument as the prototype of\n",
    "that object:"
   ]
  },
  {
   "cell_type": "code",
   "execution_count": 2,
   "id": "fc722cc8",
   "metadata": {},
   "outputs": [
    {
     "data": {
      "text/plain": [
       "3"
      ]
     },
     "execution_count": 2,
     "metadata": {},
     "output_type": "execute_result"
    }
   ],
   "source": [
    "let o1 = Object.create({x: 1, y: 2}); // o1 inherits properties x and y.\n",
    "o1.x + o1.y // => 3"
   ]
  },
  {
   "cell_type": "markdown",
   "id": "63309ebb",
   "metadata": {},
   "source": [
    "You can pass null to create a new object that does not have a prototype, but if you do\n",
    "this, the newly created object will not inherit anything, not even basic methods like\n",
    "toString( ) (which means it won’t work with the + operator either):"
   ]
  },
  {
   "cell_type": "code",
   "execution_count": 3,
   "id": "774c1d5c",
   "metadata": {},
   "outputs": [],
   "source": [
    "let o2 = Object.create(null); // o2 inherits no props or methods."
   ]
  },
  {
   "cell_type": "markdown",
   "id": "db0108bd",
   "metadata": {},
   "source": [
    "If you want to create an ordinary empty object (like the object returned by { } or new\n",
    "Object( )), pass Object.prototype:"
   ]
  },
  {
   "cell_type": "code",
   "execution_count": 4,
   "id": "5ad6bf5f",
   "metadata": {},
   "outputs": [],
   "source": [
    "let o3 = Object.create(Object.prototype); // o3 is like {} or new Object()."
   ]
  },
  {
   "cell_type": "markdown",
   "id": "fba39194",
   "metadata": {},
   "source": [
    "The ability to create a new object with an arbitrary prototype is a powerful one, and\n",
    "we’ll use Object.create( ) in a number of places throughout this chapter.\n",
    "(Object.create( ) also takes an optional second argument that describes the properties\n",
    "of the new object. This second argument is an advanced feature covered in §14.1.)"
   ]
  },
  {
   "cell_type": "markdown",
   "id": "6aa9d654",
   "metadata": {},
   "source": [
    "One use for Object.create( ) is when you want to guard against unintended (but\n",
    "nonmalicious) modification of an object by a library function that you don’t have\n",
    "control over. Instead of passing the object directly to the function, you can pass an\n",
    "object that inherits from it. If the function reads properties of that object, it will see\n",
    "the inherited values. If it sets properties, however, those writes will not affect the original\n",
    "object."
   ]
  },
  {
   "cell_type": "markdown",
   "id": "c27ea1ae",
   "metadata": {},
   "source": [
    "````js\n",
    "let o = { x: \"don't change this value\" };\n",
    "library.function(Object.create(o)); // Guard against accidental modifications\n",
    "````"
   ]
  },
  {
   "cell_type": "markdown",
   "id": "33808f5c",
   "metadata": {},
   "source": [
    "To understand why this works, you need to know how properties are queried and set\n",
    "in JavaScript. These are the topics of the next section."
   ]
  },
  {
   "cell_type": "markdown",
   "id": "bd38383c",
   "metadata": {},
   "source": [
    "## 6.3 Querying and Setting Properties"
   ]
  },
  {
   "cell_type": "markdown",
   "id": "e919b28d",
   "metadata": {},
   "source": [
    "To obtain the value of a property, use the dot (.) or square bracket ([]) operators\n",
    "described in §4.4. The lefthand side should be an expression whose value is an object.\n",
    "If using the dot operator, the righthand side must be a simple identifier that names\n",
    "the property. If using square brackets, the value within the brackets must be an\n",
    "expression that evaluates to a string that contains the desired property name:"
   ]
  },
  {
   "cell_type": "code",
   "execution_count": 5,
   "id": "5f03a57a",
   "metadata": {},
   "outputs": [],
   "source": [
    "let author = book.author; // Get the \"author\" property of the book.\n",
    "let name = author.surname; // Get the \"surname\" property of the author.\n",
    "let title = book[\"main title\"]; // Get the \"main title\" property of the book."
   ]
  },
  {
   "cell_type": "markdown",
   "id": "c3c99c40",
   "metadata": {},
   "source": [
    "To create or set a property, use a dot or square brackets as you would to query the\n",
    "property, but put them on the lefthand side of an assignment expression:"
   ]
  },
  {
   "cell_type": "code",
   "execution_count": 6,
   "id": "fa7cf785",
   "metadata": {},
   "outputs": [
    {
     "data": {
      "text/plain": [
       "'ECMAScript'"
      ]
     },
     "execution_count": 6,
     "metadata": {},
     "output_type": "execute_result"
    }
   ],
   "source": [
    "book.edition = 7; // Create an \"edition\" property of book.\n",
    "book[\"main title\"] = \"ECMAScript\"; // Change the \"main title\" property."
   ]
  },
  {
   "cell_type": "markdown",
   "id": "64798c91",
   "metadata": {},
   "source": [
    "When using square bracket notation, we’ve said that the expression inside the square\n",
    "brackets must evaluate to a string. A more precise statement is that the expression must evaluate to a string or a value that can be converted to a string or to a Symbol(§6.10.3). In Chapter 7, for example, we’ll see that it is common to use numbers inside the square brackets."
   ]
  },
  {
   "cell_type": "markdown",
   "id": "3230b43c",
   "metadata": {},
   "source": [
    "## 6.3.1 Objects As Associative Arrays"
   ]
  },
  {
   "cell_type": "markdown",
   "id": "91ab2fc9",
   "metadata": {},
   "source": [
    "As explained in the preceding section, the following two JavaScript expressions have\n",
    "the same value:"
   ]
  },
  {
   "cell_type": "markdown",
   "id": "21a492d3",
   "metadata": {},
   "source": [
    "````js\n",
    "object.property\n",
    "object[\"property\"]\n",
    "````"
   ]
  },
  {
   "cell_type": "markdown",
   "id": "2ebd5ba3",
   "metadata": {},
   "source": [
    "The first syntax, using the dot and an identifier, is like the syntax used to access a\n",
    "static field of a struct or object in C or Java. The second syntax, using square brackets\n",
    "and a string, looks like array access, but to an array indexed by strings rather than by\n",
    "numbers. This kind of array is known as an associative array (or hash or map or dictionary).\n",
    "JavaScript objects are associative arrays, and this section explains why that is\n",
    "important."
   ]
  },
  {
   "cell_type": "markdown",
   "id": "c60bf91f",
   "metadata": {},
   "source": [
    "In C, C++, Java, and similar strongly typed languages, an object can have only a fixed\n",
    "number of properties, and the names of these properties must be defined in advance.\n",
    "Since JavaScript is a loosely typed language, this rule does not apply: a program can\n",
    "create any number of properties in any object. When you use the . operator to access\n",
    "a property of an object, however, the name of the property is expressed as an identifier.\n",
    "Identifiers must be typed literally into your JavaScript program; they are not a\n",
    "datatype, so they cannot be manipulated by the program."
   ]
  },
  {
   "cell_type": "markdown",
   "id": "0886e2e2",
   "metadata": {},
   "source": [
    "On the other hand, when you access a property of an object with the [ ] array notation,\n",
    "the name of the property is expressed as a string. Strings are JavaScript datatypes,\n",
    "so they can be manipulated and created while a program is running. So, for\n",
    "example, you can write the following code in JavaScript:"
   ]
  },
  {
   "cell_type": "markdown",
   "id": "6946fad5",
   "metadata": {},
   "source": [
    "````js\n",
    "let addr = \"\";\n",
    "for(let i = 0; i < 4; i++) {\n",
    "addr += customer[`address${i}`] + \"\\n\";\n",
    "}\n",
    "````"
   ]
  },
  {
   "cell_type": "markdown",
   "id": "9e5e8c93",
   "metadata": {},
   "source": [
    "This code reads and concatenates the address0, address1, address2, and address3\n",
    "properties of the customer object."
   ]
  },
  {
   "cell_type": "markdown",
   "id": "8c699fbc",
   "metadata": {},
   "source": [
    "This brief example demonstrates the flexibility of using array notation to access properties\n",
    "of an object with string expressions. This code could be rewritten using the dot\n",
    "notation, but there are cases in which only the array notation will do. Suppose, for\n",
    "example, that you are writing a program that uses network resources to compute the\n",
    "current value of the user’s stock market investments. The program allows the user to\n",
    "type in the name of each stock they own as well as the number of shares of each stock.\n",
    "You might use an object named portfolio to hold this information. The object has one property for each stock. The name of the property is the name of the stock, and\n",
    "the property value is the number of shares of that stock. So, for example, if a user\n",
    "holds 50 shares of stock in IBM, the portfolio.ibm property has the value 50."
   ]
  },
  {
   "cell_type": "markdown",
   "id": "f6372358",
   "metadata": {},
   "source": [
    "Part of this program might be a function for adding a new stock to the portfolio:"
   ]
  },
  {
   "cell_type": "code",
   "execution_count": 7,
   "id": "9d815eed",
   "metadata": {},
   "outputs": [],
   "source": [
    "function addstock(portfolio, stockname, shares) {\n",
    "    portfolio[stockname] = shares;\n",
    "}"
   ]
  },
  {
   "cell_type": "markdown",
   "id": "590cd0e6",
   "metadata": {},
   "source": [
    "Since the user enters stock names at runtime, there is no way that you can know the\n",
    "property names ahead of time. Since you can’t know the property names when you\n",
    "write the program, there is no way you can use the . operator to access the properties\n",
    "of the portfolio object. You can use the [ ] operator, however, because it uses a string\n",
    "value (which is dynamic and can change at runtime) rather than an identifier (which\n",
    "is static and must be hardcoded in the program) to name the property."
   ]
  },
  {
   "cell_type": "markdown",
   "id": "7a0f1db4",
   "metadata": {},
   "source": [
    "In Chapter 5, we introduced the for/in loop (and we’ll see it again shortly, in §6.6).\n",
    "The power of this JavaScript statement becomes clear when you consider its use with\n",
    "associative arrays. Here is how you would use it when computing the total value of a\n",
    "portfolio:"
   ]
  },
  {
   "cell_type": "code",
   "execution_count": 8,
   "id": "fc4432dc",
   "metadata": {},
   "outputs": [],
   "source": [
    "function computeValue(portfolio) {\n",
    "    let total = 0.0;\n",
    "    for(let stock in portfolio) {      // For each stock in the portfolio:\n",
    "        let shares = portfolio[stock]; // get the number of shares\n",
    "        let price = getQuote(stock);   // look up share price\n",
    "        total += shares * price;       // add stock value to total value\n",
    "    }\n",
    "    return total;                      // Return total value.\n",
    "}"
   ]
  },
  {
   "cell_type": "markdown",
   "id": "08384a66",
   "metadata": {},
   "source": [
    "JavaScript objects are commonly used as associative arrays as shown here, and it is\n",
    "important to understand how this works. In ES6 and later, however, the Map class\n",
    "described in §11.1.2 is often a better choice than using a plain object."
   ]
  },
  {
   "cell_type": "markdown",
   "id": "5c7c3fde",
   "metadata": {},
   "source": [
    "## 6.3.2 Inheritance"
   ]
  },
  {
   "cell_type": "markdown",
   "id": "1990187b",
   "metadata": {},
   "source": [
    "JavaScript objects have a set of “own properties,” and they also inherit a set of properties\n",
    "from their prototype object. To understand this, we must consider property\n",
    "access in more detail. The examples in this section use the Object.create( ) function\n",
    "to create objects with specified prototypes. We’ll see in Chapter 9, however, that every\n",
    "time you create an instance of a class with new, you are creating an object that inherits\n",
    "properties from a prototype object."
   ]
  },
  {
   "cell_type": "markdown",
   "id": "96fe50d2",
   "metadata": {},
   "source": [
    "Suppose you query the property x in the object o. If o does not have an own property\n",
    "with that name, the prototype object of o1 is queried for the property x. If the prototype\n",
    "object does not have an own property by that name, but has a prototype itself,\n",
    "the query is performed on the prototype of the prototype. This continues until the\n",
    "property x is found or until an object with a null prototype is searched. As you can\n",
    "see, the prototype attribute of an object creates a chain or linked list from which\n",
    "properties are inherited:"
   ]
  },
  {
   "cell_type": "code",
   "execution_count": 9,
   "id": "479192be",
   "metadata": {},
   "outputs": [
    {
     "data": {
      "text/plain": [
       "3"
      ]
     },
     "execution_count": 9,
     "metadata": {},
     "output_type": "execute_result"
    }
   ],
   "source": [
    "let o = {}; // o inherits object methods from Object.prototype\n",
    "o.x = 1; // and it now has an own property x.\n",
    "let p = Object.create(o); // p inherits properties from o and Object.prototype\n",
    "p.y = 2; // and has an own property y.\n",
    "let q = Object.create(p); // q inherits properties from p, o, and...\n",
    "q.z = 3; // ...Object.prototype and has an own property z.\n",
    "let f = q.toString(); // toString is inherited from Object.prototype\n",
    "q.x + q.y // => 3; x and y are inherited from o and p"
   ]
  },
  {
   "cell_type": "markdown",
   "id": "768cf2bb",
   "metadata": {},
   "source": [
    "Now suppose you assign to the property x of the object o. If o already has an own\n",
    "(non-inherited) property named x, then the assignment simply changes the value of\n",
    "this existing property. Otherwise, the assignment creates a new property named x on\n",
    "the object o. If o previously inherited the property x, that inherited property is now\n",
    "hidden by the newly created own property with the same name."
   ]
  },
  {
   "cell_type": "markdown",
   "id": "34f7dded",
   "metadata": {},
   "source": [
    "Property assignment examines the prototype chain only to determine whether the\n",
    "assignment is allowed. If o inherits a read-only property named x, for example, then\n",
    "the assignment is not allowed. (Details about when a property may be set are in\n",
    "§6.3.3.) If the assignment is allowed, however, it always creates or sets a property in\n",
    "the original object and never modifies objects in the prototype chain. The fact that\n",
    "inheritance occurs when querying properties but not when setting them is a key feature\n",
    "of JavaScript because it allows us to selectively override inherited properties:"
   ]
  },
  {
   "cell_type": "code",
   "execution_count": 10,
   "id": "0c93d4da",
   "metadata": {},
   "outputs": [
    {
     "data": {
      "text/plain": [
       "1"
      ]
     },
     "execution_count": 10,
     "metadata": {},
     "output_type": "execute_result"
    }
   ],
   "source": [
    "let unitcircle = { r: 1 }; // An object to inherit from\n",
    "let c = Object.create(unitcircle); // c inherits the property r\n",
    "c.x = 1; c.y = 1; // c defines two properties of its own\n",
    "c.r = 2; // c overrides its inherited property\n",
    "unitcircle.r // => 1: the prototype is not affected"
   ]
  },
  {
   "cell_type": "markdown",
   "id": "d07aaa48",
   "metadata": {},
   "source": [
    "There is one exception to the rule that a property assignment either fails or creates or\n",
    "sets a property in the original object. If o inherits the property x, and that property is\n",
    "an accessor property with a setter method (see §6.10.6), then that setter method is\n",
    "called rather than creating a new property x in o. Note, however, that the setter\n",
    "method is called on the object o, not on the prototype object that defines the property, so if the setter method defines any properties, it will do so on o, and it will\n",
    "again leave the prototype chain unmodified."
   ]
  },
  {
   "cell_type": "markdown",
   "id": "c7aea6d5",
   "metadata": {},
   "source": [
    "## 6.3.3 Property Access Errors"
   ]
  },
  {
   "cell_type": "markdown",
   "id": "a13ed185",
   "metadata": {},
   "source": [
    "Property access expressions do not always return or set a value. This section explains\n",
    "the things that can go wrong when you query or set a property."
   ]
  },
  {
   "cell_type": "markdown",
   "id": "3ea125d8",
   "metadata": {},
   "source": [
    "It is not an error to query a property that does not exist. If the property x is not found\n",
    "as an own property or an inherited property of o, the property access expression o.x\n",
    "evaluates to undefined. Recall that our book object has a “sub-title” property, but not\n",
    "a “subtitle” property:"
   ]
  },
  {
   "cell_type": "code",
   "execution_count": 11,
   "id": "1b531096",
   "metadata": {},
   "outputs": [],
   "source": [
    "book.subtitle // => undefined: property doesn't exist"
   ]
  },
  {
   "cell_type": "markdown",
   "id": "6812e65c",
   "metadata": {},
   "source": [
    "It is an error, however, to attempt to query a property of an object that does not exist.\n",
    "The null and undefined values have no properties, and it is an error to query properties\n",
    "of these values. Continuing the preceding example:"
   ]
  },
  {
   "cell_type": "code",
   "execution_count": 12,
   "id": "e9bc0462",
   "metadata": {},
   "outputs": [
    {
     "ename": "TypeError",
     "evalue": "Cannot read property 'length' of undefined",
     "output_type": "error",
     "traceback": [
      "evalmachine.<anonymous>:1",
      "let len = book.subtitle.length; // !TypeError: undefined doesn't have length",
      "                        ^",
      "",
      "TypeError: Cannot read property 'length' of undefined",
      "    at evalmachine.<anonymous>:1:25",
      "    at Script.runInThisContext (vm.js:122:20)",
      "    at Object.runInThisContext (vm.js:329:38)",
      "    at run ([eval]:1054:15)",
      "    at onRunRequest ([eval]:888:18)",
      "    at onMessage ([eval]:848:13)",
      "    at process.emit (events.js:198:13)",
      "    at emit (internal/child_process.js:832:12)",
      "    at process._tickCallback (internal/process/next_tick.js:63:19)"
     ]
    }
   ],
   "source": [
    "let len = book.subtitle.length; // !TypeError: undefined doesn't have length"
   ]
  },
  {
   "cell_type": "markdown",
   "id": "34ce2caa",
   "metadata": {},
   "source": [
    "Property access expressions will fail if the lefthand side of the . is null or undefined.\n",
    "So when writing an expression like book.author.surname, you should be careful if\n",
    "you are not certain that book and book.author are actually defined. Here are two\n",
    "ways to guard against this kind of problem:"
   ]
  },
  {
   "cell_type": "code",
   "execution_count": 13,
   "id": "12f7097d",
   "metadata": {},
   "outputs": [
    {
     "data": {
      "text/plain": [
       "'Flanagan'"
      ]
     },
     "execution_count": 13,
     "metadata": {},
     "output_type": "execute_result"
    }
   ],
   "source": [
    "// A verbose and explicit technique\n",
    "let surname = undefined;\n",
    "if (book) {\n",
    "    if (book.author) {\n",
    "surname = book.author.surname;\n",
    "}\n",
    "}\n",
    "\n",
    "// A concise and idiomatic alternative to get surname or null or undefined\n",
    "surname = book && book.author && book.author.surname;"
   ]
  },
  {
   "cell_type": "markdown",
   "id": "584569fb",
   "metadata": {},
   "source": [
    "To understand why this idiomatic expression works to prevent TypeError exceptions,\n",
    "you might want to review the short-circuiting behavior of the && operator in §4.10.1."
   ]
  },
  {
   "cell_type": "markdown",
   "id": "4af8c645",
   "metadata": {},
   "source": [
    "As described in §4.4.1, ES2020 supports conditional property access with ?., which\n",
    "allows us to rewrite the previous assignment expression as:"
   ]
  },
  {
   "cell_type": "markdown",
   "id": "3a6da9e5",
   "metadata": {},
   "source": [
    "````js\n",
    "let surname = book?.author?.surname;\n",
    "````"
   ]
  },
  {
   "cell_type": "markdown",
   "id": "fc0bbb59",
   "metadata": {},
   "source": [
    "Attempting to set a property on null or undefined also causes a TypeError. Attempts\n",
    "to set properties on other values do not always succeed, either: some properties are\n",
    "read-only and cannot be set, and some objects do not allow the addition of new properties.\n",
    "In strict mode (§5.6.3), a TypeError is thrown whenever an attempt to set a\n",
    "property fails. Outside of strict mode, these failures are usually silent."
   ]
  },
  {
   "cell_type": "markdown",
   "id": "c76da42b",
   "metadata": {},
   "source": [
    "The rules that specify when a property assignment succeeds and when it fails are\n",
    "intuitive but difficult to express concisely. An attempt to set a property p of an object\n",
    "o fails in these circumstances:"
   ]
  },
  {
   "cell_type": "markdown",
   "id": "40ff9c8c",
   "metadata": {},
   "source": [
    "- o has an own property p that is read-only: it is not possible to set read-only properties.\n",
    "\n",
    "\n",
    "- ``o has an inherited property p that is read-only: it is not possible to hide an inherited read-only property with an own property of the same name.``\n",
    "\n",
    "\n",
    "- o does not have an own property p; o does not inherit a property p with a setter method, and o’s extensible attribute (see §14.2) is false. Since p does not already exist in o, and if there is no setter method to call, then p must be added to o. But if o is not extensible, then no new properties can be defined on it."
   ]
  },
  {
   "cell_type": "markdown",
   "id": "7434859a",
   "metadata": {},
   "source": [
    "## 6.4 Deleting Properties"
   ]
  },
  {
   "cell_type": "markdown",
   "id": "7e8e9e9d",
   "metadata": {},
   "source": [
    "The delete operator (§4.13.4) removes a property from an object. Its single operand\n",
    "should be a property access expression. Surprisingly, delete does not operate on the\n",
    "value of the property but on the property itself:"
   ]
  },
  {
   "cell_type": "code",
   "execution_count": 15,
   "id": "78be463f",
   "metadata": {},
   "outputs": [
    {
     "data": {
      "text/plain": [
       "true"
      ]
     },
     "execution_count": 15,
     "metadata": {},
     "output_type": "execute_result"
    }
   ],
   "source": [
    "delete book.author; // The book object now has no author property.\n",
    "delete book[\"main title\"]; // Now it doesn't have \"main title\", either."
   ]
  },
  {
   "cell_type": "markdown",
   "id": "1a22dbd5",
   "metadata": {},
   "source": [
    "The delete operator only deletes own properties, not inherited ones. (To delete an\n",
    "inherited property, you must delete it from the prototype object in which it is defined.\n",
    "Doing this affects every object that inherits from that prototype.)"
   ]
  },
  {
   "cell_type": "markdown",
   "id": "c3ce4e7a",
   "metadata": {},
   "source": [
    "A delete expression evaluates to true if the delete succeeded or if the delete had no\n",
    "effect (such as deleting a nonexistent property). delete also evaluates to true when\n",
    "used (meaninglessly) with an expression that is not a property access expression:"
   ]
  },
  {
   "cell_type": "code",
   "execution_count": 18,
   "id": "7508afe5",
   "metadata": {},
   "outputs": [
    {
     "data": {
      "text/plain": [
       "true"
      ]
     },
     "execution_count": 18,
     "metadata": {},
     "output_type": "execute_result"
    }
   ],
   "source": [
    "let o4 = {x: 1}; // o has own property x and inherits property toString\n",
    "delete o4.x // => true: deletes property x\n",
    "delete o4.x // => true: does nothing (x doesn't exist) but true anyway\n",
    "delete o4.toString // => true: does nothing (toString isn't an own property)\n",
    "delete 1 // => true: nonsense, but true anyway"
   ]
  },
  {
   "cell_type": "markdown",
   "id": "62f082bc",
   "metadata": {},
   "source": [
    "delete does not remove properties that have a configurable attribute of false. Certain\n",
    "properties of built-in objects are non-configurable, as are properties of the global\n",
    "object created by variable declaration and function declaration. In strict mode,\n",
    "attempting to delete a non-configurable property causes a TypeError. In non-strict\n",
    "mode, delete simply evaluates to false in this case:"
   ]
  },
  {
   "cell_type": "code",
   "execution_count": null,
   "id": "3c83eaf7",
   "metadata": {},
   "outputs": [],
   "source": [
    "// In strict mode, all these deletions throw TypeError instead of returning false\n",
    "delete Object.prototype // => false: property is non-configurable\n",
    "var x = 1; // Declare a global variable\n",
    "delete globalThis.x // => false: can't delete this property\n",
    "function f() {} // Declare a global function\n",
    "delete globalThis.f // => false: can't delete this property either"
   ]
  },
  {
   "cell_type": "markdown",
   "id": "5b7b0bb5",
   "metadata": {},
   "source": [
    "When deleting configurable properties of the global object in non-strict mode, you\n",
    "can omit the reference to the global object and simply follow the delete operator\n",
    "with the property name:"
   ]
  },
  {
   "cell_type": "markdown",
   "id": "06ff0eb0",
   "metadata": {},
   "source": [
    "````js\n",
    "globalThis.x = 1; // Create a configurable global property (no let or var)\n",
    "delete x // => true: this property can be deleted\n",
    "````"
   ]
  },
  {
   "cell_type": "markdown",
   "id": "6bef6118",
   "metadata": {},
   "source": [
    "In strict mode, however, delete raises a SyntaxError if its operand is an unqualified\n",
    "identifier like x, and you have to be explicit about the property access:"
   ]
  },
  {
   "cell_type": "markdown",
   "id": "fc022e39",
   "metadata": {},
   "source": [
    "````js\n",
    "delete x; // SyntaxError in strict mode\n",
    "delete globalThis.x; // This works\n",
    "````"
   ]
  },
  {
   "cell_type": "markdown",
   "id": "1c7e31c7",
   "metadata": {},
   "source": [
    "## 6.5 Testing Properties"
   ]
  },
  {
   "cell_type": "markdown",
   "id": "b82ddf0e",
   "metadata": {},
   "source": [
    "JavaScript objects can be thought of as sets of properties, and it is often useful to be\n",
    "able to test for membership in the set—to check whether an object has a property\n",
    "with a given name. You can do this with the in operator, with the hasOwnProperty()\n",
    "and propertyIsEnumerable() methods, or simply by querying the property. The\n",
    "examples shown here all use strings as property names, but they also work with Symbols\n",
    "(§6.10.3)."
   ]
  },
  {
   "cell_type": "markdown",
   "id": "92ebfe5b",
   "metadata": {},
   "source": [
    "The ``in operator`` expects a property name on its left side and an object on its right. It\n",
    "returns true if the object has an own property or an inherited property by that name:"
   ]
  },
  {
   "cell_type": "code",
   "execution_count": 22,
   "id": "3790cfd1",
   "metadata": {},
   "outputs": [
    {
     "data": {
      "text/plain": [
       "true"
      ]
     },
     "execution_count": 22,
     "metadata": {},
     "output_type": "execute_result"
    }
   ],
   "source": [
    "let o5 = { x: 1 };\n",
    "\"x\" in o5 // => true: o has an own property \"x\"\n",
    "\"y\" in o5 // => false: o doesn't have a property \"y\"\n",
    "\"toString\" in o5 // => true: o inherits a toString property"
   ]
  },
  {
   "cell_type": "markdown",
   "id": "06a89640",
   "metadata": {},
   "source": [
    "The ``hasOwnProperty()`` method of an object tests whether that object has an own\n",
    "property with the given name. It returns false for inherited properties:"
   ]
  },
  {
   "cell_type": "code",
   "execution_count": 24,
   "id": "d8c87967",
   "metadata": {},
   "outputs": [
    {
     "data": {
      "text/plain": [
       "false"
      ]
     },
     "execution_count": 24,
     "metadata": {},
     "output_type": "execute_result"
    }
   ],
   "source": [
    "let o6 = { x: 1 };\n",
    "o6.hasOwnProperty(\"x\") // => true: o has an own property x\n",
    "o6.hasOwnProperty(\"y\") // => false: o doesn't have a property y\n",
    "o6.hasOwnProperty(\"toString\") // => false: toString is an inherited property"
   ]
  },
  {
   "cell_type": "markdown",
   "id": "b2b930fb",
   "metadata": {},
   "source": [
    "The ``propertyIsEnumerable()`` refines the hasOwnProperty() test. It returns true\n",
    "only if the named property is an own property and its enumerable attribute is true.\n",
    "Certain built-in properties are not enumerable. Properties created by normal JavaScript code are enumerable unless you’ve used one of the techniques shown in §14.1\n",
    "to make them non-enumerable."
   ]
  },
  {
   "cell_type": "code",
   "execution_count": 26,
   "id": "51cb3648",
   "metadata": {},
   "outputs": [
    {
     "ename": "SyntaxError",
     "evalue": "Identifier 'o7' has already been declared",
     "output_type": "error",
     "traceback": [
      "evalmachine.<anonymous>:1",
      "let o7 = { x: 1 };",
      "^",
      "",
      "SyntaxError: Identifier 'o7' has already been declared",
      "    at evalmachine.<anonymous>:1:1",
      "    at Script.runInThisContext (vm.js:122:20)",
      "    at Object.runInThisContext (vm.js:329:38)",
      "    at run ([eval]:1054:15)",
      "    at onRunRequest ([eval]:888:18)",
      "    at onMessage ([eval]:848:13)",
      "    at process.emit (events.js:198:13)",
      "    at emit (internal/child_process.js:832:12)",
      "    at process._tickCallback (internal/process/next_tick.js:63:19)"
     ]
    }
   ],
   "source": [
    "let o7 = { x: 1 };\n",
    "o7.propertyIsEnumerable(\"x\") // => true: o has an own enumerable property x\n",
    "o7.propertyIsEnumerable(\"toString\") // => false: not an own property\n",
    "Object.prototype.propertyIsEnumerable(\"toString\") // => false: not enumerable"
   ]
  },
  {
   "cell_type": "markdown",
   "id": "cab42da3",
   "metadata": {},
   "source": [
    "Instead of using the in operator, it is often sufficient to simply query the property and\n",
    "use !== to make sure it is not undefined:"
   ]
  },
  {
   "cell_type": "code",
   "execution_count": 28,
   "id": "8129f5b6",
   "metadata": {},
   "outputs": [
    {
     "data": {
      "text/plain": [
       "true"
      ]
     },
     "execution_count": 28,
     "metadata": {},
     "output_type": "execute_result"
    }
   ],
   "source": [
    "let o8 = { x: 1 };\n",
    "o8.x !== undefined // => true: o has a property x\n",
    "o8.y !== undefined // => false: o doesn't have a property y\n",
    "o8.toString !== undefined // => true: o inherits a toString property"
   ]
  },
  {
   "cell_type": "markdown",
   "id": "d19681b3",
   "metadata": {},
   "source": [
    "There is one thing the in operator can do that the simple property access technique\n",
    "shown here cannot do. in can distinguish between properties that do not exist and\n",
    "properties that exist but have been set to undefined. Consider this code:"
   ]
  },
  {
   "cell_type": "code",
   "execution_count": 29,
   "id": "f7489f4e",
   "metadata": {},
   "outputs": [
    {
     "data": {
      "text/plain": [
       "false"
      ]
     },
     "execution_count": 29,
     "metadata": {},
     "output_type": "execute_result"
    }
   ],
   "source": [
    "let o9 = { x: undefined }; // Property is explicitly set to undefined\n",
    "o9.x !== undefined // => false: property exists but is undefined\n",
    "o9.y !== undefined // => false: property doesn't even exist\n",
    "\"x\" in o9 // => true: the property exists\n",
    "\"y\" in o9 // => false: the property doesn't exist\n",
    "delete o9.x; // Delete the property x\n",
    "\"x\" in o9 // => false: it doesn't exist anymore"
   ]
  },
  {
   "cell_type": "markdown",
   "id": "31060b25",
   "metadata": {},
   "source": [
    "## 6.6 Enumerating Properties"
   ]
  },
  {
   "cell_type": "markdown",
   "id": "1888eeb4",
   "metadata": {},
   "source": [
    "Instead of testing for the existence of individual properties, we sometimes want to\n",
    "iterate through or obtain a list of all the properties of an object. There are a few different\n",
    "ways to do this."
   ]
  },
  {
   "cell_type": "markdown",
   "id": "ac1de3f4",
   "metadata": {},
   "source": [
    "The for/in loop was covered in §5.4.5. It runs the body of the loop once for each\n",
    "enumerable property (own or inherited) of the specified object, assigning the name of\n",
    "the property to the loop variable. Built-in methods that objects inherit are not enumerable,\n",
    "but the properties that your code adds to objects are enumerable by default.\n",
    "For example:"
   ]
  },
  {
   "cell_type": "code",
   "execution_count": 30,
   "id": "6c2c3c9d",
   "metadata": {},
   "outputs": [
    {
     "name": "stdout",
     "output_type": "stream",
     "text": [
      "x\n",
      "y\n",
      "z\n"
     ]
    }
   ],
   "source": [
    "let o10 = {x: 1, y: 2, z: 3}; // Three enumerable own properties\n",
    "o10.propertyIsEnumerable(\"toString\") // => false: not enumerable\n",
    "for(let p in o10) { // Loop through the properties\n",
    "console.log(p); // Prints x, y, and z, but not toString\n",
    "}"
   ]
  },
  {
   "cell_type": "markdown",
   "id": "af829e44",
   "metadata": {},
   "source": [
    "To guard against enumerating inherited properties with for/in, you can add an\n",
    "explicit check inside the loop body:"
   ]
  },
  {
   "cell_type": "code",
   "execution_count": 31,
   "id": "51cbe753",
   "metadata": {},
   "outputs": [],
   "source": [
    "for(let p in o) {\n",
    "    if (!o.hasOwnProperty(p)) continue; // Skip inherited properties\n",
    "}\n",
    "for(let p in o) {\n",
    "    if (typeof o[p] === \"function\") continue; // Skip all methods\n",
    "}"
   ]
  },
  {
   "cell_type": "markdown",
   "id": "f2c101ea",
   "metadata": {},
   "source": [
    "As an alternative to using a for/in loop, it is often easier to get an array of property\n",
    "names for an object and then loop through that array with a for/of loop. There are\n",
    "four functions you can use to get an array of property names:"
   ]
  },
  {
   "cell_type": "markdown",
   "id": "91c530b7",
   "metadata": {},
   "source": [
    "- Object.keys() returns an array of the names of the enumerable own properties of an object. It does not include non-enumerable properties, inherited properties, or properties whose name is a Symbol (see §6.10.3).\n",
    "\n",
    "\n",
    "- Object.getOwnPropertyNames() works like Object.keys() but returns an array of the names of non-enumerable own properties as well, as long as their names are strings.\n",
    "\n",
    "\n",
    "- Object.getOwnPropertySymbols() returns own properties whose names are Symbols, whether or not they are enumerable.\n",
    "\n",
    "\n",
    "- Reflect.ownKeys() returns all own property names, both enumerable and nonenumerable, and both string and Symbol. (See §14.6.)"
   ]
  },
  {
   "cell_type": "markdown",
   "id": "045e83ae",
   "metadata": {},
   "source": [
    "There are examples of the use of Object.keys() with a for/of loop in §6.7."
   ]
  },
  {
   "cell_type": "markdown",
   "id": "8a59ea2d",
   "metadata": {},
   "source": [
    "## 6.6.1 Property Enumeration Order"
   ]
  },
  {
   "cell_type": "markdown",
   "id": "5a9c4f03",
   "metadata": {},
   "source": [
    "ES6 formally defines the order in which the own properties of an object are enumerated.\n",
    "Object.keys(), Object.getOwnPropertyNames(), Object.getOwnPropertySymbols(), Reflect.ownKeys(), and related methods such as JSON.stringify() all list\n",
    "properties in the following order, subject to their own additional constraints about\n",
    "whether they list non-enumerable properties or properties whose names are strings\n",
    "or Symbols:"
   ]
  },
  {
   "cell_type": "markdown",
   "id": "247c9531",
   "metadata": {},
   "source": [
    "- String properties whose names are non-negative integers are listed first, in numeric order from smallest to largest. This rule means that arrays and array-like objects will have their properties enumerated in order.\n",
    "\n",
    "\n",
    "- After all properties that look like array indexes are listed, all remaining properties with string names are listed (including properties that look like negative numbers or floating-point numbers). These properties are listed in the order in which they were added to the object. For properties defined in an object literal, this order is the same order they appear in the literal.\n",
    "\n",
    "\n",
    "- Finally, the properties whose names are Symbol objects are listed in the order in which they were added to the object."
   ]
  },
  {
   "cell_type": "markdown",
   "id": "07692504",
   "metadata": {},
   "source": [
    "The enumeration order for the for/in loop is not as tightly specified as it is for these\n",
    "enumeration functions, but implementations typically enumerate own properties in\n",
    "the order just described, then travel up the prototype chain enumerating properties in\n",
    "the same order for each prototype object. Note, however, that a property will not be enumerated if a property by that same name has already been enumerated, or even if\n",
    "a non-enumerable property by the same name has already been considered."
   ]
  },
  {
   "cell_type": "markdown",
   "id": "c0e72b08",
   "metadata": {},
   "source": [
    "## 6.7 Extending Objects"
   ]
  },
  {
   "cell_type": "markdown",
   "id": "c834a31c",
   "metadata": {},
   "source": [
    "A common operation in JavaScript programs is needing to copy the properties of one\n",
    "object to another object. It is easy to do that with code like this:"
   ]
  },
  {
   "cell_type": "code",
   "execution_count": 32,
   "id": "37efab96",
   "metadata": {},
   "outputs": [
    {
     "data": {
      "text/plain": [
       "{ x: 1, y: 2, z: 3 }"
      ]
     },
     "execution_count": 32,
     "metadata": {},
     "output_type": "execute_result"
    }
   ],
   "source": [
    "let target = {x: 1}, source = {y: 2, z: 3};\n",
    "for(let key of Object.keys(source)) {\n",
    "    target[key] = source[key];\n",
    "}\n",
    "target // => {x: 1, y: 2, z: 3}"
   ]
  },
  {
   "cell_type": "markdown",
   "id": "752e6928",
   "metadata": {},
   "source": [
    "But because this is a common operation, various JavaScript frameworks have defined\n",
    "utility functions, often named extend(), to perform this copying operation. Finally,\n",
    "in ES6, this ability comes to the core JavaScript language in the form of\n",
    "Object.assign()."
   ]
  },
  {
   "cell_type": "markdown",
   "id": "0cb95ce4",
   "metadata": {},
   "source": [
    "Object.assign() expects two or more objects as its arguments. It modifies and\n",
    "returns the first argument, which is the target object, but does not alter the second or\n",
    "any subsequent arguments, which are the source objects. For each source object, it\n",
    "copies the enumerable own properties of that object (including those whose names\n",
    "are Symbols) into the target object. It processes the source objects in argument list\n",
    "order so that properties in the first source object override properties by the same\n",
    "name in the target object and properties in the second source object (if there is one)\n",
    "override properties with the same name in the first source object."
   ]
  },
  {
   "cell_type": "markdown",
   "id": "2ef68425",
   "metadata": {},
   "source": [
    "Object.assign() copies properties with ordinary property get and set operations, so\n",
    "if a source object has a getter method or the target object has a setter method, they\n",
    "will be invoked during the copy, but they will not themselves be copied."
   ]
  },
  {
   "cell_type": "markdown",
   "id": "160dbc91",
   "metadata": {},
   "source": [
    "One reason to assign properties from one object into another is when you have an\n",
    "object that defines default values for many properties and you want to copy those\n",
    "default properties into another object if a property by that name does not already\n",
    "exist in that object. Using Object.assign() naively will not do what you want:"
   ]
  },
  {
   "cell_type": "markdown",
   "id": "8e7519c0",
   "metadata": {},
   "source": [
    "````js\n",
    "Object.assign(o, defaults); // overwrites everything in o with defaults\n",
    "````"
   ]
  },
  {
   "cell_type": "markdown",
   "id": "4b3f922c",
   "metadata": {},
   "source": [
    "Instead, what you can do is to create a new object, copy the defaults into it, and then\n",
    "override those defaults with the properties in o:"
   ]
  },
  {
   "cell_type": "markdown",
   "id": "dadcb5a6",
   "metadata": {},
   "source": [
    "````js\n",
    "o = Object.assign({}, defaults, o);\n",
    "````"
   ]
  },
  {
   "cell_type": "markdown",
   "id": "f53e600a",
   "metadata": {},
   "source": [
    "We’ll see in §6.10.4 that you can also express this object copy-and-override operation\n",
    "using the ... spread operator like this:"
   ]
  },
  {
   "cell_type": "markdown",
   "id": "d0cbe467",
   "metadata": {},
   "source": [
    "````js\n",
    "o = {...defaults, ...o};\n",
    "````"
   ]
  },
  {
   "cell_type": "markdown",
   "id": "b8431a40",
   "metadata": {},
   "source": [
    "We could also avoid the overhead of the extra object creation and copying by writing\n",
    "a version of Object.assign() that copies properties only if they are missing:"
   ]
  },
  {
   "cell_type": "code",
   "execution_count": 38,
   "id": "655ea93d",
   "metadata": {},
   "outputs": [
    {
     "data": {
      "text/plain": [
       "{ x: 1, y: 2, z: 4 }"
      ]
     },
     "execution_count": 38,
     "metadata": {},
     "output_type": "execute_result"
    }
   ],
   "source": [
    "// Like Object.assign() but doesn't override existing properties\n",
    "// (and also doesn't handle Symbol properties)\n",
    "function merge(target, ...sources) {\n",
    "    for(let source of sources) {\n",
    "        for(let key of Object.keys(source)) {\n",
    "            if (!(key in target)) { // This is different than Object.assign()\n",
    "                target[key] = source[key];\n",
    "            }\n",
    "        }\n",
    "    }\n",
    "    return target;\n",
    "}\n",
    "Object.assign({x: 1}, {x: 2, y: 2}, {y: 3, z: 4}) // => {x: 2, y: 3, z: 4}\n",
    "merge({x: 1}, {x: 2, y: 2}, {y: 3, z: 4}) // => {x: 1, y: 2, z: 4}"
   ]
  },
  {
   "cell_type": "markdown",
   "id": "53a2ddca",
   "metadata": {},
   "source": [
    "It is straightforward to write other property manipulation utilities like this merge()\n",
    "function. A restrict() function could delete properties of an object if they do not\n",
    "appear in another template object, for example. Or a subtract() function could\n",
    "remove all of the properties of one object from another object."
   ]
  },
  {
   "cell_type": "markdown",
   "id": "ddd7eb90",
   "metadata": {},
   "source": [
    "## 6.8 Serializing Objects"
   ]
  },
  {
   "cell_type": "markdown",
   "id": "b33fadba",
   "metadata": {},
   "source": [
    "Object serialization is the process of converting an object’s state to a string from\n",
    "which it can later be restored. The functions JSON.stringify( ) and JSON.parse( )\n",
    "serialize and restore JavaScript objects. These functions use the JSON data interchange\n",
    "format. JSON stands for “JavaScript Object Notation,” and its syntax is very\n",
    "similar to that of JavaScript object and array literals:"
   ]
  },
  {
   "cell_type": "code",
   "execution_count": 10,
   "id": "c1aebd29",
   "metadata": {},
   "outputs": [],
   "source": [
    "let o3 = {x: 1, y: {z: [false, null, \"\"]}}; // Define a test object\n",
    "let s3 = JSON.stringify(o3); // s == '{\"x\":1,\"y\":{\"z\":[false,null,\"\"]}}'\n",
    "let p3 = JSON.parse(s3); // p == {x: 1, y: {z: [false, null, \"\"]}}"
   ]
  },
  {
   "cell_type": "markdown",
   "id": "4be907a9",
   "metadata": {},
   "source": [
    "JSON syntax is a subset of JavaScript syntax, and it cannot represent all JavaScript values.\n",
    "Objects, arrays, strings, finite numbers, true, false, and null are supported and\n",
    "can be serialized and restored. ``NaN, Infinity, and -Infinity are serialized to null``.\n",
    "Date objects are serialized to ISO-formatted date strings (see the Date.toJSON( )\n",
    "function), but JSON.parse( ) leaves these in string form and does not restore the original\n",
    "Date object. Function, RegExp, and Error objects and the undefined value cannot\n",
    "be serialized or restored. JSON.stringify( ) serializes only the enumerable own\n",
    "properties of an object. If a property value cannot be serialized, that property is simply\n",
    "omitted from the stringified output. Both JSON.stringify( ) and JSON.parse( )\n",
    "accept optional second arguments that can be used to customize the serialization\n",
    "and/or restoration process by specifying a list of properties to be serialized, for example, or by converting certain values during the serialization or stringification\n",
    "process. Complete documentation for these functions is in §11.6."
   ]
  },
  {
   "cell_type": "markdown",
   "id": "1b143a35",
   "metadata": {},
   "source": [
    "## 6.9 Object Methods"
   ]
  },
  {
   "cell_type": "markdown",
   "id": "d0ffdb96",
   "metadata": {},
   "source": [
    "As discussed earlier, all JavaScript objects (except those explicitly created without a\n",
    "prototype) inherit properties from Object.prototype. These inherited properties are\n",
    "primarily methods, and because they are universally available, they are of particular\n",
    "interest to JavaScript programmers. We’ve already seen the hasOwnProperty() and\n",
    "propertyIsEnumerable() methods, for example. (And we’ve also already covered\n",
    "quite a few static functions defined on the Object constructor, such as Object.create() and Object.keys().) This section explains a handful of universal object methods\n",
    "that are defined on Object.prototype, but which are intended to be replaced by\n",
    "other, more specialized implementations. In the sections that follow, we show examples\n",
    "of defining these methods on a single object. In Chapter 9, you’ll learn how to\n",
    "define these methods more generally for an entire class of objects."
   ]
  },
  {
   "cell_type": "markdown",
   "id": "0709351a",
   "metadata": {},
   "source": [
    "## 6.9.1 The toString() Method"
   ]
  },
  {
   "cell_type": "markdown",
   "id": "313c2de6",
   "metadata": {},
   "source": [
    "The toString() method takes no arguments; it returns a string that somehow represents\n",
    "the value of the object on which it is invoked. JavaScript invokes this method of\n",
    "an object whenever it needs to convert the object to a string. This occurs, for example,\n",
    "when you use the + operator to concatenate a string with an object or when you pass\n",
    "an object to a method that expects a string."
   ]
  },
  {
   "cell_type": "markdown",
   "id": "fb0297dd",
   "metadata": {},
   "source": [
    "The default toString() method is not very informative (though it is useful for determining\n",
    "the class of an object, as we will see in §14.4.3). For example, the following\n",
    "line of code simply evaluates to the string “[object Object]”:"
   ]
  },
  {
   "cell_type": "code",
   "execution_count": 11,
   "id": "01cb0478",
   "metadata": {},
   "outputs": [],
   "source": [
    "let s4 = { x: 1, y: 1 }.toString(); // s == \"[object Object]\""
   ]
  },
  {
   "cell_type": "markdown",
   "id": "b976e350",
   "metadata": {},
   "source": [
    "Because this default method does not display much useful information, many classes\n",
    "define their own versions of toString(). For example, when an array is converted to\n",
    "a string, you obtain a list of the array elements, themselves each converted to a string,\n",
    "and when a function is converted to a string, you obtain the source code for the function.\n",
    "You might define your own toString() method like this:"
   ]
  },
  {
   "cell_type": "code",
   "execution_count": 12,
   "id": "b9f21451",
   "metadata": {},
   "outputs": [
    {
     "data": {
      "text/plain": [
       "'(1, 2)'"
      ]
     },
     "execution_count": 12,
     "metadata": {},
     "output_type": "execute_result"
    }
   ],
   "source": [
    "let point = {\n",
    "x: 1,\n",
    "y: 2,\n",
    "toString: function() { return `(${this.x}, ${this.y})`; }\n",
    "};\n",
    "String(point) // => \"(1, 2)\": toString() is used for string conversions"
   ]
  },
  {
   "cell_type": "markdown",
   "id": "2e4967e0",
   "metadata": {},
   "source": [
    "## 6.9.2 The toLocaleString() Method"
   ]
  },
  {
   "cell_type": "markdown",
   "id": "8b9da4bc",
   "metadata": {},
   "source": [
    "In addition to the basic toString() method, objects all have a toLocaleString().\n",
    "The purpose of this method is to return a localized string representation of the object.\n",
    "The default toLocaleString() method defined by Object doesn’t do any localization\n",
    "itself: it simply calls toString() and returns that value. The Date and Number classes\n",
    "define customized versions of toLocaleString() that attempt to format numbers,\n",
    "dates, and times according to local conventions. Array defines a toLocaleString()\n",
    "method that works like toString() except that it formats array elements by calling\n",
    "their toLocaleString() methods instead of their toString() methods. You might do\n",
    "the same thing with a point object like this:"
   ]
  },
  {
   "cell_type": "code",
   "execution_count": 13,
   "id": "6b5898cf",
   "metadata": {},
   "outputs": [
    {
     "data": {
      "text/plain": [
       "'(1,000, 2,000)'"
      ]
     },
     "execution_count": 13,
     "metadata": {},
     "output_type": "execute_result"
    }
   ],
   "source": [
    "let point1 = {\n",
    "x: 1000,\n",
    "y: 2000,\n",
    "toString: function() { return `(${this.x}, ${this.y})`; },\n",
    "toLocaleString: function() {\n",
    "return `(${this.x.toLocaleString()}, ${this.y.toLocaleString()})`;\n",
    "}\n",
    "};\n",
    "point1.toString() // => \"(1000, 2000)\"\n",
    "point1.toLocaleString() // => \"(1,000, 2,000)\": note thousands separators"
   ]
  },
  {
   "cell_type": "markdown",
   "id": "2e1c524f",
   "metadata": {},
   "source": [
    "The internationalization classes documented in §11.7 can be useful when implementing\n",
    "a toLocaleString() method."
   ]
  },
  {
   "cell_type": "markdown",
   "id": "57bafe45",
   "metadata": {},
   "source": [
    "## 6.9.3 The valueOf() Method"
   ]
  },
  {
   "cell_type": "markdown",
   "id": "c9c6d6dd",
   "metadata": {},
   "source": [
    "The valueOf() method is much like the toString() method, but it is called when\n",
    "JavaScript needs to convert an object to some primitive type other than a string—\n",
    "typically, a number. JavaScript calls this method automatically if an object is used in a\n",
    "context where a primitive value is required. The default valueOf() method does\n",
    "nothing interesting, but some of the built-in classes define their own valueOf()\n",
    "method. The Date class defines valueOf() to convert dates to numbers, and this\n",
    "allows Date objects to be chronologically compared with < and >. You could do something\n",
    "similar with a point object, defining a valueOf() method that returns the distance\n",
    "from the origin to the point:"
   ]
  },
  {
   "cell_type": "code",
   "execution_count": 14,
   "id": "eafbea31",
   "metadata": {},
   "outputs": [
    {
     "data": {
      "text/plain": [
       "true"
      ]
     },
     "execution_count": 14,
     "metadata": {},
     "output_type": "execute_result"
    }
   ],
   "source": [
    "let point2 = {\n",
    "x: 3,\n",
    "y: 4,\n",
    "valueOf: function() { return Math.hypot(this.x, this.y); }\n",
    "};\n",
    "Number(point2) // => 5: valueOf() is used for conversions to numbers\n",
    "point2 > 4 // => true\n",
    "point2 > 5 // => false\n",
    "point2 < 6 // => true"
   ]
  },
  {
   "cell_type": "markdown",
   "id": "e1c942ff",
   "metadata": {},
   "source": [
    "## 6.9.4 The toJSON() Method"
   ]
  },
  {
   "cell_type": "markdown",
   "id": "5d8f272c",
   "metadata": {},
   "source": [
    "Object.prototype does not actually define a toJSON() method, but the JSON.stringify() method (see §6.8) looks for a toJSON() method on any object it is asked to\n",
    "serialize. If this method exists on the object to be serialized, it is invoked, and the\n",
    "return value is serialized, instead of the original object. The Date class (§11.4) defines\n",
    "a toJSON() method that returns a serializable string representation of the date. We\n",
    "could do the same for our Point object like this:"
   ]
  },
  {
   "cell_type": "code",
   "execution_count": 16,
   "id": "3c02421b",
   "metadata": {},
   "outputs": [
    {
     "data": {
      "text/plain": [
       "'[\"(1, 2)\"]'"
      ]
     },
     "execution_count": 16,
     "metadata": {},
     "output_type": "execute_result"
    }
   ],
   "source": [
    "let point4 = {\n",
    "x: 1,\n",
    "y: 2,\n",
    "toString: function() { return `(${this.x}, ${this.y})`; },\n",
    "toJSON: function() { return this.toString(); }\n",
    "};\n",
    "JSON.stringify([point4]) // => '[\"(1, 2)\"]'"
   ]
  },
  {
   "cell_type": "markdown",
   "id": "24ad0991",
   "metadata": {},
   "source": [
    "## 6.10 Extended Object Literal Syntax"
   ]
  },
  {
   "cell_type": "markdown",
   "id": "212b08c7",
   "metadata": {},
   "source": [
    "Recent versions of JavaScript have extended the syntax for object literals in a number\n",
    "of useful ways. The following subsections explain these extensions."
   ]
  },
  {
   "cell_type": "markdown",
   "id": "e4b7fb7f",
   "metadata": {},
   "source": [
    "### 6.10.1 Shorthand Properties"
   ]
  },
  {
   "cell_type": "markdown",
   "id": "b97fcf1a",
   "metadata": {},
   "source": [
    "Suppose you have values stored in variables x and y and want to create an object with\n",
    "properties named x and y that hold those values. With basic object literal syntax,\n",
    "you’d end up repeating each identifier twice:"
   ]
  },
  {
   "cell_type": "code",
   "execution_count": 17,
   "id": "a5c9d2be",
   "metadata": {},
   "outputs": [],
   "source": [
    "let x = 1, y = 2;\n",
    "let o = {\n",
    "x: x,\n",
    "y: y\n",
    "};"
   ]
  },
  {
   "cell_type": "markdown",
   "id": "fc3060b3",
   "metadata": {},
   "source": [
    "In ES6 and later, you can drop the colon and one copy of the identifier and end up\n",
    "with much simpler code:"
   ]
  },
  {
   "cell_type": "code",
   "execution_count": 1,
   "id": "337d39b3",
   "metadata": {},
   "outputs": [
    {
     "data": {
      "text/plain": [
       "3"
      ]
     },
     "execution_count": 1,
     "metadata": {},
     "output_type": "execute_result"
    }
   ],
   "source": [
    "let x4 = 1, y4 = 2;\n",
    "let o4 = { x4, y4 };\n",
    "o4.x4 + o4.y4 // => 3"
   ]
  },
  {
   "cell_type": "markdown",
   "id": "dd5c2c26",
   "metadata": {},
   "source": [
    "### 6.10.2 Computed Property Names"
   ]
  },
  {
   "cell_type": "markdown",
   "id": "aa39cd19",
   "metadata": {},
   "source": [
    "Sometimes you need to create an object with a specific property, but the name of that\n",
    "property is not a compile-time constant that you can type literally in your source\n",
    "code. Instead, the property name you need is stored in a variable or is the return\n",
    "value of a function that you invoke. You can’t use a basic object literal for this kind of\n",
    "property. Instead, you have to create an object and then add the desired properties as\n",
    "an extra step:"
   ]
  },
  {
   "cell_type": "code",
   "execution_count": 2,
   "id": "9b03d7fa",
   "metadata": {},
   "outputs": [
    {
     "data": {
      "text/plain": [
       "2"
      ]
     },
     "execution_count": 2,
     "metadata": {},
     "output_type": "execute_result"
    }
   ],
   "source": [
    "const PROPERTY_NAME = \"p1\";\n",
    "function computePropertyName() { return \"p\" + 2; }\n",
    "let o5 = {};\n",
    "o5[PROPERTY_NAME] = 1;\n",
    "o5[computePropertyName()] = 2;"
   ]
  },
  {
   "cell_type": "code",
   "execution_count": 3,
   "id": "b0bb7bc1",
   "metadata": {},
   "outputs": [
    {
     "data": {
      "text/plain": [
       "{ p1: 1, p2: 2 }"
      ]
     },
     "execution_count": 3,
     "metadata": {},
     "output_type": "execute_result"
    }
   ],
   "source": [
    "o5"
   ]
  },
  {
   "cell_type": "markdown",
   "id": "30b4fd96",
   "metadata": {},
   "source": [
    "It is much simpler to set up an object like this with an ES6 feature known as computed\n",
    "properties that lets you take the square brackets from the preceding code and move\n",
    "them directly into the object literal:"
   ]
  },
  {
   "cell_type": "code",
   "execution_count": 4,
   "id": "2aa1c08a",
   "metadata": {},
   "outputs": [
    {
     "data": {
      "text/plain": [
       "3"
      ]
     },
     "execution_count": 4,
     "metadata": {},
     "output_type": "execute_result"
    }
   ],
   "source": [
    "const PROPERTY_NAME1 = \"p1\";\n",
    "function computePropertyName1() { return \"p\" + 2; }\n",
    "let p6 = {\n",
    "[PROPERTY_NAME1]: 1,\n",
    "[computePropertyName1()]: 2\n",
    "};\n",
    "p6.p1 + p6.p2 // => 3"
   ]
  },
  {
   "cell_type": "markdown",
   "id": "893bb4e6",
   "metadata": {},
   "source": [
    "With this new syntax, the square brackets delimit an arbitrary JavaScript expression.\n",
    "That expression is evaluated, and the resulting value (converted to a string, if necessary)\n",
    "is used as the property name."
   ]
  },
  {
   "cell_type": "markdown",
   "id": "edd00644",
   "metadata": {},
   "source": [
    "One situation where you might want to use computed properties is when you have a\n",
    "library of JavaScript code that expects to be passed objects with a particular set of\n",
    "properties, and the names of those properties are defined as constants in that library.\n",
    "If you are writing code to create the objects that will be passed to that library, you\n",
    "could hardcode the property names, but you’d risk bugs if you type the property\n",
    "name wrong anywhere, and you’d risk version mismatch issues if a new version of the\n",
    "library changes the required property names. Instead, you might find that it makes\n",
    "your code more robust to use computed property syntax with the property name constants\n",
    "defined by the library."
   ]
  },
  {
   "cell_type": "markdown",
   "id": "e9214fa7",
   "metadata": {},
   "source": [
    "### 6.10.3 Symbols as Property Names"
   ]
  },
  {
   "cell_type": "markdown",
   "id": "0d6010e8",
   "metadata": {},
   "source": [
    "The computed property syntax enables one other very important object literal feature.\n",
    "In ES6 and later, property names can be strings or symbols. If you assign a symbol\n",
    "to a variable or constant, then you can use that symbol as a property name using\n",
    "the computed property syntax:"
   ]
  },
  {
   "cell_type": "code",
   "execution_count": 5,
   "id": "495ff97a",
   "metadata": {},
   "outputs": [
    {
     "data": {
      "text/plain": [
       "0"
      ]
     },
     "execution_count": 5,
     "metadata": {},
     "output_type": "execute_result"
    }
   ],
   "source": [
    "const extension = Symbol(\"my extension symbol\");\n",
    "let o7 = {\n",
    "[extension]: { /* extension data stored in this object */ }\n",
    "};\n",
    "o7[extension].x = 0; // This won't conflict with other properties of o"
   ]
  },
  {
   "cell_type": "markdown",
   "id": "41bea54f",
   "metadata": {},
   "source": [
    "As explained in §3.6, Symbols are opaque values. You can’t do anything with them\n",
    "other than use them as property names. Every Symbol is different from every other\n",
    "Symbol, however, which means that Symbols are good for creating unique property\n",
    "names. Create a new Symbol by calling the Symbol() factory function. (Symbols are\n",
    "primitive values, not objects, so Symbol() is not a constructor function that you\n",
    "invoke with new.) The value returned by Symbol() is not equal to any other Symbol or\n",
    "other value. You can pass a string to Symbol(), and this string is used when your\n",
    "Symbol is converted to a string. But this is a debugging aid only: two Symbols created\n",
    "with the same string argument are still different from one another."
   ]
  },
  {
   "cell_type": "markdown",
   "id": "45c7fc07",
   "metadata": {},
   "source": [
    "The point of Symbols is not security, but to define a safe extension mechanism for\n",
    "JavaScript objects. If you get an object from third-party code that you do not control\n",
    "and need to add some of your own properties to that object but want to be sure that\n",
    "your properties will not conflict with any properties that may already exist on the\n",
    "object, you can safely use Symbols as your property names. If you do this, you can\n",
    "also be confident that the third-party code will not accidentally alter your symbolically\n",
    "named properties. (That third-party code could, of course, use Object.getOwn\n",
    "PropertySymbols() to discover the Symbols you’re using and could then alter or\n",
    "delete your properties. This is why Symbols are not a security mechanism.)"
   ]
  },
  {
   "cell_type": "markdown",
   "id": "0ed73c62",
   "metadata": {},
   "source": [
    "### 6.10.4 Spread Operator"
   ]
  },
  {
   "cell_type": "markdown",
   "id": "1b6ac8f0",
   "metadata": {},
   "source": [
    "In ES2018 and later, you can copy the properties of an existing object into a new\n",
    "object using the “spread operator” ... inside an object literal:"
   ]
  },
  {
   "cell_type": "code",
   "execution_count": 6,
   "id": "39f7f928",
   "metadata": {},
   "outputs": [
    {
     "data": {
      "text/plain": [
       "175"
      ]
     },
     "execution_count": 6,
     "metadata": {},
     "output_type": "execute_result"
    }
   ],
   "source": [
    "let position = { x: 0, y: 0 };\n",
    "let dimensions = { width: 100, height: 75 };\n",
    "let rect = { ...position, ...dimensions };\n",
    "rect.x + rect.y + rect.width + rect.height // => 175"
   ]
  },
  {
   "cell_type": "markdown",
   "id": "77ead955",
   "metadata": {},
   "source": [
    "In this code, the properties of the position and dimensions objects are “spread out”\n",
    "into the rect object literal as if they had been written literally inside those curly\n",
    "braces. Note that this ... syntax is often called a spread operator but is not a true\n",
    "JavaScript operator in any sense. Instead, it is a special-case syntax available only within object literals. (Three dots are used for other purposes in other JavaScript contexts,\n",
    "but object literals are the only context where the three dots cause this kind of\n",
    "interpolation of one object into another one.)"
   ]
  },
  {
   "cell_type": "markdown",
   "id": "e17133e7",
   "metadata": {},
   "source": [
    "If the object that is spread and the object it is being spread into both have a property\n",
    "with the same name, then the value of that property will be the one that comes last:"
   ]
  },
  {
   "cell_type": "code",
   "execution_count": 1,
   "id": "7a6d0e7f",
   "metadata": {},
   "outputs": [
    {
     "data": {
      "text/plain": [
       "2"
      ]
     },
     "execution_count": 1,
     "metadata": {},
     "output_type": "execute_result"
    }
   ],
   "source": [
    "let o8 = { x: 1 };\n",
    "let p8 = { x: 0, ...o8 };\n",
    "p8.x // => 1: the value from object o8 overrides the initial value\n",
    "let q8 = { ...o8, x: 2 };\n",
    "q8.x // => 2: the value 2 overrides the previous value from o."
   ]
  },
  {
   "cell_type": "markdown",
   "id": "59b7cb6f",
   "metadata": {},
   "source": [
    "Also note that the spread operator only spreads the own properties of an object, not\n",
    "any inherited ones:"
   ]
  },
  {
   "cell_type": "code",
   "execution_count": 2,
   "id": "d6609632",
   "metadata": {},
   "outputs": [],
   "source": [
    "let o9 = Object.create({x: 1}); // o inherits the property x\n",
    "let p9 = { ...o9 };\n",
    "p9.x // => undefined"
   ]
  },
  {
   "cell_type": "markdown",
   "id": "3af0833d",
   "metadata": {},
   "source": [
    "Finally, it is worth noting that, although the spread operator is just three little dots in\n",
    "your code, it can represent a substantial amount of work to the JavaScript interpreter.\n",
    "If an object has n properties, the process of spreading those properties into another\n",
    "object is likely to be an O(n) operation. This means that if you find yourself using ...\n",
    "within a loop or recursive function as a way to accumulate data into one large object,\n",
    "you may be writing an inefficient O(n2) algorithm that will not scale well as n gets\n",
    "larger."
   ]
  },
  {
   "cell_type": "markdown",
   "id": "3daac7cf",
   "metadata": {},
   "source": [
    "### 6.10.5 Shorthand Methods"
   ]
  },
  {
   "cell_type": "markdown",
   "id": "62b9b57f",
   "metadata": {},
   "source": [
    "When a function is defined as a property of an object, we call that function a method\n",
    "(we’ll have a lot more to say about methods in Chapters 8 and 9). Prior to ES6, you\n",
    "would define a method in an object literal using a function definition expression just\n",
    "as you would define any other property of an object:"
   ]
  },
  {
   "cell_type": "code",
   "execution_count": 3,
   "id": "33d967eb",
   "metadata": {},
   "outputs": [
    {
     "data": {
      "text/plain": [
       "100"
      ]
     },
     "execution_count": 3,
     "metadata": {},
     "output_type": "execute_result"
    }
   ],
   "source": [
    "let square = {\n",
    "area: function() { return this.side * this.side; },\n",
    "side: 10\n",
    "};\n",
    "square.area() // => 100"
   ]
  },
  {
   "cell_type": "markdown",
   "id": "7ace54eb",
   "metadata": {},
   "source": [
    "In ES6, however, the object literal syntax (and also the class definition syntax we’ll see\n",
    "in Chapter 9) has been extended to allow a shortcut where the function keyword and\n",
    "the colon are omitted, resulting in code like this:"
   ]
  },
  {
   "cell_type": "code",
   "execution_count": 5,
   "id": "06b265b2",
   "metadata": {},
   "outputs": [
    {
     "data": {
      "text/plain": [
       "100"
      ]
     },
     "execution_count": 5,
     "metadata": {},
     "output_type": "execute_result"
    }
   ],
   "source": [
    "let square2 = {\n",
    "area() { return this.side * this.side; },\n",
    "side: 10\n",
    "};\n",
    "square2.area() // => 100"
   ]
  },
  {
   "cell_type": "markdown",
   "id": "f928ca82",
   "metadata": {},
   "source": [
    "Both forms of the code are equivalent: both add a property named area to the object\n",
    "literal, and both set the value of that property to the specified function. The shorthand\n",
    "syntax makes it clearer that area() is a method and not a data property like\n",
    "side."
   ]
  },
  {
   "cell_type": "markdown",
   "id": "93f0cfcf",
   "metadata": {},
   "source": [
    "When you write a method using this shorthand syntax, the property name can take\n",
    "any of the forms that are legal in an object literal: in addition to a regular JavaScript\n",
    "identifier like the name area above, you can also use string literals and computed\n",
    "property names, which can include Symbol property names:"
   ]
  },
  {
   "cell_type": "code",
   "execution_count": 6,
   "id": "b46e7f4a",
   "metadata": {},
   "outputs": [
    {
     "data": {
      "text/plain": [
       "4"
      ]
     },
     "execution_count": 6,
     "metadata": {},
     "output_type": "execute_result"
    }
   ],
   "source": [
    "const METHOD_NAME = \"m\";\n",
    "const symbol = Symbol();\n",
    "let weirdMethods = {\n",
    "\"method With Spaces\"(x) { return x + 1; },\n",
    "[METHOD_NAME](x) { return x + 2; },\n",
    "[symbol](x) { return x + 3; }\n",
    "};\n",
    "weirdMethods[\"method With Spaces\"](1) // => 2\n",
    "weirdMethods[METHOD_NAME](1) // => 3\n",
    "weirdMethods[symbol](1) // => 4"
   ]
  },
  {
   "cell_type": "markdown",
   "id": "cfbf15c7",
   "metadata": {},
   "source": [
    "Using a Symbol as a method name is not as strange as it seems. In order to make an\n",
    "object iterable (so it can be used with a for/of loop), you must define a method with\n",
    "the symbolic name Symbol.iterator, and there are examples of doing exactly that in\n",
    "Chapter 12."
   ]
  },
  {
   "cell_type": "markdown",
   "id": "19ef6b8e",
   "metadata": {},
   "source": [
    "### 6.10.6 Property Getters and Setters"
   ]
  },
  {
   "cell_type": "markdown",
   "id": "ef55749a",
   "metadata": {},
   "source": [
    "All of the object properties we’ve discussed so far in this chapter have been data properties\n",
    "with a name and an ordinary value. JavaScript also supports accessor properties,\n",
    "which do not have a single value but instead have one or two accessor methods: a\n",
    "getter and/or a setter."
   ]
  },
  {
   "cell_type": "markdown",
   "id": "50c8a7a0",
   "metadata": {},
   "source": [
    "When a program queries the value of an accessor property, JavaScript invokes the getter\n",
    "method (passing no arguments). The return value of this method becomes the\n",
    "value of the property access expression. When a program sets the value of an accessor\n",
    "property, JavaScript invokes the setter method, passing the value of the righthand side\n",
    "of the assignment. This method is responsible for “setting,” in some sense, the property\n",
    "value. The return value of the setter method is ignored."
   ]
  },
  {
   "cell_type": "markdown",
   "id": "66d29d99",
   "metadata": {},
   "source": [
    "If a property has both a getter and a setter method, it is a read/write property. If it has\n",
    "only a getter method, it is a read-only property. And if it has only a setter method, it\n",
    "is a write-only property (something that is not possible with data properties), and\n",
    "attempts to read it always evaluate to undefined."
   ]
  },
  {
   "cell_type": "markdown",
   "id": "c91ee562",
   "metadata": {},
   "source": [
    "Accessor properties can be defined with an extension to the object literal syntax\n",
    "(unlike the other ES6 extensions we’ve seen here, getters and setters were introduced\n",
    "in ES5):"
   ]
  },
  {
   "cell_type": "markdown",
   "id": "086c20fc",
   "metadata": {},
   "source": [
    "````js\n",
    "let o10 = {\n",
    "// An ordinary data property\n",
    "dataProp: value,\n",
    "// An accessor property defined as a pair of functions.\n",
    "get accessorProp() { return this.dataProp; },\n",
    "set accessorProp(value) { this.dataProp = value; }\n",
    "};\n",
    "````"
   ]
  },
  {
   "cell_type": "markdown",
   "id": "2766f47b",
   "metadata": {},
   "source": [
    "Accessor properties are defined as one or two methods whose name is the same as the\n",
    "property name. These look like ordinary methods defined using the ES6 shorthand\n",
    "except that getter and setter definitions are prefixed with get or set. (In ES6, you can\n",
    "also use computed property names when defining getters and setters. Simply replace\n",
    "the property name after get or set with an expression in square brackets.)"
   ]
  },
  {
   "cell_type": "markdown",
   "id": "441e617c",
   "metadata": {},
   "source": [
    "The accessor methods defined above simply get and set the value of a data property,\n",
    "and there is no reason to prefer the accessor property over the data property. But as a\n",
    "more interesting example, consider the following object that represents a 2D Cartesian\n",
    "point. It has ordinary data properties to represent the x and y coordinates of the\n",
    "point, and it has accessor properties that give the equivalent polar coordinates of the\n",
    "point:"
   ]
  },
  {
   "cell_type": "code",
   "execution_count": 8,
   "id": "dbaa2582",
   "metadata": {},
   "outputs": [
    {
     "data": {
      "text/plain": [
       "0.7853981633974483"
      ]
     },
     "execution_count": 8,
     "metadata": {},
     "output_type": "execute_result"
    }
   ],
   "source": [
    "let p = {\n",
    "// x and y are regular read-write data properties.\n",
    "x: 1.0,\n",
    "y: 1.0,\n",
    "// r is a read-write accessor property with getter and setter.\n",
    "// Don't forget to put a comma after accessor methods.\n",
    "get r() { return Math.hypot(this.x, this.y); },\n",
    "set r(newvalue) {\n",
    "let oldvalue = Math.hypot(this.x, this.y);\n",
    "let ratio = newvalue/oldvalue;\n",
    "this.x *= ratio;\n",
    "this.y *= ratio;\n",
    "},\n",
    "// theta is a read-only accessor property with getter only.\n",
    "get theta() { return Math.atan2(this.y, this.x); }\n",
    "};\n",
    "p.r // => Math.SQRT2\n",
    "p.theta // => Math.PI / 4"
   ]
  },
  {
   "cell_type": "markdown",
   "id": "3cae7a76",
   "metadata": {},
   "source": [
    "Note the use of the keyword this in the getters and setter in this example. JavaScript\n",
    "invokes these functions as methods of the object on which they are defined, which\n",
    "means that within the body of the function, this refers to the point object p. So the getter method for the r property can refer to the x and y properties as this.x and\n",
    "this.y. Methods and the this keyword are covered in more detail in §8.2.2."
   ]
  },
  {
   "cell_type": "markdown",
   "id": "6e6ec6c0",
   "metadata": {},
   "source": [
    "Accessor properties are inherited, just as data properties are, so you can use the object\n",
    "p defined above as a prototype for other points. You can give the new objects their\n",
    "own x and y properties, and they’ll inherit the r and theta properties:"
   ]
  },
  {
   "cell_type": "code",
   "execution_count": 9,
   "id": "dd5f1f48",
   "metadata": {},
   "outputs": [
    {
     "data": {
      "text/plain": [
       "0.9272952180016122"
      ]
     },
     "execution_count": 9,
     "metadata": {},
     "output_type": "execute_result"
    }
   ],
   "source": [
    "let q = Object.create(p); // A new object that inherits getters and setters\n",
    "q.x = 3; q.y = 4; // Create q's own data properties\n",
    "q.r // => 5: the inherited accessor properties work\n",
    "q.theta // => Math.atan2(4, 3)"
   ]
  },
  {
   "cell_type": "markdown",
   "id": "283b3766",
   "metadata": {},
   "source": [
    "The code above uses accessor properties to define an API that provides two representations\n",
    "(Cartesian coordinates and polar coordinates) of a single set of data. Other\n",
    "reasons to use accessor properties include sanity checking of property writes and\n",
    "returning different values on each property read:"
   ]
  },
  {
   "cell_type": "code",
   "execution_count": 10,
   "id": "9935c01b",
   "metadata": {},
   "outputs": [
    {
     "data": {
      "text/plain": [
       "11"
      ]
     },
     "execution_count": 10,
     "metadata": {},
     "output_type": "execute_result"
    }
   ],
   "source": [
    "// This object generates strictly increasing serial numbers\n",
    "const serialnum = {\n",
    "// This data property holds the next serial number.\n",
    "// The _ in the property name hints that it is for internal use only.\n",
    "_n: 0,\n",
    "// Return the current value and increment it\n",
    "get next() { return this._n++; },\n",
    "// Set a new value of n, but only if it is larger than current\n",
    "set next(n) {\n",
    "if (n > this._n) this._n = n;\n",
    "else throw new Error(\"serial number can only be set to a larger value\");\n",
    "}\n",
    "};\n",
    "serialnum.next = 10; // Set the starting serial number\n",
    "serialnum.next // => 10\n",
    "serialnum.next // => 11: different value each time we get next"
   ]
  },
  {
   "cell_type": "markdown",
   "id": "2d15b555",
   "metadata": {},
   "source": [
    "Finally, here is one more example that uses a getter method to implement a property\n",
    "with “magical” behavior:"
   ]
  },
  {
   "cell_type": "code",
   "execution_count": 11,
   "id": "26c04ea0",
   "metadata": {},
   "outputs": [],
   "source": [
    "// This object has accessor properties that return random numbers.\n",
    "// The expression \"random.octet\", for example, yields a random number\n",
    "// between 0 and 255 each time it is evaluated.\n",
    "const random = {\n",
    "get octet() { return Math.floor(Math.random()*256); },\n",
    "get uint16() { return Math.floor(Math.random()*65536); },\n",
    "get int16() { return Math.floor(Math.random()*65536)-32768; }\n",
    "};"
   ]
  },
  {
   "cell_type": "markdown",
   "id": "eedd0f16",
   "metadata": {},
   "source": [
    "## 6.11 Summary"
   ]
  },
  {
   "cell_type": "markdown",
   "id": "43239f6b",
   "metadata": {},
   "source": [
    "This chapter has documented JavaScript objects in great detail, covering topics that\n",
    "include:"
   ]
  },
  {
   "cell_type": "markdown",
   "id": "5a84d801",
   "metadata": {},
   "source": [
    "- Basic object terminology, including the meaning of terms like enumerable and own property.\n",
    "\n",
    "\n",
    "- Object literal syntax, including the many new features in ES6 and later.\n",
    "\n",
    "\n",
    "- How to read, write, delete, enumerate, and check for the presence of the properties of an object.\n",
    "\n",
    "\n",
    "- How prototype-based inheritance works in JavaScript and how to create an\n",
    "object that inherits from another object with Object.create().\n",
    "\n",
    "\n",
    "- How to copy properties from one object into another with Object.assign()."
   ]
  },
  {
   "cell_type": "markdown",
   "id": "28ac40f9",
   "metadata": {},
   "source": [
    "All JavaScript values that are not primitive values are objects. This includes both\n",
    "arrays and functions, which are the topics of the next two chapters."
   ]
  }
 ],
 "metadata": {
  "kernelspec": {
   "display_name": "Javascript (Node.js)",
   "language": "javascript",
   "name": "javascript"
  },
  "language_info": {
   "file_extension": ".js",
   "mimetype": "application/javascript",
   "name": "javascript",
   "version": "10.19.0"
  }
 },
 "nbformat": 4,
 "nbformat_minor": 5
}
