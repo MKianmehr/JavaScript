{
 "cells": [
  {
   "cell_type": "markdown",
   "id": "1e0b0cc0",
   "metadata": {},
   "source": [
    "# Expressions and Operators"
   ]
  },
  {
   "cell_type": "markdown",
   "id": "f8178179",
   "metadata": {},
   "source": [
    "---------------------------------------------------------------"
   ]
  },
  {
   "cell_type": "markdown",
   "id": "daec762a",
   "metadata": {},
   "source": [
    "This chapter documents JavaScript expressions and the operators with which many of\n",
    "those expressions are built. An expression is a phrase of JavaScript that can be evaluated\n",
    "to produce a value. A constant embedded literally in your program is a very simple\n",
    "kind of expression. A variable name is also a simple expression that evaluates to\n",
    "whatever value has been assigned to that variable. Complex expressions are built from\n",
    "simpler expressions. An array access expression, for example, consists of one expression\n",
    "that evaluates to an array followed by an open square bracket, an expression that\n",
    "evaluates to an integer, and a close square bracket. This new, more complex expression\n",
    "evaluates to the value stored at the specified index of the specified array. Similarly,\n",
    "a function invocation expression consists of one expression that evaluates to a\n",
    "function object and zero or more additional expressions that are used as the arguments\n",
    "to the function."
   ]
  },
  {
   "cell_type": "markdown",
   "id": "12d8e84e",
   "metadata": {},
   "source": [
    "The most common way to build a complex expression out of simpler expressions is\n",
    "with an operator. An operator combines the values of its operands (usually two of\n",
    "them) in some way and evaluates to a new value. The multiplication operator * is a\n",
    "simple example. The expression x * y evaluates to the product of the values of the\n",
    "expressions x and y. For simplicity, we sometimes say that an operator returns a value\n",
    "rather than “evaluates to” a value."
   ]
  },
  {
   "cell_type": "markdown",
   "id": "93c2cd90",
   "metadata": {},
   "source": [
    "This chapter documents all of JavaScript’s operators, and it also explains expressions\n",
    "(such as array indexing and function invocation) that do not use operators. If you\n",
    "already know another programming language that uses C-style syntax, you’ll find that\n",
    "the syntax of most of JavaScript’s expressions and operators is already familiar to you."
   ]
  },
  {
   "cell_type": "markdown",
   "id": "dec0bc02",
   "metadata": {},
   "source": [
    "## 4.1 Primary Expressions"
   ]
  },
  {
   "cell_type": "markdown",
   "id": "6bde961e",
   "metadata": {},
   "source": [
    "The simplest expressions, known as primary expressions, are those that stand alone—\n",
    "they do not include any simpler expressions. Primary expressions in JavaScript are\n",
    "constant or literal values, certain language keywords, and variable references."
   ]
  },
  {
   "cell_type": "markdown",
   "id": "f021bae7",
   "metadata": {},
   "source": [
    "Literals are constant values that are embedded directly in your program. They look\n",
    "like these:"
   ]
  },
  {
   "cell_type": "markdown",
   "id": "69f83ae7",
   "metadata": {},
   "source": [
    "```javascript\n",
    "1.23 // A number literal\n",
    "\"hello\" // A string literal\n",
    "/pattern/ // A regular expression literal\n",
    "```"
   ]
  },
  {
   "cell_type": "markdown",
   "id": "3a65476e",
   "metadata": {},
   "source": [
    "JavaScript syntax for number literals was covered in §3.2. String literals were documented\n",
    "in §3.3. The regular expression literal syntax was introduced in §3.3.5 and\n",
    "will be documented in detail in §11.3."
   ]
  },
  {
   "cell_type": "markdown",
   "id": "2acdd607",
   "metadata": {},
   "source": [
    "Some of JavaScript’s reserved words are primary expressions:"
   ]
  },
  {
   "cell_type": "markdown",
   "id": "7d5c7851-56ec-4ad5-80b8-9759acef7518",
   "metadata": {},
   "source": [
    "````js\n",
    "true // Evalutes to the boolean true value\n",
    "false // Evaluates to the boolean false value\n",
    "null // Evaluates to the null value\n",
    "this // Evaluates to the \"current\" object\n",
    "````"
   ]
  },
  {
   "cell_type": "markdown",
   "id": "05786691",
   "metadata": {},
   "source": [
    "We learned about true, false, and null in §3.4 and §3.5. Unlike the other keywords,\n",
    "this is not a constant—it evaluates to different values in different places in the program.\n",
    "The this keyword is used in object-oriented programming. Within the body of\n",
    "a method, this evaluates to the object on which the method was invoked. See §4.5,\n",
    "Chapter 8 (especially §8.2.2), and Chapter 9 for more on this.\n",
    "\n",
    "\n",
    "Finally, the third type of primary expression is a reference to a variable, constant, or\n",
    "property of the global object:"
   ]
  },
  {
   "cell_type": "markdown",
   "id": "180826d8",
   "metadata": {},
   "source": [
    "```javascript\n",
    "i // Evaluates to the value of the variable i.\n",
    "sum // Evaluates to the value of the variable sum.\n",
    "undefined // The value of the \"undefined\" property of the global object\n",
    "```"
   ]
  },
  {
   "cell_type": "markdown",
   "id": "09e46891",
   "metadata": {},
   "source": [
    "When any identifier appears by itself in a program, JavaScript assumes it is a variable\n",
    "or constant or property of the global object and looks up its value. If no variable with\n",
    "that name exists, an attempt to evaluate a nonexistent variable throws a ReferenceError\n",
    "instead."
   ]
  },
  {
   "cell_type": "markdown",
   "id": "978e2a1d",
   "metadata": {},
   "source": [
    "## 4.2 Object and Array Initializers"
   ]
  },
  {
   "cell_type": "markdown",
   "id": "7f5db765",
   "metadata": {},
   "source": [
    "Object and array initializers are expressions whose value is a newly created object or\n",
    "array. These initializer expressions are sometimes called object literals and array literals.\n",
    "Unlike true literals, however, they are not primary expressions, because they\n",
    "include a number of subexpressions that specify property and element values. Array\n",
    "initializers have a slightly simpler syntax, and we’ll begin with those."
   ]
  },
  {
   "cell_type": "markdown",
   "id": "3a73e28f",
   "metadata": {},
   "source": [
    "An array initializer is a comma-separated list of expressions contained within square\n",
    "brackets. The value of an array initializer is a newly created array. The elements of\n",
    "this new array are initialized to the values of the comma-separated expressions:"
   ]
  },
  {
   "cell_type": "code",
   "execution_count": 4,
   "id": "3169e399",
   "metadata": {},
   "outputs": [],
   "source": [
    "h[] // An empty array: no expressions inside brackets means no elements\n",
    "[1+2,3+4] // A 2-element array. First element is 3, second is 7"
   ]
  },
  {
   "cell_type": "markdown",
   "id": "bde1494a",
   "metadata": {},
   "source": [
    "The element expressions in an array initializer can themselves be array initializers,\n",
    "which means that these expressions can create nested arrays:"
   ]
  },
  {
   "cell_type": "code",
   "execution_count": 5,
   "id": "a54a5b0b",
   "metadata": {},
   "outputs": [],
   "source": [
    "let matrix = [[1,2,3], [4,5,6], [7,8,9]];"
   ]
  },
  {
   "cell_type": "markdown",
   "id": "76f4c0b7",
   "metadata": {},
   "source": [
    "The element expressions in an array initializer are evaluated each time the array initializer\n",
    "is evaluated. This means that the value of an array initializer expression may\n",
    "be different each time it is evaluated.\n",
    "\n",
    "\n",
    "Undefined elements can be included in an array literal by simply omitting a value\n",
    "between commas. For example, the following array contains five elements, including\n",
    "three undefined elements:"
   ]
  },
  {
   "cell_type": "code",
   "execution_count": 9,
   "id": "8683cfcb",
   "metadata": {},
   "outputs": [
    {
     "data": {
      "text/plain": [
       "[ 1, <3 empty items>, 5 ]"
      ]
     },
     "execution_count": 9,
     "metadata": {},
     "output_type": "execute_result"
    }
   ],
   "source": [
    "var sparseArra = [1,,,,5];\n",
    "sparseArra"
   ]
  },
  {
   "cell_type": "markdown",
   "id": "9225068e",
   "metadata": {},
   "source": [
    "A single trailing comma is allowed after the last expression in an array initializer and\n",
    "does not create an undefined element. However, any array access expression for an\n",
    "index after that of the last expression will necessarily evaluate to undefined."
   ]
  },
  {
   "cell_type": "code",
   "execution_count": 19,
   "id": "41515a40",
   "metadata": {},
   "outputs": [
    {
     "data": {
      "text/plain": [
       "[ 1, 2, 3 ]"
      ]
     },
     "execution_count": 19,
     "metadata": {},
     "output_type": "execute_result"
    }
   ],
   "source": [
    "var x = [1,2,3,]\n",
    "x"
   ]
  },
  {
   "cell_type": "code",
   "execution_count": 20,
   "id": "bacf1339",
   "metadata": {},
   "outputs": [
    {
     "data": {
      "text/plain": [
       "1"
      ]
     },
     "execution_count": 20,
     "metadata": {},
     "output_type": "execute_result"
    }
   ],
   "source": [
    "x[0]"
   ]
  },
  {
   "cell_type": "code",
   "execution_count": 21,
   "id": "c044642e",
   "metadata": {},
   "outputs": [],
   "source": [
    "x[3]"
   ]
  },
  {
   "cell_type": "markdown",
   "id": "e9a008ce",
   "metadata": {},
   "source": [
    "Object initializer expressions are like array initializer expressions, but the square\n",
    "brackets are replaced by curly brackets, and each subexpression is prefixed with a\n",
    "property name and a colon:"
   ]
  },
  {
   "cell_type": "code",
   "execution_count": 22,
   "id": "6e86787d",
   "metadata": {},
   "outputs": [
    {
     "data": {
      "text/plain": [
       "-1.2"
      ]
     },
     "execution_count": 22,
     "metadata": {},
     "output_type": "execute_result"
    }
   ],
   "source": [
    "let p = { x: 2.3, y: -1.2 }; // An object with 2 properties\n",
    "let q = {}; // An empty object with no properties\n",
    "q.x = 2.3; q.y = -1.2; // Now q has the same properties as p"
   ]
  },
  {
   "cell_type": "markdown",
   "id": "99dce5a8",
   "metadata": {},
   "source": [
    "In ES6, object literals have a much more feature-rich syntax (you can find details in\n",
    "§6.10). Object literals can be nested. For example:"
   ]
  },
  {
   "cell_type": "code",
   "execution_count": 23,
   "id": "d9bbe36b",
   "metadata": {},
   "outputs": [],
   "source": [
    "let rectangle = {\n",
    "upperLeft: { x: 2, y: 2 },\n",
    "lowerRight: { x: 4, y: 5 }\n",
    "};"
   ]
  },
  {
   "cell_type": "markdown",
   "id": "97680503",
   "metadata": {},
   "source": [
    "We’ll see object and array initializers again in Chapters 6 and 7."
   ]
  },
  {
   "cell_type": "markdown",
   "id": "435c6c33",
   "metadata": {},
   "source": [
    "## 4.3 Function Definition Expressions"
   ]
  },
  {
   "cell_type": "markdown",
   "id": "e07d37ef",
   "metadata": {},
   "source": [
    "A function definition expression defines a JavaScript function, and the value of such an\n",
    "expression is the newly defined function. In a sense, a function definition expression\n",
    "is a “function literal” in the same way that an object initializer is an “object literal.” A\n",
    "function definition expression typically consists of the keyword function followed by\n",
    "a comma-separated list of zero or more identifiers (the parameter names) in parentheses and a block of JavaScript code (the function body) in curly braces. For\n",
    "example:"
   ]
  },
  {
   "cell_type": "code",
   "execution_count": 24,
   "id": "79955ff4",
   "metadata": {},
   "outputs": [],
   "source": [
    "// This function returns the square of the value passed to it.\n",
    "let square = function(x) { return x * x; };"
   ]
  },
  {
   "cell_type": "markdown",
   "id": "a82c0019",
   "metadata": {},
   "source": [
    "A function definition expression can also include a name for the function. Functions\n",
    "can also be defined using a function statement rather than a function expression. And\n",
    "in ES6 and later, function expressions can use a compact new “arrow function” syntax.\n",
    "Complete details on function definition are in Chapter 8."
   ]
  },
  {
   "cell_type": "markdown",
   "id": "fc1213cc",
   "metadata": {},
   "source": [
    "## 4.4 Property Access Expressions"
   ]
  },
  {
   "cell_type": "markdown",
   "id": "12643ac7",
   "metadata": {},
   "source": [
    "A property access expression evaluates to the value of an object property or an array\n",
    "element. JavaScript defines two syntaxes for property access:"
   ]
  },
  {
   "cell_type": "markdown",
   "id": "c89dc948",
   "metadata": {},
   "source": [
    "```javascript\n",
    "expression . identifier\n",
    "expression [ expression ]\n",
    "```"
   ]
  },
  {
   "cell_type": "markdown",
   "id": "65f716c5",
   "metadata": {},
   "source": [
    "The first style of property access is an expression followed by a period and an identifier.\n",
    "The expression specifies the object, and the identifier specifies the name of the\n",
    "desired property. The second style of property access follows the first expression (the\n",
    "object or array) with another expression in square brackets. This second expression\n",
    "specifies the name of the desired property or the index of the desired array element.\n",
    "Here are some concrete examples:"
   ]
  },
  {
   "cell_type": "code",
   "execution_count": 25,
   "id": "213af606",
   "metadata": {},
   "outputs": [
    {
     "data": {
      "text/plain": [
       "1"
      ]
     },
     "execution_count": 25,
     "metadata": {},
     "output_type": "execute_result"
    }
   ],
   "source": [
    "let o = {x: 1, y: {z: 3}}; // An example object\n",
    "let a = [o, 4, [5, 6]]; // An example array that contains the object\n",
    "o.x // => 1: property x of expression o\n",
    "o.y.z // => 3: property z of expression o.y\n",
    "o[\"x\"] // => 1: property x of object o\n",
    "a[1] // => 4: element at index 1 of expression a\n",
    "a[2][\"1\"] // => 6: element at index 1 of expression a[2]\n",
    "a[0].x // => 1: property x of expression a[0]"
   ]
  },
  {
   "cell_type": "markdown",
   "id": "02f07a5d",
   "metadata": {},
   "source": [
    "With either type of property access expression, the expression before the . or [ is first\n",
    "evaluated. If the value is null or undefined, the expression throws a TypeError, since\n",
    "these are the two JavaScript values that cannot have properties. If the object expression\n",
    "is followed by a dot and an identifier, the value of the property named by that\n",
    "identifier is looked up and becomes the overall value of the expression. If the object\n",
    "expression is followed by another expression in square brackets, that second expression\n",
    "is evaluated and converted to a string. The overall value of the expression is then\n",
    "the value of the property named by that string. In either case, if the named property\n",
    "does not exist, then the value of the property access expression is undefined."
   ]
  },
  {
   "cell_type": "markdown",
   "id": "af972bc0",
   "metadata": {},
   "source": [
    "The .identifier syntax is the simpler of the two property access options, but notice that\n",
    "it can only be used when the property you want to access has a name that is a legal\n",
    "identifier, and when you know the name when you write the program. If the property name includes spaces or punctuation characters, or when it is a number (for arrays),\n",
    "you must use the square bracket notation. Square brackets are also used when the\n",
    "property name is not static but is itself the result of a computation (see §6.3.1 for an\n",
    "example)."
   ]
  },
  {
   "cell_type": "markdown",
   "id": "47353109",
   "metadata": {},
   "source": [
    "Objects and their properties are covered in detail in Chapter 6, and arrays and their\n",
    "elements are covered in Chapter 7."
   ]
  },
  {
   "cell_type": "markdown",
   "id": "396af4c6",
   "metadata": {},
   "source": [
    "## 4.4.1 Conditional Property Access (this isn't support in node)"
   ]
  },
  {
   "cell_type": "markdown",
   "id": "133b5261",
   "metadata": {},
   "source": [
    "ES2020 adds two new kinds of property access expressions:"
   ]
  },
  {
   "cell_type": "markdown",
   "id": "cc6e3cd3",
   "metadata": {},
   "source": [
    "```javascript\n",
    "expression ?. identifier\n",
    "expression ?.[ expression ]\n",
    "```"
   ]
  },
  {
   "cell_type": "markdown",
   "id": "9c58acbe",
   "metadata": {},
   "source": [
    "In JavaScript, the values null and undefined are the only two values that do not have\n",
    "properties. In a regular property access expression using . or [ ], you get a TypeError\n",
    "if the expression on the left evaluates to null or undefined. You can use ?. and ?.[ ]\n",
    "syntax to guard against errors of this type."
   ]
  },
  {
   "cell_type": "markdown",
   "id": "05a3adcc",
   "metadata": {},
   "source": [
    "Consider the expression` a?.b.` If a is null or undefined, then the expression evaluates\n",
    "to undefined without any attempt to access the property b. If a is some other\n",
    "value, then a?.b evaluates to whatever a.b would evaluate to (and if a does not have a\n",
    "property named b, then the value will again be undefined)."
   ]
  },
  {
   "cell_type": "code",
   "execution_count": 28,
   "id": "dab1ce20",
   "metadata": {},
   "outputs": [],
   "source": [
    "var t"
   ]
  },
  {
   "cell_type": "markdown",
   "id": "d8e5abdc",
   "metadata": {},
   "source": [
    "```javascript\n",
    "t?.b    // it doesn't support in node\n",
    "```"
   ]
  },
  {
   "cell_type": "markdown",
   "id": "2b5b2500",
   "metadata": {},
   "source": [
    "This form of property access expression is sometimes called “optional chaining”\n",
    "because it also works for longer “chained” property access expressions like this one:"
   ]
  },
  {
   "cell_type": "markdown",
   "id": "f842508a",
   "metadata": {},
   "source": [
    "```javascript\n",
    "let a = { b: null };\n",
    "a.b?.c.d // => undefined\n",
    "```"
   ]
  },
  {
   "cell_type": "markdown",
   "id": "bfd4f19e",
   "metadata": {},
   "source": [
    "a is an object, so a.b is a valid property access expression. But the value of a.b is\n",
    "null, so a.b.c would throw a TypeError. By using ?. instead of . we avoid the Type‐\n",
    "Error, and a.b?.c evaluates to undefined. This means that (a.b?.c).d will throw a\n",
    "TypeError, because that expression attempts to access a property of the value undefined. But—and this is a very important part of “optional chaining”—a.b?.c.d\n",
    "(without the parentheses) simply evaluates to undefined and does not throw an error.\n",
    "This is because property access with ?. is “short-circuiting”: if the subexpression to\n",
    "the left of ?. evaluates to null or undefined, then the entire expression immediately\n",
    "evaluates to undefined without any further property access attempts."
   ]
  },
  {
   "cell_type": "markdown",
   "id": "aa02f124",
   "metadata": {},
   "source": [
    "Of course, if a.b is an object, and if that object has no property named c, then\n",
    "a.b?.c.d will again throw a TypeError, and we will want to use another conditional\n",
    "property access:"
   ]
  },
  {
   "cell_type": "markdown",
   "id": "b5680fbd",
   "metadata": {},
   "source": [
    "```js\n",
    "let a = { b: {} };\n",
    "a.b?.c?.d // => undefined\n",
    "```"
   ]
  },
  {
   "cell_type": "markdown",
   "id": "68781c68",
   "metadata": {},
   "source": [
    "Conditional property access is also possible using ?.[ ] instead of [ ]. In the expression\n",
    "a?.[b][c], if the value of a is null or undefined, then the entire expression\n",
    "immediately evaluates to undefined, and subexpressions b and c are never even evaluated.\n",
    "If either of those expressions has side effects, the side effect will not occur if a\n",
    "is not defined:"
   ]
  },
  {
   "cell_type": "markdown",
   "id": "620bea56",
   "metadata": {},
   "source": [
    "```js\n",
    "var d; // Oops, we forgot to initialize this variable!\n",
    "var index = 0;\n",
    "try {\n",
    "ad[index++]; // Throws TypeError\n",
    "} catch(e) {\n",
    "index // => 1: increment occurs before TypeError is thrown\n",
    "}\n",
    "d?.[index++] // => undefined: because a is undefined\n",
    "index // => 1: not incremented because ?.[] short-circuits\n",
    "d[index++] // !TypeError: can't index undefined.\n",
    "```"
   ]
  },
  {
   "cell_type": "markdown",
   "id": "09531473",
   "metadata": {},
   "source": [
    "Conditional property access with ?. and ?.[] is one of the newest features of Java‐\n",
    "Script. As of early 2020, this new syntax is supported in the current or beta versions\n",
    "of most major browsers."
   ]
  },
  {
   "cell_type": "markdown",
   "id": "a5bf58c8",
   "metadata": {},
   "source": [
    "## 4.5 Invocation Expressions"
   ]
  },
  {
   "cell_type": "markdown",
   "id": "d1159263",
   "metadata": {},
   "source": [
    "An invocation expression is JavaScript’s syntax for calling (or executing) a function or\n",
    "method. It starts with a function expression that identifies the function to be called.\n",
    "The function expression is followed by an open parenthesis, a comma-separated list\n",
    "of zero or more argument expressions, and a close parenthesis. Some examples:"
   ]
  },
  {
   "cell_type": "markdown",
   "id": "47863339",
   "metadata": {},
   "source": [
    "```js\n",
    "f(0) // f is the function expression; 0 is the argument expression.\n",
    "Math.max(x,y,z) // Math.max is the function; x, y, and z are the arguments.\n",
    "a.sort() // a.sort is the function; there are no arguments.\n",
    "```"
   ]
  },
  {
   "cell_type": "markdown",
   "id": "8b5bb4cd",
   "metadata": {},
   "source": [
    "When an invocation expression is evaluated, the function expression is evaluated\n",
    "first, and then the argument expressions are evaluated to produce a list of argument\n",
    "values. If the value of the function expression is not a function, a TypeError is\n",
    "thrown. Next, the argument values are assigned, in order, to the parameter names\n",
    "specified when the function was defined, and then the body of the function is executed.\n",
    "If the function uses a return statement to return a value, then that value\n",
    "becomes the value of the invocation expression. Otherwise, the value of the invocation\n",
    "expression is undefined. Complete details on function invocation, including an\n",
    "explanation of what happens when the number of argument expressions does not\n",
    "match the number of parameters in the function definition, are in Chapter 8."
   ]
  },
  {
   "cell_type": "markdown",
   "id": "cb17bfeb",
   "metadata": {},
   "source": [
    "Every invocation expression includes a pair of parentheses and an expression before\n",
    "the open parenthesis. If that expression is a property access expression, then the invocation\n",
    "is known as a method invocation. In method invocations, the object or array that is the subject of the property access becomes the value of the this keyword while the body of the function is being executed. This enables an object-oriented programming paradigm in which functions (which we call “methods” when used this way) operate on the object of which they are part. See Chapter 9 for details."
   ]
  },
  {
   "cell_type": "markdown",
   "id": "100455e8",
   "metadata": {},
   "source": [
    "## 4.5.1 Conditional Invocation"
   ]
  },
  {
   "cell_type": "markdown",
   "id": "8657ea64",
   "metadata": {},
   "source": [
    "In ES2020, you can also invoke a function using ?.() instead of (). Normally when\n",
    "you invoke a function, if the expression to the left of the parentheses is null or unde\n",
    "fined or any other non-function, a TypeError is thrown. With the new ?.() invocation\n",
    "syntax, if the expression to the left of the ?. evaluates to null or undefined, then\n",
    "the entire invocation expression evaluates to undefined and no exception is thrown."
   ]
  },
  {
   "cell_type": "markdown",
   "id": "e1f9654a",
   "metadata": {},
   "source": [
    "Array objects have a sort() method that can optionally be passed a function argument\n",
    "that defines the desired sorting order for the array elements. Before ES2020, if\n",
    "you wanted to write a method like sort() that takes an optional function argument,\n",
    "you would typically use an if statement to check that the function argument was\n",
    "defined before invoking it in the body of the if:"
   ]
  },
  {
   "cell_type": "markdown",
   "id": "50a93519",
   "metadata": {},
   "source": [
    "````js\n",
    "function square(x, log) { // The second argument is an optional function\n",
    "    if (log) { // If the optional function is passed\n",
    "        log(x); // Invoke it\n",
    "    }\n",
    "    return x * x; // Return the square of the argument\n",
    "}\n",
    "````"
   ]
  },
  {
   "cell_type": "markdown",
   "id": "bf72d359",
   "metadata": {},
   "source": [
    "With this conditional invocation syntax of ES2020, however, you can simply write the\n",
    "function invocation using ?.(), knowing that invocation will only happen if there is\n",
    "actually a value to be invoked:"
   ]
  },
  {
   "cell_type": "markdown",
   "id": "7e10fb92",
   "metadata": {},
   "source": [
    "````js\n",
    "function square(x, log) { // The second argument is an optional function\n",
    "    log?.(x); // Call the function if there is one\n",
    "    return x * x; // Return the square of the argument\n",
    "}\n",
    "````"
   ]
  },
  {
   "cell_type": "markdown",
   "id": "dc11da5c",
   "metadata": {},
   "source": [
    "Note, however, that ?.() only checks whether the lefthand side is null or undefined.\n",
    "It does not verify that the value is actually a function. So the square() function in this\n",
    "example would still throw an exception if you passed two numbers to it, for example."
   ]
  },
  {
   "cell_type": "markdown",
   "id": "7467e692",
   "metadata": {},
   "source": [
    "Like conditional property access expressions (§4.4.1), function invocation with ?.()\n",
    "is short-circuiting: if the value to the left of ?. is null or undefined, then none of the\n",
    "argument expressions within the parentheses are evaluated:"
   ]
  },
  {
   "cell_type": "markdown",
   "id": "88b510dd",
   "metadata": {},
   "source": [
    "````js\n",
    "let f = null, x = 0;\n",
    "try {\n",
    "    f(x++); // Throws TypeError because f is null\n",
    "} catch(e) {\n",
    "    x // => 1: x gets incremented before the exception is thrown\n",
    "}\n",
    "f?.(x++) // => undefined: f is null, but no exception thrown\n",
    "x // => 1: increment is skipped because of short-circuiting\n",
    "````"
   ]
  },
  {
   "cell_type": "markdown",
   "id": "e9e1d02a",
   "metadata": {},
   "source": [
    "Conditional invocation expressions with ?.() work just as well for methods as they\n",
    "do for functions. But because method invocation also involves property access, it is\n",
    "worth taking a moment to be sure you understand the differences between the following\n",
    "expressions:"
   ]
  },
  {
   "cell_type": "markdown",
   "id": "c9481467",
   "metadata": {},
   "source": [
    "````js\n",
    "o.m() // Regular property access, regular invocation\n",
    "o?.m() // Conditional property access, regular invocation\n",
    "o.m?.() // Regular property access, conditional invocation\n",
    "````"
   ]
  },
  {
   "cell_type": "markdown",
   "id": "df25e031",
   "metadata": {},
   "source": [
    "In the first expression, o must be an object with a property m and the value of that\n",
    "property must be a function. In the second expression, if o is null or undefined, then\n",
    "the expression evaluates to undefined. But if o has any other value, then it must have\n",
    "a property m whose value is a function. And in the third expression, o must not be\n",
    "null or undefined. If it does not have a property m, or if the value of that property is\n",
    "null, then the entire expression evaluates to undefined."
   ]
  },
  {
   "cell_type": "markdown",
   "id": "0950b7dd",
   "metadata": {},
   "source": [
    "Conditional invocation with ?.() is one of the newest features of JavaScript. As of the\n",
    "first months of 2020, this new syntax is supported in the current or beta versions of\n",
    "most major browsers."
   ]
  },
  {
   "cell_type": "markdown",
   "id": "a8ef678d",
   "metadata": {},
   "source": [
    "## 4.6 Object Creation Expressions"
   ]
  },
  {
   "cell_type": "markdown",
   "id": "35f74d8c",
   "metadata": {},
   "source": [
    "An object creation expression creates a new object and invokes a function (called a\n",
    "constructor) to initialize the properties of that object. Object creation expressions are\n",
    "like invocation expressions except that they are prefixed with the keyword new:"
   ]
  },
  {
   "cell_type": "markdown",
   "id": "b356f1ac",
   "metadata": {},
   "source": [
    "````js\n",
    "new Object()\n",
    "new Point(2,3)\n",
    "````"
   ]
  },
  {
   "cell_type": "markdown",
   "id": "65a2b64a",
   "metadata": {},
   "source": [
    "If no arguments are passed to the constructor function in an object creation expression,\n",
    "the empty pair of parentheses can be omitted:"
   ]
  },
  {
   "cell_type": "markdown",
   "id": "5f09bcc2",
   "metadata": {},
   "source": [
    "````js\n",
    "new Object\n",
    "new Date\n",
    "````"
   ]
  },
  {
   "cell_type": "markdown",
   "id": "28bcea74",
   "metadata": {},
   "source": [
    "The value of an object creation expression is the newly created object. Constructors\n",
    "are explained in more detail in Chapter 9."
   ]
  },
  {
   "cell_type": "markdown",
   "id": "150b1e96",
   "metadata": {},
   "source": [
    "## 4.7 Operator Overview"
   ]
  },
  {
   "cell_type": "markdown",
   "id": "86acff7b",
   "metadata": {},
   "source": [
    "Operators are used for JavaScript’s arithmetic expressions, comparison expressions,\n",
    "logical expressions, assignment expressions, and more. Table 4-1 summarizes the\n",
    "operators and serves as a convenient reference."
   ]
  },
  {
   "cell_type": "markdown",
   "id": "7108187e",
   "metadata": {},
   "source": [
    "Note that most operators are represented by punctuation characters such as + and =.\n",
    "Some, however, are represented by keywords such as delete and instanceof. Keyword\n",
    "operators are regular operators, just like those expressed with punctuation; they\n",
    "simply have a less succinct syntax."
   ]
  },
  {
   "cell_type": "markdown",
   "id": "41a0c9b4",
   "metadata": {},
   "source": [
    "Table 4-1 is organized by operator precedence. The operators listed first have higher\n",
    "precedence than those listed last. Operators separated by a horizontal line have different\n",
    "precedence levels. The column `labeled A` gives the operator associativity, which\n",
    "can be `L (left-to-right)` or `R (right-to-left)`, and the `column N` specifies the number of\n",
    "operands. `The column labeled Types` lists the expected types of the operands and\n",
    "(after the → symbol) the result type for the operator. The subsections that follow the\n",
    "table explain the concepts of precedence, associativity, and operand type. The operators\n",
    "themselves are individually documented following that discussion."
   ]
  },
  {
   "cell_type": "markdown",
   "id": "317527aa",
   "metadata": {},
   "source": [
    "Table 4-1. JavaScript operators\n",
    "\n",
    "|Operator| Operation| A| N| Types|\n",
    "|--------|----------|---|--|-----|\n",
    "|++| Pre- or post-increment| R| 1| lval→num|\n",
    "|--| Pre- or post-decrement| R| 1| lval→num|\n",
    "|-| Negate number| R| 1| num→num|\n",
    "|+| Convert to number| R| 1 |any→num|\n",
    "|~| Invert bits| R| 1 |int→int|\n",
    "|!| Invert boolean value| R |1| bool→bool|\n",
    "|delete| Remove a property |R| 1 |lval→bool|\n",
    "|typeof| Determine type of operand| R| 1| any→str|\n",
    "|void |Return undefined value| R |1 |any→undef|\n",
    "|\\**| Exponentiate| R| 2| num,num→num|\n",
    "|*, /, %| Multiply, divide, remainder| L| 2 |num,num→num|\n",
    "|+, - |Add, subtract |L |2| num,num→num|\n",
    "|+| Concatenate strings| L |2| str,str→str|\n",
    "|<<| Shift left| L| 2 |int,int→int|\n",
    "|>>| Shift right with sign extension| L| 2 |int,int→int|\n",
    "|>>>| Shift right with zero extension| L |2| int,int→int|\n",
    "|<, <=,>, >=| Compare in numeric order| L| 2| num,num→bool|\n",
    "|<, <=,>, >= |Compare in alphabetical order| L| 2 |str,str→bool|\n",
    "|instanceof| Test object class| L |2| obj,func→bool|\n",
    "|in| Test whether property exists| L |2 |any,obj→bool|\n",
    "|==| Test for non-strict equality| L |2 |any,any→bool|\n",
    "|!=| Test for non-strict inequality| L| 2 |any,any→bool|\n",
    "|===| Test for strict equality| L| 2| any,any→bool|\n",
    "|!==| Test for strict inequality| L| 2| any,any→bool|\n",
    "|&| Compute bitwise AND| L| 2| int,int→int|\n",
    "|^| Compute bitwise XOR| L |2 |int,int→int|\n",
    "|\\| |Compute bitwise OR| L |2| int,int→int|\n",
    "|&&| Compute logical AND| L |2 |any,any→any|\n",
    "|\\| |Compute logical OR| L| 2| any,any→any|\n",
    "|??| Choose 1st defined operand| L |2 |any,any→any|\n",
    "|?: |Choose 2nd or 3rd operand| R |3| bool,any,any→any|\n",
    "|= |Assign to a variable or property| R| 2 |lval,any→any|\n",
    "|\\**=, *=, /=, %=, +=, -=, &=, ^=, \\|=, <<=, >>=, >>>=|Operate and assign| R |2 |lval,any→any|\n",
    "|,| Discard 1st operand, return 2nd| L| 2 |any,any→any|"
   ]
  },
  {
   "cell_type": "markdown",
   "id": "891d9c22",
   "metadata": {},
   "source": [
    "## 4.7.1 Number of Operands"
   ]
  },
  {
   "cell_type": "markdown",
   "id": "c3412e18",
   "metadata": {},
   "source": [
    "Operators can be categorized based on the number of operands they expect (their\n",
    "arity). Most JavaScript operators, like the * multiplication operator, are binary operators\n",
    "that combine two expressions into a single, more complex expression. That is,\n",
    "they expect two operands. JavaScript also supports a number of unary operators,\n",
    "which convert a single expression into a single, more complex expression. The −\n",
    "operator in the expression −x is a unary operator that performs the operation of negation\n",
    "on the operand x. Finally, JavaScript supports one ternary operator, the conditional\n",
    "operator ?:, which combines three expressions into a single expression."
   ]
  },
  {
   "cell_type": "markdown",
   "id": "eef03012",
   "metadata": {},
   "source": [
    "## 4.7.2 Operand and Result Type"
   ]
  },
  {
   "cell_type": "markdown",
   "id": "05a85a9d",
   "metadata": {},
   "source": [
    "Some operators work on values of any type, but most expect their operands to be of a\n",
    "specific type, and most operators return (or evaluate to) a value of a specific type. The\n",
    "Types column in Table 4-1 specifies operand types (before the arrow) and result type\n",
    "(after the arrow) for the operators."
   ]
  },
  {
   "cell_type": "markdown",
   "id": "609c79a3",
   "metadata": {},
   "source": [
    "JavaScript operators usually convert the type (see §3.9) of their operands as needed.\n",
    "The multiplication operator * expects numeric operands, but the expression \"3\" *\n",
    "\"5\" is legal because JavaScript can convert the operands to numbers. The value of this\n",
    "expression is the number 15, not the string “15”, of course. Remember also that every\n",
    "JavaScript value is either “truthy” or “falsy,” so operators that expect boolean operands\n",
    "will work with an operand of any type."
   ]
  },
  {
   "cell_type": "markdown",
   "id": "c7bbfb3c",
   "metadata": {},
   "source": [
    "Some operators behave differently depending on the type of the operands used with\n",
    "them. Most notably, the + operator adds numeric operands but concatenates string\n",
    "operands. Similarly, the comparison operators such as < perform comparison in\n",
    "numerical or alphabetical order depending on the type of the operands. The descriptions\n",
    "of individual operators explain their type-dependencies and specify what type\n",
    "conversions they perform."
   ]
  },
  {
   "cell_type": "markdown",
   "id": "5b3d57bd",
   "metadata": {},
   "source": [
    "Notice that the assignment operators and a few of the other operators listed in\n",
    "Table 4-1 expect an operand of type lval. lvalue is a historical term that means “an\n",
    "expression that can legally appear on the left side of an assignment expression.” In\n",
    "JavaScript, variables, properties of objects, and elements of arrays are lvalues."
   ]
  },
  {
   "cell_type": "markdown",
   "id": "6e17c449",
   "metadata": {},
   "source": [
    "## 4.7.3 Operator Side Effects"
   ]
  },
  {
   "cell_type": "markdown",
   "id": "9aeac4da",
   "metadata": {},
   "source": [
    "Evaluating a simple expression like 2 * 3 never affects the state of your program, and\n",
    "any future computation your program performs will be unaffected by that evaluation.\n",
    "Some expressions, however, have side effects, and their evaluation may affect the\n",
    "result of future evaluations. The assignment operators are the most obvious example:\n",
    "if you assign a value to a variable or property, that changes the value of any expression\n",
    "that uses that variable or property. The ++ and -- increment and decrement\n",
    "operators are similar, since they perform an implicit assignment. The delete operator\n",
    "also has side effects: deleting a property is like (but not the same as) assigning\n",
    "undefined to the property."
   ]
  },
  {
   "cell_type": "markdown",
   "id": "c84b1411",
   "metadata": {},
   "source": [
    "No other JavaScript operators have side effects, but function invocation and object\n",
    "creation expressions will have side effects if any of the operators used in the function\n",
    "or constructor body have side effects."
   ]
  },
  {
   "cell_type": "markdown",
   "id": "b07cefe7",
   "metadata": {},
   "source": [
    "## 4.7.4 Operator Precedence"
   ]
  },
  {
   "cell_type": "markdown",
   "id": "aca3c211",
   "metadata": {},
   "source": [
    "The operators listed in Table 4-1 are arranged in order from high precedence to low\n",
    "precedence, with horizontal lines separating groups of operators at the same precedence\n",
    "level. Operator precedence controls the order in which operations are performed.\n",
    "Operators with higher precedence (nearer the top of the table) are performed\n",
    "before those with lower precedence (nearer to the bottom).\n",
    "\n",
    "Consider the following expression:"
   ]
  },
  {
   "cell_type": "markdown",
   "id": "3e8a4a00",
   "metadata": {},
   "source": [
    "```js\n",
    "w = x + y*z;\n",
    "```"
   ]
  },
  {
   "cell_type": "markdown",
   "id": "044fc5f4",
   "metadata": {},
   "source": [
    "The multiplication operator * has a higher precedence than the addition operator +,\n",
    "so the multiplication is performed before the addition. Furthermore, the assignment\n",
    "operator = has the lowest precedence, so the assignment is performed after all the\n",
    "operations on the right side are completed."
   ]
  },
  {
   "cell_type": "markdown",
   "id": "be9521f5",
   "metadata": {},
   "source": [
    "Operator precedence can be overridden with the explicit use of parentheses. To force\n",
    "the addition in the previous example to be performed first, write:"
   ]
  },
  {
   "cell_type": "markdown",
   "id": "d5edefaf",
   "metadata": {},
   "source": [
    "````js\n",
    "w = (x + y)*z;\n",
    "````"
   ]
  },
  {
   "cell_type": "markdown",
   "id": "8fe5b997",
   "metadata": {},
   "source": [
    "Note that property access and invocation expressions have higher precedence than\n",
    "any of the operators listed in Table 4-1. Consider this expression:"
   ]
  },
  {
   "cell_type": "markdown",
   "id": "54411721",
   "metadata": {},
   "source": [
    "````js\n",
    "// my is an object with a property named functions whose value is an\n",
    "// array of functions. We invoke function number x, passing it argument\n",
    "// y, and then we ask for the type of the value returned.\n",
    "typeof my.functions[x](y)\n",
    "````"
   ]
  },
  {
   "cell_type": "markdown",
   "id": "58a6c16f",
   "metadata": {},
   "source": [
    "Although typeof is one of the highest-priority operators, the typeof operation is performed\n",
    "on the result of the property access, array index, and function invocation, all\n",
    "of which have higher priority than operators."
   ]
  },
  {
   "cell_type": "markdown",
   "id": "98bcbda3",
   "metadata": {},
   "source": [
    "In practice, if you are at all unsure about the precedence of your operators, the simplest\n",
    "thing to do is to use parentheses to make the evaluation order explicit. The rules\n",
    "that are important to know are these: multiplication and division are performed\n",
    "before addition and subtraction, and assignment has very low precedence and is\n",
    "almost always performed last."
   ]
  },
  {
   "cell_type": "markdown",
   "id": "74fd6b2e",
   "metadata": {},
   "source": [
    "When new operators are added to JavaScript, they do not always fit naturally into this\n",
    "precedence scheme. The ?? operator (§4.13.2) is shown in the table as lowerprecedence\n",
    "than || and &&, but, in fact, its precedence relative to those operators is\n",
    "not defined, and ES2020 requires you to explicitly use parentheses if you mix ?? with\n",
    "either || or &&. Similarly, the new ** exponentiation operator does not have a welldefined\n",
    "precedence relative to the unary negation operator, and you must use parentheses\n",
    "when combining negation with exponentiation."
   ]
  },
  {
   "cell_type": "markdown",
   "id": "0478533f",
   "metadata": {},
   "source": [
    "## 4.7.5 Operator Associativity"
   ]
  },
  {
   "cell_type": "markdown",
   "id": "dd8a383c",
   "metadata": {},
   "source": [
    "In Table 4-1, the column labeled A specifies the associativity of the operator. A value\n",
    "of L specifies left-to-right associativity, and a value of R specifies right-to-left associativity.\n",
    "The associativity of an operator specifies the order in which operations of the\n",
    "same precedence are performed. Left-to-right associativity means that operations are\n",
    "performed from left to right. For example, the subtraction operator has left-to-right\n",
    "associativity, so:"
   ]
  },
  {
   "cell_type": "markdown",
   "id": "4706094b",
   "metadata": {},
   "source": [
    "````js\n",
    "w = x - y - z;\n",
    "````"
   ]
  },
  {
   "cell_type": "markdown",
   "id": "a4e37799",
   "metadata": {},
   "source": [
    "is the same as:"
   ]
  },
  {
   "cell_type": "markdown",
   "id": "bd8a44d2",
   "metadata": {},
   "source": [
    "````js\n",
    "w = ((x - y) - z);\n",
    "````"
   ]
  },
  {
   "cell_type": "markdown",
   "id": "fb726d60",
   "metadata": {},
   "source": [
    "On the other hand, the following expressions:"
   ]
  },
  {
   "cell_type": "markdown",
   "id": "9624918b",
   "metadata": {},
   "source": [
    "````js\n",
    "y = a ** b ** c;\n",
    "x = ~-y;\n",
    "w = x = y = z;\n",
    "q = a?b:c?d:e?f:g;\n",
    "````"
   ]
  },
  {
   "cell_type": "markdown",
   "id": "eb7b1a04",
   "metadata": {},
   "source": [
    "are equivalent to:"
   ]
  },
  {
   "cell_type": "markdown",
   "id": "53898000",
   "metadata": {},
   "source": [
    "````js\n",
    "y = (a ** (b ** c));\n",
    "x = ~(-y);\n",
    "w = (x = (y = z));\n",
    "q = a?b:(c?d:(e?f:g));\n",
    "````"
   ]
  },
  {
   "cell_type": "markdown",
   "id": "4eed2732",
   "metadata": {},
   "source": [
    "because the exponentiation, unary, assignment, and ternary conditional operators\n",
    "have right-to-left associativity."
   ]
  },
  {
   "cell_type": "markdown",
   "id": "4eb07179",
   "metadata": {},
   "source": [
    "## 4.7.6 Order of Evaluation"
   ]
  },
  {
   "cell_type": "markdown",
   "id": "48f9ff11",
   "metadata": {},
   "source": [
    "Operator precedence and associativity specify the order in which operations are performed\n",
    "in a complex expression, but they do not specify the order in which the subexpressions\n",
    "are evaluated. JavaScript always evaluates expressions in strictly left-toright\n",
    "order. In the expression w = x + y * z, for example, the subexpression w is\n",
    "evaluated first, followed by x, y, and z. Then the values of y and z are multiplied,\n",
    "added to the value of x, and assigned to the variable or property specified by expression\n",
    "w. Adding parentheses to the expressions can change the relative order of the\n",
    "multiplication, addition, and assignment, but not the left-to-right order of evaluation."
   ]
  },
  {
   "cell_type": "markdown",
   "id": "17cee8fd",
   "metadata": {},
   "source": [
    "Order of evaluation only makes a difference if any of the expressions being evaluated\n",
    "has side effects that affect the value of another expression. If expression x increments\n",
    "a variable that is used by expression z, then the fact that x is evaluated before z is\n",
    "important."
   ]
  },
  {
   "cell_type": "markdown",
   "id": "30d8f840",
   "metadata": {},
   "source": [
    "## 4.8 Arithmetic Expressions"
   ]
  },
  {
   "cell_type": "markdown",
   "id": "a4f578a6",
   "metadata": {},
   "source": [
    "This section covers the operators that perform arithmetic or other numerical manipulations\n",
    "on their operands. The exponentiation, multiplication, division, and subtraction\n",
    "operators are straightforward and are covered first. The addition operator gets a\n",
    "subsection of its own because it can also perform string concatenation and has some\n",
    "unusual type conversion rules. The unary operators and the bitwise operators are also\n",
    "covered in subsections of their own."
   ]
  },
  {
   "cell_type": "markdown",
   "id": "80d54ece",
   "metadata": {},
   "source": [
    "Most of these arithmetic operators (except as noted as follows) can be used with\n",
    "BigInt (see §3.2.5) operands or with regular numbers, as long as you don’t mix the\n",
    "two types."
   ]
  },
  {
   "cell_type": "markdown",
   "id": "4c108668",
   "metadata": {},
   "source": [
    "The basic arithmetic operators are ** (exponentiation), * (multiplication), / (division),\n",
    "% (modulo: remainder after division), + (addition), and - (subtraction). As noted, we’ll discuss the + operator in a section of its own. The other five basic operators\n",
    "simply evaluate their operands, convert the values to numbers if necessary, and then compute the power, product, quotient, remainder, or difference. Non-numeric operands that cannot convert to numbers convert to the NaN value. If either operand is (or converts to) NaN, the result of the operation is (almost always) NaN."
   ]
  },
  {
   "cell_type": "markdown",
   "id": "76c386e8",
   "metadata": {},
   "source": [
    "The `**` operator has higher precedence than `*, /, and %` (which in turn have higher\n",
    "precedence than + and -). Unlike the other operators, `** works right-to-left`, so\n",
    "2\\**2\\**3 is the same as 2\\**8, not 4\\**3. There is a natural ambiguity to expressions\n",
    "like -3\\**2. Depending on the relative precedence of unary minus and exponentiation,\n",
    "that expression could mean (-3)\\**2 or -(3\\**2). Different languages handle this differently,\n",
    "and rather than pick sides, JavaScript simply makes it a syntax error to omit\n",
    "parentheses in this case, forcing you to write an unambiguous expression. ** is\n",
    "JavaScript’s newest arithmetic operator: it was added to the language with ES2016.\n",
    "The Math.pow() function has been available since the earliest versions of JavaScript,\n",
    "however, and it performs exactly the same operation as the ** operator."
   ]
  },
  {
   "cell_type": "markdown",
   "id": "ec6ff309",
   "metadata": {},
   "source": [
    "The / operator divides its first operand by its second. If you are used to programming\n",
    "languages that distinguish between integer and floating-point numbers, you might\n",
    "expect to get an integer result when you divide one integer by another. In JavaScript,\n",
    "however, all numbers are floating-point, so all division operations have floating-point\n",
    "results: 5/2 evaluates to 2.5, not 2. Division by zero yields positive or negative infinity,\n",
    "while 0/0 evaluates to NaN: neither of these cases raises an error."
   ]
  },
  {
   "cell_type": "markdown",
   "id": "5e4aa9c2",
   "metadata": {},
   "source": [
    "The % operator computes the first operand modulo the second operand. In other\n",
    "words, it returns the remainder after whole-number division of the first operand by\n",
    "the second operand. The sign of the result is the same as the sign of the first operand.\n",
    "For example, 5 % 2 evaluates to 1, and -5 % 2 evaluates to -1."
   ]
  },
  {
   "cell_type": "markdown",
   "id": "a6b214c8",
   "metadata": {},
   "source": [
    "While the modulo operator is typically used with integer operands, it also works for\n",
    "floating-point values. For example, 6.5 % 2.1 evaluates to 0.2."
   ]
  },
  {
   "cell_type": "markdown",
   "id": "9dd64b86",
   "metadata": {},
   "source": [
    "## 4.8.1 The + Operator"
   ]
  },
  {
   "cell_type": "markdown",
   "id": "a019b84d",
   "metadata": {},
   "source": [
    "The binary + operator adds numeric operands or concatenates string operands:"
   ]
  },
  {
   "cell_type": "code",
   "execution_count": 44,
   "id": "1fa71aae",
   "metadata": {},
   "outputs": [
    {
     "data": {
      "text/plain": [
       "'15'"
      ]
     },
     "execution_count": 44,
     "metadata": {},
     "output_type": "execute_result"
    }
   ],
   "source": [
    "1 + 2 // => 3\n",
    "\"hello\" + \" \" + \"there\" // => \"hello there\"\n",
    "\"1\" + \"5\" // => \"15\""
   ]
  },
  {
   "cell_type": "markdown",
   "id": "21e3f8b2",
   "metadata": {},
   "source": [
    "what the + operator does. In any other case, however, type conversion is necessary,\n",
    "and the operation to be performed depends on the conversion performed. The conversion\n",
    "rules for + give priority to string concatenation: if either of the operands is a\n",
    "string or an object that converts to a string, the other operand is converted to a string\n",
    "and concatenation is performed. Addition is performed only if neither operand is\n",
    "string-like."
   ]
  },
  {
   "cell_type": "markdown",
   "id": "97dee71d",
   "metadata": {},
   "source": [
    "Technically, the + operator behaves like this:"
   ]
  },
  {
   "cell_type": "markdown",
   "id": "c61d483b",
   "metadata": {},
   "source": [
    "- If either of its operand values is an object, it converts it to a primitive using the\n",
    "object-to-primitive algorithm described in §3.9.3. Date objects are converted by\n",
    "their toString() method, and all other objects are converted via valueOf(), if\n",
    "that method returns a primitive value. However, most objects do not have a useful\n",
    "valueOf() method, so they are converted via toString() as well.\n",
    "- After object-to-primitive conversion, if either operand is a string, the other is\n",
    "converted to a string and concatenation is performed.\n",
    "- Otherwise, both operands are converted to numbers (or to NaN) and addition is\n",
    "performed."
   ]
  },
  {
   "cell_type": "markdown",
   "id": "943b5b0e",
   "metadata": {},
   "source": [
    "Here are some examples:"
   ]
  },
  {
   "cell_type": "code",
   "execution_count": 45,
   "id": "132f3ca3",
   "metadata": {},
   "outputs": [
    {
     "data": {
      "text/plain": [
       "NaN"
      ]
     },
     "execution_count": 45,
     "metadata": {},
     "output_type": "execute_result"
    }
   ],
   "source": [
    "1 + 2 // => 3: addition\n",
    "\"1\" + \"2\" // => \"12\": concatenation\n",
    "\"1\" + 2 // => \"12\": concatenation after number-to-string\n",
    "1 + {} // => \"1[object Object]\": concatenation after object-to-string\n",
    "true + true // => 2: addition after boolean-to-number\n",
    "2 + null // => 2: addition after null converts to 0\n",
    "2 + undefined // => NaN: addition after undefined converts to NaN"
   ]
  },
  {
   "cell_type": "markdown",
   "id": "0b1120d3",
   "metadata": {},
   "source": [
    "Finally, it is important to note that when the + operator is used with strings and numbers,\n",
    "it may not be associative. That is, the result may depend on the order in which\n",
    "operations are performed."
   ]
  },
  {
   "cell_type": "markdown",
   "id": "c3f3105b",
   "metadata": {},
   "source": [
    "For example:"
   ]
  },
  {
   "cell_type": "code",
   "execution_count": 47,
   "id": "0418b3f9",
   "metadata": {},
   "outputs": [
    {
     "data": {
      "text/plain": [
       "'3 blind mice'"
      ]
     },
     "execution_count": 47,
     "metadata": {},
     "output_type": "execute_result"
    }
   ],
   "source": [
    "1 + 2 + \" blind mice\" // => \"3 blind mice\""
   ]
  },
  {
   "cell_type": "code",
   "execution_count": 46,
   "id": "7bd61c68",
   "metadata": {},
   "outputs": [
    {
     "data": {
      "text/plain": [
       "'12 blind mice'"
      ]
     },
     "execution_count": 46,
     "metadata": {},
     "output_type": "execute_result"
    }
   ],
   "source": [
    "1 + (2 + \" blind mice\") // => \"12 blind mice\""
   ]
  },
  {
   "cell_type": "markdown",
   "id": "03fe75ff",
   "metadata": {},
   "source": [
    "The first line has no parentheses, and the + operator has left-to-right associativity, so\n",
    "the two numbers are added first, and their sum is concatenated with the string. In the\n",
    "second line, parentheses alter this order of operations: the number 2 is concatenated\n",
    "with the string to produce a new string. Then the number 1 is concatenated with the\n",
    "new string to produce the final result."
   ]
  },
  {
   "cell_type": "markdown",
   "id": "1c46f668",
   "metadata": {},
   "source": [
    "## 4.8.2 Unary Arithmetic Operators"
   ]
  },
  {
   "cell_type": "markdown",
   "id": "7581a487",
   "metadata": {},
   "source": [
    "Unary operators modify the value of a single operand to produce a new value. In\n",
    "JavaScript, the unary operators all have high precedence and are all right-associative.\n",
    "The arithmetic unary operators described in this section (+, -, ++, and --) all convert\n",
    "their single operand to a number, if necessary. Note that the punctuation characters +\n",
    "and - are used as both unary and binary operators.\n",
    "\n",
    "The unary arithmetic operators are the following:"
   ]
  },
  {
   "cell_type": "markdown",
   "id": "cfa268c1",
   "metadata": {},
   "source": [
    "``Unary plus (+)``\n",
    "            \n",
    "The unary plus operator converts its operand to a number (or to NaN) and\n",
    "returns that converted value. When used with an operand that is already a number,\n",
    "it doesn’t do anything. This operator may not be used with BigInt values,\n",
    "since they cannot be converted to regular numbers."
   ]
  },
  {
   "cell_type": "markdown",
   "id": "b7677113",
   "metadata": {},
   "source": [
    "``Unary minus (-)``\n",
    "\n",
    "When - is used as a unary operator, it converts its operand to a number, if necessary,\n",
    "and then changes the sign of the result."
   ]
  },
  {
   "cell_type": "markdown",
   "id": "2f04f6ec",
   "metadata": {},
   "source": [
    "``Increment (++)``\n",
    "\n",
    "The ++ operator increments (i.e., adds 1 to) its single operand, which must be an\n",
    "lvalue (a variable, an element of an array, or a property of an object). The operator\n",
    "converts its operand to a number, adds 1 to that number, and assigns the\n",
    "incremented value back into the variable, element, or property."
   ]
  },
  {
   "cell_type": "markdown",
   "id": "b83e700f",
   "metadata": {},
   "source": [
    "The return value of the ++ operator depends on its position relative to the\n",
    "operand. When used before the operand, where it is known as the pre-increment\n",
    "operator, it increments the operand and evaluates to the incremented value of\n",
    "that operand. When used after the operand, where it is known as the postincrement\n",
    "operator, it increments its operand but evaluates to the unincremented\n",
    "value of that operand. Consider the difference between these two lines of code:"
   ]
  },
  {
   "cell_type": "code",
   "execution_count": 49,
   "id": "b6a34f85",
   "metadata": {},
   "outputs": [],
   "source": [
    "let i = 1, j = ++i; // i and j are both 2\n",
    "let n = 1, m = n++; // n is 2, m is 1"
   ]
  },
  {
   "cell_type": "markdown",
   "id": "6d75bf35",
   "metadata": {},
   "source": [
    "Note that the expression x++ is not always the same as x=x+1. The ++ operator\n",
    "never performs string concatenation: it always converts its operand to a number\n",
    "and increments it. If x is the string “1”, ++x is the number 2, but x+1 is the string\n",
    "“11”."
   ]
  },
  {
   "cell_type": "markdown",
   "id": "6c6cbee9",
   "metadata": {},
   "source": [
    "Also note that, because of JavaScript’s automatic semicolon insertion, you cannot\n",
    "insert a line break between the post-increment operator and the operand that\n",
    "precedes it. If you do so, JavaScript will treat the operand as a complete statement\n",
    "by itself and insert a semicolon before it."
   ]
  },
  {
   "cell_type": "markdown",
   "id": "561f55fc",
   "metadata": {},
   "source": [
    "This operator, in both its pre- and post-increment forms, is most commonly used\n",
    "to increment a counter that controls a for loop (§5.4.3)."
   ]
  },
  {
   "cell_type": "markdown",
   "id": "4167df8c",
   "metadata": {},
   "source": [
    "``Decrement (--)``\n",
    "\n",
    "The -- operator expects an lvalue operand. It converts the value of the operand\n",
    "to a number, subtracts 1, and assigns the decremented value back to the operand.\n",
    "Like the ++ operator, the return value of -- depends on its position relative to the\n",
    "operand. When used before the operand, it decrements and returns the decremented\n",
    "value. When used after the operand, it decrements the operand but returns the undecremented value. When used after its operand, no line break is\n",
    "allowed between the operand and the operator."
   ]
  },
  {
   "cell_type": "markdown",
   "id": "f6a58fe6",
   "metadata": {},
   "source": [
    "## 4.8.3 Bitwise Operators"
   ]
  },
  {
   "cell_type": "markdown",
   "id": "7a0a6af6",
   "metadata": {},
   "source": [
    "The bitwise operators perform low-level manipulation of the bits in the binary representation\n",
    "of numbers. Although they do not perform traditional arithmetic operations,\n",
    "they are categorized as arithmetic operators here because they operate on\n",
    "numeric operands and return a numeric value. Four of these operators perform\n",
    "Boolean algebra on the individual bits of the operands, behaving as if each bit in each\n",
    "operand were a boolean value (1=true, 0=false). The other three bitwise operators are\n",
    "used to shift bits left and right. These operators are not commonly used in JavaScript\n",
    "programming, and if you are not familiar with the binary representation of integers,\n",
    "including the two’s complement representation of negative integers, you can probably\n",
    "skip this section."
   ]
  },
  {
   "cell_type": "markdown",
   "id": "e03fecbf",
   "metadata": {},
   "source": [
    "The bitwise operators expect integer operands and behave as if those values were represented\n",
    "as 32-bit integers rather than 64-bit floating-point values. These operators\n",
    "convert their operands to numbers, if necessary, and then coerce the numeric values\n",
    "to 32-bit integers by dropping any fractional part and any bits beyond the 32nd. The\n",
    "shift operators require a right-side operand between 0 and 31. After converting this\n",
    "operand to an unsigned 32-bit integer, they drop any bits beyond the 5th, which\n",
    "yields a number in the appropriate range. Surprisingly, NaN, Infinity, and -Infinity\n",
    "all convert to 0 when used as operands of these bitwise operators."
   ]
  },
  {
   "cell_type": "markdown",
   "id": "4953bfa9",
   "metadata": {},
   "source": [
    "All of these bitwise operators except >>> can be used with regular number operands\n",
    "or with BigInt (see §3.2.5) operands."
   ]
  },
  {
   "cell_type": "markdown",
   "id": "842dbe54",
   "metadata": {},
   "source": [
    "``Bitwise AND (&)``\n",
    "\n",
    "The & operator performs a Boolean AND operation on each bit of its integer\n",
    "arguments. A bit is set in the result only if the corresponding bit is set in both\n",
    "operands. For example, 0x1234 & 0x00FF evaluates to 0x0034."
   ]
  },
  {
   "cell_type": "markdown",
   "id": "9d9b17cd",
   "metadata": {},
   "source": [
    "``Bitwise OR (|)``\n",
    "\n",
    "The | operator performs a Boolean OR operation on each bit of its integer arguments.\n",
    "A bit is set in the result if the corresponding bit is set in one or both of the\n",
    "operands. For example, 0x1234 | 0x00FF evaluates to 0x12FF."
   ]
  },
  {
   "cell_type": "markdown",
   "id": "0e92d538",
   "metadata": {},
   "source": [
    "``Bitwise XOR (^)``\n",
    "\n",
    "The ^ operator performs a Boolean exclusive OR operation on each bit of its integer\n",
    "arguments. Exclusive OR means that either operand one is true or operand\n",
    "two is true, but not both. A bit is set in this operation’s result if a corresponding\n",
    "bit is set in one (but not both) of the two operands. For example, 0xFF00 ^\n",
    "0xF0F0 evaluates to 0x0FF0."
   ]
  },
  {
   "cell_type": "markdown",
   "id": "47f17b28",
   "metadata": {},
   "source": [
    "``Bitwise NOT (~)``\n",
    "\n",
    "The ~ operator is a unary operator that appears before its single integer operand.\n",
    "It operates by reversing all bits in the operand. Because of the way signed integers\n",
    "are represented in JavaScript, applying the ~ operator to a value is equivalent to\n",
    "changing its sign and subtracting 1. For example, ~0x0F evaluates to 0xFFFFFFF0,\n",
    "or −16."
   ]
  },
  {
   "cell_type": "markdown",
   "id": "d309c000",
   "metadata": {},
   "source": [
    "``Shift left (<<)``\n",
    "\n",
    "The << operator moves all bits in its first operand to the left by the number of\n",
    "places specified in the second operand, which should be an integer between 0 and\n",
    "31. For example, in the operation a << 1, the first bit (the ones bit) of a becomes\n",
    "the second bit (the twos bit), the second bit of a becomes the third, etc. A zero is\n",
    "used for the new first bit, and the value of the 32nd bit is lost. Shifting a value left\n",
    "by one position is equivalent to multiplying by 2, shifting two positions is equivalent\n",
    "to multiplying by 4, and so on. For example, 7 << 2 evaluates to 28."
   ]
  },
  {
   "cell_type": "markdown",
   "id": "d2a5805f",
   "metadata": {},
   "source": [
    "``Shift right with sign (>>)``\n",
    "\n",
    "The >> operator moves all bits in its first operand to the right by the number of\n",
    "places specified in the second operand (an integer between 0 and 31). Bits that\n",
    "are shifted off the right are lost. The bits filled in on the left depend on the sign\n",
    "bit of the original operand, in order to preserve the sign of the result. If the first\n",
    "operand is positive, the result has zeros placed in the high bits; if the first\n",
    "operand is negative, the result has ones placed in the high bits. Shifting a positive\n",
    "value right one place is equivalent to dividing by 2 (discarding the remainder),\n",
    "shifting right two places is equivalent to integer division by 4, and so on. 7 >> 1\n",
    "evaluates to 3, for example, but note that and −7 >> 1 evaluates to −4."
   ]
  },
  {
   "cell_type": "markdown",
   "id": "0568cd96",
   "metadata": {},
   "source": [
    "``Shift right with zero fill (>>>)``\n",
    "\n",
    "The >>> operator is just like the >> operator, except that the bits shifted in on the\n",
    "left are always zero, regardless of the sign of the first operand. This is useful when\n",
    "you want to treat signed 32-bit values as if they are unsigned integers. −1 >> 4\n",
    "evaluates to −1, but −1 >>> 4 evaluates to 0x0FFFFFFF, for example. This is the\n",
    "only one of the JavaScript bitwise operators that cannot be used with BigInt values.\n",
    "BigInt does not represent negative numbers by setting the high bit the way\n",
    "that 32-bit integers do, and this operator only makes sense for that particular\n",
    "two’s complement representation."
   ]
  },
  {
   "cell_type": "markdown",
   "id": "18995760",
   "metadata": {},
   "source": [
    "## 4.9 Relational Expressions"
   ]
  },
  {
   "cell_type": "markdown",
   "id": "ee9ed821",
   "metadata": {},
   "source": [
    "This section describes JavaScript’s relational operators. These operators test for a relationship (such as “equals,” “less than,” or “property of ”) between two values and\n",
    "return true or false depending on whether that relationship exists. Relational expressions always evaluate to a boolean value, and that value is often used to control the flow of program execution in if, while, and for statements (see Chapter 5). The subsections that follow document the equality and inequality operators, the comparison operators, and JavaScript’s other two relational operators, in and instanceof."
   ]
  },
  {
   "cell_type": "markdown",
   "id": "fbc8ace9",
   "metadata": {},
   "source": [
    "## 4.9.1 Equality and Inequality Operators"
   ]
  },
  {
   "cell_type": "markdown",
   "id": "2f525252",
   "metadata": {},
   "source": [
    "The == and === operators check whether two values are the same, using two different definitions of sameness. Both operators accept operands of any type, and both return true if their operands are the same and false if they are different. The === operator is known as the strict equality operator (or sometimes the identity operator), and it checks whether its two operands are “identical” using a strict definition of sameness. The == operator is known as the equality operator; it checks whether its two operands are “equal” using a more relaxed definition of sameness that allows type conversions."
   ]
  },
  {
   "cell_type": "markdown",
   "id": "283af177",
   "metadata": {},
   "source": [
    "The != and !== operators test for the exact opposite of the == and === operators.\n",
    "The != inequality operator returns false if two values are equal to each other according\n",
    "to == and returns true otherwise. The !== operator returns false if two values\n",
    "are strictly equal to each other and returns true otherwise. As you’ll see in §4.10,\n",
    "the ! operator computes the Boolean NOT operation. This makes it easy to remember\n",
    "that != and !== stand for “not equal to” and “not strictly equal to.”"
   ]
  },
  {
   "cell_type": "markdown",
   "id": "24d637ef",
   "metadata": {},
   "source": [
    "                                 The =, ==, and === operators\n",
    ">JavaScript supports =, ==, and === operators. Be sure you understand the differences\n",
    "between these assignment, equality, and strict equality operators, and be careful to use\n",
    "the correct one when coding! Although it is tempting to read all three operators as\n",
    "“equals,” it may help to reduce confusion if you read “gets” or “is assigned” for =, “is\n",
    "equal to” for ==, and “is strictly equal to” for ===.\n",
    "The == operator is a legacy feature of JavaScript and is widely considered to be a\n",
    "source of bugs. You should almost always use === instead of ==, and !== instead of !=."
   ]
  },
  {
   "cell_type": "markdown",
   "id": "9b8d2296",
   "metadata": {},
   "source": [
    "As mentioned in §3.8, JavaScript objects are compared by reference, not by value. An\n",
    "object is equal to itself, but not to any other object. If two distinct objects have the\n",
    "same number of properties, with the same names and values, they are still not equal.\n",
    "Similarly, two arrays that have the same elements in the same order are not equal to\n",
    "each other."
   ]
  },
  {
   "cell_type": "markdown",
   "id": "3ce7f7fb",
   "metadata": {},
   "source": [
    "### Strict equality\n",
    "The strict equality operator === evaluates its operands, then compares the two values\n",
    "as follows, performing no type conversion:"
   ]
  },
  {
   "cell_type": "markdown",
   "id": "c7a24000",
   "metadata": {},
   "source": [
    "- If the two values have different types, they are not equal.\n",
    "- If both values are null or both values are undefined, they are equal.\n",
    "- If both values are the boolean value true or both are the boolean value false,\n",
    "they are equal.\n",
    "- If one or both values is NaN, they are not equal. (This is surprising, but the NaN\n",
    "value is never equal to any other value, including itself! To check whether a value\n",
    "x is NaN, use x !== x, or the global isNaN() function.)\n",
    "- If both values are numbers and have the same value, they are equal. If one value\n",
    "is 0 and the other is -0, they are also equal.\n",
    "- If both values are strings and contain exactly the same 16-bit values (see the sidebar\n",
    "in §3.3) in the same positions, they are equal. If the strings differ in length or\n",
    "content, they are not equal. Two strings may have the same meaning and the\n",
    "same visual appearance, but still be encoded using different sequences of 16-bit\n",
    "values. JavaScript performs no Unicode normalization, and a pair of strings like\n",
    "this is not considered equal to the === or == operators.\n",
    "- If both values refer to the same object, array, or function, they are equal. If they\n",
    "refer to different objects, they are not equal, even if both objects have identical\n",
    "properties."
   ]
  },
  {
   "cell_type": "markdown",
   "id": "bfd4c192",
   "metadata": {},
   "source": [
    "### Equality with type conversion"
   ]
  },
  {
   "cell_type": "markdown",
   "id": "8002e160",
   "metadata": {},
   "source": [
    "The equality operator == is like the strict equality operator, but it is less strict. If the\n",
    "values of the two operands are not the same type, it attempts some type conversions\n",
    "and tries the comparison again:"
   ]
  },
  {
   "cell_type": "markdown",
   "id": "ce22450d",
   "metadata": {},
   "source": [
    "- If the two values have the same type, test them for strict equality as described\n",
    "previously. If they are strictly equal, they are equal. If they are not strictly equal,\n",
    "they are not equal.\n",
    "- If the two values do not have the same type, the == operator may still consider\n",
    "them equal. It uses the following rules and type conversions to check for equality:"
   ]
  },
  {
   "cell_type": "markdown",
   "id": "2aed2553",
   "metadata": {},
   "source": [
    "—If one value is null and the other is undefined, they are equal.\n",
    "\n",
    "—If one value is a number and the other is a string, convert the string to a number\n",
    "and try the comparison again, using the converted value.\n",
    "\n",
    "—If either value is true, convert it to 1 and try the comparison again. If either\n",
    "value is false, convert it to 0 and try the comparison again.\n",
    "\n",
    "—If one value is an object and the other is a number or string, convert the object\n",
    "to a primitive using the algorithm described in §3.9.3 and try the comparison\n",
    "again. An object is converted to a primitive value by either its toString() method or its valueOf() method. The built-in classes of core JavaScript\n",
    "attempt valueOf() conversion before toString() conversion, except for the\n",
    "Date class, which performs toString() conversion.\n",
    "\n",
    "—Any other combinations of values are not equal."
   ]
  },
  {
   "cell_type": "markdown",
   "id": "ebffe396",
   "metadata": {},
   "source": [
    "As an example of testing for equality, consider the comparison:"
   ]
  },
  {
   "cell_type": "code",
   "execution_count": 52,
   "id": "b8a432d9",
   "metadata": {},
   "outputs": [
    {
     "data": {
      "text/plain": [
       "true"
      ]
     },
     "execution_count": 52,
     "metadata": {},
     "output_type": "execute_result"
    }
   ],
   "source": [
    "\"1\" == true // => true"
   ]
  },
  {
   "cell_type": "markdown",
   "id": "dab6573f",
   "metadata": {},
   "source": [
    "This expression evaluates to true, indicating that these very different-looking values\n",
    "are in fact equal. The boolean value true is first converted to the number 1, and the\n",
    "comparison is done again. Next, the string \"1\" is converted to the number 1. Since\n",
    "both values are now the same, the comparison returns true."
   ]
  },
  {
   "cell_type": "markdown",
   "id": "e6fb06d9",
   "metadata": {},
   "source": [
    "## 4.9.2 Comparison Operators"
   ]
  },
  {
   "cell_type": "markdown",
   "id": "1712cd76",
   "metadata": {},
   "source": [
    "The comparison operators test the relative order (numerical or alphabetical) of their\n",
    "two operands:\n",
    "\n",
    "``Less than (<)``\n",
    "\n",
    "The < operator evaluates to true if its first operand is less than its second operand; otherwise, it evaluates to false.\n",
    "\n",
    "``Greater than (>)``\n",
    "\n",
    "The > operator evaluates to true if its first operand is greater than its second operand; otherwise, it evaluates to false.\n",
    "            \n",
    "``Less than or equal (<=)``\n",
    "\n",
    "The <= operator evaluates to true if its first operand is less than or equal to its second operand; otherwise, it evaluates to false.\n",
    "            \n",
    "``Greater than or equal (>=)``\n",
    "\n",
    "The >= operator evaluates to true if its first operand is greater than or equal to             itssecond operand; otherwise, it evaluates to false.\n",
    "            \n",
    "The operands of these comparison operators may be of any type. Comparison can be\n",
    "performed only on numbers and strings, however, so operands that are not numbers\n",
    "or strings are converted."
   ]
  },
  {
   "cell_type": "markdown",
   "id": "39b4e11a",
   "metadata": {},
   "source": [
    "Comparison and conversion occur as follows:"
   ]
  },
  {
   "cell_type": "markdown",
   "id": "3597bc9f",
   "metadata": {},
   "source": [
    "- If either operand evaluates to an object, that object is converted to a primitive\n",
    "value, as described at the end of §3.9.3; if its valueOf() method returns a primitive\n",
    "value, that value is used. Otherwise, the return value of its toString()\n",
    "method is used.\n",
    "\n",
    "- If, after any required object-to-primitive conversion, both operands are strings,\n",
    "the two strings are compared, using alphabetical order, where “alphabetical\n",
    "order” is defined by the numerical order of the 16-bit Unicode values that make\n",
    "up the strings.\n",
    "\n",
    "- If, after object-to-primitive conversion, at least one operand is not a string, both\n",
    "operands are converted to numbers and compared numerically. 0 and -0 are considered\n",
    "equal. Infinity is larger than any number other than itself, and\n",
    "-Infinity is smaller than any number other than itself. If either operand is (or\n",
    "converts to) NaN, then the comparison operator always returns false. Although\n",
    "the arithmetic operators do not allow BigInt values to be mixed with regular\n",
    "numbers, the comparison operators do allow comparisons between numbers and\n",
    "BigInts."
   ]
  },
  {
   "cell_type": "markdown",
   "id": "fdb990eb",
   "metadata": {},
   "source": [
    "Remember that JavaScript strings are sequences of 16-bit integer values, and that\n",
    "string comparison is just a numerical comparison of the values in the two strings. The\n",
    "numerical encoding order defined by Unicode may not match the traditional collation\n",
    "order used in any particular language or locale. Note in particular that string\n",
    "comparison is case-sensitive, and all capital ASCII letters are “less than” all lowercase\n",
    "ASCII letters. This rule can cause confusing results if you do not expect it. For example,\n",
    "according to the < operator, the string “Zoo” comes before the string “aardvark”."
   ]
  },
  {
   "cell_type": "markdown",
   "id": "af027f74",
   "metadata": {},
   "source": [
    "For a more robust string-comparison algorithm, try the ``String.localeCompare()`` method, which also takes locale-specific definitions of alphabetical order into account. For case-insensitive comparisons, you can convert the strings to all lowercase or all uppercase using String.toLowerCase() or String.toUpperCase(). And, for a more general and better localized string comparison tool, use the Intl.Collator class described in §11.7.3."
   ]
  },
  {
   "cell_type": "markdown",
   "id": "6081da31",
   "metadata": {},
   "source": [
    "Both the + operator and the comparison operators behave differently for numeric and\n",
    "string operands. + favors strings: it performs concatenation if either operand is a\n",
    "string. The comparison operators favor numbers and only perform string comparison\n",
    "if both operands are strings:"
   ]
  },
  {
   "cell_type": "code",
   "execution_count": 53,
   "id": "49bdaca1",
   "metadata": {},
   "outputs": [
    {
     "data": {
      "text/plain": [
       "false"
      ]
     },
     "execution_count": 53,
     "metadata": {},
     "output_type": "execute_result"
    }
   ],
   "source": [
    "1 + 2 // => 3: addition.\n",
    "\"1\" + \"2\" // => \"12\": concatenation.\n",
    "\"1\" + 2 // => \"12\": 2 is converted to \"2\".\n",
    "11 < 3 // => false: numeric comparison.\n",
    "\"11\" < \"3\" // => true: string comparison.\n",
    "\"11\" < 3 // => false: numeric comparison, \"11\" converted to 11.\n",
    "\"one\" < 3 // => false: numeric comparison, \"one\" converted to NaN."
   ]
  },
  {
   "cell_type": "markdown",
   "id": "6821a5f3",
   "metadata": {},
   "source": [
    "Finally, note that the <= (less than or equal) and >= (greater than or equal) operators\n",
    "do not rely on the equality or strict equality operators for determining whether two\n",
    "values are “equal.” Instead, the less-than-or-equal operator is simply defined as “not\n",
    "greater than,” and the greater-than-or-equal operator is defined as “not less than.” The one exception occurs when either operand is (or converts to) NaN, in which case, all four comparison operators return false."
   ]
  },
  {
   "cell_type": "markdown",
   "id": "ed668835",
   "metadata": {},
   "source": [
    "## 4.9.3 The in Operator"
   ]
  },
  {
   "cell_type": "markdown",
   "id": "87d950e2",
   "metadata": {},
   "source": [
    "The in operator expects a left-side operand that is a string, symbol, or value that can\n",
    "be converted to a ``string``. It expects a right-side operand that is an object. It evaluates\n",
    "to true if the left-side value is the name of a property of the right-side object. For\n",
    "example:"
   ]
  },
  {
   "cell_type": "code",
   "execution_count": 55,
   "id": "474941a6",
   "metadata": {},
   "outputs": [
    {
     "data": {
      "text/plain": [
       "false"
      ]
     },
     "execution_count": 55,
     "metadata": {},
     "output_type": "execute_result"
    }
   ],
   "source": [
    "let point = {x: 1, y: 1}; // Define an object\n",
    "\"x\" in point // => true: object has property named \"x\"\n",
    "\"z\" in point // => false: object has no \"z\" property.\n",
    "\"toString\" in point // => true: object inherits toString method\n",
    "let data = [7,8,9]; // An array with elements (indices) 0, 1, and 2\n",
    "\"0\" in data // => true: array has an element \"0\"\n",
    "1 in data // => true: numbers are converted to strings\n",
    "3 in data // => false: no element 3"
   ]
  },
  {
   "cell_type": "markdown",
   "id": "af254cfe",
   "metadata": {},
   "source": [
    "## 4.9.4 The instanceof Operator"
   ]
  },
  {
   "cell_type": "markdown",
   "id": "7935b167",
   "metadata": {},
   "source": [
    "The instanceof operator expects a left-side operand that is an object and a right-side\n",
    "operand that identifies a class of objects. The operator evaluates to true if the leftside\n",
    "object is an instance of the right-side class and evaluates to false otherwise.\n",
    "Chapter 9 explains that, in JavaScript, classes of objects are defined by the constructor\n",
    "function that initializes them. Thus, the right-side operand of instanceof should be a\n",
    "function. Here are examples:"
   ]
  },
  {
   "cell_type": "markdown",
   "id": "5a82faa6",
   "metadata": {},
   "source": [
    "````js\n",
    "let d = new Date(); // Create a new object with the Date() constructor\n",
    "d instanceof Date // => true: d was created with Date()\n",
    "d instanceof Object // => true: all objects are instances of Object\n",
    "d instanceof Number // => false: d is not a Number object\n",
    "let a = [1, 2, 3]; // Create an array with array literal syntax\n",
    "a instanceof Array // => true: a is an array\n",
    "a instanceof Object // => true: all arrays are objects\n",
    "a instanceof RegExp // => false: arrays are not regular expressions\n",
    "````"
   ]
  },
  {
   "cell_type": "markdown",
   "id": "306ea41f",
   "metadata": {},
   "source": [
    "Note that all objects are instances of Object. instanceof considers the “superclasses”\n",
    "when deciding whether an object is an instance of a class. If the left-side operand of\n",
    "instanceof is not an object, instanceof returns false. If the righthand side is not a\n",
    "class of objects, it throws a TypeError."
   ]
  },
  {
   "cell_type": "markdown",
   "id": "195cabe6",
   "metadata": {},
   "source": [
    "In order to understand how the instanceof operator works, you must understand\n",
    "the “prototype chain.” This is JavaScript’s inheritance mechanism, and it is described\n",
    "in §6.3.2. To evaluate the expression o instanceof f, JavaScript evaluates f.proto\n",
    "type, and then looks for that value in the prototype chain of o. If it finds it, then o is\n",
    "an instance of f (or of a subclass of f) and the operator returns true. If f.prototype is not one of the values in the prototype chain of o, then o is not an instance of f and\n",
    "instanceof returns false."
   ]
  },
  {
   "cell_type": "markdown",
   "id": "d179f90e",
   "metadata": {},
   "source": [
    "## 4.10 Logical Expressions"
   ]
  },
  {
   "cell_type": "markdown",
   "id": "f30c3e15",
   "metadata": {},
   "source": [
    "The logical operators &&, ||, and ! perform Boolean algebra and are often used in\n",
    "conjunction with the relational operators to combine two relational expressions into\n",
    "one more complex expression. These operators are described in the subsections that\n",
    "follow. In order to fully understand them, you may want to review the concept of\n",
    "“truthy” and “falsy” values introduced in §3.4."
   ]
  },
  {
   "cell_type": "markdown",
   "id": "c7e97f5c",
   "metadata": {},
   "source": [
    "## 4.10.1 Logical AND (&&)"
   ]
  },
  {
   "cell_type": "markdown",
   "id": "d92619e6",
   "metadata": {},
   "source": [
    "The && operator can be understood at three different levels. At the simplest level,\n",
    "when used with boolean operands, && performs the Boolean AND operation on the\n",
    "two values: it returns true if and only if both its first operand and its second operand\n",
    "are true. If one or both of these operands is false, it returns false."
   ]
  },
  {
   "cell_type": "markdown",
   "id": "82ec179c",
   "metadata": {},
   "source": [
    "&& is often used as a conjunction to join two relational expressions:"
   ]
  },
  {
   "cell_type": "markdown",
   "id": "7f306832",
   "metadata": {},
   "source": [
    "````js\n",
    "x === 0 && y === 0 // true if, and only if, x and y are both 0\n",
    "````"
   ]
  },
  {
   "cell_type": "markdown",
   "id": "e012d979",
   "metadata": {},
   "source": [
    "Relational expressions always evaluate to true or false, so when used like this, the &&\n",
    "operator itself returns true or false. Relational operators have higher precedence\n",
    "than && (and ||), so expressions like these can safely be written without parentheses."
   ]
  },
  {
   "cell_type": "markdown",
   "id": "eedba3f8",
   "metadata": {},
   "source": [
    "But && does not require that its operands be boolean values. Recall that all JavaScript\n",
    "values are either “truthy” or “falsy.” (See §3.4 for details. The falsy values are false,\n",
    "null, undefined, 0, -0, NaN, and \"\". All other values, including all objects, are truthy.)\n",
    "The second level at which && can be understood is as a Boolean AND operator for\n",
    "truthy and falsy values. If both operands are truthy, the operator returns a truthy\n",
    "value. Otherwise, one or both operands must be falsy, and the operator returns a falsy\n",
    "value. In JavaScript, any expression or statement that expects a boolean value will\n",
    "work with a truthy or falsy value, so the fact that && does not always return true or\n",
    "false does not cause practical problems."
   ]
  },
  {
   "cell_type": "code",
   "execution_count": 2,
   "id": "61fd76d7",
   "metadata": {},
   "outputs": [
    {
     "data": {
      "text/plain": [
       "0"
      ]
     },
     "execution_count": 2,
     "metadata": {},
     "output_type": "execute_result"
    }
   ],
   "source": [
    "0 && 1"
   ]
  },
  {
   "cell_type": "markdown",
   "id": "c3eaf346",
   "metadata": {},
   "source": [
    "Notice that this description says that the operator returns “a truthy value” or “a falsy\n",
    "value” but does not specify what that value is. For that, we need to describe && at the\n",
    "third and final level. This operator starts by evaluating its first operand, the expression\n",
    "on its left. If the value on the left is falsy, the value of the entire expression must\n",
    "also be falsy, so && simply returns the value on the left and does not even evaluate the\n",
    "expression on the right."
   ]
  },
  {
   "cell_type": "markdown",
   "id": "2fa7b389",
   "metadata": {},
   "source": [
    "On the other hand, if the value on the left is truthy, then the overall value of the\n",
    "expression depends on the value on the righthand side. If the value on the right is truthy, then the overall value must be truthy, and if the value on the right is falsy, then\n",
    "the overall value must be falsy. So when the value on the left is truthy, the && operator\n",
    "evaluates and returns the value on the right:"
   ]
  },
  {
   "cell_type": "markdown",
   "id": "fd7ac64f",
   "metadata": {},
   "source": [
    "````js\n",
    "let o = {x: 1};\n",
    "let p = null;\n",
    "o && o.x // => 1: o is truthy, so return value of o.x\n",
    "p && p.x // => null: p is falsy, so return it and don't evaluate p.x\n",
    "````"
   ]
  },
  {
   "cell_type": "markdown",
   "id": "ff320285",
   "metadata": {},
   "source": [
    "It is important to understand that && may or may not evaluate its right-side operand.\n",
    "In this code example, the variable p is set to null, and the expression p.x would, if\n",
    "evaluated, cause a TypeError. But the code uses && in an idiomatic way so that p.x is\n",
    "evaluated only if p is truthy—not null or undefined."
   ]
  },
  {
   "cell_type": "markdown",
   "id": "ac2e1294",
   "metadata": {},
   "source": [
    "The behavior of && is sometimes called short circuiting, and you may sometimes see\n",
    "code that purposely exploits this behavior to conditionally execute code. For example,\n",
    "the following two lines of JavaScript code have equivalent effects:"
   ]
  },
  {
   "cell_type": "markdown",
   "id": "448fe51a",
   "metadata": {},
   "source": [
    "````js\n",
    "if (a === b) stop(); // Invoke stop() only if a === b\n",
    "(a === b) && stop(); // This does the same thing\n",
    "````"
   ]
  },
  {
   "cell_type": "markdown",
   "id": "009d82c8",
   "metadata": {},
   "source": [
    "In general, you must be careful whenever you write an expression with side effects\n",
    "(assignments, increments, decrements, or function invocations) on the righthand side\n",
    "of &&. Whether those side effects occur depends on the value of the lefthand side.\n",
    "\n",
    "Despite the somewhat complex way that this operator actually works, it is most commonly\n",
    "used as a simple Boolean algebra operator that works on truthy and falsy\n",
    "values."
   ]
  },
  {
   "cell_type": "markdown",
   "id": "bae21770",
   "metadata": {},
   "source": [
    "## 4.10.2 Logical OR (||)"
   ]
  },
  {
   "cell_type": "markdown",
   "id": "cdb76e98",
   "metadata": {},
   "source": [
    "The || operator performs the Boolean OR operation on its two operands. If one or\n",
    "both operands is truthy, it returns a truthy value. If both operands are falsy, it returns\n",
    "a falsy value.\n",
    "\n",
    "Although the || operator is most often used simply as a Boolean OR operator, it, like\n",
    "the && operator, has more complex behavior. It starts by evaluating its first operand,\n",
    "the expression on its left. If the value of this first operand is truthy, it short-circuits\n",
    "and returns that truthy value without ever evaluating the expression on the right. If,\n",
    "on the other hand, the value of the first operand is falsy, then || evaluates its second\n",
    "operand and returns the value of that expression.\n",
    "\n",
    "As with the && operator, you should avoid right-side operands that include side\n",
    "effects, unless you purposely want to use the fact that the right-side expression may\n",
    "not be evaluated.\n",
    "\n",
    "An idiomatic usage of this operator is to select the first truthy value in a set of\n",
    "alternatives:"
   ]
  },
  {
   "cell_type": "markdown",
   "id": "33f630d5",
   "metadata": {},
   "source": [
    "````js\n",
    "// If maxWidth is truthy, use that. Otherwise, look for a value in\n",
    "// the preferences object. If that is not truthy, use a hardcoded constant.\n",
    "let max = maxWidth || preferences.maxWidth || 500;\n",
    "````"
   ]
  },
  {
   "cell_type": "markdown",
   "id": "6fe27505",
   "metadata": {},
   "source": [
    "Note that if 0 is a legal value for maxWidth, then this code will not work correctly,\n",
    "since 0 is a falsy value. See the ?? operator (§4.13.2) for an alternative.\n",
    "\n",
    "Prior to ES6, this idiom is often used in functions to supply default values for\n",
    "parameters:"
   ]
  },
  {
   "cell_type": "markdown",
   "id": "5f378b79",
   "metadata": {},
   "source": [
    "````js\n",
    "// Copy the properties of o to p, and return p\n",
    "function copy(o, p) {\n",
    "    p = p || {}; // If no object passed for p, use a newly created object.\n",
    "    // function body goes here\n",
    "}\n",
    "\n",
    "````"
   ]
  },
  {
   "cell_type": "markdown",
   "id": "21704684",
   "metadata": {},
   "source": [
    "In ES6 and later, however, this trick is no longer needed because the default parameter\n",
    "value could simply be written in the function definition itself: function copy(o,\n",
    "p={}) { ... }."
   ]
  },
  {
   "cell_type": "markdown",
   "id": "9b017122",
   "metadata": {},
   "source": [
    "## 4.10.3 Logical NOT (!)"
   ]
  },
  {
   "cell_type": "markdown",
   "id": "bec27bb9",
   "metadata": {},
   "source": [
    "The ! operator is a unary operator; it is placed before a single operand. Its purpose is\n",
    "to invert the boolean value of its operand. For example, if x is truthy, !x evaluates to\n",
    "false. If x is falsy, then !x is true."
   ]
  },
  {
   "cell_type": "markdown",
   "id": "c30566ef",
   "metadata": {},
   "source": [
    "Unlike the && and || operators, the ! operator converts its operand to a boolean value\n",
    "(using the rules described in Chapter 3) before inverting the converted value. This\n",
    "means that ! always returns true or false and that you can convert any value x to its\n",
    "equivalent boolean value by applying this operator twice: !!x (see §3.9.2)."
   ]
  },
  {
   "cell_type": "code",
   "execution_count": 2,
   "id": "b5dde44f",
   "metadata": {},
   "outputs": [
    {
     "data": {
      "text/plain": [
       "false"
      ]
     },
     "execution_count": 2,
     "metadata": {},
     "output_type": "execute_result"
    }
   ],
   "source": [
    "!true"
   ]
  },
  {
   "cell_type": "code",
   "execution_count": 3,
   "id": "0d574bdf",
   "metadata": {},
   "outputs": [
    {
     "data": {
      "text/plain": [
       "true"
      ]
     },
     "execution_count": 3,
     "metadata": {},
     "output_type": "execute_result"
    }
   ],
   "source": [
    "!!true"
   ]
  },
  {
   "cell_type": "markdown",
   "id": "01ea0572",
   "metadata": {},
   "source": [
    "As a unary operator, ! has high precedence and binds tightly. If you want to invert the\n",
    "value of an expression like p && q, you need to use parentheses: !(p && q). It is\n",
    "worth noting two laws of Boolean algebra here that we can express using JavaScript\n",
    "syntax:"
   ]
  },
  {
   "cell_type": "markdown",
   "id": "07ab1445",
   "metadata": {},
   "source": [
    "````js\n",
    "// DeMorgan's Laws\n",
    "!(p && q) === (!p || !q) // => true: for all values of p and q\n",
    "!(p || q) === (!p && !q) // => true: for all values of p and q\n",
    "````"
   ]
  },
  {
   "cell_type": "markdown",
   "id": "0928fdb1",
   "metadata": {},
   "source": [
    "## 4.11 Assignment Expressions"
   ]
  },
  {
   "cell_type": "markdown",
   "id": "63580ce5",
   "metadata": {},
   "source": [
    "JavaScript uses the = operator to assign a value to a variable or property. For example:"
   ]
  },
  {
   "cell_type": "markdown",
   "id": "ac0d5b47",
   "metadata": {},
   "source": [
    "````js\n",
    "i = 0; // Set the variable i to 0.\n",
    "o.x = 1; // Set the property x of object o to 1.\n",
    "````"
   ]
  },
  {
   "cell_type": "markdown",
   "id": "7da4ee03",
   "metadata": {},
   "source": [
    "The = operator expects its left-side operand to be an lvalue: a variable or object property\n",
    "(or array element). It expects its right-side operand to be an arbitrary value of any type. The value of an assignment expression is the value of the right-side\n",
    "operand. As a side effect, the = operator assigns the value on the right to the variable\n",
    "or property on the left so that future references to the variable or property evaluate to\n",
    "the value."
   ]
  },
  {
   "cell_type": "markdown",
   "id": "622cbf34",
   "metadata": {},
   "source": [
    "Although assignment expressions are usually quite simple, you may sometimes see\n",
    "the value of an assignment expression used as part of a larger expression. For example,\n",
    "you can assign and test a value in the same expression with code like this:"
   ]
  },
  {
   "cell_type": "markdown",
   "id": "095dd283",
   "metadata": {},
   "source": [
    "````js\n",
    "(a = b) === 0\n",
    "````"
   ]
  },
  {
   "cell_type": "markdown",
   "id": "f0c5451b",
   "metadata": {},
   "source": [
    "If you do this, be sure you are clear on the difference between the = and === operators!\n",
    "Note that = has very low precedence, and parentheses are usually necessary\n",
    "when the value of an assignment is to be used in a larger expression."
   ]
  },
  {
   "cell_type": "markdown",
   "id": "093708b1",
   "metadata": {},
   "source": [
    "The assignment operator has right-to-left associativity, which means that when multiple\n",
    "assignment operators appear in an expression, they are evaluated from right to\n",
    "left. Thus, you can write code like this to assign a single value to multiple variables:"
   ]
  },
  {
   "cell_type": "code",
   "execution_count": 6,
   "id": "c6c6a77f",
   "metadata": {},
   "outputs": [
    {
     "data": {
      "text/plain": [
       "0"
      ]
     },
     "execution_count": 6,
     "metadata": {},
     "output_type": "execute_result"
    }
   ],
   "source": [
    "i = j = k = 0; // Initialize 3 variables to 0"
   ]
  },
  {
   "cell_type": "markdown",
   "id": "01ac570d",
   "metadata": {},
   "source": [
    "## 4.11.1 Assignment with Operation"
   ]
  },
  {
   "cell_type": "markdown",
   "id": "9432061b",
   "metadata": {},
   "source": [
    "Besides the normal = assignment operator, JavaScript supports a number of other\n",
    "assignment operators that provide shortcuts by combining assignment with some\n",
    "other operation. For example, the += operator performs addition and assignment. The\n",
    "following expression:"
   ]
  },
  {
   "cell_type": "markdown",
   "id": "4ec18f4c",
   "metadata": {},
   "source": [
    "````js\n",
    "total += salesTax;\n",
    "````"
   ]
  },
  {
   "cell_type": "markdown",
   "id": "9d2861e8",
   "metadata": {},
   "source": [
    "is equivalent to this one:"
   ]
  },
  {
   "cell_type": "markdown",
   "id": "08b41c00",
   "metadata": {},
   "source": [
    "````js\n",
    "total = total + salesTax;\n",
    "````"
   ]
  },
  {
   "cell_type": "markdown",
   "id": "305ce791",
   "metadata": {},
   "source": [
    "As you might expect, the += operator works for numbers or strings. For numeric\n",
    "operands, it performs addition and assignment; for string operands, it performs concatenation\n",
    "and assignment."
   ]
  },
  {
   "cell_type": "markdown",
   "id": "f12fe1a2",
   "metadata": {},
   "source": [
    "Similar operators include -=, *=, &=, and so on. Table 4-2 lists them all."
   ]
  },
  {
   "cell_type": "markdown",
   "id": "cd06db48",
   "metadata": {},
   "source": [
    "                   Table 4-2. Assignment operators"
   ]
  },
  {
   "cell_type": "markdown",
   "id": "a4586dcb",
   "metadata": {},
   "source": [
    "|Operator| Example| Equivalent|\n",
    "|---------|--------|----------|\n",
    "|+= |a += b| a = a + b|\n",
    "|-=| a -= b| a = a - b|\n",
    "|*=| a *= b |a = a * b|\n",
    "|/=| a /= b |a = a / b|\n",
    "|%=| a %= b |a = a % b|\n",
    "|\\**=| a \\**= b| a = a ** b|\n",
    "|<<= |a <<= b |a = a << b|\n",
    "|>>=| a >>= b| a = a >> b|\n",
    "|\\>>>=| a >>>= b| a = a >>> b|\n",
    "|&=| a &= b| a = a & b|\n",
    "|\\|=| a \\|= b| a = a \\| b|\n",
    "|^=| a ^= b| a = a ^ b|"
   ]
  },
  {
   "cell_type": "markdown",
   "id": "2aa16a4d",
   "metadata": {},
   "source": [
    "In most cases, the expression:"
   ]
  },
  {
   "cell_type": "markdown",
   "id": "dfe04472",
   "metadata": {},
   "source": [
    "````js\n",
    "a op= b\n",
    "````"
   ]
  },
  {
   "cell_type": "markdown",
   "id": "69081950",
   "metadata": {},
   "source": [
    "where op is an operator, is equivalent to the expression:"
   ]
  },
  {
   "cell_type": "markdown",
   "id": "91f920be",
   "metadata": {},
   "source": [
    "````js\n",
    "a = a op b\n",
    "````"
   ]
  },
  {
   "cell_type": "markdown",
   "id": "24ac850c",
   "metadata": {},
   "source": [
    "In the first line, the expression a is evaluated once. In the second, it is evaluated twice.\n",
    "The two cases will differ only if a includes side effects such as a function call or an\n",
    "increment operator. The following two assignments, for example, are not the same:"
   ]
  },
  {
   "cell_type": "markdown",
   "id": "8884a18f",
   "metadata": {},
   "source": [
    "````js\n",
    "data[i++] *= 2;\n",
    "data[i++] = data[i++] * 2;\n",
    "````"
   ]
  },
  {
   "cell_type": "markdown",
   "id": "392252b1",
   "metadata": {},
   "source": [
    "## 4.12 Evaluation Expressions"
   ]
  },
  {
   "cell_type": "markdown",
   "id": "7610e6fb",
   "metadata": {},
   "source": [
    "Like many interpreted languages, JavaScript has the ability to interpret strings of Java‐\n",
    "Script source code, evaluating them to produce a value. JavaScript does this with the\n",
    "global function ``eval()``:"
   ]
  },
  {
   "cell_type": "code",
   "execution_count": 8,
   "id": "ad3fff3a",
   "metadata": {},
   "outputs": [
    {
     "data": {
      "text/plain": [
       "5"
      ]
     },
     "execution_count": 8,
     "metadata": {},
     "output_type": "execute_result"
    }
   ],
   "source": [
    "eval(\"3+2\") // => 5"
   ]
  },
  {
   "cell_type": "markdown",
   "id": "be9cd0fa",
   "metadata": {},
   "source": [
    "Dynamic evaluation of strings of source code is a powerful language feature that is\n",
    "almost never necessary in practice. If you find yourself using eval(), you should\n",
    "think carefully about whether you really need to use it. In particular, eval() can be a\n",
    "security hole, and you should never pass any string derived from user input to\n",
    "eval(). With a language as complicated as JavaScript, there is no way to sanitize user\n",
    "input to make it safe to use with eval(). Because of these security issues, some web\n",
    "servers use the HTTP “Content-Security-Policy” header to disable eval() for an\n",
    "entire website."
   ]
  },
  {
   "cell_type": "markdown",
   "id": "da08ff5a",
   "metadata": {},
   "source": [
    "The subsections that follow explain the basic use of eval() and explain two restricted\n",
    "versions of it that have less impact on the optimizer."
   ]
  },
  {
   "cell_type": "markdown",
   "id": "19daba19",
   "metadata": {},
   "source": [
    ">               Is eval() a Function or an Operator?\n",
    "\n",
    ">eval() is a function, but it is included in this chapter on expressions because it really\n",
    "should have been an operator. The earliest versions of the language defined an eval()\n",
    "function, and ever since then, language designers and interpreter writers have been\n",
    "placing restrictions on it that make it more and more operator-like. Modern Java‐\n",
    "Script interpreters perform a lot of code analysis and optimization. Generally speaking,\n",
    "if a function calls eval(), the interpreter cannot optimize that function. The\n",
    "problem with defining eval() as a function is that it can be given other names:\n",
    "````js\n",
    "let f = eval;\n",
    "\n",
    "let g = f;\n",
    "````\n",
    ">If this is allowed, then the interpreter can’t know for sure which functions call eval(),\n",
    "so it cannot optimize aggressively. This issue could have been avoided if eval() was\n",
    "an operator (and a reserved word). We’ll learn (in §4.12.2 and §4.12.3) about restrictions\n",
    "placed on eval() to make it more operator-like."
   ]
  },
  {
   "cell_type": "markdown",
   "id": "61867bc5",
   "metadata": {},
   "source": [
    "## 4.12.1 eval()"
   ]
  },
  {
   "cell_type": "markdown",
   "id": "c8743d8f",
   "metadata": {},
   "source": [
    "eval() expects one argument. If you pass any value other than a string, it simply\n",
    "returns that value. If you pass a string, it attempts to parse the string as JavaScript\n",
    "code, throwing a SyntaxError if it fails. If it successfully parses the string, then it evaluates\n",
    "the code and returns the value of the last expression or statement in the string\n",
    "or undefined if the last expression or statement had no value. If the evaluated string\n",
    "throws an exception, that exception propogates from the call to eval()."
   ]
  },
  {
   "cell_type": "markdown",
   "id": "0269ea01",
   "metadata": {},
   "source": [
    "The key thing about eval() (when invoked like this) is that it uses the variable environment\n",
    "of the code that calls it. That is, it looks up the values of variables and\n",
    "defines new variables and functions in the same way that local code does. If a function\n",
    "defines a local variable x and then calls eval(\"x\"), it will obtain the value of the\n",
    "local variable. If it calls eval(\"x=1\"), it changes the value of the local variable. And if\n",
    "the function calls eval(\"var y = 3;\"), it declares a new local variable y. On the\n",
    "other hand, if the evaluated string uses let or const, the variable or constant declared\n",
    "will be local to the evaluation and will not be defined in the calling environment."
   ]
  },
  {
   "cell_type": "code",
   "execution_count": 9,
   "id": "bb8bd19d",
   "metadata": {},
   "outputs": [
    {
     "data": {
      "text/plain": [
       "2"
      ]
     },
     "execution_count": 9,
     "metadata": {},
     "output_type": "execute_result"
    }
   ],
   "source": [
    "eval(2)"
   ]
  },
  {
   "cell_type": "code",
   "execution_count": 10,
   "id": "dbecd6e4",
   "metadata": {},
   "outputs": [
    {
     "ename": "ReferenceError",
     "evalue": "hi is not defined",
     "output_type": "error",
     "traceback": [
      "undefined:1",
      "hi",
      "^",
      "",
      "ReferenceError: hi is not defined",
      "    at eval (eval at <anonymous> (evalmachine.<anonymous>:1:1), <anonymous>:1:1)",
      "    at evalmachine.<anonymous>:1:1",
      "    at Script.runInThisContext (vm.js:122:20)",
      "    at Object.runInThisContext (vm.js:329:38)",
      "    at run ([eval]:1054:15)",
      "    at onRunRequest ([eval]:888:18)",
      "    at onMessage ([eval]:848:13)",
      "    at process.emit (events.js:198:13)",
      "    at emit (internal/child_process.js:832:12)",
      "    at process._tickCallback (internal/process/next_tick.js:63:19)"
     ]
    }
   ],
   "source": [
    "eval(\"hi\")"
   ]
  },
  {
   "cell_type": "code",
   "execution_count": 11,
   "id": "5928818b",
   "metadata": {},
   "outputs": [
    {
     "ename": "ReferenceError",
     "evalue": "x is not defined",
     "output_type": "error",
     "traceback": [
      "undefined:1",
      "x",
      "^",
      "",
      "ReferenceError: x is not defined",
      "    at eval (eval at <anonymous> (evalmachine.<anonymous>:1:1), <anonymous>:1:1)",
      "    at evalmachine.<anonymous>:1:1",
      "    at Script.runInThisContext (vm.js:122:20)",
      "    at Object.runInThisContext (vm.js:329:38)",
      "    at run ([eval]:1054:15)",
      "    at onRunRequest ([eval]:888:18)",
      "    at onMessage ([eval]:848:13)",
      "    at process.emit (events.js:198:13)",
      "    at emit (internal/child_process.js:832:12)",
      "    at process._tickCallback (internal/process/next_tick.js:63:19)"
     ]
    }
   ],
   "source": [
    "eval(\"x\")"
   ]
  },
  {
   "cell_type": "code",
   "execution_count": 12,
   "id": "b6c0b422",
   "metadata": {},
   "outputs": [
    {
     "data": {
      "text/plain": [
       "2"
      ]
     },
     "execution_count": 12,
     "metadata": {},
     "output_type": "execute_result"
    }
   ],
   "source": [
    "eval(x = 2)"
   ]
  },
  {
   "cell_type": "code",
   "execution_count": 13,
   "id": "943c9716",
   "metadata": {},
   "outputs": [
    {
     "data": {
      "text/plain": [
       "2"
      ]
     },
     "execution_count": 13,
     "metadata": {},
     "output_type": "execute_result"
    }
   ],
   "source": [
    "x"
   ]
  },
  {
   "cell_type": "code",
   "execution_count": 14,
   "id": "32f1adf7",
   "metadata": {},
   "outputs": [
    {
     "data": {
      "text/plain": [
       "2"
      ]
     },
     "execution_count": 14,
     "metadata": {},
     "output_type": "execute_result"
    }
   ],
   "source": [
    "eval(\"y = 2\")"
   ]
  },
  {
   "cell_type": "code",
   "execution_count": 15,
   "id": "0238dae4",
   "metadata": {},
   "outputs": [
    {
     "data": {
      "text/plain": [
       "2"
      ]
     },
     "execution_count": 15,
     "metadata": {},
     "output_type": "execute_result"
    }
   ],
   "source": [
    "y"
   ]
  },
  {
   "cell_type": "markdown",
   "id": "7246976c",
   "metadata": {},
   "source": [
    "Similarly, a function can declare a local function with code like this:"
   ]
  },
  {
   "cell_type": "code",
   "execution_count": 16,
   "id": "7dc0e678",
   "metadata": {},
   "outputs": [],
   "source": [
    "eval(\"function f() { return x+1; }\");"
   ]
  },
  {
   "cell_type": "code",
   "execution_count": 17,
   "id": "e7f576fe",
   "metadata": {},
   "outputs": [
    {
     "data": {
      "text/plain": [
       "3"
      ]
     },
     "execution_count": 17,
     "metadata": {},
     "output_type": "execute_result"
    }
   ],
   "source": [
    "f()"
   ]
  },
  {
   "cell_type": "markdown",
   "id": "134e9a1d",
   "metadata": {},
   "source": [
    "If you call eval() from top-level code, it operates on global variables and global functions,\n",
    "of course."
   ]
  },
  {
   "cell_type": "markdown",
   "id": "00bca367",
   "metadata": {},
   "source": [
    "Note that the string of code you pass to eval() must make syntactic sense on its own:\n",
    "you cannot use it to paste code fragments into a function. It makes no sense to write eval(\"return;\"), for example, because return is only legal within functions, and the\n",
    "fact that the evaluated string uses the same variable environment as the calling function\n",
    "does not make it part of that function. If your string would make sense as a\n",
    "standalone script (even a very short one like x=0 ), it is legal to pass to eval(). Otherwise,\n",
    "eval() will throw a SyntaxError."
   ]
  },
  {
   "cell_type": "markdown",
   "id": "dc29915d",
   "metadata": {},
   "source": [
    "## 4.12.2 Global eval()"
   ]
  },
  {
   "cell_type": "markdown",
   "id": "3ccd2334",
   "metadata": {},
   "source": [
    "It is the ability of eval() to change local variables that is so problematic to JavaScript\n",
    "optimizers. As a workaround, however, interpreters simply do less optimization on\n",
    "any function that calls eval(). But what should a JavaScript interpreter do, however,\n",
    "if a script defines an alias for eval() and then calls that function by another name?\n",
    "The JavaScript specification declares that when eval() is invoked by any name other\n",
    "than “eval”, it should evaluate the string as if it were top-level global code. The evaluated\n",
    "code may define new global variables or global functions, and it may set global\n",
    "variables, but it will not use or modify any variables local to the calling function, and\n",
    "will not, therefore, interfere with local optimizations."
   ]
  },
  {
   "cell_type": "markdown",
   "id": "6369c1bb",
   "metadata": {},
   "source": [
    "A “direct eval” is a call to the eval() function with an expression that uses the exact,\n",
    "unqualified name “eval” (which is beginning to feel like a reserved word). Direct calls\n",
    "to eval() use the variable environment of the calling context. Any other call—an\n",
    "indirect call—uses the global object as its variable environment and cannot read,\n",
    "write, or define local variables or functions. (Both direct and indirect calls can define\n",
    "new variables only with var. Uses of let and const inside an evaluated string create\n",
    "variables and constants that are local to the evaluation and do not alter the calling or\n",
    "global environment.)"
   ]
  },
  {
   "cell_type": "markdown",
   "id": "a3b133d3",
   "metadata": {},
   "source": [
    "The following code demonstrates:"
   ]
  },
  {
   "cell_type": "code",
   "execution_count": 1,
   "id": "3541c25b",
   "metadata": {},
   "outputs": [
    {
     "name": "stdout",
     "output_type": "stream",
     "text": [
      "localchanged global\n",
      "local globalchanged\n"
     ]
    }
   ],
   "source": [
    "const geval = eval; // Using another name does a global eval\n",
    "let x = \"global\", y = \"global\"; // Two global variables\n",
    "function f() { // This function does a local eval\n",
    "    let x = \"local\"; // Define a local variable\n",
    "    eval(\"x += 'changed';\"); // Direct eval sets local variable\n",
    "    return x; // Return changed local variable\n",
    "}\n",
    "function g() { // This function does a global eval\n",
    "    let y = \"local\"; // A local variable\n",
    "    geval(\"y += 'changed';\"); // Indirect eval sets global variable\n",
    "    return y; // Return unchanged local variable\n",
    "}\n",
    "console.log(f(), x); // Local variable changed: prints \"localchanged global\":\n",
    "console.log(g(), y); // Global variable changed: prints \"local globalchanged\":"
   ]
  },
  {
   "cell_type": "markdown",
   "id": "223f2a1d",
   "metadata": {},
   "source": [
    "Notice that the ability to do a global eval is not just an accommodation to the needs of\n",
    "the optimizer; it is actually a tremendously useful feature that allows you to execute\n",
    "strings of code as if they were independent, top-level scripts. As noted at the beginning of this section, it is rare to truly need to evaluate a string of code. But if you\n",
    "do find it necessary, you are more likely to want to do a global eval than a local eval."
   ]
  },
  {
   "cell_type": "markdown",
   "id": "1a831a69",
   "metadata": {},
   "source": [
    "## 4.12.3 Strict eval()"
   ]
  },
  {
   "cell_type": "markdown",
   "id": "7c045d8a",
   "metadata": {},
   "source": [
    "Strict mode (see §5.6.3) imposes further restrictions on the behavior of the eval()\n",
    "function and even on the use of the identifier “eval”. When eval() is called from\n",
    "strict-mode code, or when the string of code to be evaluated itself begins with a “use\n",
    "strict” directive, then eval() does a local eval with a private variable environment.\n",
    "This means that in strict mode, evaluated code can query and set local variables, but\n",
    "it cannot define new variables or functions in the local scope."
   ]
  },
  {
   "cell_type": "markdown",
   "id": "837f93db",
   "metadata": {},
   "source": [
    "Furthermore, strict mode makes eval() even more operator-like by effectively making\n",
    "“eval” into a reserved word. You are not allowed to overwrite the eval() function\n",
    "with a new value. And you are not allowed to declare a variable, function, function\n",
    "parameter, or catch block parameter with the name “eval”."
   ]
  },
  {
   "cell_type": "markdown",
   "id": "c16c733d",
   "metadata": {},
   "source": [
    "## 4.13 Miscellaneous Operators"
   ]
  },
  {
   "cell_type": "markdown",
   "id": "420c9319",
   "metadata": {},
   "source": [
    "JavaScript supports a number of other miscellaneous operators, described in the following\n",
    "sections."
   ]
  },
  {
   "cell_type": "markdown",
   "id": "9e9bf9aa",
   "metadata": {},
   "source": [
    "## 4.13.1 The Conditional Operator (?:)"
   ]
  },
  {
   "cell_type": "markdown",
   "id": "9cb3e43e",
   "metadata": {},
   "source": [
    "The conditional operator is the only ternary operator (three operands) in JavaScript\n",
    "and is sometimes actually called the ternary operator. This operator is sometimes\n",
    "written ?:, although it does not appear quite that way in code. Because this operator\n",
    "has three operands, the first goes before the ?, the second goes between the ? and\n",
    "the :, and the third goes after the :. It is used like this:"
   ]
  },
  {
   "cell_type": "code",
   "execution_count": 2,
   "id": "5a15a1ee",
   "metadata": {},
   "outputs": [
    {
     "data": {
      "text/plain": [
       "NaN"
      ]
     },
     "execution_count": 2,
     "metadata": {},
     "output_type": "execute_result"
    }
   ],
   "source": [
    "x > 0 ? x : -x // The absolute value of x"
   ]
  },
  {
   "cell_type": "markdown",
   "id": "37166e6d",
   "metadata": {},
   "source": [
    "The operands of the conditional operator may be of any type. The first operand is\n",
    "evaluated and interpreted as a boolean. If the value of the first operand is truthy, then\n",
    "the second operand is evaluated, and its value is returned. Otherwise, if the first\n",
    "operand is falsy, then the third operand is evaluated and its value is returned. Only\n",
    "one of the second and third operands is evaluated; never both."
   ]
  },
  {
   "cell_type": "markdown",
   "id": "fe27e2f9",
   "metadata": {},
   "source": [
    "While you can achieve similar results using the if statement (§5.3.1), the ?: operator\n",
    "often provides a handy shortcut. Here is a typical usage, which checks to be sure that\n",
    "a variable is defined (and has a meaningful, truthy value) and uses it if so or provides\n",
    "a default value if not:"
   ]
  },
  {
   "cell_type": "markdown",
   "id": "e8cd0ee9",
   "metadata": {},
   "source": [
    "````js\n",
    "greeting = \"hello \" + (username ? username : \"there\");\n",
    "````"
   ]
  },
  {
   "cell_type": "markdown",
   "id": "af051d68",
   "metadata": {},
   "source": [
    "This is equivalent to, but more compact than, the following if statement:"
   ]
  },
  {
   "cell_type": "markdown",
   "id": "664ed00d",
   "metadata": {},
   "source": [
    "````js\n",
    "greeting = \"hello \";\n",
    "if (username) {\n",
    "greeting += username;\n",
    "} else {\n",
    "greeting += \"there\";\n",
    "}\n",
    "````"
   ]
  },
  {
   "cell_type": "markdown",
   "id": "613ccefd",
   "metadata": {},
   "source": [
    "## 4.13.2 First-Defined (??)"
   ]
  },
  {
   "cell_type": "markdown",
   "id": "8225883d",
   "metadata": {},
   "source": [
    "The first-defined operator ?? evaluates to its first defined operand: if its left operand\n",
    "is not null and not undefined, it returns that value. Otherwise, it returns the value of\n",
    "the right operand. Like the && and || operators, ?? is short-circuiting: it only evaluates\n",
    "its second operand if the first operand evaluates to null or undefined. If the\n",
    "expression a has no side effects, then the expression a ?? b is equivalent to:"
   ]
  },
  {
   "cell_type": "markdown",
   "id": "52d66d90",
   "metadata": {},
   "source": [
    "````js\n",
    "(a !== null && a !== undefined) ? a : b\n",
    "````"
   ]
  },
  {
   "cell_type": "markdown",
   "id": "4975fc4b",
   "metadata": {},
   "source": [
    "?? is a useful alternative to || (§4.10.2) when you want to select the first defined\n",
    "operand rather than the first truthy operand. Although || is nominally a logical OR\n",
    "operator, it is also used idiomatically to select the first non-falsy operand with code\n",
    "like this:"
   ]
  },
  {
   "cell_type": "markdown",
   "id": "30bb1b94",
   "metadata": {},
   "source": [
    "````js\n",
    "// If maxWidth is truthy, use that. Otherwise, look for a value in\n",
    "// the preferences object. If that is not truthy, use a hardcoded constant.\n",
    "let max = maxWidth || preferences.maxWidth || 500;\n",
    "````"
   ]
  },
  {
   "cell_type": "markdown",
   "id": "972bc39c",
   "metadata": {},
   "source": [
    "The problem with this idiomatic use is that zero, the empty string, and false are all\n",
    "falsy values that may be perfectly valid in some circumstances. In this code example,\n",
    "if maxWidth is zero, that value will be ignored. But if we change the || operator to ??,\n",
    "we end up with an expression where zero is a valid value:"
   ]
  },
  {
   "cell_type": "markdown",
   "id": "ad8bb5f3",
   "metadata": {},
   "source": [
    "````js\n",
    "// If maxWidth is defined, use that. Otherwise, look for a value in\n",
    "// the preferences object. If that is not defined, use a hardcoded constant.\n",
    "let max = maxWidth ?? preferences.maxWidth ?? 500;\n",
    "````"
   ]
  },
  {
   "cell_type": "markdown",
   "id": "a26e08b4",
   "metadata": {},
   "source": [
    "Here are more examples showing how ?? works when the first operand is falsy. If that\n",
    "operand is falsy but defined, then ?? returns it. It is only when the first operand is\n",
    "“nullish” (i.e., null or undefined) that this operator evaluates and returns the second\n",
    "operand:"
   ]
  },
  {
   "cell_type": "markdown",
   "id": "430e7993",
   "metadata": {},
   "source": [
    "````js\n",
    "let options = { timeout: 0, title: \"\", verbose: false, n: null };\n",
    "options.timeout ?? 1000 // => 0: as defined in the object\n",
    "options.title ?? \"Untitled\" // => \"\": as defined in the object\n",
    "options.verbose ?? true // => false: as defined in the object\n",
    "options.quiet ?? false // => false: property is not defined\n",
    "options.n ?? 10 // => 10: property is null\n",
    "````"
   ]
  },
  {
   "cell_type": "markdown",
   "id": "f42bbda0",
   "metadata": {},
   "source": [
    "Note that the timeout, title, and verbose expressions here would have different values\n",
    "if we used | | instead of ??."
   ]
  },
  {
   "cell_type": "markdown",
   "id": "e7bc0fe6",
   "metadata": {},
   "source": [
    "The ?? operator is similar to the && and || operators but does not have higher precedence\n",
    "or lower precedence than they do. If you use it in an expression with either of\n",
    "those operators, you must use explicit parentheses to specify which operation you\n",
    "want to perform first:"
   ]
  },
  {
   "cell_type": "markdown",
   "id": "520a17ea",
   "metadata": {},
   "source": [
    "````js\n",
    "(a ?? b) || c // ?? first, then ||\n",
    "a ?? (b || c) // || first, then ??\n",
    "a ?? b || c // SyntaxError: parentheses are required\n",
    "````"
   ]
  },
  {
   "cell_type": "markdown",
   "id": "89e36817",
   "metadata": {},
   "source": [
    "The ?? operator is defined by ES2020, and as of early 2020, is newly supported by\n",
    "current or beta versions of all major browsers. This operator is formally called the\n",
    "“nullish coalescing” operator, but I avoid that term because this operator selects one\n",
    "of its operands but does not “coalesce” them in any way that I can see."
   ]
  },
  {
   "cell_type": "markdown",
   "id": "fb67d5fe",
   "metadata": {},
   "source": [
    "## 4.13.3 The typeof Operator"
   ]
  },
  {
   "cell_type": "markdown",
   "id": "9dcc8b75",
   "metadata": {},
   "source": [
    "typeof is a unary operator that is placed before its single operand, which can be of\n",
    "any type. Its value is a string that specifies the type of the operand. Table 4-3 specifies\n",
    "the value of the typeof operator for any JavaScript value."
   ]
  },
  {
   "cell_type": "markdown",
   "id": "8d6114ef",
   "metadata": {},
   "source": [
    "Table 4-3. Values returned by the typeof operator"
   ]
  },
  {
   "cell_type": "markdown",
   "id": "eae2bdc0",
   "metadata": {},
   "source": [
    "|x| typeof x|\n",
    "|--|-----|\n",
    "|undefined| \"undefined\"|\n",
    "|null| \"object\"|\n",
    "|true or false |\"boolean\"|\n",
    "|any number or NaN| \"number\"|\n",
    "|any BigInt| \"bigint\"|\n",
    "|any string |\"string\"|\n",
    "|any symbol |\"symbol\"|\n",
    "|any function| \"function\"|\n",
    "|any nonfunction object| \"object\""
   ]
  },
  {
   "cell_type": "markdown",
   "id": "d62d91a7",
   "metadata": {},
   "source": [
    "You might use the typeof operator in an expression like this:"
   ]
  },
  {
   "cell_type": "markdown",
   "id": "276e640c",
   "metadata": {},
   "source": [
    "````js\n",
    "// If the value is a string, wrap it in quotes, otherwise, convert\n",
    "(typeof value === \"string\") ? \"'\" + value + \"'\" : value.toString()\n",
    "````"
   ]
  },
  {
   "cell_type": "markdown",
   "id": "53113d92",
   "metadata": {},
   "source": [
    "Note that typeof returns “object” if the operand value is null. If you want to distinguish\n",
    "null from objects, you’ll have to explicitly test for this special-case value."
   ]
  },
  {
   "cell_type": "markdown",
   "id": "a36651a7",
   "metadata": {},
   "source": [
    "Although JavaScript functions are a kind of object, the typeof operator considers\n",
    "functions to be sufficiently different that they have their own return value."
   ]
  },
  {
   "cell_type": "markdown",
   "id": "9b9847bd",
   "metadata": {},
   "source": [
    "Because typeof evaluates to “object” for all object and array values other than functions,\n",
    "it is useful only to distinguish objects from other, primitive types. In order to distinguish one class of object from another, you must use other techniques, such as\n",
    "the ``instanceof`` operator (see §4.9.4), the class attribute (see §14.4.3), or the con\n",
    "structor property (see §9.2.2 and §14.3)."
   ]
  },
  {
   "cell_type": "markdown",
   "id": "e2ae3afb",
   "metadata": {},
   "source": [
    "## 4.13.4 The delete Operator"
   ]
  },
  {
   "cell_type": "markdown",
   "id": "f52ebbe3",
   "metadata": {},
   "source": [
    "delete is a unary operator that attempts to delete the object property or array element\n",
    "specified as its operand. Like the assignment, increment, and decrement operators,\n",
    "delete is typically used for its property deletion side effect and not for the value\n",
    "it returns. Some examples:"
   ]
  },
  {
   "cell_type": "markdown",
   "id": "3e8fb6b2",
   "metadata": {},
   "source": [
    "````js\n",
    "let o = { x: 1, y: 2}; // Start with an object\n",
    "delete o.x; // Delete one of its properties\n",
    "\"x\" in o // => false: the property does not exist anymore\n",
    "let a = [1,2,3]; // Start with an array\n",
    "delete a[2]; // Delete the last element of the array\n",
    "2 in a // => false: array element 2 doesn't exist anymore\n",
    "a.length // => 3: note that array length doesn't change, though\n",
    "````"
   ]
  },
  {
   "cell_type": "markdown",
   "id": "d3d92cc4",
   "metadata": {},
   "source": [
    "Note that a deleted property or array element is not merely set to the undefined\n",
    "value. When a property is deleted, the property ceases to exist. Attempting to read a\n",
    "nonexistent property returns undefined, but you can test for the actual existence of a\n",
    "property with the in operator (§4.9.3). Deleting an array element leaves a “hole” in\n",
    "the array and does not change the array’s length. The resulting array is sparse (§7.3)."
   ]
  },
  {
   "cell_type": "markdown",
   "id": "84c61e4a",
   "metadata": {},
   "source": [
    "delete expects its operand to be an lvalue. If it is not an lvalue, the operator takes no\n",
    "action and returns true. Otherwise, delete attempts to delete the specified lvalue.\n",
    "delete returns true if it successfully deletes the specified lvalue. Not all properties\n",
    "can be deleted, however: non-configurable properties (§14.1) are immune from\n",
    "deletion."
   ]
  },
  {
   "cell_type": "markdown",
   "id": "0d7cf1c3",
   "metadata": {},
   "source": [
    "In strict mode, delete raises a SyntaxError if its operand is an unqualified identifier\n",
    "such as a variable, function, or function parameter: it only works when the operand is\n",
    "a property access expression (§4.4). Strict mode also specifies that delete raises a\n",
    "TypeError if asked to delete any non-configurable (i.e., nondeleteable) property. Outside\n",
    "of strict mode, no exception occurs in these cases, and delete simply returns\n",
    "false to indicate that the operand could not be deleted."
   ]
  },
  {
   "cell_type": "markdown",
   "id": "c765500d",
   "metadata": {},
   "source": [
    "Here are some example uses of the delete operator:"
   ]
  },
  {
   "cell_type": "markdown",
   "id": "e64dddc8",
   "metadata": {},
   "source": [
    "````js\n",
    "let o = {x: 1, y: 2};\n",
    "delete o.x; // Delete one of the object properties; returns true.\n",
    "typeof o.x; // Property does not exist; returns \"undefined\".\n",
    "delete o.x; // Delete a nonexistent property; returns true.\n",
    "delete 1; // This makes no sense, but it just returns true.\n",
    "// Can't delete a variable; returns false, or SyntaxError in strict mode.\n",
    "delete o;\n",
    "// Undeletable property: returns false, or TypeError in strict mode.\n",
    "delete Object.prototype;\n",
    "````"
   ]
  },
  {
   "cell_type": "markdown",
   "id": "7e887c96",
   "metadata": {},
   "source": [
    "We’ll see the delete operator again in §6.4."
   ]
  },
  {
   "cell_type": "markdown",
   "id": "87788667",
   "metadata": {},
   "source": [
    "## 4.13.5 The await Operator"
   ]
  },
  {
   "cell_type": "markdown",
   "id": "b87591c2",
   "metadata": {},
   "source": [
    "await was introduced in ES2017 as a way to make asynchronous programming more\n",
    "natural in JavaScript. You will need to read Chapter 13 to understand this operator.\n",
    "Briefly, however, await expects a Promise object (representing an asynchronous computation)\n",
    "as its sole operand, and it makes your program behave as if it were waiting\n",
    "for the asynchronous computation to complete (but it does this without actually\n",
    "blocking, and it does not prevent other asynchronous operations from proceeding at\n",
    "the same time). The value of the await operator is the fulfillment value of the\n",
    "Promise object. Importantly, await is only legal within functions that have been\n",
    "declared asynchronous with the async keyword. Again, see Chapter 13 for full details."
   ]
  },
  {
   "cell_type": "markdown",
   "id": "90ade28e",
   "metadata": {},
   "source": [
    "## 4.13.6 The void Operator"
   ]
  },
  {
   "cell_type": "markdown",
   "id": "8158f203",
   "metadata": {},
   "source": [
    "void is a unary operator that appears before its single operand, which may be of any\n",
    "type. This operator is unusual and infrequently used; it evaluates its operand, then\n",
    "discards the value and returns undefined. Since the operand value is discarded, using\n",
    "the void operator makes sense only if the operand has side effects.\n",
    "\n",
    "\n",
    "The void operator is so obscure that it is difficult to come up with a practical example\n",
    "of its use. One case would be when you want to define a function that returns nothing\n",
    "but also uses the arrow function shortcut syntax (see §8.1.3) where the body of the\n",
    "function is a single expression that is evaluated and returned. If you are evaluating the\n",
    "expression solely for its side effects and do not want to return its value, then the simplest\n",
    "thing is to use curly braces around the function body. But, as an alternative, you\n",
    "could also use the void operator in this case:"
   ]
  },
  {
   "cell_type": "markdown",
   "id": "22e938eb",
   "metadata": {},
   "source": [
    "````js\n",
    "let counter = 0;\n",
    "const increment = () => void counter++;\n",
    "increment() // => undefined\n",
    "counter // => 1\n",
    "````"
   ]
  },
  {
   "cell_type": "markdown",
   "id": "b178d8f3",
   "metadata": {},
   "source": [
    "## 4.13.7 The comma Operator (,)"
   ]
  },
  {
   "cell_type": "markdown",
   "id": "5d78b211",
   "metadata": {},
   "source": [
    "The comma operator is a binary operator whose operands may be of any type. It evaluates\n",
    "its left operand, evaluates its right operand, and then returns the value of the\n",
    "right operand. Thus, the following line:"
   ]
  },
  {
   "cell_type": "code",
   "execution_count": 3,
   "id": "ac9b0b0a",
   "metadata": {},
   "outputs": [
    {
     "data": {
      "text/plain": [
       "2"
      ]
     },
     "execution_count": 3,
     "metadata": {},
     "output_type": "execute_result"
    }
   ],
   "source": [
    "i=0, j=1, k=2;"
   ]
  },
  {
   "cell_type": "markdown",
   "id": "a8a972d4",
   "metadata": {},
   "source": [
    "evaluates to 2 and is basically equivalent to:"
   ]
  },
  {
   "cell_type": "code",
   "execution_count": 4,
   "id": "d791dedc",
   "metadata": {},
   "outputs": [
    {
     "data": {
      "text/plain": [
       "2"
      ]
     },
     "execution_count": 4,
     "metadata": {},
     "output_type": "execute_result"
    }
   ],
   "source": [
    "i = 0; j = 1; k = 2;"
   ]
  },
  {
   "cell_type": "markdown",
   "id": "2095050f",
   "metadata": {},
   "source": [
    "The lefthand expression is always evaluated, but its value is discarded, which means\n",
    "that it only makes sense to use the comma operator when the lefthand expression has\n",
    "side effects. The only situation in which the comma operator is commonly used is\n",
    "with a for loop (§5.4.3) that has multiple loop variables:"
   ]
  },
  {
   "cell_type": "markdown",
   "id": "c2575593",
   "metadata": {},
   "source": [
    "````js\n",
    "// The first comma below is part of the syntax of the let statement\n",
    "// The second comma is the comma operator: it lets us squeeze 2\n",
    "// expressions (i++ and j--) into a statement (the for loop) that expects 1.\n",
    "for(let i=0,j=10; i < j; i++,j--) {\n",
    "console.log(i+j);\n",
    "}\n",
    "````"
   ]
  }
 ],
 "metadata": {
  "kernelspec": {
   "display_name": "Javascript (Node.js)",
   "language": "javascript",
   "name": "javascript"
  },
  "language_info": {
   "file_extension": ".js",
   "mimetype": "application/javascript",
   "name": "javascript",
   "version": "10.19.0"
  }
 },
 "nbformat": 4,
 "nbformat_minor": 5
}
